{
  "nbformat": 4,
  "nbformat_minor": 0,
  "metadata": {
    "colab": {
      "provenance": [],
      "authorship_tag": "ABX9TyNyeZRuGgNbukJeJ04HGI8d",
      "include_colab_link": true
    },
    "kernelspec": {
      "name": "python3",
      "display_name": "Python 3"
    },
    "language_info": {
      "name": "python"
    }
  },
  "cells": [
    {
      "cell_type": "markdown",
      "metadata": {
        "id": "view-in-github",
        "colab_type": "text"
      },
      "source": [
        "<a href=\"https://colab.research.google.com/github/GeorgeM2000/Sports-Activity/blob/main/Sports_Activity.ipynb\" target=\"_parent\"><img src=\"https://colab.research.google.com/assets/colab-badge.svg\" alt=\"Open In Colab\"/></a>"
      ]
    },
    {
      "cell_type": "markdown",
      "source": [
        "# Libraries"
      ],
      "metadata": {
        "id": "wSoxXsnfKzyz"
      }
    },
    {
      "cell_type": "code",
      "execution_count": 1,
      "metadata": {
        "id": "xlGcQLBkYCZ3"
      },
      "outputs": [],
      "source": [
        "import numpy as np\n",
        "import pandas as pd\n",
        "import matplotlib.pyplot as plt\n",
        "from sklearn.tree import DecisionTreeClassifier # Import Decision Tree Classifier\n",
        "from sklearn.model_selection import train_test_split, RandomizedSearchCV # Import train_test_split function\n",
        "from sklearn.ensemble import RandomForestClassifier\n",
        "from sklearn.metrics import accuracy_score, confusion_matrix, precision_score, recall_score, ConfusionMatrixDisplay, f1_score, classification_report\n",
        "from scipy.stats import randint\n",
        "from imblearn.over_sampling import SMOTE, RandomOverSampler\n",
        "from collections import Counter\n",
        "\n",
        "from sklearn.cluster import KMeans\n",
        "from yellowbrick.cluster import KElbowVisualizer\n",
        "\n",
        "from sklearn.tree import export_graphviz\n",
        "from six import StringIO\n",
        "from IPython.display import Image  \n",
        "import pydotplus\n",
        "import graphviz"
      ]
    },
    {
      "cell_type": "markdown",
      "source": [
        "# Helper Functions"
      ],
      "metadata": {
        "id": "3OcHGwBKJry_"
      }
    },
    {
      "cell_type": "code",
      "source": [
        "def create_main_factor_list(row, index):\n",
        "  \"\"\"\n",
        "  There are 3 main factors contributing to the classification of an athlete. \n",
        "  PAIN, IRRITABILITY and SEVERITY. IRRITABILITY can be formulated by the combination of the 3 following columns:\n",
        "\n",
        "    i1) Irritability(WHEN)\n",
        "    i2) Irritability(DURATION)\n",
        "    i3) Irritability(INTENSITY)\n",
        "\n",
        "  and SEVERITY:\n",
        "\n",
        "    s1) Severity(RUNNING)\n",
        "    s2) Severity(LIFE)\n",
        "    s3) Severity(MOBILITY)\n",
        "\n",
        "  The PAIN factor is determined by the value present in each row of the column \"Pain Intensity\".\n",
        "  PAIN can have 4 different values (a, b, c, d) based on the answers of the questionnaire:\n",
        "\n",
        "    a = 0 (numerical value of a)\n",
        "    b = 1 (numerical value of b)\n",
        "    c = 2 (numerical value of c)\n",
        "    d = 3 (numerical value of d)\n",
        "\n",
        "  IRRITABILITY can have 3 different values (HIGH, MODERATE, LOW) based on the answers of the questionnaire:\n",
        "\n",
        "    a, a, a = HIGH     = 2 (numerical value of HIGH)\n",
        "    other   = MODERATE = 1 (numerical value of MODERATE)\n",
        "    c, c, c = LOW      = 0 (numerical value of LOW)\n",
        "\n",
        "  SEVERITY can have 3 different values (HIGH, MODERATE, LOW) based on the answers of the questionnaire:\n",
        "\n",
        "    a, b, b = LOW = 0\n",
        "    b, b, b = MODERATE = 1\n",
        "    other = HIGH = 2\n",
        "\n",
        "  \"\"\"  \n",
        "\n",
        "  # 1st element in \"factor_list\" represents the PAIN factor value.\n",
        "  factor_list = [row[index]] \n",
        "  \n",
        "  # 2nd element in \"factor_list\" represents the IRRITABILITY factor value.\n",
        "  if (row[index+1] + row[index+2] + row[index+3]) == 0: # If irritability(WHEN, DURATION, INTENSITY) are all answered with 'a'\n",
        "    factor_list.append(2)\n",
        "  elif (row[index+1] + row[index+2] + row[index+3]) == 6: # If irritability(WHEN, DURATION, INTENSITY) are all answered with 'c'\n",
        "    factor_list.append(0)\n",
        "  else: # Otherwise\n",
        "    factor_list.append(1)\n",
        "\n",
        "  # 3rd element in \"factor_list\" represents the SEVERITY factor value.\n",
        "  if (row[index+4] == 0) and (row[index+5] == 1) and (row[index+6] == 1): # If irritability(WHEN, DURATION, INTENSITY) are all answered with 'a'\n",
        "    factor_list.append(0)\n",
        "  elif (row[index+4] == 1) and (row[index+5] == 1) and (row[index+6] == 1): # If irritability(WHEN, DURATION, INTENSITY) are all answered with 'c'\n",
        "    factor_list.append(1)\n",
        "  else: # Otherwise\n",
        "    factor_list.append(2)\n",
        "\n",
        "  return factor_list"
      ],
      "metadata": {
        "id": "A36Gg8HSJvJf"
      },
      "execution_count": 87,
      "outputs": []
    },
    {
      "cell_type": "code",
      "source": [
        "def split(string): \n",
        "    return [char for char in string]"
      ],
      "metadata": {
        "id": "Lnzp1eDDvhuZ"
      },
      "execution_count": 3,
      "outputs": []
    },
    {
      "cell_type": "code",
      "source": [
        "def classify_sample(sample, start_index):\n",
        "  combinations = {\n",
        "      '000':1,\n",
        "      '001':2,\n",
        "      '101':3, '100':3,\n",
        "      '012':4, '011':4, '010':4, '112':4, '111':4, '110':4,\n",
        "      '002':5, '022':5, '021':5, '020':5, '102':5, '122':5, '121':5, '120':5,\n",
        "  }\n",
        "\n",
        "  answers = str(sample[start_index]) + str(sample[start_index+2]) + str(sample[start_index+1])\n",
        "\n",
        "  if split(answers)[0] == '3':\n",
        "    return 6\n",
        "  elif split(answers)[0] == '2':\n",
        "    return 5\n",
        "  else:\n",
        "    return combinations[answers]"
      ],
      "metadata": {
        "id": "tb4qbNS4J4b_"
      },
      "execution_count": 4,
      "outputs": []
    },
    {
      "cell_type": "code",
      "source": [
        "def classify_sample(factor_list):\n",
        "  combinations = {\n",
        "      '000':1,\n",
        "      '001':2,\n",
        "      '101':3, '100':3,\n",
        "      '012':4, '011':4, '010':4, '112':4, '111':4, '110':4,\n",
        "      '002':5, '022':5, '021':5, '020':5, '102':5, '122':5, '121':5, '120':5,\n",
        "  }\n",
        "\n",
        "  answers = str(factor_list[0]) + str(factor_list[2]) + str(factor_list[1])\n",
        "\n",
        "  if split(answers)[0] == '3':\n",
        "    return 6\n",
        "  elif split(answers)[0] == '2':\n",
        "    return 5\n",
        "  else:\n",
        "    return combinations[answers]"
      ],
      "metadata": {
        "id": "eouv-Jq5RP2D"
      },
      "execution_count": 5,
      "outputs": []
    },
    {
      "cell_type": "markdown",
      "source": [
        "# Data Preprocessing"
      ],
      "metadata": {
        "id": "KzKQ8fQNfW2L"
      }
    },
    {
      "cell_type": "code",
      "source": [
        "# Read excel file data\n",
        "sport_data = pd.read_excel('Results_Saferun_2023_04_26_2_submit_With_Page.xlsx')\n",
        "\n",
        "# Store it as csv file\n",
        "sport_data.to_csv('Results_Saferun_2023_04_26_2_submit_With_Page.csv', index=False)\n",
        "\n",
        "# Read csv file data\n",
        "sport_data = pd.DataFrame(pd.read_csv('Results_Saferun_2023_04_26_2_submit_With_Page.csv'))"
      ],
      "metadata": {
        "id": "4ag_INr3Yb3H"
      },
      "execution_count": 51,
      "outputs": []
    },
    {
      "cell_type": "code",
      "source": [
        "sport_data.head()"
      ],
      "metadata": {
        "colab": {
          "base_uri": "https://localhost:8080/",
          "height": 461
        },
        "id": "nBJOlqQKY1Hv",
        "outputId": "214edb4e-ef49-4bee-8ab0-c10fd16cf0ff"
      },
      "execution_count": 37,
      "outputs": [
        {
          "output_type": "execute_result",
          "data": {
            "text/plain": [
              "   Weight  Height  Gender  Age  Running experience (years)  \\\n",
              "0      84     176    Male   45                         3.0   \n",
              "1      85     176    Male   45                         4.0   \n",
              "2      25     154  Female   45                         5.0   \n",
              "3      55     176    Male   38                         9.0   \n",
              "4      56     170  Female   51                         2.0   \n",
              "\n",
              "  1) Do you feel any musculoskeletal discomfort (e.g pain, tightness, heaviness) related to your running activity?  \\\n",
              "0                                                Yes                                                                 \n",
              "1                                                Yes                                                                 \n",
              "2                                                Yes                                                                 \n",
              "3                                                Yes                                                                 \n",
              "4                                                Yes                                                                 \n",
              "\n",
              "   2) Είδος πόνου IF YES, in which area of the body do you feel the symptom?  \\\n",
              "0             NaN                                               Calf           \n",
              "1             NaN                                               Sole           \n",
              "2             NaN                                               Knee           \n",
              "3             NaN                                               Knee           \n",
              "4             NaN                                                Hip           \n",
              "\n",
              "  Pain intensity; The symptom starts The symptom lasts pain intensity is  \\\n",
              "0               a                  a                 a                 a   \n",
              "1               a                  a                 a                 a   \n",
              "2               c                  b                 c                 b   \n",
              "3               c                  c                 b                 b   \n",
              "4               b                  b                 b                 c   \n",
              "\n",
              "  Does the symptom affect running? Does the symptom affect everyday life?  \\\n",
              "0                                a                                      a   \n",
              "1                                a                                      a   \n",
              "2                                b                                      a   \n",
              "3                                c                                      a   \n",
              "4                                a                                      b   \n",
              "\n",
              "  Does the symptom affect every day functional activities e.g walking, ascending or descending stairs ?  \\\n",
              "0                                                  a                                                      \n",
              "1                                                  a                                                      \n",
              "2                                                  a                                                      \n",
              "3                                                  b                                                      \n",
              "4                                                  b                                                      \n",
              "\n",
              "   Page  \n",
              "0     5  \n",
              "1     5  \n",
              "2     5  \n",
              "3     5  \n",
              "4     3  "
            ],
            "text/html": [
              "\n",
              "  <div id=\"df-68ace118-cd43-4b62-af6a-8521bdde8a11\">\n",
              "    <div class=\"colab-df-container\">\n",
              "      <div>\n",
              "<style scoped>\n",
              "    .dataframe tbody tr th:only-of-type {\n",
              "        vertical-align: middle;\n",
              "    }\n",
              "\n",
              "    .dataframe tbody tr th {\n",
              "        vertical-align: top;\n",
              "    }\n",
              "\n",
              "    .dataframe thead th {\n",
              "        text-align: right;\n",
              "    }\n",
              "</style>\n",
              "<table border=\"1\" class=\"dataframe\">\n",
              "  <thead>\n",
              "    <tr style=\"text-align: right;\">\n",
              "      <th></th>\n",
              "      <th>Weight</th>\n",
              "      <th>Height</th>\n",
              "      <th>Gender</th>\n",
              "      <th>Age</th>\n",
              "      <th>Running experience (years)</th>\n",
              "      <th>1) Do you feel any musculoskeletal discomfort (e.g pain, tightness, heaviness) related to your running activity?</th>\n",
              "      <th>2) Είδος πόνου</th>\n",
              "      <th>IF YES, in which area of the body do you feel the symptom?</th>\n",
              "      <th>Pain intensity;</th>\n",
              "      <th>The symptom starts</th>\n",
              "      <th>The symptom lasts</th>\n",
              "      <th>pain intensity is</th>\n",
              "      <th>Does the symptom affect running?</th>\n",
              "      <th>Does the symptom affect everyday life?</th>\n",
              "      <th>Does the symptom affect every day functional activities e.g walking, ascending or descending stairs ?</th>\n",
              "      <th>Page</th>\n",
              "    </tr>\n",
              "  </thead>\n",
              "  <tbody>\n",
              "    <tr>\n",
              "      <th>0</th>\n",
              "      <td>84</td>\n",
              "      <td>176</td>\n",
              "      <td>Male</td>\n",
              "      <td>45</td>\n",
              "      <td>3.0</td>\n",
              "      <td>Yes</td>\n",
              "      <td>NaN</td>\n",
              "      <td>Calf</td>\n",
              "      <td>a</td>\n",
              "      <td>a</td>\n",
              "      <td>a</td>\n",
              "      <td>a</td>\n",
              "      <td>a</td>\n",
              "      <td>a</td>\n",
              "      <td>a</td>\n",
              "      <td>5</td>\n",
              "    </tr>\n",
              "    <tr>\n",
              "      <th>1</th>\n",
              "      <td>85</td>\n",
              "      <td>176</td>\n",
              "      <td>Male</td>\n",
              "      <td>45</td>\n",
              "      <td>4.0</td>\n",
              "      <td>Yes</td>\n",
              "      <td>NaN</td>\n",
              "      <td>Sole</td>\n",
              "      <td>a</td>\n",
              "      <td>a</td>\n",
              "      <td>a</td>\n",
              "      <td>a</td>\n",
              "      <td>a</td>\n",
              "      <td>a</td>\n",
              "      <td>a</td>\n",
              "      <td>5</td>\n",
              "    </tr>\n",
              "    <tr>\n",
              "      <th>2</th>\n",
              "      <td>25</td>\n",
              "      <td>154</td>\n",
              "      <td>Female</td>\n",
              "      <td>45</td>\n",
              "      <td>5.0</td>\n",
              "      <td>Yes</td>\n",
              "      <td>NaN</td>\n",
              "      <td>Knee</td>\n",
              "      <td>c</td>\n",
              "      <td>b</td>\n",
              "      <td>c</td>\n",
              "      <td>b</td>\n",
              "      <td>b</td>\n",
              "      <td>a</td>\n",
              "      <td>a</td>\n",
              "      <td>5</td>\n",
              "    </tr>\n",
              "    <tr>\n",
              "      <th>3</th>\n",
              "      <td>55</td>\n",
              "      <td>176</td>\n",
              "      <td>Male</td>\n",
              "      <td>38</td>\n",
              "      <td>9.0</td>\n",
              "      <td>Yes</td>\n",
              "      <td>NaN</td>\n",
              "      <td>Knee</td>\n",
              "      <td>c</td>\n",
              "      <td>c</td>\n",
              "      <td>b</td>\n",
              "      <td>b</td>\n",
              "      <td>c</td>\n",
              "      <td>a</td>\n",
              "      <td>b</td>\n",
              "      <td>5</td>\n",
              "    </tr>\n",
              "    <tr>\n",
              "      <th>4</th>\n",
              "      <td>56</td>\n",
              "      <td>170</td>\n",
              "      <td>Female</td>\n",
              "      <td>51</td>\n",
              "      <td>2.0</td>\n",
              "      <td>Yes</td>\n",
              "      <td>NaN</td>\n",
              "      <td>Hip</td>\n",
              "      <td>b</td>\n",
              "      <td>b</td>\n",
              "      <td>b</td>\n",
              "      <td>c</td>\n",
              "      <td>a</td>\n",
              "      <td>b</td>\n",
              "      <td>b</td>\n",
              "      <td>3</td>\n",
              "    </tr>\n",
              "  </tbody>\n",
              "</table>\n",
              "</div>\n",
              "      <button class=\"colab-df-convert\" onclick=\"convertToInteractive('df-68ace118-cd43-4b62-af6a-8521bdde8a11')\"\n",
              "              title=\"Convert this dataframe to an interactive table.\"\n",
              "              style=\"display:none;\">\n",
              "        \n",
              "  <svg xmlns=\"http://www.w3.org/2000/svg\" height=\"24px\"viewBox=\"0 0 24 24\"\n",
              "       width=\"24px\">\n",
              "    <path d=\"M0 0h24v24H0V0z\" fill=\"none\"/>\n",
              "    <path d=\"M18.56 5.44l.94 2.06.94-2.06 2.06-.94-2.06-.94-.94-2.06-.94 2.06-2.06.94zm-11 1L8.5 8.5l.94-2.06 2.06-.94-2.06-.94L8.5 2.5l-.94 2.06-2.06.94zm10 10l.94 2.06.94-2.06 2.06-.94-2.06-.94-.94-2.06-.94 2.06-2.06.94z\"/><path d=\"M17.41 7.96l-1.37-1.37c-.4-.4-.92-.59-1.43-.59-.52 0-1.04.2-1.43.59L10.3 9.45l-7.72 7.72c-.78.78-.78 2.05 0 2.83L4 21.41c.39.39.9.59 1.41.59.51 0 1.02-.2 1.41-.59l7.78-7.78 2.81-2.81c.8-.78.8-2.07 0-2.86zM5.41 20L4 18.59l7.72-7.72 1.47 1.35L5.41 20z\"/>\n",
              "  </svg>\n",
              "      </button>\n",
              "      \n",
              "  <style>\n",
              "    .colab-df-container {\n",
              "      display:flex;\n",
              "      flex-wrap:wrap;\n",
              "      gap: 12px;\n",
              "    }\n",
              "\n",
              "    .colab-df-convert {\n",
              "      background-color: #E8F0FE;\n",
              "      border: none;\n",
              "      border-radius: 50%;\n",
              "      cursor: pointer;\n",
              "      display: none;\n",
              "      fill: #1967D2;\n",
              "      height: 32px;\n",
              "      padding: 0 0 0 0;\n",
              "      width: 32px;\n",
              "    }\n",
              "\n",
              "    .colab-df-convert:hover {\n",
              "      background-color: #E2EBFA;\n",
              "      box-shadow: 0px 1px 2px rgba(60, 64, 67, 0.3), 0px 1px 3px 1px rgba(60, 64, 67, 0.15);\n",
              "      fill: #174EA6;\n",
              "    }\n",
              "\n",
              "    [theme=dark] .colab-df-convert {\n",
              "      background-color: #3B4455;\n",
              "      fill: #D2E3FC;\n",
              "    }\n",
              "\n",
              "    [theme=dark] .colab-df-convert:hover {\n",
              "      background-color: #434B5C;\n",
              "      box-shadow: 0px 1px 3px 1px rgba(0, 0, 0, 0.15);\n",
              "      filter: drop-shadow(0px 1px 2px rgba(0, 0, 0, 0.3));\n",
              "      fill: #FFFFFF;\n",
              "    }\n",
              "  </style>\n",
              "\n",
              "      <script>\n",
              "        const buttonEl =\n",
              "          document.querySelector('#df-68ace118-cd43-4b62-af6a-8521bdde8a11 button.colab-df-convert');\n",
              "        buttonEl.style.display =\n",
              "          google.colab.kernel.accessAllowed ? 'block' : 'none';\n",
              "\n",
              "        async function convertToInteractive(key) {\n",
              "          const element = document.querySelector('#df-68ace118-cd43-4b62-af6a-8521bdde8a11');\n",
              "          const dataTable =\n",
              "            await google.colab.kernel.invokeFunction('convertToInteractive',\n",
              "                                                     [key], {});\n",
              "          if (!dataTable) return;\n",
              "\n",
              "          const docLinkHtml = 'Like what you see? Visit the ' +\n",
              "            '<a target=\"_blank\" href=https://colab.research.google.com/notebooks/data_table.ipynb>data table notebook</a>'\n",
              "            + ' to learn more about interactive tables.';\n",
              "          element.innerHTML = '';\n",
              "          dataTable['output_type'] = 'display_data';\n",
              "          await google.colab.output.renderOutput(dataTable, element);\n",
              "          const docLink = document.createElement('div');\n",
              "          docLink.innerHTML = docLinkHtml;\n",
              "          element.appendChild(docLink);\n",
              "        }\n",
              "      </script>\n",
              "    </div>\n",
              "  </div>\n",
              "  "
            ]
          },
          "metadata": {},
          "execution_count": 37
        }
      ]
    },
    {
      "cell_type": "markdown",
      "source": [
        "Column \"2) Είδος πόνου\" has null values for every row of the dataset so we remove it. Also, we rename some of the columns of the dataset in order to have a more concise form of the dataframe."
      ],
      "metadata": {
        "id": "CJlt_l2Vfkkq"
      }
    },
    {
      "cell_type": "code",
      "source": [
        "sport_data.drop(columns={'2) Είδος πόνου'}, inplace=True)\n",
        "sport_data.drop(columns={'1) Do you feel any musculoskeletal discomfort (e.g pain, tightness, heaviness) related to your running activity?'}, inplace=True)"
      ],
      "metadata": {
        "id": "yFacS2DxeQ1J"
      },
      "execution_count": 52,
      "outputs": []
    },
    {
      "cell_type": "code",
      "source": [
        "sport_data.rename(\n",
        "    columns={'IF YES, in which area of the body do you feel the symptom?': 'Symptom area',\n",
        "             'Pain intensity;': 'Pain intensity',\n",
        "             'Running experience (years)': 'Experience',\n",
        "             'The symptom starts': 'Irritability(WHEN)',\n",
        "             'The symptom lasts': 'Irritability(DURATION)',\n",
        "             'pain intensity is': 'Irritability(INTENSITY)',\n",
        "             'Does the symptom affect running?': 'Severity(RUNNING)',\n",
        "             'Does the symptom affect everyday life?': 'Severity(LIFE)',\n",
        "             'Does the symptom affect every day functional activities e.g walking, ascending or descending stairs ?': 'Severity(MOBILITY)'\n",
        "             },\n",
        "    inplace=True)"
      ],
      "metadata": {
        "id": "K8OwrNNIZ6M3"
      },
      "execution_count": 53,
      "outputs": []
    },
    {
      "cell_type": "code",
      "source": [
        "sport_data.head()"
      ],
      "metadata": {
        "colab": {
          "base_uri": "https://localhost:8080/",
          "height": 287
        },
        "id": "Ic3nrxazetSV",
        "outputId": "ac0d85e7-cfd1-481d-e67d-90da11dddd4c"
      },
      "execution_count": 40,
      "outputs": [
        {
          "output_type": "execute_result",
          "data": {
            "text/plain": [
              "   Weight  Height  Gender  Age  Experience Symptom area Pain intensity  \\\n",
              "0      84     176    Male   45         3.0         Calf              a   \n",
              "1      85     176    Male   45         4.0         Sole              a   \n",
              "2      25     154  Female   45         5.0         Knee              c   \n",
              "3      55     176    Male   38         9.0         Knee              c   \n",
              "4      56     170  Female   51         2.0          Hip              b   \n",
              "\n",
              "  Irritability(WHEN) Irritability(DURATION) Irritability(INTENSITY)  \\\n",
              "0                  a                      a                       a   \n",
              "1                  a                      a                       a   \n",
              "2                  b                      c                       b   \n",
              "3                  c                      b                       b   \n",
              "4                  b                      b                       c   \n",
              "\n",
              "  Severity(RUNNING) Severity(LIFE) Severity(MOBILITY)  Page  \n",
              "0                 a              a                  a     5  \n",
              "1                 a              a                  a     5  \n",
              "2                 b              a                  a     5  \n",
              "3                 c              a                  b     5  \n",
              "4                 a              b                  b     3  "
            ],
            "text/html": [
              "\n",
              "  <div id=\"df-d3fac2e0-311e-4f70-a47d-20737a0da65c\">\n",
              "    <div class=\"colab-df-container\">\n",
              "      <div>\n",
              "<style scoped>\n",
              "    .dataframe tbody tr th:only-of-type {\n",
              "        vertical-align: middle;\n",
              "    }\n",
              "\n",
              "    .dataframe tbody tr th {\n",
              "        vertical-align: top;\n",
              "    }\n",
              "\n",
              "    .dataframe thead th {\n",
              "        text-align: right;\n",
              "    }\n",
              "</style>\n",
              "<table border=\"1\" class=\"dataframe\">\n",
              "  <thead>\n",
              "    <tr style=\"text-align: right;\">\n",
              "      <th></th>\n",
              "      <th>Weight</th>\n",
              "      <th>Height</th>\n",
              "      <th>Gender</th>\n",
              "      <th>Age</th>\n",
              "      <th>Experience</th>\n",
              "      <th>Symptom area</th>\n",
              "      <th>Pain intensity</th>\n",
              "      <th>Irritability(WHEN)</th>\n",
              "      <th>Irritability(DURATION)</th>\n",
              "      <th>Irritability(INTENSITY)</th>\n",
              "      <th>Severity(RUNNING)</th>\n",
              "      <th>Severity(LIFE)</th>\n",
              "      <th>Severity(MOBILITY)</th>\n",
              "      <th>Page</th>\n",
              "    </tr>\n",
              "  </thead>\n",
              "  <tbody>\n",
              "    <tr>\n",
              "      <th>0</th>\n",
              "      <td>84</td>\n",
              "      <td>176</td>\n",
              "      <td>Male</td>\n",
              "      <td>45</td>\n",
              "      <td>3.0</td>\n",
              "      <td>Calf</td>\n",
              "      <td>a</td>\n",
              "      <td>a</td>\n",
              "      <td>a</td>\n",
              "      <td>a</td>\n",
              "      <td>a</td>\n",
              "      <td>a</td>\n",
              "      <td>a</td>\n",
              "      <td>5</td>\n",
              "    </tr>\n",
              "    <tr>\n",
              "      <th>1</th>\n",
              "      <td>85</td>\n",
              "      <td>176</td>\n",
              "      <td>Male</td>\n",
              "      <td>45</td>\n",
              "      <td>4.0</td>\n",
              "      <td>Sole</td>\n",
              "      <td>a</td>\n",
              "      <td>a</td>\n",
              "      <td>a</td>\n",
              "      <td>a</td>\n",
              "      <td>a</td>\n",
              "      <td>a</td>\n",
              "      <td>a</td>\n",
              "      <td>5</td>\n",
              "    </tr>\n",
              "    <tr>\n",
              "      <th>2</th>\n",
              "      <td>25</td>\n",
              "      <td>154</td>\n",
              "      <td>Female</td>\n",
              "      <td>45</td>\n",
              "      <td>5.0</td>\n",
              "      <td>Knee</td>\n",
              "      <td>c</td>\n",
              "      <td>b</td>\n",
              "      <td>c</td>\n",
              "      <td>b</td>\n",
              "      <td>b</td>\n",
              "      <td>a</td>\n",
              "      <td>a</td>\n",
              "      <td>5</td>\n",
              "    </tr>\n",
              "    <tr>\n",
              "      <th>3</th>\n",
              "      <td>55</td>\n",
              "      <td>176</td>\n",
              "      <td>Male</td>\n",
              "      <td>38</td>\n",
              "      <td>9.0</td>\n",
              "      <td>Knee</td>\n",
              "      <td>c</td>\n",
              "      <td>c</td>\n",
              "      <td>b</td>\n",
              "      <td>b</td>\n",
              "      <td>c</td>\n",
              "      <td>a</td>\n",
              "      <td>b</td>\n",
              "      <td>5</td>\n",
              "    </tr>\n",
              "    <tr>\n",
              "      <th>4</th>\n",
              "      <td>56</td>\n",
              "      <td>170</td>\n",
              "      <td>Female</td>\n",
              "      <td>51</td>\n",
              "      <td>2.0</td>\n",
              "      <td>Hip</td>\n",
              "      <td>b</td>\n",
              "      <td>b</td>\n",
              "      <td>b</td>\n",
              "      <td>c</td>\n",
              "      <td>a</td>\n",
              "      <td>b</td>\n",
              "      <td>b</td>\n",
              "      <td>3</td>\n",
              "    </tr>\n",
              "  </tbody>\n",
              "</table>\n",
              "</div>\n",
              "      <button class=\"colab-df-convert\" onclick=\"convertToInteractive('df-d3fac2e0-311e-4f70-a47d-20737a0da65c')\"\n",
              "              title=\"Convert this dataframe to an interactive table.\"\n",
              "              style=\"display:none;\">\n",
              "        \n",
              "  <svg xmlns=\"http://www.w3.org/2000/svg\" height=\"24px\"viewBox=\"0 0 24 24\"\n",
              "       width=\"24px\">\n",
              "    <path d=\"M0 0h24v24H0V0z\" fill=\"none\"/>\n",
              "    <path d=\"M18.56 5.44l.94 2.06.94-2.06 2.06-.94-2.06-.94-.94-2.06-.94 2.06-2.06.94zm-11 1L8.5 8.5l.94-2.06 2.06-.94-2.06-.94L8.5 2.5l-.94 2.06-2.06.94zm10 10l.94 2.06.94-2.06 2.06-.94-2.06-.94-.94-2.06-.94 2.06-2.06.94z\"/><path d=\"M17.41 7.96l-1.37-1.37c-.4-.4-.92-.59-1.43-.59-.52 0-1.04.2-1.43.59L10.3 9.45l-7.72 7.72c-.78.78-.78 2.05 0 2.83L4 21.41c.39.39.9.59 1.41.59.51 0 1.02-.2 1.41-.59l7.78-7.78 2.81-2.81c.8-.78.8-2.07 0-2.86zM5.41 20L4 18.59l7.72-7.72 1.47 1.35L5.41 20z\"/>\n",
              "  </svg>\n",
              "      </button>\n",
              "      \n",
              "  <style>\n",
              "    .colab-df-container {\n",
              "      display:flex;\n",
              "      flex-wrap:wrap;\n",
              "      gap: 12px;\n",
              "    }\n",
              "\n",
              "    .colab-df-convert {\n",
              "      background-color: #E8F0FE;\n",
              "      border: none;\n",
              "      border-radius: 50%;\n",
              "      cursor: pointer;\n",
              "      display: none;\n",
              "      fill: #1967D2;\n",
              "      height: 32px;\n",
              "      padding: 0 0 0 0;\n",
              "      width: 32px;\n",
              "    }\n",
              "\n",
              "    .colab-df-convert:hover {\n",
              "      background-color: #E2EBFA;\n",
              "      box-shadow: 0px 1px 2px rgba(60, 64, 67, 0.3), 0px 1px 3px 1px rgba(60, 64, 67, 0.15);\n",
              "      fill: #174EA6;\n",
              "    }\n",
              "\n",
              "    [theme=dark] .colab-df-convert {\n",
              "      background-color: #3B4455;\n",
              "      fill: #D2E3FC;\n",
              "    }\n",
              "\n",
              "    [theme=dark] .colab-df-convert:hover {\n",
              "      background-color: #434B5C;\n",
              "      box-shadow: 0px 1px 3px 1px rgba(0, 0, 0, 0.15);\n",
              "      filter: drop-shadow(0px 1px 2px rgba(0, 0, 0, 0.3));\n",
              "      fill: #FFFFFF;\n",
              "    }\n",
              "  </style>\n",
              "\n",
              "      <script>\n",
              "        const buttonEl =\n",
              "          document.querySelector('#df-d3fac2e0-311e-4f70-a47d-20737a0da65c button.colab-df-convert');\n",
              "        buttonEl.style.display =\n",
              "          google.colab.kernel.accessAllowed ? 'block' : 'none';\n",
              "\n",
              "        async function convertToInteractive(key) {\n",
              "          const element = document.querySelector('#df-d3fac2e0-311e-4f70-a47d-20737a0da65c');\n",
              "          const dataTable =\n",
              "            await google.colab.kernel.invokeFunction('convertToInteractive',\n",
              "                                                     [key], {});\n",
              "          if (!dataTable) return;\n",
              "\n",
              "          const docLinkHtml = 'Like what you see? Visit the ' +\n",
              "            '<a target=\"_blank\" href=https://colab.research.google.com/notebooks/data_table.ipynb>data table notebook</a>'\n",
              "            + ' to learn more about interactive tables.';\n",
              "          element.innerHTML = '';\n",
              "          dataTable['output_type'] = 'display_data';\n",
              "          await google.colab.output.renderOutput(dataTable, element);\n",
              "          const docLink = document.createElement('div');\n",
              "          docLink.innerHTML = docLinkHtml;\n",
              "          element.appendChild(docLink);\n",
              "        }\n",
              "      </script>\n",
              "    </div>\n",
              "  </div>\n",
              "  "
            ]
          },
          "metadata": {},
          "execution_count": 40
        }
      ]
    },
    {
      "cell_type": "code",
      "source": [
        "sport_data.info()"
      ],
      "metadata": {
        "colab": {
          "base_uri": "https://localhost:8080/"
        },
        "id": "sNANxWFue5DV",
        "outputId": "8375877c-e893-4e69-f983-4e0d4e0c13cc"
      },
      "execution_count": null,
      "outputs": [
        {
          "output_type": "stream",
          "name": "stdout",
          "text": [
            "<class 'pandas.core.frame.DataFrame'>\n",
            "RangeIndex: 84 entries, 0 to 83\n",
            "Data columns (total 15 columns):\n",
            " #   Column                      Non-Null Count  Dtype  \n",
            "---  ------                      --------------  -----  \n",
            " 0   Weight                      84 non-null     int64  \n",
            " 1   Height                      84 non-null     int64  \n",
            " 2   Gender                      84 non-null     object \n",
            " 3   Age                         84 non-null     int64  \n",
            " 4   Experience                  81 non-null     float64\n",
            " 5   Musculoskeletal discomfort  83 non-null     object \n",
            " 6   Symptom area                84 non-null     object \n",
            " 7   Pain intensity              84 non-null     object \n",
            " 8   Irritability(WHEN)          84 non-null     object \n",
            " 9   Irritability(DURATION)      84 non-null     object \n",
            " 10  Irritability(INTENSITY)     84 non-null     object \n",
            " 11  Severity(RUNNING)           84 non-null     object \n",
            " 12  Severity(LIFE)              84 non-null     object \n",
            " 13  Severity(MOBILITY)          84 non-null     object \n",
            " 14  Page                        84 non-null     int64  \n",
            "dtypes: float64(1), int64(4), object(10)\n",
            "memory usage: 10.0+ KB\n"
          ]
        }
      ]
    },
    {
      "cell_type": "code",
      "source": [
        "pd.DataFrame(sport_data.isnull().sum(), columns=[\"No. Missing Values\"])"
      ],
      "metadata": {
        "colab": {
          "base_uri": "https://localhost:8080/",
          "height": 519
        },
        "id": "FEnE_dvwe8r1",
        "outputId": "762ee836-0e94-4472-dc14-7eda9fd2d250"
      },
      "execution_count": null,
      "outputs": [
        {
          "output_type": "execute_result",
          "data": {
            "text/plain": [
              "                            No. Missing Values\n",
              "Weight                                       0\n",
              "Height                                       0\n",
              "Gender                                       0\n",
              "Age                                          0\n",
              "Experience                                   3\n",
              "Musculoskeletal discomfort                   1\n",
              "Symptom area                                 0\n",
              "Pain intensity                               0\n",
              "Irritability(WHEN)                           0\n",
              "Irritability(DURATION)                       0\n",
              "Irritability(INTENSITY)                      0\n",
              "Severity(RUNNING)                            0\n",
              "Severity(LIFE)                               0\n",
              "Severity(MOBILITY)                           0\n",
              "Page                                         0"
            ],
            "text/html": [
              "\n",
              "  <div id=\"df-e789eeb2-a85b-4bd3-a784-44849479aab6\">\n",
              "    <div class=\"colab-df-container\">\n",
              "      <div>\n",
              "<style scoped>\n",
              "    .dataframe tbody tr th:only-of-type {\n",
              "        vertical-align: middle;\n",
              "    }\n",
              "\n",
              "    .dataframe tbody tr th {\n",
              "        vertical-align: top;\n",
              "    }\n",
              "\n",
              "    .dataframe thead th {\n",
              "        text-align: right;\n",
              "    }\n",
              "</style>\n",
              "<table border=\"1\" class=\"dataframe\">\n",
              "  <thead>\n",
              "    <tr style=\"text-align: right;\">\n",
              "      <th></th>\n",
              "      <th>No. Missing Values</th>\n",
              "    </tr>\n",
              "  </thead>\n",
              "  <tbody>\n",
              "    <tr>\n",
              "      <th>Weight</th>\n",
              "      <td>0</td>\n",
              "    </tr>\n",
              "    <tr>\n",
              "      <th>Height</th>\n",
              "      <td>0</td>\n",
              "    </tr>\n",
              "    <tr>\n",
              "      <th>Gender</th>\n",
              "      <td>0</td>\n",
              "    </tr>\n",
              "    <tr>\n",
              "      <th>Age</th>\n",
              "      <td>0</td>\n",
              "    </tr>\n",
              "    <tr>\n",
              "      <th>Experience</th>\n",
              "      <td>3</td>\n",
              "    </tr>\n",
              "    <tr>\n",
              "      <th>Musculoskeletal discomfort</th>\n",
              "      <td>1</td>\n",
              "    </tr>\n",
              "    <tr>\n",
              "      <th>Symptom area</th>\n",
              "      <td>0</td>\n",
              "    </tr>\n",
              "    <tr>\n",
              "      <th>Pain intensity</th>\n",
              "      <td>0</td>\n",
              "    </tr>\n",
              "    <tr>\n",
              "      <th>Irritability(WHEN)</th>\n",
              "      <td>0</td>\n",
              "    </tr>\n",
              "    <tr>\n",
              "      <th>Irritability(DURATION)</th>\n",
              "      <td>0</td>\n",
              "    </tr>\n",
              "    <tr>\n",
              "      <th>Irritability(INTENSITY)</th>\n",
              "      <td>0</td>\n",
              "    </tr>\n",
              "    <tr>\n",
              "      <th>Severity(RUNNING)</th>\n",
              "      <td>0</td>\n",
              "    </tr>\n",
              "    <tr>\n",
              "      <th>Severity(LIFE)</th>\n",
              "      <td>0</td>\n",
              "    </tr>\n",
              "    <tr>\n",
              "      <th>Severity(MOBILITY)</th>\n",
              "      <td>0</td>\n",
              "    </tr>\n",
              "    <tr>\n",
              "      <th>Page</th>\n",
              "      <td>0</td>\n",
              "    </tr>\n",
              "  </tbody>\n",
              "</table>\n",
              "</div>\n",
              "      <button class=\"colab-df-convert\" onclick=\"convertToInteractive('df-e789eeb2-a85b-4bd3-a784-44849479aab6')\"\n",
              "              title=\"Convert this dataframe to an interactive table.\"\n",
              "              style=\"display:none;\">\n",
              "        \n",
              "  <svg xmlns=\"http://www.w3.org/2000/svg\" height=\"24px\"viewBox=\"0 0 24 24\"\n",
              "       width=\"24px\">\n",
              "    <path d=\"M0 0h24v24H0V0z\" fill=\"none\"/>\n",
              "    <path d=\"M18.56 5.44l.94 2.06.94-2.06 2.06-.94-2.06-.94-.94-2.06-.94 2.06-2.06.94zm-11 1L8.5 8.5l.94-2.06 2.06-.94-2.06-.94L8.5 2.5l-.94 2.06-2.06.94zm10 10l.94 2.06.94-2.06 2.06-.94-2.06-.94-.94-2.06-.94 2.06-2.06.94z\"/><path d=\"M17.41 7.96l-1.37-1.37c-.4-.4-.92-.59-1.43-.59-.52 0-1.04.2-1.43.59L10.3 9.45l-7.72 7.72c-.78.78-.78 2.05 0 2.83L4 21.41c.39.39.9.59 1.41.59.51 0 1.02-.2 1.41-.59l7.78-7.78 2.81-2.81c.8-.78.8-2.07 0-2.86zM5.41 20L4 18.59l7.72-7.72 1.47 1.35L5.41 20z\"/>\n",
              "  </svg>\n",
              "      </button>\n",
              "      \n",
              "  <style>\n",
              "    .colab-df-container {\n",
              "      display:flex;\n",
              "      flex-wrap:wrap;\n",
              "      gap: 12px;\n",
              "    }\n",
              "\n",
              "    .colab-df-convert {\n",
              "      background-color: #E8F0FE;\n",
              "      border: none;\n",
              "      border-radius: 50%;\n",
              "      cursor: pointer;\n",
              "      display: none;\n",
              "      fill: #1967D2;\n",
              "      height: 32px;\n",
              "      padding: 0 0 0 0;\n",
              "      width: 32px;\n",
              "    }\n",
              "\n",
              "    .colab-df-convert:hover {\n",
              "      background-color: #E2EBFA;\n",
              "      box-shadow: 0px 1px 2px rgba(60, 64, 67, 0.3), 0px 1px 3px 1px rgba(60, 64, 67, 0.15);\n",
              "      fill: #174EA6;\n",
              "    }\n",
              "\n",
              "    [theme=dark] .colab-df-convert {\n",
              "      background-color: #3B4455;\n",
              "      fill: #D2E3FC;\n",
              "    }\n",
              "\n",
              "    [theme=dark] .colab-df-convert:hover {\n",
              "      background-color: #434B5C;\n",
              "      box-shadow: 0px 1px 3px 1px rgba(0, 0, 0, 0.15);\n",
              "      filter: drop-shadow(0px 1px 2px rgba(0, 0, 0, 0.3));\n",
              "      fill: #FFFFFF;\n",
              "    }\n",
              "  </style>\n",
              "\n",
              "      <script>\n",
              "        const buttonEl =\n",
              "          document.querySelector('#df-e789eeb2-a85b-4bd3-a784-44849479aab6 button.colab-df-convert');\n",
              "        buttonEl.style.display =\n",
              "          google.colab.kernel.accessAllowed ? 'block' : 'none';\n",
              "\n",
              "        async function convertToInteractive(key) {\n",
              "          const element = document.querySelector('#df-e789eeb2-a85b-4bd3-a784-44849479aab6');\n",
              "          const dataTable =\n",
              "            await google.colab.kernel.invokeFunction('convertToInteractive',\n",
              "                                                     [key], {});\n",
              "          if (!dataTable) return;\n",
              "\n",
              "          const docLinkHtml = 'Like what you see? Visit the ' +\n",
              "            '<a target=\"_blank\" href=https://colab.research.google.com/notebooks/data_table.ipynb>data table notebook</a>'\n",
              "            + ' to learn more about interactive tables.';\n",
              "          element.innerHTML = '';\n",
              "          dataTable['output_type'] = 'display_data';\n",
              "          await google.colab.output.renderOutput(dataTable, element);\n",
              "          const docLink = document.createElement('div');\n",
              "          docLink.innerHTML = docLinkHtml;\n",
              "          element.appendChild(docLink);\n",
              "        }\n",
              "      </script>\n",
              "    </div>\n",
              "  </div>\n",
              "  "
            ]
          },
          "metadata": {},
          "execution_count": 11
        }
      ]
    },
    {
      "cell_type": "code",
      "source": [
        "fig, (ax1, ax2) = plt.subplots(1, 2, figsize=(10,5))\n",
        "\n",
        "injury_categories = {6: '6', 5: '5', 4: '4', 3: '3', 2: '2', 1: '1'}\n",
        "\n",
        "ax1.pie(sport_data[:]['Page'].value_counts().values, \n",
        "        labels = np.array([injury_categories[page] for page in sport_data[:]['Page'].value_counts().index]), \n",
        "        autopct = '%1.1f%%') \n",
        "\n",
        "ax1.axis('equal')\n",
        "\n",
        "\n",
        "ax2.bar(np.array([injury_categories[page] for page in sport_data[:]['Page'].value_counts().index]), sport_data[:]['Page'].value_counts().values)\n",
        "ax2.spines['top'].set_visible(False)\n",
        "ax2.spines['right'].set_visible(False)\n",
        "ax2.spines['left'].set_visible(False)\n",
        "ax2.tick_params(axis='both', which='both', labelsize=10, left=False, bottom=False)\n",
        "ax2.get_yaxis().set_visible(False)\n",
        "plt.title(\"Injury Categories\", fontsize=15, color = '#ff4800');\n",
        "\n",
        "ax2.bar_label(ax2.containers[0])\n",
        "fig.tight_layout()"
      ],
      "metadata": {
        "id": "wvbtp1wsIqRo",
        "outputId": "ae57f5dc-b6cb-438d-c0f5-e977d86972c4",
        "colab": {
          "base_uri": "https://localhost:8080/",
          "height": 501
        }
      },
      "execution_count": 54,
      "outputs": [
        {
          "output_type": "display_data",
          "data": {
            "text/plain": [
              "<Figure size 1000x500 with 2 Axes>"
            ],
            "image/png": "[encoded data removed]"
          },
          "metadata": {}
        }
      ]
    },
    {
      "cell_type": "markdown",
      "source": [
        "We have to convert the nominal variables to numerical variables."
      ],
      "metadata": {
        "id": "RBNvr627oKsG"
      }
    },
    {
      "cell_type": "code",
      "source": [
        "pain                   = {'a': 0, 'b': 1, 'c': 2, 'd': 3}\n",
        "irritability           = {'a': 0, 'b': 1, 'c':2}\n",
        "severity               = {\n",
        "                          'RUNNING': {'a': 0, 'b': 1, 'c': 2},\n",
        "                          'LIFE_MOBILITY': {'a': 0, 'b': 1}\n",
        "                        }"
      ],
      "metadata": {
        "id": "Mttpy5P3pipQ"
      },
      "execution_count": 55,
      "outputs": []
    },
    {
      "cell_type": "code",
      "source": [
        "# Pain Intensity\n",
        "sport_data['Pain intensity'] = [pain[sport_data['Pain intensity'][row]] for row in range(sport_data.shape[0])]\n",
        "\n",
        "# Irritability(WHEN, DURATION, INTENSITY)\n",
        "sport_data['Irritability(WHEN)'] = [irritability[sport_data['Irritability(WHEN)'][row]] for row in range(sport_data.shape[0])]\n",
        "sport_data['Irritability(DURATION)'] = [irritability[sport_data['Irritability(DURATION)'][row]] for row in range(sport_data.shape[0])]\n",
        "sport_data['Irritability(INTENSITY)'] = [irritability[sport_data['Irritability(INTENSITY)'][row]] for row in range(sport_data.shape[0])]\n",
        "\n",
        "# Severity(RUNNING)\n",
        "sport_data['Severity(RUNNING)'] = [severity['RUNNING'][sport_data['Severity(RUNNING)'][row]] for row in range(sport_data.shape[0])]\n",
        "\n",
        "# Severity(LIFE, MOBILITY)\n",
        "sport_data['Severity(LIFE)'] = [severity['LIFE_MOBILITY'][sport_data['Severity(LIFE)'][row]] for row in range(sport_data.shape[0])]\n",
        "sport_data['Severity(MOBILITY)'] = [severity['LIFE_MOBILITY'][sport_data['Severity(MOBILITY)'][row]] for row in range(sport_data.shape[0])]"
      ],
      "metadata": {
        "id": "6W55cZHUotil"
      },
      "execution_count": 56,
      "outputs": []
    },
    {
      "cell_type": "code",
      "source": [
        "sport_data['Pain intensity']          = sport_data['Pain intensity'].astype('int64')\n",
        "sport_data['Irritability(WHEN)']      = sport_data['Irritability(WHEN)'].astype('int64') \n",
        "sport_data['Irritability(DURATION)']  = sport_data['Irritability(DURATION)'].astype('int64') \n",
        "sport_data['Irritability(INTENSITY)'] = sport_data['Irritability(INTENSITY)'].astype('int64') \n",
        "sport_data['Severity(RUNNING)']       = sport_data['Severity(RUNNING)'].astype('int64') \n",
        "sport_data['Severity(LIFE)']          = sport_data['Severity(LIFE)'].astype('int64')  \n",
        "sport_data['Severity(MOBILITY)']      = sport_data['Severity(MOBILITY)'].astype('int64')  "
      ],
      "metadata": {
        "id": "OzoqszpYw0Jv"
      },
      "execution_count": 57,
      "outputs": []
    },
    {
      "cell_type": "code",
      "source": [
        "sport_data.head()"
      ],
      "metadata": {
        "id": "C0A0c252xLMJ",
        "outputId": "32edc58e-c811-43a3-a2e3-bb8b05fe9b6d",
        "colab": {
          "base_uri": "https://localhost:8080/",
          "height": 287
        }
      },
      "execution_count": null,
      "outputs": [
        {
          "output_type": "execute_result",
          "data": {
            "text/plain": [
              "   Weight  Height  Gender  Age  Experience Musculoskeletal discomfort  \\\n",
              "0      84     176    Male   45         3.0                        Yes   \n",
              "1      85     176    Male   45         4.0                        Yes   \n",
              "2      25     154  Female   45         5.0                        Yes   \n",
              "3      55     176    Male   38         9.0                        Yes   \n",
              "4      56     170  Female   51         2.0                        Yes   \n",
              "\n",
              "  Symptom area  Pain intensity  Irritability(WHEN)  Irritability(DURATION)  \\\n",
              "0         Calf               0                   0                       0   \n",
              "1         Sole               0                   0                       0   \n",
              "2         Knee               2                   1                       2   \n",
              "3         Knee               2                   2                       1   \n",
              "4          Hip               1                   1                       1   \n",
              "\n",
              "   Irritability(INTENSITY)  Severity(RUNNING)  Severity(LIFE)  \\\n",
              "0                        0                  0               0   \n",
              "1                        0                  0               0   \n",
              "2                        1                  1               0   \n",
              "3                        1                  2               0   \n",
              "4                        2                  0               1   \n",
              "\n",
              "   Severity(MOBILITY)  Page  \n",
              "0                   0     5  \n",
              "1                   0     5  \n",
              "2                   0     5  \n",
              "3                   1     5  \n",
              "4                   1     3  "
            ],
            "text/html": [
              "\n",
              "  <div id=\"df-0c9df60d-1c40-4be3-96b4-358b0bc2391c\">\n",
              "    <div class=\"colab-df-container\">\n",
              "      <div>\n",
              "<style scoped>\n",
              "    .dataframe tbody tr th:only-of-type {\n",
              "        vertical-align: middle;\n",
              "    }\n",
              "\n",
              "    .dataframe tbody tr th {\n",
              "        vertical-align: top;\n",
              "    }\n",
              "\n",
              "    .dataframe thead th {\n",
              "        text-align: right;\n",
              "    }\n",
              "</style>\n",
              "<table border=\"1\" class=\"dataframe\">\n",
              "  <thead>\n",
              "    <tr style=\"text-align: right;\">\n",
              "      <th></th>\n",
              "      <th>Weight</th>\n",
              "      <th>Height</th>\n",
              "      <th>Gender</th>\n",
              "      <th>Age</th>\n",
              "      <th>Experience</th>\n",
              "      <th>Musculoskeletal discomfort</th>\n",
              "      <th>Symptom area</th>\n",
              "      <th>Pain intensity</th>\n",
              "      <th>Irritability(WHEN)</th>\n",
              "      <th>Irritability(DURATION)</th>\n",
              "      <th>Irritability(INTENSITY)</th>\n",
              "      <th>Severity(RUNNING)</th>\n",
              "      <th>Severity(LIFE)</th>\n",
              "      <th>Severity(MOBILITY)</th>\n",
              "      <th>Page</th>\n",
              "    </tr>\n",
              "  </thead>\n",
              "  <tbody>\n",
              "    <tr>\n",
              "      <th>0</th>\n",
              "      <td>84</td>\n",
              "      <td>176</td>\n",
              "      <td>Male</td>\n",
              "      <td>45</td>\n",
              "      <td>3.0</td>\n",
              "      <td>Yes</td>\n",
              "      <td>Calf</td>\n",
              "      <td>0</td>\n",
              "      <td>0</td>\n",
              "      <td>0</td>\n",
              "      <td>0</td>\n",
              "      <td>0</td>\n",
              "      <td>0</td>\n",
              "      <td>0</td>\n",
              "      <td>5</td>\n",
              "    </tr>\n",
              "    <tr>\n",
              "      <th>1</th>\n",
              "      <td>85</td>\n",
              "      <td>176</td>\n",
              "      <td>Male</td>\n",
              "      <td>45</td>\n",
              "      <td>4.0</td>\n",
              "      <td>Yes</td>\n",
              "      <td>Sole</td>\n",
              "      <td>0</td>\n",
              "      <td>0</td>\n",
              "      <td>0</td>\n",
              "      <td>0</td>\n",
              "      <td>0</td>\n",
              "      <td>0</td>\n",
              "      <td>0</td>\n",
              "      <td>5</td>\n",
              "    </tr>\n",
              "    <tr>\n",
              "      <th>2</th>\n",
              "      <td>25</td>\n",
              "      <td>154</td>\n",
              "      <td>Female</td>\n",
              "      <td>45</td>\n",
              "      <td>5.0</td>\n",
              "      <td>Yes</td>\n",
              "      <td>Knee</td>\n",
              "      <td>2</td>\n",
              "      <td>1</td>\n",
              "      <td>2</td>\n",
              "      <td>1</td>\n",
              "      <td>1</td>\n",
              "      <td>0</td>\n",
              "      <td>0</td>\n",
              "      <td>5</td>\n",
              "    </tr>\n",
              "    <tr>\n",
              "      <th>3</th>\n",
              "      <td>55</td>\n",
              "      <td>176</td>\n",
              "      <td>Male</td>\n",
              "      <td>38</td>\n",
              "      <td>9.0</td>\n",
              "      <td>Yes</td>\n",
              "      <td>Knee</td>\n",
              "      <td>2</td>\n",
              "      <td>2</td>\n",
              "      <td>1</td>\n",
              "      <td>1</td>\n",
              "      <td>2</td>\n",
              "      <td>0</td>\n",
              "      <td>1</td>\n",
              "      <td>5</td>\n",
              "    </tr>\n",
              "    <tr>\n",
              "      <th>4</th>\n",
              "      <td>56</td>\n",
              "      <td>170</td>\n",
              "      <td>Female</td>\n",
              "      <td>51</td>\n",
              "      <td>2.0</td>\n",
              "      <td>Yes</td>\n",
              "      <td>Hip</td>\n",
              "      <td>1</td>\n",
              "      <td>1</td>\n",
              "      <td>1</td>\n",
              "      <td>2</td>\n",
              "      <td>0</td>\n",
              "      <td>1</td>\n",
              "      <td>1</td>\n",
              "      <td>3</td>\n",
              "    </tr>\n",
              "  </tbody>\n",
              "</table>\n",
              "</div>\n",
              "      <button class=\"colab-df-convert\" onclick=\"convertToInteractive('df-0c9df60d-1c40-4be3-96b4-358b0bc2391c')\"\n",
              "              title=\"Convert this dataframe to an interactive table.\"\n",
              "              style=\"display:none;\">\n",
              "        \n",
              "  <svg xmlns=\"http://www.w3.org/2000/svg\" height=\"24px\"viewBox=\"0 0 24 24\"\n",
              "       width=\"24px\">\n",
              "    <path d=\"M0 0h24v24H0V0z\" fill=\"none\"/>\n",
              "    <path d=\"M18.56 5.44l.94 2.06.94-2.06 2.06-.94-2.06-.94-.94-2.06-.94 2.06-2.06.94zm-11 1L8.5 8.5l.94-2.06 2.06-.94-2.06-.94L8.5 2.5l-.94 2.06-2.06.94zm10 10l.94 2.06.94-2.06 2.06-.94-2.06-.94-.94-2.06-.94 2.06-2.06.94z\"/><path d=\"M17.41 7.96l-1.37-1.37c-.4-.4-.92-.59-1.43-.59-.52 0-1.04.2-1.43.59L10.3 9.45l-7.72 7.72c-.78.78-.78 2.05 0 2.83L4 21.41c.39.39.9.59 1.41.59.51 0 1.02-.2 1.41-.59l7.78-7.78 2.81-2.81c.8-.78.8-2.07 0-2.86zM5.41 20L4 18.59l7.72-7.72 1.47 1.35L5.41 20z\"/>\n",
              "  </svg>\n",
              "      </button>\n",
              "      \n",
              "  <style>\n",
              "    .colab-df-container {\n",
              "      display:flex;\n",
              "      flex-wrap:wrap;\n",
              "      gap: 12px;\n",
              "    }\n",
              "\n",
              "    .colab-df-convert {\n",
              "      background-color: #E8F0FE;\n",
              "      border: none;\n",
              "      border-radius: 50%;\n",
              "      cursor: pointer;\n",
              "      display: none;\n",
              "      fill: #1967D2;\n",
              "      height: 32px;\n",
              "      padding: 0 0 0 0;\n",
              "      width: 32px;\n",
              "    }\n",
              "\n",
              "    .colab-df-convert:hover {\n",
              "      background-color: #E2EBFA;\n",
              "      box-shadow: 0px 1px 2px rgba(60, 64, 67, 0.3), 0px 1px 3px 1px rgba(60, 64, 67, 0.15);\n",
              "      fill: #174EA6;\n",
              "    }\n",
              "\n",
              "    [theme=dark] .colab-df-convert {\n",
              "      background-color: #3B4455;\n",
              "      fill: #D2E3FC;\n",
              "    }\n",
              "\n",
              "    [theme=dark] .colab-df-convert:hover {\n",
              "      background-color: #434B5C;\n",
              "      box-shadow: 0px 1px 3px 1px rgba(0, 0, 0, 0.15);\n",
              "      filter: drop-shadow(0px 1px 2px rgba(0, 0, 0, 0.3));\n",
              "      fill: #FFFFFF;\n",
              "    }\n",
              "  </style>\n",
              "\n",
              "      <script>\n",
              "        const buttonEl =\n",
              "          document.querySelector('#df-0c9df60d-1c40-4be3-96b4-358b0bc2391c button.colab-df-convert');\n",
              "        buttonEl.style.display =\n",
              "          google.colab.kernel.accessAllowed ? 'block' : 'none';\n",
              "\n",
              "        async function convertToInteractive(key) {\n",
              "          const element = document.querySelector('#df-0c9df60d-1c40-4be3-96b4-358b0bc2391c');\n",
              "          const dataTable =\n",
              "            await google.colab.kernel.invokeFunction('convertToInteractive',\n",
              "                                                     [key], {});\n",
              "          if (!dataTable) return;\n",
              "\n",
              "          const docLinkHtml = 'Like what you see? Visit the ' +\n",
              "            '<a target=\"_blank\" href=https://colab.research.google.com/notebooks/data_table.ipynb>data table notebook</a>'\n",
              "            + ' to learn more about interactive tables.';\n",
              "          element.innerHTML = '';\n",
              "          dataTable['output_type'] = 'display_data';\n",
              "          await google.colab.output.renderOutput(dataTable, element);\n",
              "          const docLink = document.createElement('div');\n",
              "          docLink.innerHTML = docLinkHtml;\n",
              "          element.appendChild(docLink);\n",
              "        }\n",
              "      </script>\n",
              "    </div>\n",
              "  </div>\n",
              "  "
            ]
          },
          "metadata": {},
          "execution_count": 10
        }
      ]
    },
    {
      "cell_type": "code",
      "source": [
        "sport_data.info()"
      ],
      "metadata": {
        "id": "sayzq18Vxca1",
        "outputId": "34c05118-1018-4d8f-bc4c-73f503cd3e76",
        "colab": {
          "base_uri": "https://localhost:8080/"
        }
      },
      "execution_count": null,
      "outputs": [
        {
          "output_type": "stream",
          "name": "stdout",
          "text": [
            "<class 'pandas.core.frame.DataFrame'>\n",
            "RangeIndex: 84 entries, 0 to 83\n",
            "Data columns (total 15 columns):\n",
            " #   Column                      Non-Null Count  Dtype  \n",
            "---  ------                      --------------  -----  \n",
            " 0   Weight                      84 non-null     int64  \n",
            " 1   Height                      84 non-null     int64  \n",
            " 2   Gender                      84 non-null     object \n",
            " 3   Age                         84 non-null     int64  \n",
            " 4   Experience                  81 non-null     float64\n",
            " 5   Musculoskeletal discomfort  83 non-null     object \n",
            " 6   Symptom area                84 non-null     object \n",
            " 7   Pain intensity              84 non-null     int64  \n",
            " 8   Irritability(WHEN)          84 non-null     int64  \n",
            " 9   Irritability(DURATION)      84 non-null     int64  \n",
            " 10  Irritability(INTENSITY)     84 non-null     int64  \n",
            " 11  Severity(RUNNING)           84 non-null     int64  \n",
            " 12  Severity(LIFE)              84 non-null     int64  \n",
            " 13  Severity(MOBILITY)          84 non-null     int64  \n",
            " 14  Page                        84 non-null     int64  \n",
            "dtypes: float64(1), int64(11), object(3)\n",
            "memory usage: 10.0+ KB\n"
          ]
        }
      ]
    },
    {
      "cell_type": "code",
      "source": [
        "symptom_area = {\n",
        "    'Calf': 0,\n",
        "    'Hip': 1,\n",
        "    'Knee': 2,\n",
        "    'Low back': 3,\n",
        "    'Sole': 4,\n",
        "    'Thigh': 5\n",
        "}\n",
        "gender = {\n",
        "    'Male':0,\n",
        "    'Female':1\n",
        "}"
      ],
      "metadata": {
        "id": "WNWyluplTx49"
      },
      "execution_count": 58,
      "outputs": []
    },
    {
      "cell_type": "code",
      "source": [
        "# Run this cell and the 2 below, only if you want to keep the original dataset\n",
        "sport_data['Gender'] = [gender[sport_data['Gender'][row]] for row in range(sport_data.shape[0])]\n",
        "sport_data['Symptom area'] = [symptom_area[sport_data['Symptom area'][row]] for row in range(sport_data.shape[0])]"
      ],
      "metadata": {
        "id": "TKl9EDWfSe-C"
      },
      "execution_count": 59,
      "outputs": []
    },
    {
      "cell_type": "code",
      "source": [
        "sport_data['Gender']          = sport_data['Gender'].astype('int64')\n",
        "sport_data['Symptom area']    = sport_data['Symptom area'].astype('int64') "
      ],
      "metadata": {
        "id": "N8L31bT4TdmU"
      },
      "execution_count": 60,
      "outputs": []
    },
    {
      "cell_type": "code",
      "source": [
        "sport_data.head()"
      ],
      "metadata": {
        "id": "RK0AOpZYTnb2",
        "outputId": "09b579d9-eaf0-4a62-9d75-ccc6593e2233",
        "colab": {
          "base_uri": "https://localhost:8080/",
          "height": 287
        }
      },
      "execution_count": 61,
      "outputs": [
        {
          "output_type": "execute_result",
          "data": {
            "text/plain": [
              "   Weight  Height  Gender  Age  Experience  Symptom area  Pain intensity  \\\n",
              "0      84     176       0   45         3.0             0               0   \n",
              "1      85     176       0   45         4.0             4               0   \n",
              "2      25     154       1   45         5.0             2               2   \n",
              "3      55     176       0   38         9.0             2               2   \n",
              "4      56     170       1   51         2.0             1               1   \n",
              "\n",
              "   Irritability(WHEN)  Irritability(DURATION)  Irritability(INTENSITY)  \\\n",
              "0                   0                       0                        0   \n",
              "1                   0                       0                        0   \n",
              "2                   1                       2                        1   \n",
              "3                   2                       1                        1   \n",
              "4                   1                       1                        2   \n",
              "\n",
              "   Severity(RUNNING)  Severity(LIFE)  Severity(MOBILITY)  Page  \n",
              "0                  0               0                   0     5  \n",
              "1                  0               0                   0     5  \n",
              "2                  1               0                   0     5  \n",
              "3                  2               0                   1     5  \n",
              "4                  0               1                   1     3  "
            ],
            "text/html": [
              "\n",
              "  <div id=\"df-7c097fc0-22a8-47a1-b531-5d6f072d9ac1\">\n",
              "    <div class=\"colab-df-container\">\n",
              "      <div>\n",
              "<style scoped>\n",
              "    .dataframe tbody tr th:only-of-type {\n",
              "        vertical-align: middle;\n",
              "    }\n",
              "\n",
              "    .dataframe tbody tr th {\n",
              "        vertical-align: top;\n",
              "    }\n",
              "\n",
              "    .dataframe thead th {\n",
              "        text-align: right;\n",
              "    }\n",
              "</style>\n",
              "<table border=\"1\" class=\"dataframe\">\n",
              "  <thead>\n",
              "    <tr style=\"text-align: right;\">\n",
              "      <th></th>\n",
              "      <th>Weight</th>\n",
              "      <th>Height</th>\n",
              "      <th>Gender</th>\n",
              "      <th>Age</th>\n",
              "      <th>Experience</th>\n",
              "      <th>Symptom area</th>\n",
              "      <th>Pain intensity</th>\n",
              "      <th>Irritability(WHEN)</th>\n",
              "      <th>Irritability(DURATION)</th>\n",
              "      <th>Irritability(INTENSITY)</th>\n",
              "      <th>Severity(RUNNING)</th>\n",
              "      <th>Severity(LIFE)</th>\n",
              "      <th>Severity(MOBILITY)</th>\n",
              "      <th>Page</th>\n",
              "    </tr>\n",
              "  </thead>\n",
              "  <tbody>\n",
              "    <tr>\n",
              "      <th>0</th>\n",
              "      <td>84</td>\n",
              "      <td>176</td>\n",
              "      <td>0</td>\n",
              "      <td>45</td>\n",
              "      <td>3.0</td>\n",
              "      <td>0</td>\n",
              "      <td>0</td>\n",
              "      <td>0</td>\n",
              "      <td>0</td>\n",
              "      <td>0</td>\n",
              "      <td>0</td>\n",
              "      <td>0</td>\n",
              "      <td>0</td>\n",
              "      <td>5</td>\n",
              "    </tr>\n",
              "    <tr>\n",
              "      <th>1</th>\n",
              "      <td>85</td>\n",
              "      <td>176</td>\n",
              "      <td>0</td>\n",
              "      <td>45</td>\n",
              "      <td>4.0</td>\n",
              "      <td>4</td>\n",
              "      <td>0</td>\n",
              "      <td>0</td>\n",
              "      <td>0</td>\n",
              "      <td>0</td>\n",
              "      <td>0</td>\n",
              "      <td>0</td>\n",
              "      <td>0</td>\n",
              "      <td>5</td>\n",
              "    </tr>\n",
              "    <tr>\n",
              "      <th>2</th>\n",
              "      <td>25</td>\n",
              "      <td>154</td>\n",
              "      <td>1</td>\n",
              "      <td>45</td>\n",
              "      <td>5.0</td>\n",
              "      <td>2</td>\n",
              "      <td>2</td>\n",
              "      <td>1</td>\n",
              "      <td>2</td>\n",
              "      <td>1</td>\n",
              "      <td>1</td>\n",
              "      <td>0</td>\n",
              "      <td>0</td>\n",
              "      <td>5</td>\n",
              "    </tr>\n",
              "    <tr>\n",
              "      <th>3</th>\n",
              "      <td>55</td>\n",
              "      <td>176</td>\n",
              "      <td>0</td>\n",
              "      <td>38</td>\n",
              "      <td>9.0</td>\n",
              "      <td>2</td>\n",
              "      <td>2</td>\n",
              "      <td>2</td>\n",
              "      <td>1</td>\n",
              "      <td>1</td>\n",
              "      <td>2</td>\n",
              "      <td>0</td>\n",
              "      <td>1</td>\n",
              "      <td>5</td>\n",
              "    </tr>\n",
              "    <tr>\n",
              "      <th>4</th>\n",
              "      <td>56</td>\n",
              "      <td>170</td>\n",
              "      <td>1</td>\n",
              "      <td>51</td>\n",
              "      <td>2.0</td>\n",
              "      <td>1</td>\n",
              "      <td>1</td>\n",
              "      <td>1</td>\n",
              "      <td>1</td>\n",
              "      <td>2</td>\n",
              "      <td>0</td>\n",
              "      <td>1</td>\n",
              "      <td>1</td>\n",
              "      <td>3</td>\n",
              "    </tr>\n",
              "  </tbody>\n",
              "</table>\n",
              "</div>\n",
              "      <button class=\"colab-df-convert\" onclick=\"convertToInteractive('df-7c097fc0-22a8-47a1-b531-5d6f072d9ac1')\"\n",
              "              title=\"Convert this dataframe to an interactive table.\"\n",
              "              style=\"display:none;\">\n",
              "        \n",
              "  <svg xmlns=\"http://www.w3.org/2000/svg\" height=\"24px\"viewBox=\"0 0 24 24\"\n",
              "       width=\"24px\">\n",
              "    <path d=\"M0 0h24v24H0V0z\" fill=\"none\"/>\n",
              "    <path d=\"M18.56 5.44l.94 2.06.94-2.06 2.06-.94-2.06-.94-.94-2.06-.94 2.06-2.06.94zm-11 1L8.5 8.5l.94-2.06 2.06-.94-2.06-.94L8.5 2.5l-.94 2.06-2.06.94zm10 10l.94 2.06.94-2.06 2.06-.94-2.06-.94-.94-2.06-.94 2.06-2.06.94z\"/><path d=\"M17.41 7.96l-1.37-1.37c-.4-.4-.92-.59-1.43-.59-.52 0-1.04.2-1.43.59L10.3 9.45l-7.72 7.72c-.78.78-.78 2.05 0 2.83L4 21.41c.39.39.9.59 1.41.59.51 0 1.02-.2 1.41-.59l7.78-7.78 2.81-2.81c.8-.78.8-2.07 0-2.86zM5.41 20L4 18.59l7.72-7.72 1.47 1.35L5.41 20z\"/>\n",
              "  </svg>\n",
              "      </button>\n",
              "      \n",
              "  <style>\n",
              "    .colab-df-container {\n",
              "      display:flex;\n",
              "      flex-wrap:wrap;\n",
              "      gap: 12px;\n",
              "    }\n",
              "\n",
              "    .colab-df-convert {\n",
              "      background-color: #E8F0FE;\n",
              "      border: none;\n",
              "      border-radius: 50%;\n",
              "      cursor: pointer;\n",
              "      display: none;\n",
              "      fill: #1967D2;\n",
              "      height: 32px;\n",
              "      padding: 0 0 0 0;\n",
              "      width: 32px;\n",
              "    }\n",
              "\n",
              "    .colab-df-convert:hover {\n",
              "      background-color: #E2EBFA;\n",
              "      box-shadow: 0px 1px 2px rgba(60, 64, 67, 0.3), 0px 1px 3px 1px rgba(60, 64, 67, 0.15);\n",
              "      fill: #174EA6;\n",
              "    }\n",
              "\n",
              "    [theme=dark] .colab-df-convert {\n",
              "      background-color: #3B4455;\n",
              "      fill: #D2E3FC;\n",
              "    }\n",
              "\n",
              "    [theme=dark] .colab-df-convert:hover {\n",
              "      background-color: #434B5C;\n",
              "      box-shadow: 0px 1px 3px 1px rgba(0, 0, 0, 0.15);\n",
              "      filter: drop-shadow(0px 1px 2px rgba(0, 0, 0, 0.3));\n",
              "      fill: #FFFFFF;\n",
              "    }\n",
              "  </style>\n",
              "\n",
              "      <script>\n",
              "        const buttonEl =\n",
              "          document.querySelector('#df-7c097fc0-22a8-47a1-b531-5d6f072d9ac1 button.colab-df-convert');\n",
              "        buttonEl.style.display =\n",
              "          google.colab.kernel.accessAllowed ? 'block' : 'none';\n",
              "\n",
              "        async function convertToInteractive(key) {\n",
              "          const element = document.querySelector('#df-7c097fc0-22a8-47a1-b531-5d6f072d9ac1');\n",
              "          const dataTable =\n",
              "            await google.colab.kernel.invokeFunction('convertToInteractive',\n",
              "                                                     [key], {});\n",
              "          if (!dataTable) return;\n",
              "\n",
              "          const docLinkHtml = 'Like what you see? Visit the ' +\n",
              "            '<a target=\"_blank\" href=https://colab.research.google.com/notebooks/data_table.ipynb>data table notebook</a>'\n",
              "            + ' to learn more about interactive tables.';\n",
              "          element.innerHTML = '';\n",
              "          dataTable['output_type'] = 'display_data';\n",
              "          await google.colab.output.renderOutput(dataTable, element);\n",
              "          const docLink = document.createElement('div');\n",
              "          docLink.innerHTML = docLinkHtml;\n",
              "          element.appendChild(docLink);\n",
              "        }\n",
              "      </script>\n",
              "    </div>\n",
              "  </div>\n",
              "  "
            ]
          },
          "metadata": {},
          "execution_count": 61
        }
      ]
    },
    {
      "cell_type": "markdown",
      "source": [
        "## Dataset A\n",
        "(Pain intensity, Irritability(WHEN), Irritability(DURATION), Irritability(INTENSITY), Severity(RUNNING), Severity(LIFE), Severity(MOBILITY))"
      ],
      "metadata": {
        "id": "MMwcyInG7u5O"
      }
    },
    {
      "cell_type": "code",
      "source": [
        "sport_data_classification_A = sport_data.copy(deep=True)"
      ],
      "metadata": {
        "id": "GLKtokXs8nRm"
      },
      "execution_count": 62,
      "outputs": []
    },
    {
      "cell_type": "code",
      "source": [
        "# Print the samples for class 1\n",
        "sport_data_classification_A.loc[sport_data_classification_A['Page'] == 1]"
      ],
      "metadata": {
        "id": "9LrqMERV8C1m",
        "outputId": "3ee0a5e3-5a39-4fa9-c6a7-0a0ed98616aa",
        "colab": {
          "base_uri": "https://localhost:8080/",
          "height": 193
        }
      },
      "execution_count": 63,
      "outputs": [
        {
          "output_type": "execute_result",
          "data": {
            "text/plain": [
              "    Weight  Height  Gender  Age  Experience  Symptom area  Pain intensity  \\\n",
              "57      80     178       0   45         3.0             2               0   \n",
              "61      82     168       1   25        15.0             5               0   \n",
              "\n",
              "    Irritability(WHEN)  Irritability(DURATION)  Irritability(INTENSITY)  \\\n",
              "57                   2                       2                        2   \n",
              "61                   2                       2                        2   \n",
              "\n",
              "    Severity(RUNNING)  Severity(LIFE)  Severity(MOBILITY)  Page  \n",
              "57                  0               1                   1     1  \n",
              "61                  0               1                   1     1  "
            ],
            "text/html": [
              "\n",
              "  <div id=\"df-bb38c1cc-45c6-4461-af6c-c37cb2e0353a\">\n",
              "    <div class=\"colab-df-container\">\n",
              "      <div>\n",
              "<style scoped>\n",
              "    .dataframe tbody tr th:only-of-type {\n",
              "        vertical-align: middle;\n",
              "    }\n",
              "\n",
              "    .dataframe tbody tr th {\n",
              "        vertical-align: top;\n",
              "    }\n",
              "\n",
              "    .dataframe thead th {\n",
              "        text-align: right;\n",
              "    }\n",
              "</style>\n",
              "<table border=\"1\" class=\"dataframe\">\n",
              "  <thead>\n",
              "    <tr style=\"text-align: right;\">\n",
              "      <th></th>\n",
              "      <th>Weight</th>\n",
              "      <th>Height</th>\n",
              "      <th>Gender</th>\n",
              "      <th>Age</th>\n",
              "      <th>Experience</th>\n",
              "      <th>Symptom area</th>\n",
              "      <th>Pain intensity</th>\n",
              "      <th>Irritability(WHEN)</th>\n",
              "      <th>Irritability(DURATION)</th>\n",
              "      <th>Irritability(INTENSITY)</th>\n",
              "      <th>Severity(RUNNING)</th>\n",
              "      <th>Severity(LIFE)</th>\n",
              "      <th>Severity(MOBILITY)</th>\n",
              "      <th>Page</th>\n",
              "    </tr>\n",
              "  </thead>\n",
              "  <tbody>\n",
              "    <tr>\n",
              "      <th>57</th>\n",
              "      <td>80</td>\n",
              "      <td>178</td>\n",
              "      <td>0</td>\n",
              "      <td>45</td>\n",
              "      <td>3.0</td>\n",
              "      <td>2</td>\n",
              "      <td>0</td>\n",
              "      <td>2</td>\n",
              "      <td>2</td>\n",
              "      <td>2</td>\n",
              "      <td>0</td>\n",
              "      <td>1</td>\n",
              "      <td>1</td>\n",
              "      <td>1</td>\n",
              "    </tr>\n",
              "    <tr>\n",
              "      <th>61</th>\n",
              "      <td>82</td>\n",
              "      <td>168</td>\n",
              "      <td>1</td>\n",
              "      <td>25</td>\n",
              "      <td>15.0</td>\n",
              "      <td>5</td>\n",
              "      <td>0</td>\n",
              "      <td>2</td>\n",
              "      <td>2</td>\n",
              "      <td>2</td>\n",
              "      <td>0</td>\n",
              "      <td>1</td>\n",
              "      <td>1</td>\n",
              "      <td>1</td>\n",
              "    </tr>\n",
              "  </tbody>\n",
              "</table>\n",
              "</div>\n",
              "      <button class=\"colab-df-convert\" onclick=\"convertToInteractive('df-bb38c1cc-45c6-4461-af6c-c37cb2e0353a')\"\n",
              "              title=\"Convert this dataframe to an interactive table.\"\n",
              "              style=\"display:none;\">\n",
              "        \n",
              "  <svg xmlns=\"http://www.w3.org/2000/svg\" height=\"24px\"viewBox=\"0 0 24 24\"\n",
              "       width=\"24px\">\n",
              "    <path d=\"M0 0h24v24H0V0z\" fill=\"none\"/>\n",
              "    <path d=\"M18.56 5.44l.94 2.06.94-2.06 2.06-.94-2.06-.94-.94-2.06-.94 2.06-2.06.94zm-11 1L8.5 8.5l.94-2.06 2.06-.94-2.06-.94L8.5 2.5l-.94 2.06-2.06.94zm10 10l.94 2.06.94-2.06 2.06-.94-2.06-.94-.94-2.06-.94 2.06-2.06.94z\"/><path d=\"M17.41 7.96l-1.37-1.37c-.4-.4-.92-.59-1.43-.59-.52 0-1.04.2-1.43.59L10.3 9.45l-7.72 7.72c-.78.78-.78 2.05 0 2.83L4 21.41c.39.39.9.59 1.41.59.51 0 1.02-.2 1.41-.59l7.78-7.78 2.81-2.81c.8-.78.8-2.07 0-2.86zM5.41 20L4 18.59l7.72-7.72 1.47 1.35L5.41 20z\"/>\n",
              "  </svg>\n",
              "      </button>\n",
              "      \n",
              "  <style>\n",
              "    .colab-df-container {\n",
              "      display:flex;\n",
              "      flex-wrap:wrap;\n",
              "      gap: 12px;\n",
              "    }\n",
              "\n",
              "    .colab-df-convert {\n",
              "      background-color: #E8F0FE;\n",
              "      border: none;\n",
              "      border-radius: 50%;\n",
              "      cursor: pointer;\n",
              "      display: none;\n",
              "      fill: #1967D2;\n",
              "      height: 32px;\n",
              "      padding: 0 0 0 0;\n",
              "      width: 32px;\n",
              "    }\n",
              "\n",
              "    .colab-df-convert:hover {\n",
              "      background-color: #E2EBFA;\n",
              "      box-shadow: 0px 1px 2px rgba(60, 64, 67, 0.3), 0px 1px 3px 1px rgba(60, 64, 67, 0.15);\n",
              "      fill: #174EA6;\n",
              "    }\n",
              "\n",
              "    [theme=dark] .colab-df-convert {\n",
              "      background-color: #3B4455;\n",
              "      fill: #D2E3FC;\n",
              "    }\n",
              "\n",
              "    [theme=dark] .colab-df-convert:hover {\n",
              "      background-color: #434B5C;\n",
              "      box-shadow: 0px 1px 3px 1px rgba(0, 0, 0, 0.15);\n",
              "      filter: drop-shadow(0px 1px 2px rgba(0, 0, 0, 0.3));\n",
              "      fill: #FFFFFF;\n",
              "    }\n",
              "  </style>\n",
              "\n",
              "      <script>\n",
              "        const buttonEl =\n",
              "          document.querySelector('#df-bb38c1cc-45c6-4461-af6c-c37cb2e0353a button.colab-df-convert');\n",
              "        buttonEl.style.display =\n",
              "          google.colab.kernel.accessAllowed ? 'block' : 'none';\n",
              "\n",
              "        async function convertToInteractive(key) {\n",
              "          const element = document.querySelector('#df-bb38c1cc-45c6-4461-af6c-c37cb2e0353a');\n",
              "          const dataTable =\n",
              "            await google.colab.kernel.invokeFunction('convertToInteractive',\n",
              "                                                     [key], {});\n",
              "          if (!dataTable) return;\n",
              "\n",
              "          const docLinkHtml = 'Like what you see? Visit the ' +\n",
              "            '<a target=\"_blank\" href=https://colab.research.google.com/notebooks/data_table.ipynb>data table notebook</a>'\n",
              "            + ' to learn more about interactive tables.';\n",
              "          element.innerHTML = '';\n",
              "          dataTable['output_type'] = 'display_data';\n",
              "          await google.colab.output.renderOutput(dataTable, element);\n",
              "          const docLink = document.createElement('div');\n",
              "          docLink.innerHTML = docLinkHtml;\n",
              "          element.appendChild(docLink);\n",
              "        }\n",
              "      </script>\n",
              "    </div>\n",
              "  </div>\n",
              "  "
            ]
          },
          "metadata": {},
          "execution_count": 63
        }
      ]
    },
    {
      "cell_type": "code",
      "source": [
        "# Add some additional samples for class 1.\n",
        "sport_data_classification_A.loc[len(sport_data_classification_A.index)] = [70, 181, 0, 23, 2.0, 0, 0, 2, 2, 2, 0, 1, 1, 1] \n",
        "sport_data_classification_A.loc[len(sport_data_classification_A.index)] = [65, 175, 1, 30, 4.0, 4, 0, 2, 2, 2, 0, 1, 1, 1]\n",
        "sport_data_classification_A.loc[len(sport_data_classification_A.index)] = [77, 185, 0, 38, 3.0, 2, 0, 2, 2, 2, 0, 1, 1, 1]\n",
        "sport_data_classification_A.loc[len(sport_data_classification_A.index)] = [85, 190, 0, 27, 1.0, 3, 0, 2, 2, 2, 0, 1, 1, 1]"
      ],
      "metadata": {
        "id": "B1yapj9L8QVV"
      },
      "execution_count": 64,
      "outputs": []
    },
    {
      "cell_type": "code",
      "source": [
        "# Print the samples for class 6\n",
        "sport_data_classification_A.loc[sport_data_classification_A['Page'] == 6]"
      ],
      "metadata": {
        "id": "dDnItD4l8UdO",
        "outputId": "8c00bed4-c830-450d-fd2b-3eb21a48fb2a",
        "colab": {
          "base_uri": "https://localhost:8080/",
          "height": 193
        }
      },
      "execution_count": 65,
      "outputs": [
        {
          "output_type": "execute_result",
          "data": {
            "text/plain": [
              "    Weight  Height  Gender   Age  Experience  Symptom area  Pain intensity  \\\n",
              "15    63.0   151.0     0.0  32.0         4.0           1.0             3.0   \n",
              "38    65.0   170.0     0.0  21.0         7.0           0.0             3.0   \n",
              "\n",
              "    Irritability(WHEN)  Irritability(DURATION)  Irritability(INTENSITY)  \\\n",
              "15                 1.0                     0.0                      0.0   \n",
              "38                 2.0                     2.0                      0.0   \n",
              "\n",
              "    Severity(RUNNING)  Severity(LIFE)  Severity(MOBILITY)  Page  \n",
              "15                1.0             1.0                 1.0   6.0  \n",
              "38                2.0             0.0                 1.0   6.0  "
            ],
            "text/html": [
              "\n",
              "  <div id=\"df-64b44566-e25f-4d4e-a09d-a7e3ada70e6d\">\n",
              "    <div class=\"colab-df-container\">\n",
              "      <div>\n",
              "<style scoped>\n",
              "    .dataframe tbody tr th:only-of-type {\n",
              "        vertical-align: middle;\n",
              "    }\n",
              "\n",
              "    .dataframe tbody tr th {\n",
              "        vertical-align: top;\n",
              "    }\n",
              "\n",
              "    .dataframe thead th {\n",
              "        text-align: right;\n",
              "    }\n",
              "</style>\n",
              "<table border=\"1\" class=\"dataframe\">\n",
              "  <thead>\n",
              "    <tr style=\"text-align: right;\">\n",
              "      <th></th>\n",
              "      <th>Weight</th>\n",
              "      <th>Height</th>\n",
              "      <th>Gender</th>\n",
              "      <th>Age</th>\n",
              "      <th>Experience</th>\n",
              "      <th>Symptom area</th>\n",
              "      <th>Pain intensity</th>\n",
              "      <th>Irritability(WHEN)</th>\n",
              "      <th>Irritability(DURATION)</th>\n",
              "      <th>Irritability(INTENSITY)</th>\n",
              "      <th>Severity(RUNNING)</th>\n",
              "      <th>Severity(LIFE)</th>\n",
              "      <th>Severity(MOBILITY)</th>\n",
              "      <th>Page</th>\n",
              "    </tr>\n",
              "  </thead>\n",
              "  <tbody>\n",
              "    <tr>\n",
              "      <th>15</th>\n",
              "      <td>63.0</td>\n",
              "      <td>151.0</td>\n",
              "      <td>0.0</td>\n",
              "      <td>32.0</td>\n",
              "      <td>4.0</td>\n",
              "      <td>1.0</td>\n",
              "      <td>3.0</td>\n",
              "      <td>1.0</td>\n",
              "      <td>0.0</td>\n",
              "      <td>0.0</td>\n",
              "      <td>1.0</td>\n",
              "      <td>1.0</td>\n",
              "      <td>1.0</td>\n",
              "      <td>6.0</td>\n",
              "    </tr>\n",
              "    <tr>\n",
              "      <th>38</th>\n",
              "      <td>65.0</td>\n",
              "      <td>170.0</td>\n",
              "      <td>0.0</td>\n",
              "      <td>21.0</td>\n",
              "      <td>7.0</td>\n",
              "      <td>0.0</td>\n",
              "      <td>3.0</td>\n",
              "      <td>2.0</td>\n",
              "      <td>2.0</td>\n",
              "      <td>0.0</td>\n",
              "      <td>2.0</td>\n",
              "      <td>0.0</td>\n",
              "      <td>1.0</td>\n",
              "      <td>6.0</td>\n",
              "    </tr>\n",
              "  </tbody>\n",
              "</table>\n",
              "</div>\n",
              "      <button class=\"colab-df-convert\" onclick=\"convertToInteractive('df-64b44566-e25f-4d4e-a09d-a7e3ada70e6d')\"\n",
              "              title=\"Convert this dataframe to an interactive table.\"\n",
              "              style=\"display:none;\">\n",
              "        \n",
              "  <svg xmlns=\"http://www.w3.org/2000/svg\" height=\"24px\"viewBox=\"0 0 24 24\"\n",
              "       width=\"24px\">\n",
              "    <path d=\"M0 0h24v24H0V0z\" fill=\"none\"/>\n",
              "    <path d=\"M18.56 5.44l.94 2.06.94-2.06 2.06-.94-2.06-.94-.94-2.06-.94 2.06-2.06.94zm-11 1L8.5 8.5l.94-2.06 2.06-.94-2.06-.94L8.5 2.5l-.94 2.06-2.06.94zm10 10l.94 2.06.94-2.06 2.06-.94-2.06-.94-.94-2.06-.94 2.06-2.06.94z\"/><path d=\"M17.41 7.96l-1.37-1.37c-.4-.4-.92-.59-1.43-.59-.52 0-1.04.2-1.43.59L10.3 9.45l-7.72 7.72c-.78.78-.78 2.05 0 2.83L4 21.41c.39.39.9.59 1.41.59.51 0 1.02-.2 1.41-.59l7.78-7.78 2.81-2.81c.8-.78.8-2.07 0-2.86zM5.41 20L4 18.59l7.72-7.72 1.47 1.35L5.41 20z\"/>\n",
              "  </svg>\n",
              "      </button>\n",
              "      \n",
              "  <style>\n",
              "    .colab-df-container {\n",
              "      display:flex;\n",
              "      flex-wrap:wrap;\n",
              "      gap: 12px;\n",
              "    }\n",
              "\n",
              "    .colab-df-convert {\n",
              "      background-color: #E8F0FE;\n",
              "      border: none;\n",
              "      border-radius: 50%;\n",
              "      cursor: pointer;\n",
              "      display: none;\n",
              "      fill: #1967D2;\n",
              "      height: 32px;\n",
              "      padding: 0 0 0 0;\n",
              "      width: 32px;\n",
              "    }\n",
              "\n",
              "    .colab-df-convert:hover {\n",
              "      background-color: #E2EBFA;\n",
              "      box-shadow: 0px 1px 2px rgba(60, 64, 67, 0.3), 0px 1px 3px 1px rgba(60, 64, 67, 0.15);\n",
              "      fill: #174EA6;\n",
              "    }\n",
              "\n",
              "    [theme=dark] .colab-df-convert {\n",
              "      background-color: #3B4455;\n",
              "      fill: #D2E3FC;\n",
              "    }\n",
              "\n",
              "    [theme=dark] .colab-df-convert:hover {\n",
              "      background-color: #434B5C;\n",
              "      box-shadow: 0px 1px 3px 1px rgba(0, 0, 0, 0.15);\n",
              "      filter: drop-shadow(0px 1px 2px rgba(0, 0, 0, 0.3));\n",
              "      fill: #FFFFFF;\n",
              "    }\n",
              "  </style>\n",
              "\n",
              "      <script>\n",
              "        const buttonEl =\n",
              "          document.querySelector('#df-64b44566-e25f-4d4e-a09d-a7e3ada70e6d button.colab-df-convert');\n",
              "        buttonEl.style.display =\n",
              "          google.colab.kernel.accessAllowed ? 'block' : 'none';\n",
              "\n",
              "        async function convertToInteractive(key) {\n",
              "          const element = document.querySelector('#df-64b44566-e25f-4d4e-a09d-a7e3ada70e6d');\n",
              "          const dataTable =\n",
              "            await google.colab.kernel.invokeFunction('convertToInteractive',\n",
              "                                                     [key], {});\n",
              "          if (!dataTable) return;\n",
              "\n",
              "          const docLinkHtml = 'Like what you see? Visit the ' +\n",
              "            '<a target=\"_blank\" href=https://colab.research.google.com/notebooks/data_table.ipynb>data table notebook</a>'\n",
              "            + ' to learn more about interactive tables.';\n",
              "          element.innerHTML = '';\n",
              "          dataTable['output_type'] = 'display_data';\n",
              "          await google.colab.output.renderOutput(dataTable, element);\n",
              "          const docLink = document.createElement('div');\n",
              "          docLink.innerHTML = docLinkHtml;\n",
              "          element.appendChild(docLink);\n",
              "        }\n",
              "      </script>\n",
              "    </div>\n",
              "  </div>\n",
              "  "
            ]
          },
          "metadata": {},
          "execution_count": 65
        }
      ]
    },
    {
      "cell_type": "code",
      "source": [
        "# Add some additional samples for class 6.\n",
        "sport_data_classification_A.loc[len(sport_data_classification_A.index)] = [68, 179, 0, 33, 3.0, 4, 3, 0, 1, 1, 1, 1, 0, 6] \n",
        "sport_data_classification_A.loc[len(sport_data_classification_A.index)] = [71, 166, 1, 25, 2.0, 2, 3, 2, 2, 2, 2, 1, 0, 6]\n",
        "sport_data_classification_A.loc[len(sport_data_classification_A.index)] = [70, 175, 0, 36, 5.0, 3, 3, 1, 0, 0, 1, 0, 1, 6]\n",
        "sport_data_classification_A.loc[len(sport_data_classification_A.index)] = [62, 153, 1, 23, 1.0, 0, 3, 2, 2, 0, 2, 1, 1, 6]"
      ],
      "metadata": {
        "id": "PmkCzsf58YII"
      },
      "execution_count": 66,
      "outputs": []
    },
    {
      "cell_type": "code",
      "source": [
        "# Print the samples for class 4\n",
        "sport_data_classification_A.loc[sport_data_classification_A['Page'] == 4]"
      ],
      "metadata": {
        "id": "EBoUehpz8d8G",
        "outputId": "40c516b1-4466-4cf8-8b03-c6d02f41807c",
        "colab": {
          "base_uri": "https://localhost:8080/",
          "height": 287
        }
      },
      "execution_count": 67,
      "outputs": [
        {
          "output_type": "execute_result",
          "data": {
            "text/plain": [
              "    Weight  Height  Gender   Age  Experience  Symptom area  Pain intensity  \\\n",
              "6     80.0   183.0     0.0  46.0         5.0           2.0             1.0   \n",
              "9     56.0   170.0     1.0  50.0        20.0           3.0             1.0   \n",
              "16    54.0   175.0     1.0  58.0         4.0           1.0             1.0   \n",
              "29    87.0   181.0     0.0  29.0        13.0           2.0             1.0   \n",
              "78    71.0   180.0     1.0  23.0         0.0           1.0             1.0   \n",
              "\n",
              "    Irritability(WHEN)  Irritability(DURATION)  Irritability(INTENSITY)  \\\n",
              "6                  1.0                     1.0                      2.0   \n",
              "9                  0.0                     2.0                      2.0   \n",
              "16                 1.0                     0.0                      0.0   \n",
              "29                 2.0                     1.0                      2.0   \n",
              "78                 0.0                     2.0                      0.0   \n",
              "\n",
              "    Severity(RUNNING)  Severity(LIFE)  Severity(MOBILITY)  Page  \n",
              "6                 1.0             1.0                 1.0   4.0  \n",
              "9                 1.0             1.0                 1.0   4.0  \n",
              "16                1.0             1.0                 1.0   4.0  \n",
              "29                1.0             1.0                 1.0   4.0  \n",
              "78                1.0             1.0                 1.0   4.0  "
            ],
            "text/html": [
              "\n",
              "  <div id=\"df-8256077f-4c68-4085-a93c-09443e49c9e7\">\n",
              "    <div class=\"colab-df-container\">\n",
              "      <div>\n",
              "<style scoped>\n",
              "    .dataframe tbody tr th:only-of-type {\n",
              "        vertical-align: middle;\n",
              "    }\n",
              "\n",
              "    .dataframe tbody tr th {\n",
              "        vertical-align: top;\n",
              "    }\n",
              "\n",
              "    .dataframe thead th {\n",
              "        text-align: right;\n",
              "    }\n",
              "</style>\n",
              "<table border=\"1\" class=\"dataframe\">\n",
              "  <thead>\n",
              "    <tr style=\"text-align: right;\">\n",
              "      <th></th>\n",
              "      <th>Weight</th>\n",
              "      <th>Height</th>\n",
              "      <th>Gender</th>\n",
              "      <th>Age</th>\n",
              "      <th>Experience</th>\n",
              "      <th>Symptom area</th>\n",
              "      <th>Pain intensity</th>\n",
              "      <th>Irritability(WHEN)</th>\n",
              "      <th>Irritability(DURATION)</th>\n",
              "      <th>Irritability(INTENSITY)</th>\n",
              "      <th>Severity(RUNNING)</th>\n",
              "      <th>Severity(LIFE)</th>\n",
              "      <th>Severity(MOBILITY)</th>\n",
              "      <th>Page</th>\n",
              "    </tr>\n",
              "  </thead>\n",
              "  <tbody>\n",
              "    <tr>\n",
              "      <th>6</th>\n",
              "      <td>80.0</td>\n",
              "      <td>183.0</td>\n",
              "      <td>0.0</td>\n",
              "      <td>46.0</td>\n",
              "      <td>5.0</td>\n",
              "      <td>2.0</td>\n",
              "      <td>1.0</td>\n",
              "      <td>1.0</td>\n",
              "      <td>1.0</td>\n",
              "      <td>2.0</td>\n",
              "      <td>1.0</td>\n",
              "      <td>1.0</td>\n",
              "      <td>1.0</td>\n",
              "      <td>4.0</td>\n",
              "    </tr>\n",
              "    <tr>\n",
              "      <th>9</th>\n",
              "      <td>56.0</td>\n",
              "      <td>170.0</td>\n",
              "      <td>1.0</td>\n",
              "      <td>50.0</td>\n",
              "      <td>20.0</td>\n",
              "      <td>3.0</td>\n",
              "      <td>1.0</td>\n",
              "      <td>0.0</td>\n",
              "      <td>2.0</td>\n",
              "      <td>2.0</td>\n",
              "      <td>1.0</td>\n",
              "      <td>1.0</td>\n",
              "      <td>1.0</td>\n",
              "      <td>4.0</td>\n",
              "    </tr>\n",
              "    <tr>\n",
              "      <th>16</th>\n",
              "      <td>54.0</td>\n",
              "      <td>175.0</td>\n",
              "      <td>1.0</td>\n",
              "      <td>58.0</td>\n",
              "      <td>4.0</td>\n",
              "      <td>1.0</td>\n",
              "      <td>1.0</td>\n",
              "      <td>1.0</td>\n",
              "      <td>0.0</td>\n",
              "      <td>0.0</td>\n",
              "      <td>1.0</td>\n",
              "      <td>1.0</td>\n",
              "      <td>1.0</td>\n",
              "      <td>4.0</td>\n",
              "    </tr>\n",
              "    <tr>\n",
              "      <th>29</th>\n",
              "      <td>87.0</td>\n",
              "      <td>181.0</td>\n",
              "      <td>0.0</td>\n",
              "      <td>29.0</td>\n",
              "      <td>13.0</td>\n",
              "      <td>2.0</td>\n",
              "      <td>1.0</td>\n",
              "      <td>2.0</td>\n",
              "      <td>1.0</td>\n",
              "      <td>2.0</td>\n",
              "      <td>1.0</td>\n",
              "      <td>1.0</td>\n",
              "      <td>1.0</td>\n",
              "      <td>4.0</td>\n",
              "    </tr>\n",
              "    <tr>\n",
              "      <th>78</th>\n",
              "      <td>71.0</td>\n",
              "      <td>180.0</td>\n",
              "      <td>1.0</td>\n",
              "      <td>23.0</td>\n",
              "      <td>0.0</td>\n",
              "      <td>1.0</td>\n",
              "      <td>1.0</td>\n",
              "      <td>0.0</td>\n",
              "      <td>2.0</td>\n",
              "      <td>0.0</td>\n",
              "      <td>1.0</td>\n",
              "      <td>1.0</td>\n",
              "      <td>1.0</td>\n",
              "      <td>4.0</td>\n",
              "    </tr>\n",
              "  </tbody>\n",
              "</table>\n",
              "</div>\n",
              "      <button class=\"colab-df-convert\" onclick=\"convertToInteractive('df-8256077f-4c68-4085-a93c-09443e49c9e7')\"\n",
              "              title=\"Convert this dataframe to an interactive table.\"\n",
              "              style=\"display:none;\">\n",
              "        \n",
              "  <svg xmlns=\"http://www.w3.org/2000/svg\" height=\"24px\"viewBox=\"0 0 24 24\"\n",
              "       width=\"24px\">\n",
              "    <path d=\"M0 0h24v24H0V0z\" fill=\"none\"/>\n",
              "    <path d=\"M18.56 5.44l.94 2.06.94-2.06 2.06-.94-2.06-.94-.94-2.06-.94 2.06-2.06.94zm-11 1L8.5 8.5l.94-2.06 2.06-.94-2.06-.94L8.5 2.5l-.94 2.06-2.06.94zm10 10l.94 2.06.94-2.06 2.06-.94-2.06-.94-.94-2.06-.94 2.06-2.06.94z\"/><path d=\"M17.41 7.96l-1.37-1.37c-.4-.4-.92-.59-1.43-.59-.52 0-1.04.2-1.43.59L10.3 9.45l-7.72 7.72c-.78.78-.78 2.05 0 2.83L4 21.41c.39.39.9.59 1.41.59.51 0 1.02-.2 1.41-.59l7.78-7.78 2.81-2.81c.8-.78.8-2.07 0-2.86zM5.41 20L4 18.59l7.72-7.72 1.47 1.35L5.41 20z\"/>\n",
              "  </svg>\n",
              "      </button>\n",
              "      \n",
              "  <style>\n",
              "    .colab-df-container {\n",
              "      display:flex;\n",
              "      flex-wrap:wrap;\n",
              "      gap: 12px;\n",
              "    }\n",
              "\n",
              "    .colab-df-convert {\n",
              "      background-color: #E8F0FE;\n",
              "      border: none;\n",
              "      border-radius: 50%;\n",
              "      cursor: pointer;\n",
              "      display: none;\n",
              "      fill: #1967D2;\n",
              "      height: 32px;\n",
              "      padding: 0 0 0 0;\n",
              "      width: 32px;\n",
              "    }\n",
              "\n",
              "    .colab-df-convert:hover {\n",
              "      background-color: #E2EBFA;\n",
              "      box-shadow: 0px 1px 2px rgba(60, 64, 67, 0.3), 0px 1px 3px 1px rgba(60, 64, 67, 0.15);\n",
              "      fill: #174EA6;\n",
              "    }\n",
              "\n",
              "    [theme=dark] .colab-df-convert {\n",
              "      background-color: #3B4455;\n",
              "      fill: #D2E3FC;\n",
              "    }\n",
              "\n",
              "    [theme=dark] .colab-df-convert:hover {\n",
              "      background-color: #434B5C;\n",
              "      box-shadow: 0px 1px 3px 1px rgba(0, 0, 0, 0.15);\n",
              "      filter: drop-shadow(0px 1px 2px rgba(0, 0, 0, 0.3));\n",
              "      fill: #FFFFFF;\n",
              "    }\n",
              "  </style>\n",
              "\n",
              "      <script>\n",
              "        const buttonEl =\n",
              "          document.querySelector('#df-8256077f-4c68-4085-a93c-09443e49c9e7 button.colab-df-convert');\n",
              "        buttonEl.style.display =\n",
              "          google.colab.kernel.accessAllowed ? 'block' : 'none';\n",
              "\n",
              "        async function convertToInteractive(key) {\n",
              "          const element = document.querySelector('#df-8256077f-4c68-4085-a93c-09443e49c9e7');\n",
              "          const dataTable =\n",
              "            await google.colab.kernel.invokeFunction('convertToInteractive',\n",
              "                                                     [key], {});\n",
              "          if (!dataTable) return;\n",
              "\n",
              "          const docLinkHtml = 'Like what you see? Visit the ' +\n",
              "            '<a target=\"_blank\" href=https://colab.research.google.com/notebooks/data_table.ipynb>data table notebook</a>'\n",
              "            + ' to learn more about interactive tables.';\n",
              "          element.innerHTML = '';\n",
              "          dataTable['output_type'] = 'display_data';\n",
              "          await google.colab.output.renderOutput(dataTable, element);\n",
              "          const docLink = document.createElement('div');\n",
              "          docLink.innerHTML = docLinkHtml;\n",
              "          element.appendChild(docLink);\n",
              "        }\n",
              "      </script>\n",
              "    </div>\n",
              "  </div>\n",
              "  "
            ]
          },
          "metadata": {},
          "execution_count": 67
        }
      ]
    },
    {
      "cell_type": "code",
      "source": [
        "# Add some additional samples for class 1.\n",
        "sport_data_classification_A.loc[len(sport_data_classification_A.index)] = [75, 180, 0, 30, 4.0, 3, 0, 1, 0, 1, 1, 1, 1, 4]"
      ],
      "metadata": {
        "id": "eTW9ODYs8h5l"
      },
      "execution_count": 68,
      "outputs": []
    },
    {
      "cell_type": "markdown",
      "source": [
        "## Dataset B\n",
        "(PAIN, IRRITABILITY, SEVERITY)"
      ],
      "metadata": {
        "id": "7kUSTboB7QuT"
      }
    },
    {
      "cell_type": "code",
      "source": [
        "data = {\n",
        "    'Weight': list(sport_data['Weight'][:]),\n",
        "    'height': list(sport_data['Height'][:]),\n",
        "    'Gender': list(sport_data['Gender'][:]),\n",
        "    'Age': list(sport_data['Age'][:]),\n",
        "    'Experience': list(sport_data['Experience'][:]),\n",
        "    'Symptom area': list(sport_data['Symptom area'][:]),\n",
        "    'PAIN': [],\n",
        "    'IRRITABILITY': [],\n",
        "    'SEVERITY': [],\n",
        "    'Page': list(sport_data['Page'][:]),\n",
        "}\n",
        "\n",
        "for row in range(sport_data.shape[0]):\n",
        "  factor_list = create_main_factor_list(sport_data.iloc[row], 6)\n",
        "  data['PAIN'].append(factor_list[0])\n",
        "  data['IRRITABILITY'].append(factor_list[1])\n",
        "  data['SEVERITY'].append(factor_list[2])\n",
        "\n",
        "\n",
        "# Create a new dataframe for classification\n",
        "sport_data_classification_B = pd.DataFrame(data=data)"
      ],
      "metadata": {
        "id": "J_tizIQ5lNHd"
      },
      "execution_count": 71,
      "outputs": []
    },
    {
      "cell_type": "code",
      "source": [
        "sport_data_classification_B.head()"
      ],
      "metadata": {
        "id": "2I00DOFT51GK",
        "outputId": "3cf58a66-ac90-4a97-a3f8-85d7aff9f8dd",
        "colab": {
          "base_uri": "https://localhost:8080/",
          "height": 206
        }
      },
      "execution_count": 72,
      "outputs": [
        {
          "output_type": "execute_result",
          "data": {
            "text/plain": [
              "   Weight  height  Gender  Age  Experience  Symptom area  PAIN  IRRITABILITY  \\\n",
              "0      84     176       0   45         3.0             0   0.0             2   \n",
              "1      85     176       0   45         4.0             4   0.0             2   \n",
              "2      25     154       1   45         5.0             2   1.0             1   \n",
              "3      55     176       0   38         9.0             2   2.0             1   \n",
              "4      56     170       1   51         2.0             1   1.0             1   \n",
              "\n",
              "   SEVERITY  Page  \n",
              "0         2     5  \n",
              "1         2     5  \n",
              "2         2     5  \n",
              "3         2     5  \n",
              "4         2     3  "
            ],
            "text/html": [
              "\n",
              "  <div id=\"df-21e5c57c-4cb1-4f87-b82c-0abef4e3c2d8\">\n",
              "    <div class=\"colab-df-container\">\n",
              "      <div>\n",
              "<style scoped>\n",
              "    .dataframe tbody tr th:only-of-type {\n",
              "        vertical-align: middle;\n",
              "    }\n",
              "\n",
              "    .dataframe tbody tr th {\n",
              "        vertical-align: top;\n",
              "    }\n",
              "\n",
              "    .dataframe thead th {\n",
              "        text-align: right;\n",
              "    }\n",
              "</style>\n",
              "<table border=\"1\" class=\"dataframe\">\n",
              "  <thead>\n",
              "    <tr style=\"text-align: right;\">\n",
              "      <th></th>\n",
              "      <th>Weight</th>\n",
              "      <th>height</th>\n",
              "      <th>Gender</th>\n",
              "      <th>Age</th>\n",
              "      <th>Experience</th>\n",
              "      <th>Symptom area</th>\n",
              "      <th>PAIN</th>\n",
              "      <th>IRRITABILITY</th>\n",
              "      <th>SEVERITY</th>\n",
              "      <th>Page</th>\n",
              "    </tr>\n",
              "  </thead>\n",
              "  <tbody>\n",
              "    <tr>\n",
              "      <th>0</th>\n",
              "      <td>84</td>\n",
              "      <td>176</td>\n",
              "      <td>0</td>\n",
              "      <td>45</td>\n",
              "      <td>3.0</td>\n",
              "      <td>0</td>\n",
              "      <td>0.0</td>\n",
              "      <td>2</td>\n",
              "      <td>2</td>\n",
              "      <td>5</td>\n",
              "    </tr>\n",
              "    <tr>\n",
              "      <th>1</th>\n",
              "      <td>85</td>\n",
              "      <td>176</td>\n",
              "      <td>0</td>\n",
              "      <td>45</td>\n",
              "      <td>4.0</td>\n",
              "      <td>4</td>\n",
              "      <td>0.0</td>\n",
              "      <td>2</td>\n",
              "      <td>2</td>\n",
              "      <td>5</td>\n",
              "    </tr>\n",
              "    <tr>\n",
              "      <th>2</th>\n",
              "      <td>25</td>\n",
              "      <td>154</td>\n",
              "      <td>1</td>\n",
              "      <td>45</td>\n",
              "      <td>5.0</td>\n",
              "      <td>2</td>\n",
              "      <td>1.0</td>\n",
              "      <td>1</td>\n",
              "      <td>2</td>\n",
              "      <td>5</td>\n",
              "    </tr>\n",
              "    <tr>\n",
              "      <th>3</th>\n",
              "      <td>55</td>\n",
              "      <td>176</td>\n",
              "      <td>0</td>\n",
              "      <td>38</td>\n",
              "      <td>9.0</td>\n",
              "      <td>2</td>\n",
              "      <td>2.0</td>\n",
              "      <td>1</td>\n",
              "      <td>2</td>\n",
              "      <td>5</td>\n",
              "    </tr>\n",
              "    <tr>\n",
              "      <th>4</th>\n",
              "      <td>56</td>\n",
              "      <td>170</td>\n",
              "      <td>1</td>\n",
              "      <td>51</td>\n",
              "      <td>2.0</td>\n",
              "      <td>1</td>\n",
              "      <td>1.0</td>\n",
              "      <td>1</td>\n",
              "      <td>2</td>\n",
              "      <td>3</td>\n",
              "    </tr>\n",
              "  </tbody>\n",
              "</table>\n",
              "</div>\n",
              "      <button class=\"colab-df-convert\" onclick=\"convertToInteractive('df-21e5c57c-4cb1-4f87-b82c-0abef4e3c2d8')\"\n",
              "              title=\"Convert this dataframe to an interactive table.\"\n",
              "              style=\"display:none;\">\n",
              "        \n",
              "  <svg xmlns=\"http://www.w3.org/2000/svg\" height=\"24px\"viewBox=\"0 0 24 24\"\n",
              "       width=\"24px\">\n",
              "    <path d=\"M0 0h24v24H0V0z\" fill=\"none\"/>\n",
              "    <path d=\"M18.56 5.44l.94 2.06.94-2.06 2.06-.94-2.06-.94-.94-2.06-.94 2.06-2.06.94zm-11 1L8.5 8.5l.94-2.06 2.06-.94-2.06-.94L8.5 2.5l-.94 2.06-2.06.94zm10 10l.94 2.06.94-2.06 2.06-.94-2.06-.94-.94-2.06-.94 2.06-2.06.94z\"/><path d=\"M17.41 7.96l-1.37-1.37c-.4-.4-.92-.59-1.43-.59-.52 0-1.04.2-1.43.59L10.3 9.45l-7.72 7.72c-.78.78-.78 2.05 0 2.83L4 21.41c.39.39.9.59 1.41.59.51 0 1.02-.2 1.41-.59l7.78-7.78 2.81-2.81c.8-.78.8-2.07 0-2.86zM5.41 20L4 18.59l7.72-7.72 1.47 1.35L5.41 20z\"/>\n",
              "  </svg>\n",
              "      </button>\n",
              "      \n",
              "  <style>\n",
              "    .colab-df-container {\n",
              "      display:flex;\n",
              "      flex-wrap:wrap;\n",
              "      gap: 12px;\n",
              "    }\n",
              "\n",
              "    .colab-df-convert {\n",
              "      background-color: #E8F0FE;\n",
              "      border: none;\n",
              "      border-radius: 50%;\n",
              "      cursor: pointer;\n",
              "      display: none;\n",
              "      fill: #1967D2;\n",
              "      height: 32px;\n",
              "      padding: 0 0 0 0;\n",
              "      width: 32px;\n",
              "    }\n",
              "\n",
              "    .colab-df-convert:hover {\n",
              "      background-color: #E2EBFA;\n",
              "      box-shadow: 0px 1px 2px rgba(60, 64, 67, 0.3), 0px 1px 3px 1px rgba(60, 64, 67, 0.15);\n",
              "      fill: #174EA6;\n",
              "    }\n",
              "\n",
              "    [theme=dark] .colab-df-convert {\n",
              "      background-color: #3B4455;\n",
              "      fill: #D2E3FC;\n",
              "    }\n",
              "\n",
              "    [theme=dark] .colab-df-convert:hover {\n",
              "      background-color: #434B5C;\n",
              "      box-shadow: 0px 1px 3px 1px rgba(0, 0, 0, 0.15);\n",
              "      filter: drop-shadow(0px 1px 2px rgba(0, 0, 0, 0.3));\n",
              "      fill: #FFFFFF;\n",
              "    }\n",
              "  </style>\n",
              "\n",
              "      <script>\n",
              "        const buttonEl =\n",
              "          document.querySelector('#df-21e5c57c-4cb1-4f87-b82c-0abef4e3c2d8 button.colab-df-convert');\n",
              "        buttonEl.style.display =\n",
              "          google.colab.kernel.accessAllowed ? 'block' : 'none';\n",
              "\n",
              "        async function convertToInteractive(key) {\n",
              "          const element = document.querySelector('#df-21e5c57c-4cb1-4f87-b82c-0abef4e3c2d8');\n",
              "          const dataTable =\n",
              "            await google.colab.kernel.invokeFunction('convertToInteractive',\n",
              "                                                     [key], {});\n",
              "          if (!dataTable) return;\n",
              "\n",
              "          const docLinkHtml = 'Like what you see? Visit the ' +\n",
              "            '<a target=\"_blank\" href=https://colab.research.google.com/notebooks/data_table.ipynb>data table notebook</a>'\n",
              "            + ' to learn more about interactive tables.';\n",
              "          element.innerHTML = '';\n",
              "          dataTable['output_type'] = 'display_data';\n",
              "          await google.colab.output.renderOutput(dataTable, element);\n",
              "          const docLink = document.createElement('div');\n",
              "          docLink.innerHTML = docLinkHtml;\n",
              "          element.appendChild(docLink);\n",
              "        }\n",
              "      </script>\n",
              "    </div>\n",
              "  </div>\n",
              "  "
            ]
          },
          "metadata": {},
          "execution_count": 72
        }
      ]
    },
    {
      "cell_type": "code",
      "source": [
        "data = {\n",
        "    'Weight': list(sport_data_classification_A['Weight'][:]),\n",
        "    'height': list(sport_data_classification_A['Height'][:]),\n",
        "    'Gender': list(sport_data_classification_A['Gender'][:]),\n",
        "    'Age': list(sport_data_classification_A['Age'][:]),\n",
        "    'Experience': list(sport_data_classification_A['Experience'][:]),\n",
        "    'Symptom area': list(sport_data_classification_A['Symptom area'][:]),\n",
        "    'PAIN': [],\n",
        "    'IRRITABILITY': [],\n",
        "    'SEVERITY': [],\n",
        "    'Page': list(sport_data_classification_A['Page'][:]),\n",
        "}\n",
        "\n",
        "for row in range(sport_data_classification_A.shape[0]):\n",
        "  factor_list = create_main_factor_list(sport_data_classification_A.iloc[row])\n",
        "  data['PAIN'].append(factor_list[0])\n",
        "  data['IRRITABILITY'].append(factor_list[1])\n",
        "  data['SEVERITY'].append(factor_list[2])\n",
        "\n",
        "\n",
        "# Create a new dataframe for classification\n",
        "sport_data_classification_B_resampled = pd.DataFrame(data=data)"
      ],
      "metadata": {
        "id": "lnYIOq0iAOkG"
      },
      "execution_count": 73,
      "outputs": []
    },
    {
      "cell_type": "code",
      "source": [
        "sport_data_classification_B.info()"
      ],
      "metadata": {
        "id": "KuStDcSVctXz",
        "outputId": "68e114fa-c5f5-4507-9c55-eb8645bc734d",
        "colab": {
          "base_uri": "https://localhost:8080/"
        }
      },
      "execution_count": null,
      "outputs": [
        {
          "output_type": "stream",
          "name": "stdout",
          "text": [
            "<class 'pandas.core.frame.DataFrame'>\n",
            "RangeIndex: 84 entries, 0 to 83\n",
            "Data columns (total 11 columns):\n",
            " #   Column                      Non-Null Count  Dtype  \n",
            "---  ------                      --------------  -----  \n",
            " 0   Weight                      84 non-null     int64  \n",
            " 1   height                      84 non-null     int64  \n",
            " 2   Gender                      84 non-null     object \n",
            " 3   Age                         84 non-null     int64  \n",
            " 4   Experience                  81 non-null     float64\n",
            " 5   Musculoskeletal discomfort  83 non-null     object \n",
            " 6   Symptom area                84 non-null     int64  \n",
            " 7   PAIN                        84 non-null     int64  \n",
            " 8   IRRITABILITY                84 non-null     int64  \n",
            " 9   SEVERITY                    84 non-null     int64  \n",
            " 10  Page                        84 non-null     int64  \n",
            "dtypes: float64(1), int64(8), object(2)\n",
            "memory usage: 7.3+ KB\n"
          ]
        }
      ]
    },
    {
      "cell_type": "markdown",
      "source": [
        "# Classification"
      ],
      "metadata": {
        "id": "pv3xiC54iJd2"
      }
    },
    {
      "cell_type": "markdown",
      "source": [
        "## Classification Helper Functions"
      ],
      "metadata": {
        "id": "pgXJzFeBE2Xx"
      }
    },
    {
      "cell_type": "code",
      "source": [
        "def show_decision_tree_classifier(model, features):\n",
        "  dot_data = StringIO()\n",
        "  export_graphviz(model, \n",
        "                  out_file=dot_data,  \n",
        "                  filled=True, \n",
        "                  rounded=True,\n",
        "                  special_characters=True,\n",
        "                  feature_names=features,\n",
        "                  class_names=['1', '2', '3', '4', '5', '6'])\n",
        "\n",
        "  graph = pydotplus.graph_from_dot_data(dot_data.getvalue())  \n",
        "  graph.write_png('DecisionTree.png')\n",
        "\n",
        "  return graph\n"
      ],
      "metadata": {
        "id": "X4XLRp1_E7AV"
      },
      "execution_count": 25,
      "outputs": []
    },
    {
      "cell_type": "code",
      "source": [
        "def create_clusters(labels, dataframe):\n",
        "  clusters = [[] for _ in range(len(np.unique(labels)))]\n",
        "  \n",
        "  for label_index in range(len(labels)):\n",
        "    clusters[labels[label_index]].append(dataframe.iloc[label_index]['Age'])\n",
        "  \n",
        "  return clusters"
      ],
      "metadata": {
        "id": "D4aUeR3b2Un1"
      },
      "execution_count": 26,
      "outputs": []
    },
    {
      "cell_type": "markdown",
      "source": [
        "## Decision Trees\n"
      ],
      "metadata": {
        "id": "GvbwcQRxW3Ny"
      }
    },
    {
      "cell_type": "markdown",
      "source": [
        "Scikit-learn uses an optimized version of the CART algorithm and the implementation does not support categorical variables.\n",
        "\n",
        "CART (Classification and Regression Trees) is very similar to C4.5, but it differs in that it supports numerical target variables (regression) and does not compute rule sets. CART constructs binary trees using the feature and threshold that yield the largest information gain at each node.\n",
        "\n",
        "C4.5 is the successor to ID3 and removed the restriction that features must be categorical by dynamically defining a discrete attribute (based on numerical variables) that partitions the continuous attribute value into a discrete set of intervals. C4.5 converts the trained trees (i.e. the output of the ID3 algorithm) into sets of if-then rules. The accuracy of each rule is then evaluated to determine the order in which they should be applied. Pruning is done by removing a rule's precondition if the accuracy of the rule improves without it.\n",
        "\n",
        "ID3 (Iterative Dichotomiser 3) was developed in 1986 by Ross Quinlan. The algorithm creates a multiway tree, finding for each node (i.e. in a greedy manner) the categorical feature that will yield the largest information gain for categorical targets. Trees are grown to their maximum size and then a pruning step is usually applied to improve the ability of the tree to generalize to unseen data."
      ],
      "metadata": {
        "id": "H3xo4zGpcgPT"
      }
    },
    {
      "cell_type": "markdown",
      "source": [
        "### Decision Tree Classifier 1\n",
        "\n",
        "Decision tree classifier for three features of the dataset.  \n",
        "\n",
        "- PAIN\n",
        "- IRRITABILITY\n",
        "- SEVERITY\n",
        "\n",
        "We test the classifier for a predefined splitting percentage value. \n",
        "\n"
      ],
      "metadata": {
        "id": "YbpngFQ4_Afo"
      }
    },
    {
      "cell_type": "code",
      "source": [
        "classification_data = sport_data_classification[['PAIN', 'IRRITABILITY', 'SEVERITY', 'Page']]"
      ],
      "metadata": {
        "id": "3MbC6UZyiN0-"
      },
      "execution_count": null,
      "outputs": []
    },
    {
      "cell_type": "code",
      "source": [
        "classification_data.to_csv('sport_data_classification.csv')"
      ],
      "metadata": {
        "id": "AK26114Mvl3F"
      },
      "execution_count": null,
      "outputs": []
    },
    {
      "cell_type": "code",
      "source": [
        "# Show the class imbalance between injury categories\n",
        "classification_data.pivot_table(index='Page', aggfunc='size')"
      ],
      "metadata": {
        "id": "6JV5NgpfQFxV",
        "outputId": "40857f36-b6f0-4bfb-ba05-67adac4e61ad",
        "colab": {
          "base_uri": "https://localhost:8080/"
        }
      },
      "execution_count": null,
      "outputs": [
        {
          "output_type": "execute_result",
          "data": {
            "text/plain": [
              "Page\n",
              "1     2\n",
              "2    18\n",
              "3    12\n",
              "4     5\n",
              "5    45\n",
              "6     2\n",
              "dtype: int64"
            ]
          },
          "metadata": {},
          "execution_count": 84
        }
      ]
    },
    {
      "cell_type": "code",
      "source": [
        "# Split dataset into training set and test set. Stratified sampling will force the same class balance on the train and test dataset as the original data.\n",
        "train, test = train_test_split(classification_data, test_size=0.30, random_state=1, stratify=classification_data.Page)"
      ],
      "metadata": {
        "id": "ngYHmdbz7nHI"
      },
      "execution_count": null,
      "outputs": []
    },
    {
      "cell_type": "code",
      "source": [
        "train.pivot_table(index='Page', aggfunc='size')"
      ],
      "metadata": {
        "id": "f2DGpQftR4Hz",
        "outputId": "daf0d837-c856-44b6-d691-d4a7ffa275f7",
        "colab": {
          "base_uri": "https://localhost:8080/"
        }
      },
      "execution_count": null,
      "outputs": [
        {
          "output_type": "execute_result",
          "data": {
            "text/plain": [
              "Page\n",
              "1     1\n",
              "2    13\n",
              "3     8\n",
              "4     4\n",
              "5    31\n",
              "6     1\n",
              "dtype: int64"
            ]
          },
          "metadata": {},
          "execution_count": 86
        }
      ]
    },
    {
      "cell_type": "code",
      "source": [
        "test.pivot_table(index='Page', aggfunc='size')"
      ],
      "metadata": {
        "id": "A8netn2gSKct",
        "outputId": "32a8b449-04d0-4623-d1a6-5a45c3327fa8",
        "colab": {
          "base_uri": "https://localhost:8080/"
        }
      },
      "execution_count": null,
      "outputs": [
        {
          "output_type": "execute_result",
          "data": {
            "text/plain": [
              "Page\n",
              "1     1\n",
              "2     5\n",
              "3     4\n",
              "4     1\n",
              "5    14\n",
              "6     1\n",
              "dtype: int64"
            ]
          },
          "metadata": {},
          "execution_count": 87
        }
      ]
    },
    {
      "cell_type": "code",
      "source": [
        "# Create Decision Tree classifer object\n",
        "clf = DecisionTreeClassifier()\n",
        "\n",
        "# Train Decision Tree Classifer\n",
        "clf = clf.fit(train[['PAIN', 'IRRITABILITY', 'SEVERITY']], train['Page'])\n",
        "\n",
        "# Predict the response for test dataset\n",
        "y_pred = clf.predict(test[['PAIN', 'IRRITABILITY', 'SEVERITY']])"
      ],
      "metadata": {
        "id": "LYRsqre69l1c"
      },
      "execution_count": null,
      "outputs": []
    },
    {
      "cell_type": "code",
      "source": [
        "print(classification_report(test['Page'], y_pred, zero_division=0))"
      ],
      "metadata": {
        "id": "dNJMpCUI9ys8",
        "outputId": "83b4bb7b-bb16-4e59-9e1c-873d709612dc",
        "colab": {
          "base_uri": "https://localhost:8080/"
        }
      },
      "execution_count": null,
      "outputs": [
        {
          "output_type": "stream",
          "name": "stdout",
          "text": [
            "              precision    recall  f1-score   support\n",
            "\n",
            "           1       1.00      1.00      1.00         1\n",
            "           2       1.00      1.00      1.00         5\n",
            "           3       1.00      1.00      1.00         4\n",
            "           4       1.00      1.00      1.00         1\n",
            "           5       0.93      1.00      0.97        14\n",
            "           6       0.00      0.00      0.00         1\n",
            "\n",
            "    accuracy                           0.96        26\n",
            "   macro avg       0.82      0.83      0.83        26\n",
            "weighted avg       0.93      0.96      0.94        26\n",
            "\n"
          ]
        }
      ]
    },
    {
      "cell_type": "markdown",
      "source": [
        "#### Classification with SMOTE"
      ],
      "metadata": {
        "id": "aBhvOGZNUunY"
      }
    },
    {
      "cell_type": "code",
      "source": [
        "k_neighbors = [1, 4, 5]\n",
        "sampling_strategy = [{1: 45, 6:45}, {4: 45}, 'auto']\n",
        "\n",
        "new_classification_data = classification_data.copy()\n",
        "for i in range(3):\n",
        "  classification_data_resampled = SMOTE(k_neighbors=k_neighbors[i], sampling_strategy=sampling_strategy[i]).fit_resample(new_classification_data[['PAIN', 'IRRITABILITY', 'SEVERITY']], new_classification_data['Page'])\n",
        "  new_classification_data = classification_data_resampled[0]\n",
        "  new_classification_data['Page'] = classification_data_resampled[1].to_numpy()\n"
      ],
      "metadata": {
        "id": "y1FJVzjWnOxS"
      },
      "execution_count": null,
      "outputs": []
    },
    {
      "cell_type": "code",
      "source": [
        "new_classification_data.pivot_table(index='Page', aggfunc='size')"
      ],
      "metadata": {
        "id": "uEX2_T60qrHE",
        "outputId": "27ff7cc8-e898-46c4-f68b-f3f6c5f59949",
        "colab": {
          "base_uri": "https://localhost:8080/"
        }
      },
      "execution_count": null,
      "outputs": [
        {
          "output_type": "execute_result",
          "data": {
            "text/plain": [
              "Page\n",
              "1    45\n",
              "2    45\n",
              "3    45\n",
              "4    45\n",
              "5    45\n",
              "6    45\n",
              "dtype: int64"
            ]
          },
          "metadata": {},
          "execution_count": 92
        }
      ]
    },
    {
      "cell_type": "code",
      "source": [
        "# Check for misclassified samples\n",
        "for sample_row in range(new_classification_data.shape[0]):\n",
        "  page = classify_sample(new_classification_data.iloc[sample_row], 0)\n",
        "  if new_classification_data.iloc[sample_row]['Page'] != page:\n",
        "    print(f'Misclassified Sample: {sample_row}')"
      ],
      "metadata": {
        "id": "xU63m1Tpqzmj"
      },
      "execution_count": null,
      "outputs": []
    },
    {
      "cell_type": "code",
      "source": [
        "# Print all unique value combinations of new_classification_data\n",
        "np.unique(new_classification_data.to_numpy(), axis=0)"
      ],
      "metadata": {
        "id": "AJc8cU_rrH6D",
        "outputId": "533a1e28-6816-48eb-f8c9-c46faaa6944c",
        "colab": {
          "base_uri": "https://localhost:8080/"
        }
      },
      "execution_count": null,
      "outputs": [
        {
          "output_type": "execute_result",
          "data": {
            "text/plain": [
              "array([[0, 0, 0, 1],\n",
              "       [0, 0, 2, 5],\n",
              "       [0, 1, 0, 2],\n",
              "       [0, 1, 2, 5],\n",
              "       [0, 2, 2, 5],\n",
              "       [1, 0, 0, 3],\n",
              "       [1, 1, 0, 3],\n",
              "       [1, 1, 1, 4],\n",
              "       [1, 1, 2, 5],\n",
              "       [1, 2, 0, 5],\n",
              "       [2, 1, 0, 5],\n",
              "       [2, 1, 2, 5],\n",
              "       [2, 2, 2, 5],\n",
              "       [3, 1, 1, 6],\n",
              "       [3, 1, 2, 6]])"
            ]
          },
          "metadata": {},
          "execution_count": 94
        }
      ]
    },
    {
      "cell_type": "code",
      "source": [
        "# Print all value combinations of classification_data(original)\n",
        "np.unique(classification_data.to_numpy(), axis=0)"
      ],
      "metadata": {
        "id": "F8PP2bPZrMSD",
        "outputId": "55f7a44f-7c7c-46bc-e001-1847dac7398f",
        "colab": {
          "base_uri": "https://localhost:8080/"
        }
      },
      "execution_count": null,
      "outputs": [
        {
          "output_type": "execute_result",
          "data": {
            "text/plain": [
              "array([[0, 0, 0, 1],\n",
              "       [0, 0, 2, 5],\n",
              "       [0, 1, 0, 2],\n",
              "       [0, 1, 2, 5],\n",
              "       [0, 2, 2, 5],\n",
              "       [1, 0, 0, 3],\n",
              "       [1, 1, 0, 3],\n",
              "       [1, 1, 1, 4],\n",
              "       [1, 1, 2, 5],\n",
              "       [1, 2, 0, 5],\n",
              "       [2, 1, 0, 5],\n",
              "       [2, 1, 2, 5],\n",
              "       [2, 2, 2, 5],\n",
              "       [3, 1, 1, 6],\n",
              "       [3, 1, 2, 6]])"
            ]
          },
          "metadata": {},
          "execution_count": 95
        }
      ]
    },
    {
      "cell_type": "code",
      "source": [
        "# Check if there are any identical combinations between the two classifications\n",
        "unique_samples = np.unique(new_classification_data.to_numpy(), axis=0).shape[0]\n",
        "identical_samples = 0\n",
        "for new_sample in np.unique(new_classification_data.to_numpy(), axis=0):\n",
        "  for original_sample in np.unique(classification_data.to_numpy(), axis=0):\n",
        "    if (new_sample == original_sample).all():\n",
        "      identical_samples += 1\n",
        "      break\n",
        "      \n",
        "print(f'Unique samples in new classification data: {unique_samples}. Identical samples: {identical_samples}')"
      ],
      "metadata": {
        "id": "XHcVQsNBrPC9"
      },
      "execution_count": null,
      "outputs": []
    },
    {
      "cell_type": "code",
      "source": [
        "train, test = train_test_split(new_classification_data, test_size=0.30, random_state=1, stratify=new_classification_data.Page)"
      ],
      "metadata": {
        "id": "Gcj6k_vtrtCa"
      },
      "execution_count": null,
      "outputs": []
    },
    {
      "cell_type": "code",
      "source": [
        "# Create Decision Tree classifer object\n",
        "clf = DecisionTreeClassifier()\n",
        "\n",
        "# Train Decision Tree Classifer\n",
        "clf = clf.fit(train[['PAIN', 'IRRITABILITY', 'SEVERITY']], train['Page'])\n",
        "\n",
        "# Predict the response for test dataset\n",
        "y_pred = clf.predict(test[['PAIN', 'IRRITABILITY', 'SEVERITY']])"
      ],
      "metadata": {
        "id": "3bOAzTKhrxBz"
      },
      "execution_count": null,
      "outputs": []
    },
    {
      "cell_type": "code",
      "source": [
        "print(classification_report(test['Page'], y_pred, zero_division=0))"
      ],
      "metadata": {
        "id": "mjTabx82r47j",
        "outputId": "fbdca148-198c-4c01-d1e9-ab41361cc514",
        "colab": {
          "base_uri": "https://localhost:8080/"
        }
      },
      "execution_count": null,
      "outputs": [
        {
          "output_type": "stream",
          "name": "stdout",
          "text": [
            "              precision    recall  f1-score   support\n",
            "\n",
            "           1       1.00      1.00      1.00        14\n",
            "           2       1.00      1.00      1.00        13\n",
            "           3       1.00      1.00      1.00        13\n",
            "           4       1.00      1.00      1.00        14\n",
            "           5       1.00      1.00      1.00        13\n",
            "           6       1.00      1.00      1.00        14\n",
            "\n",
            "    accuracy                           1.00        81\n",
            "   macro avg       1.00      1.00      1.00        81\n",
            "weighted avg       1.00      1.00      1.00        81\n",
            "\n"
          ]
        }
      ]
    },
    {
      "cell_type": "code",
      "source": [
        "Image(show_decision_tree_classifier(clf, ['PAIN', 'IRRITABILITY', 'SEVERITY']).create_png())"
      ],
      "metadata": {
        "id": "6IZGAlPF97xj",
        "outputId": "479ef0a4-1b9e-40d3-c081-da1e275d1dbd",
        "colab": {
          "base_uri": "https://localhost:8080/",
          "height": 878
        }
      },
      "execution_count": null,
      "outputs": [
        {
          "output_type": "execute_result",
          "data": {
            "image/png": "[encoded data removed]",
            "text/plain": [
              "<IPython.core.display.Image object>"
            ]
          },
          "metadata": {},
          "execution_count": 22
        }
      ]
    },
    {
      "cell_type": "markdown",
      "source": [
        "### Decision Tree Classifier 2\n",
        "Decision tree classifier for five features of the dataset.  \n",
        "\n",
        "- Age\n",
        "- Symptom Area\n",
        "- PAIN\n",
        "- IRRITABILITY\n",
        "- SEVERITY\n",
        "\n",
        "We test the classifier for a predefined splitting percentage value."
      ],
      "metadata": {
        "id": "6ViDTOCXVyki"
      }
    },
    {
      "cell_type": "code",
      "source": [
        "classification_data = sport_data_classification[['Age', 'Symptom area', 'PAIN', 'IRRITABILITY', 'SEVERITY', 'Page']]"
      ],
      "metadata": {
        "id": "JxXc7qMKV_B7"
      },
      "execution_count": null,
      "outputs": []
    },
    {
      "cell_type": "code",
      "source": [
        "sorted_ages = np.sort(np.array(list(classification_data['Age'])))\n",
        "print(sorted_ages)"
      ],
      "metadata": {
        "id": "0QMReEoylg71",
        "outputId": "fbeb5a25-ef90-4cce-dece-32ce473faf92",
        "colab": {
          "base_uri": "https://localhost:8080/"
        }
      },
      "execution_count": null,
      "outputs": [
        {
          "output_type": "stream",
          "name": "stdout",
          "text": [
            "[16 17 19 21 21 23 23 25 25 25 25 25 25 25 26 29 32 33 34 37 38 38 39 40\n",
            " 41 41 42 44 44 44 45 45 45 45 45 45 45 45 45 45 45 45 45 46 46 46 46 46\n",
            " 46 46 46 48 48 48 48 49 50 50 50 50 50 50 50 50 51 51 51 52 53 54 55 55\n",
            " 55 56 56 57 58 58 58 60 60 60 61 65]\n"
          ]
        }
      ]
    },
    {
      "cell_type": "markdown",
      "source": [
        "#### Clustering"
      ],
      "metadata": {
        "id": "KAcs1ngHx0QK"
      }
    },
    {
      "cell_type": "markdown",
      "source": [
        "The maximum age in the dataset is 65, the minimum is 16, and there are 84 samples. In order to acquire a high accuracy classification model, the values of the \"Age\" feature must be grouped. Clustering methods can help with this particular task. Before clustering, the optimal number of clusters must be found. Therefore, the Elbow method is used. To use the elbow method, the maximum and minimum number of clusters must be defined. The minimum number of clusters will be 2, and the maximum will be 49(65 - 16) due to the fact that each age can have a unique cluster accosiated with it."
      ],
      "metadata": {
        "id": "R5NFazXfx6vJ"
      }
    },
    {
      "cell_type": "code",
      "source": [
        "cluster_data = np.array(list(classification_data['Age']))\n",
        "cluster_data = np.reshape(cluster_data, (cluster_data.shape[0], 1))"
      ],
      "metadata": {
        "id": "CIoQoDZZzdTe"
      },
      "execution_count": null,
      "outputs": []
    },
    {
      "cell_type": "code",
      "source": [
        "print(\"Max Age: {max_age}\".format(max_age = max(list(classification_data['Age']))))\n",
        "print(\"Min Age: {min_age}\".format(min_age = min(list(classification_data['Age']))))"
      ],
      "metadata": {
        "id": "m_JKQi5_zus8",
        "outputId": "e02fa5b6-b333-46b6-960d-e9d631b42940",
        "colab": {
          "base_uri": "https://localhost:8080/"
        }
      },
      "execution_count": null,
      "outputs": [
        {
          "output_type": "stream",
          "name": "stdout",
          "text": [
            "Max Age: 65\n",
            "Min Age: 16\n"
          ]
        }
      ]
    },
    {
      "cell_type": "code",
      "source": [
        "# Apply the elbow method\n",
        "kmeans_elbow_method = KMeans(init='k-means++', n_init=10)\n",
        "kmeans_elbow_visualizer = KElbowVisualizer(kmeans_elbow_method, k=(2, 49))\n",
        "\n",
        "kmeans_elbow_visualizer.fit(cluster_data)\n",
        "kmeans_elbow_visualizer.show()"
      ],
      "metadata": {
        "id": "jvOg9MpZzOqk",
        "outputId": "8931eda0-a812-4e85-cca6-5a48eb52df67",
        "colab": {
          "base_uri": "https://localhost:8080/",
          "height": 1000
        }
      },
      "execution_count": null,
      "outputs": [
        {
          "output_type": "stream",
          "name": "stderr",
          "text": [
            "/usr/local/lib/python3.10/dist-packages/yellowbrick/cluster/elbow.py:339: ConvergenceWarning: Number of distinct clusters (34) found smaller than n_clusters (35). Possibly due to duplicate points in X.\n",
            "  self.estimator.fit(X, **kwargs)\n",
            "/usr/local/lib/python3.10/dist-packages/yellowbrick/cluster/elbow.py:339: ConvergenceWarning: Number of distinct clusters (34) found smaller than n_clusters (36). Possibly due to duplicate points in X.\n",
            "  self.estimator.fit(X, **kwargs)\n",
            "/usr/local/lib/python3.10/dist-packages/yellowbrick/cluster/elbow.py:339: ConvergenceWarning: Number of distinct clusters (34) found smaller than n_clusters (37). Possibly due to duplicate points in X.\n",
            "  self.estimator.fit(X, **kwargs)\n",
            "/usr/local/lib/python3.10/dist-packages/yellowbrick/cluster/elbow.py:339: ConvergenceWarning: Number of distinct clusters (34) found smaller than n_clusters (38). Possibly due to duplicate points in X.\n",
            "  self.estimator.fit(X, **kwargs)\n",
            "/usr/local/lib/python3.10/dist-packages/yellowbrick/cluster/elbow.py:339: ConvergenceWarning: Number of distinct clusters (34) found smaller than n_clusters (39). Possibly due to duplicate points in X.\n",
            "  self.estimator.fit(X, **kwargs)\n",
            "/usr/local/lib/python3.10/dist-packages/yellowbrick/cluster/elbow.py:339: ConvergenceWarning: Number of distinct clusters (34) found smaller than n_clusters (40). Possibly due to duplicate points in X.\n",
            "  self.estimator.fit(X, **kwargs)\n",
            "/usr/local/lib/python3.10/dist-packages/yellowbrick/cluster/elbow.py:339: ConvergenceWarning: Number of distinct clusters (34) found smaller than n_clusters (41). Possibly due to duplicate points in X.\n",
            "  self.estimator.fit(X, **kwargs)\n",
            "/usr/local/lib/python3.10/dist-packages/yellowbrick/cluster/elbow.py:339: ConvergenceWarning: Number of distinct clusters (34) found smaller than n_clusters (42). Possibly due to duplicate points in X.\n",
            "  self.estimator.fit(X, **kwargs)\n",
            "/usr/local/lib/python3.10/dist-packages/yellowbrick/cluster/elbow.py:339: ConvergenceWarning: Number of distinct clusters (34) found smaller than n_clusters (43). Possibly due to duplicate points in X.\n",
            "  self.estimator.fit(X, **kwargs)\n",
            "/usr/local/lib/python3.10/dist-packages/yellowbrick/cluster/elbow.py:339: ConvergenceWarning: Number of distinct clusters (34) found smaller than n_clusters (44). Possibly due to duplicate points in X.\n",
            "  self.estimator.fit(X, **kwargs)\n",
            "/usr/local/lib/python3.10/dist-packages/yellowbrick/cluster/elbow.py:339: ConvergenceWarning: Number of distinct clusters (34) found smaller than n_clusters (45). Possibly due to duplicate points in X.\n",
            "  self.estimator.fit(X, **kwargs)\n",
            "/usr/local/lib/python3.10/dist-packages/yellowbrick/cluster/elbow.py:339: ConvergenceWarning: Number of distinct clusters (34) found smaller than n_clusters (46). Possibly due to duplicate points in X.\n",
            "  self.estimator.fit(X, **kwargs)\n",
            "/usr/local/lib/python3.10/dist-packages/yellowbrick/cluster/elbow.py:339: ConvergenceWarning: Number of distinct clusters (34) found smaller than n_clusters (47). Possibly due to duplicate points in X.\n",
            "  self.estimator.fit(X, **kwargs)\n",
            "/usr/local/lib/python3.10/dist-packages/yellowbrick/cluster/elbow.py:339: ConvergenceWarning: Number of distinct clusters (34) found smaller than n_clusters (48). Possibly due to duplicate points in X.\n",
            "  self.estimator.fit(X, **kwargs)\n"
          ]
        },
        {
          "output_type": "display_data",
          "data": {
            "text/plain": [
              "<Figure size 800x550 with 2 Axes>"
            ],
            "image/png": "[encoded data removed]"
          },
          "metadata": {}
        },
        {
          "output_type": "execute_result",
          "data": {
            "text/plain": [
              "<Axes: title={'center': 'Distortion Score Elbow for KMeans Clustering'}, xlabel='k', ylabel='distortion score'>"
            ]
          },
          "metadata": {},
          "execution_count": 23
        }
      ]
    },
    {
      "cell_type": "code",
      "source": [
        "kmeans = KMeans(n_clusters=8, n_init=10)\n",
        "kmeans_labels = kmeans.fit_predict(cluster_data)"
      ],
      "metadata": {
        "id": "E99xAZHj1YVt"
      },
      "execution_count": null,
      "outputs": []
    },
    {
      "cell_type": "code",
      "source": [
        "kmeans_clusters = create_clusters(kmeans_labels, classification_data)"
      ],
      "metadata": {
        "id": "4WIAaaLS15oF"
      },
      "execution_count": null,
      "outputs": []
    },
    {
      "cell_type": "code",
      "source": [
        "age_groups = []\n",
        "for cluster in kmeans_clusters:\n",
        "  age_groups.append([min(cluster), max(cluster)])\n",
        "\n",
        "age_groups.sort(key = lambda cluster: cluster[0])"
      ],
      "metadata": {
        "id": "XJJ_T-ZG34t3"
      },
      "execution_count": null,
      "outputs": []
    },
    {
      "cell_type": "code",
      "source": [
        "age_groups"
      ],
      "metadata": {
        "id": "1n7id4q95CE3",
        "outputId": "ff79026c-5bc4-472e-a610-013dcc057cd5",
        "colab": {
          "base_uri": "https://localhost:8080/"
        }
      },
      "execution_count": null,
      "outputs": [
        {
          "output_type": "execute_result",
          "data": {
            "text/plain": [
              "[[16, 21],\n",
              " [23, 26],\n",
              " [29, 34],\n",
              " [37, 42],\n",
              " [44, 46],\n",
              " [48, 52],\n",
              " [53, 58],\n",
              " [60, 65]]"
            ]
          },
          "metadata": {},
          "execution_count": 27
        }
      ]
    },
    {
      "cell_type": "markdown",
      "source": [
        "#### Classification"
      ],
      "metadata": {
        "id": "JN8C0fXn1ygr"
      }
    },
    {
      "cell_type": "code",
      "source": [
        "# Define age group boundaries\n",
        "bins = []\n",
        "\n",
        "for age_group in age_groups:\n",
        "  bins.append(age_group[0])\n",
        "\n",
        "bins.append(age_groups[-1][1])"
      ],
      "metadata": {
        "id": "UgIyTv0vlG74"
      },
      "execution_count": null,
      "outputs": []
    },
    {
      "cell_type": "code",
      "source": [
        "bins"
      ],
      "metadata": {
        "id": "yxmVyO7jFei6",
        "outputId": "093fc957-df0a-40dc-de1b-edd510180b37",
        "colab": {
          "base_uri": "https://localhost:8080/"
        }
      },
      "execution_count": null,
      "outputs": [
        {
          "output_type": "execute_result",
          "data": {
            "text/plain": [
              "[16, 23, 29, 37, 44, 48, 53, 58, 65]"
            ]
          },
          "metadata": {},
          "execution_count": 70
        }
      ]
    },
    {
      "cell_type": "code",
      "source": [
        "classification_data['Age'] = pd.cut(classification_data['Age'], bins, include_lowest=True,labels=list(range(0,8)))"
      ],
      "metadata": {
        "id": "CTljOcJG6azV",
        "outputId": "b2966fdb-8118-443f-df5e-6cb611e682ca",
        "colab": {
          "base_uri": "https://localhost:8080/"
        }
      },
      "execution_count": null,
      "outputs": [
        {
          "output_type": "stream",
          "name": "stderr",
          "text": [
            "<ipython-input-71-ce2644d7bde4>:1: SettingWithCopyWarning: \n",
            "A value is trying to be set on a copy of a slice from a DataFrame.\n",
            "Try using .loc[row_indexer,col_indexer] = value instead\n",
            "\n",
            "See the caveats in the documentation: https://pandas.pydata.org/pandas-docs/stable/user_guide/indexing.html#returning-a-view-versus-a-copy\n",
            "  classification_data['Age'] = pd.cut(classification_data['Age'], bins, include_lowest=True,labels=list(range(0,8)))\n"
          ]
        }
      ]
    },
    {
      "cell_type": "code",
      "source": [
        "classification_data.head()"
      ],
      "metadata": {
        "id": "VQIArIX-KvR-",
        "outputId": "8924f0bc-4ab2-4624-d361-d7499c49458d",
        "colab": {
          "base_uri": "https://localhost:8080/",
          "height": 206
        }
      },
      "execution_count": null,
      "outputs": [
        {
          "output_type": "execute_result",
          "data": {
            "text/plain": [
              "  Age  Symptom area  PAIN  IRRITABILITY  SEVERITY  Page\n",
              "0   4             0     0             2         2     5\n",
              "1   4             4     0             2         2     5\n",
              "2   4             2     2             1         2     5\n",
              "3   3             2     2             1         2     5\n",
              "4   5             1     1             1         0     3"
            ],
            "text/html": [
              "\n",
              "  <div id=\"df-fd76935f-58f8-49d7-80b1-4a7d40346991\">\n",
              "    <div class=\"colab-df-container\">\n",
              "      <div>\n",
              "<style scoped>\n",
              "    .dataframe tbody tr th:only-of-type {\n",
              "        vertical-align: middle;\n",
              "    }\n",
              "\n",
              "    .dataframe tbody tr th {\n",
              "        vertical-align: top;\n",
              "    }\n",
              "\n",
              "    .dataframe thead th {\n",
              "        text-align: right;\n",
              "    }\n",
              "</style>\n",
              "<table border=\"1\" class=\"dataframe\">\n",
              "  <thead>\n",
              "    <tr style=\"text-align: right;\">\n",
              "      <th></th>\n",
              "      <th>Age</th>\n",
              "      <th>Symptom area</th>\n",
              "      <th>PAIN</th>\n",
              "      <th>IRRITABILITY</th>\n",
              "      <th>SEVERITY</th>\n",
              "      <th>Page</th>\n",
              "    </tr>\n",
              "  </thead>\n",
              "  <tbody>\n",
              "    <tr>\n",
              "      <th>0</th>\n",
              "      <td>4</td>\n",
              "      <td>0</td>\n",
              "      <td>0</td>\n",
              "      <td>2</td>\n",
              "      <td>2</td>\n",
              "      <td>5</td>\n",
              "    </tr>\n",
              "    <tr>\n",
              "      <th>1</th>\n",
              "      <td>4</td>\n",
              "      <td>4</td>\n",
              "      <td>0</td>\n",
              "      <td>2</td>\n",
              "      <td>2</td>\n",
              "      <td>5</td>\n",
              "    </tr>\n",
              "    <tr>\n",
              "      <th>2</th>\n",
              "      <td>4</td>\n",
              "      <td>2</td>\n",
              "      <td>2</td>\n",
              "      <td>1</td>\n",
              "      <td>2</td>\n",
              "      <td>5</td>\n",
              "    </tr>\n",
              "    <tr>\n",
              "      <th>3</th>\n",
              "      <td>3</td>\n",
              "      <td>2</td>\n",
              "      <td>2</td>\n",
              "      <td>1</td>\n",
              "      <td>2</td>\n",
              "      <td>5</td>\n",
              "    </tr>\n",
              "    <tr>\n",
              "      <th>4</th>\n",
              "      <td>5</td>\n",
              "      <td>1</td>\n",
              "      <td>1</td>\n",
              "      <td>1</td>\n",
              "      <td>0</td>\n",
              "      <td>3</td>\n",
              "    </tr>\n",
              "  </tbody>\n",
              "</table>\n",
              "</div>\n",
              "      <button class=\"colab-df-convert\" onclick=\"convertToInteractive('df-fd76935f-58f8-49d7-80b1-4a7d40346991')\"\n",
              "              title=\"Convert this dataframe to an interactive table.\"\n",
              "              style=\"display:none;\">\n",
              "        \n",
              "  <svg xmlns=\"http://www.w3.org/2000/svg\" height=\"24px\"viewBox=\"0 0 24 24\"\n",
              "       width=\"24px\">\n",
              "    <path d=\"M0 0h24v24H0V0z\" fill=\"none\"/>\n",
              "    <path d=\"M18.56 5.44l.94 2.06.94-2.06 2.06-.94-2.06-.94-.94-2.06-.94 2.06-2.06.94zm-11 1L8.5 8.5l.94-2.06 2.06-.94-2.06-.94L8.5 2.5l-.94 2.06-2.06.94zm10 10l.94 2.06.94-2.06 2.06-.94-2.06-.94-.94-2.06-.94 2.06-2.06.94z\"/><path d=\"M17.41 7.96l-1.37-1.37c-.4-.4-.92-.59-1.43-.59-.52 0-1.04.2-1.43.59L10.3 9.45l-7.72 7.72c-.78.78-.78 2.05 0 2.83L4 21.41c.39.39.9.59 1.41.59.51 0 1.02-.2 1.41-.59l7.78-7.78 2.81-2.81c.8-.78.8-2.07 0-2.86zM5.41 20L4 18.59l7.72-7.72 1.47 1.35L5.41 20z\"/>\n",
              "  </svg>\n",
              "      </button>\n",
              "      \n",
              "  <style>\n",
              "    .colab-df-container {\n",
              "      display:flex;\n",
              "      flex-wrap:wrap;\n",
              "      gap: 12px;\n",
              "    }\n",
              "\n",
              "    .colab-df-convert {\n",
              "      background-color: #E8F0FE;\n",
              "      border: none;\n",
              "      border-radius: 50%;\n",
              "      cursor: pointer;\n",
              "      display: none;\n",
              "      fill: #1967D2;\n",
              "      height: 32px;\n",
              "      padding: 0 0 0 0;\n",
              "      width: 32px;\n",
              "    }\n",
              "\n",
              "    .colab-df-convert:hover {\n",
              "      background-color: #E2EBFA;\n",
              "      box-shadow: 0px 1px 2px rgba(60, 64, 67, 0.3), 0px 1px 3px 1px rgba(60, 64, 67, 0.15);\n",
              "      fill: #174EA6;\n",
              "    }\n",
              "\n",
              "    [theme=dark] .colab-df-convert {\n",
              "      background-color: #3B4455;\n",
              "      fill: #D2E3FC;\n",
              "    }\n",
              "\n",
              "    [theme=dark] .colab-df-convert:hover {\n",
              "      background-color: #434B5C;\n",
              "      box-shadow: 0px 1px 3px 1px rgba(0, 0, 0, 0.15);\n",
              "      filter: drop-shadow(0px 1px 2px rgba(0, 0, 0, 0.3));\n",
              "      fill: #FFFFFF;\n",
              "    }\n",
              "  </style>\n",
              "\n",
              "      <script>\n",
              "        const buttonEl =\n",
              "          document.querySelector('#df-fd76935f-58f8-49d7-80b1-4a7d40346991 button.colab-df-convert');\n",
              "        buttonEl.style.display =\n",
              "          google.colab.kernel.accessAllowed ? 'block' : 'none';\n",
              "\n",
              "        async function convertToInteractive(key) {\n",
              "          const element = document.querySelector('#df-fd76935f-58f8-49d7-80b1-4a7d40346991');\n",
              "          const dataTable =\n",
              "            await google.colab.kernel.invokeFunction('convertToInteractive',\n",
              "                                                     [key], {});\n",
              "          if (!dataTable) return;\n",
              "\n",
              "          const docLinkHtml = 'Like what you see? Visit the ' +\n",
              "            '<a target=\"_blank\" href=https://colab.research.google.com/notebooks/data_table.ipynb>data table notebook</a>'\n",
              "            + ' to learn more about interactive tables.';\n",
              "          element.innerHTML = '';\n",
              "          dataTable['output_type'] = 'display_data';\n",
              "          await google.colab.output.renderOutput(dataTable, element);\n",
              "          const docLink = document.createElement('div');\n",
              "          docLink.innerHTML = docLinkHtml;\n",
              "          element.appendChild(docLink);\n",
              "        }\n",
              "      </script>\n",
              "    </div>\n",
              "  </div>\n",
              "  "
            ]
          },
          "metadata": {},
          "execution_count": 72
        }
      ]
    },
    {
      "cell_type": "code",
      "source": [
        "# Create Decision Tree classifer object\n",
        "clf = DecisionTreeClassifier()\n",
        "\n",
        "# Split dataset into training set and test set\n",
        "train, test = train_test_split(classification_data, test_size=0.3, random_state=1, stratify=classification_data.Page)\n",
        "\n",
        "# Train Decision Tree Classifer\n",
        "clf = clf.fit(train[['Age', 'Symptom area', 'PAIN', 'IRRITABILITY', 'SEVERITY']], train['Page'])\n",
        "\n",
        "# Predict the response for test dataset\n",
        "y_pred = clf.predict(test[['Age', 'Symptom area', 'PAIN', 'IRRITABILITY', 'SEVERITY']])\n",
        "\n",
        "print(classification_report(test['Page'], y_pred, zero_division=0))"
      ],
      "metadata": {
        "id": "z4jIKIRuWFlB"
      },
      "execution_count": null,
      "outputs": []
    },
    {
      "cell_type": "code",
      "source": [
        "Image(show_decision_tree_classifier(clf, ['Age', 'Symptom Area', 'PAIN', 'IRRITABILITY', 'SEVERITY']).create_png())"
      ],
      "metadata": {
        "id": "Qh2CmTVEWOS6",
        "outputId": "193d29e1-7971-4385-9a01-548d42409b3c",
        "colab": {
          "base_uri": "https://localhost:8080/",
          "height": 932
        }
      },
      "execution_count": null,
      "outputs": [
        {
          "output_type": "execute_result",
          "data": {
            "image/png": "[encoded data removed]",
            "text/plain": [
              "<IPython.core.display.Image object>"
            ]
          },
          "metadata": {},
          "execution_count": 67
        }
      ]
    },
    {
      "cell_type": "markdown",
      "source": [
        "### Decision Tree Classifier 3\n",
        "Decision tree classifier for five features of the dataset.  \n",
        "\n",
        "- Weight\n",
        "- Height\n",
        "- Gender\n",
        "- Age\n",
        "- Running Experience\n",
        "- Symptom Area\n",
        "\n",
        "We test the classifier for a predefined splitting percentage value."
      ],
      "metadata": {
        "id": "JvSCBUlVYsYN"
      }
    },
    {
      "cell_type": "code",
      "source": [
        "classification_data = sport_data_classification[['Weight', 'height', 'Gender', 'Age', 'Experience', 'Symptom area', 'Page']]"
      ],
      "metadata": {
        "id": "eyjTZmqKY5YI"
      },
      "execution_count": null,
      "outputs": []
    },
    {
      "cell_type": "code",
      "source": [
        "classification_data = classification_data.dropna()"
      ],
      "metadata": {
        "id": "AXbAVRalbkQk"
      },
      "execution_count": null,
      "outputs": []
    },
    {
      "cell_type": "code",
      "source": [
        "pd.DataFrame(classification_data.isnull().sum(), columns=[\"No. Missing Values\"])"
      ],
      "metadata": {
        "colab": {
          "base_uri": "https://localhost:8080/",
          "height": 269
        },
        "id": "6goVwM14b1jg",
        "outputId": "aa71264b-f586-453b-f664-367dd1672cad"
      },
      "execution_count": null,
      "outputs": [
        {
          "output_type": "execute_result",
          "data": {
            "text/plain": [
              "              No. Missing Values\n",
              "Weight                         0\n",
              "height                         0\n",
              "Gender                         0\n",
              "Age                            0\n",
              "Experience                     0\n",
              "Symptom area                   0\n",
              "Page                           0"
            ],
            "text/html": [
              "\n",
              "  <div id=\"df-9be26c8c-d9e9-42d6-9249-c973f5ac7ac6\">\n",
              "    <div class=\"colab-df-container\">\n",
              "      <div>\n",
              "<style scoped>\n",
              "    .dataframe tbody tr th:only-of-type {\n",
              "        vertical-align: middle;\n",
              "    }\n",
              "\n",
              "    .dataframe tbody tr th {\n",
              "        vertical-align: top;\n",
              "    }\n",
              "\n",
              "    .dataframe thead th {\n",
              "        text-align: right;\n",
              "    }\n",
              "</style>\n",
              "<table border=\"1\" class=\"dataframe\">\n",
              "  <thead>\n",
              "    <tr style=\"text-align: right;\">\n",
              "      <th></th>\n",
              "      <th>No. Missing Values</th>\n",
              "    </tr>\n",
              "  </thead>\n",
              "  <tbody>\n",
              "    <tr>\n",
              "      <th>Weight</th>\n",
              "      <td>0</td>\n",
              "    </tr>\n",
              "    <tr>\n",
              "      <th>height</th>\n",
              "      <td>0</td>\n",
              "    </tr>\n",
              "    <tr>\n",
              "      <th>Gender</th>\n",
              "      <td>0</td>\n",
              "    </tr>\n",
              "    <tr>\n",
              "      <th>Age</th>\n",
              "      <td>0</td>\n",
              "    </tr>\n",
              "    <tr>\n",
              "      <th>Experience</th>\n",
              "      <td>0</td>\n",
              "    </tr>\n",
              "    <tr>\n",
              "      <th>Symptom area</th>\n",
              "      <td>0</td>\n",
              "    </tr>\n",
              "    <tr>\n",
              "      <th>Page</th>\n",
              "      <td>0</td>\n",
              "    </tr>\n",
              "  </tbody>\n",
              "</table>\n",
              "</div>\n",
              "      <button class=\"colab-df-convert\" onclick=\"convertToInteractive('df-9be26c8c-d9e9-42d6-9249-c973f5ac7ac6')\"\n",
              "              title=\"Convert this dataframe to an interactive table.\"\n",
              "              style=\"display:none;\">\n",
              "        \n",
              "  <svg xmlns=\"http://www.w3.org/2000/svg\" height=\"24px\"viewBox=\"0 0 24 24\"\n",
              "       width=\"24px\">\n",
              "    <path d=\"M0 0h24v24H0V0z\" fill=\"none\"/>\n",
              "    <path d=\"M18.56 5.44l.94 2.06.94-2.06 2.06-.94-2.06-.94-.94-2.06-.94 2.06-2.06.94zm-11 1L8.5 8.5l.94-2.06 2.06-.94-2.06-.94L8.5 2.5l-.94 2.06-2.06.94zm10 10l.94 2.06.94-2.06 2.06-.94-2.06-.94-.94-2.06-.94 2.06-2.06.94z\"/><path d=\"M17.41 7.96l-1.37-1.37c-.4-.4-.92-.59-1.43-.59-.52 0-1.04.2-1.43.59L10.3 9.45l-7.72 7.72c-.78.78-.78 2.05 0 2.83L4 21.41c.39.39.9.59 1.41.59.51 0 1.02-.2 1.41-.59l7.78-7.78 2.81-2.81c.8-.78.8-2.07 0-2.86zM5.41 20L4 18.59l7.72-7.72 1.47 1.35L5.41 20z\"/>\n",
              "  </svg>\n",
              "      </button>\n",
              "      \n",
              "  <style>\n",
              "    .colab-df-container {\n",
              "      display:flex;\n",
              "      flex-wrap:wrap;\n",
              "      gap: 12px;\n",
              "    }\n",
              "\n",
              "    .colab-df-convert {\n",
              "      background-color: #E8F0FE;\n",
              "      border: none;\n",
              "      border-radius: 50%;\n",
              "      cursor: pointer;\n",
              "      display: none;\n",
              "      fill: #1967D2;\n",
              "      height: 32px;\n",
              "      padding: 0 0 0 0;\n",
              "      width: 32px;\n",
              "    }\n",
              "\n",
              "    .colab-df-convert:hover {\n",
              "      background-color: #E2EBFA;\n",
              "      box-shadow: 0px 1px 2px rgba(60, 64, 67, 0.3), 0px 1px 3px 1px rgba(60, 64, 67, 0.15);\n",
              "      fill: #174EA6;\n",
              "    }\n",
              "\n",
              "    [theme=dark] .colab-df-convert {\n",
              "      background-color: #3B4455;\n",
              "      fill: #D2E3FC;\n",
              "    }\n",
              "\n",
              "    [theme=dark] .colab-df-convert:hover {\n",
              "      background-color: #434B5C;\n",
              "      box-shadow: 0px 1px 3px 1px rgba(0, 0, 0, 0.15);\n",
              "      filter: drop-shadow(0px 1px 2px rgba(0, 0, 0, 0.3));\n",
              "      fill: #FFFFFF;\n",
              "    }\n",
              "  </style>\n",
              "\n",
              "      <script>\n",
              "        const buttonEl =\n",
              "          document.querySelector('#df-9be26c8c-d9e9-42d6-9249-c973f5ac7ac6 button.colab-df-convert');\n",
              "        buttonEl.style.display =\n",
              "          google.colab.kernel.accessAllowed ? 'block' : 'none';\n",
              "\n",
              "        async function convertToInteractive(key) {\n",
              "          const element = document.querySelector('#df-9be26c8c-d9e9-42d6-9249-c973f5ac7ac6');\n",
              "          const dataTable =\n",
              "            await google.colab.kernel.invokeFunction('convertToInteractive',\n",
              "                                                     [key], {});\n",
              "          if (!dataTable) return;\n",
              "\n",
              "          const docLinkHtml = 'Like what you see? Visit the ' +\n",
              "            '<a target=\"_blank\" href=https://colab.research.google.com/notebooks/data_table.ipynb>data table notebook</a>'\n",
              "            + ' to learn more about interactive tables.';\n",
              "          element.innerHTML = '';\n",
              "          dataTable['output_type'] = 'display_data';\n",
              "          await google.colab.output.renderOutput(dataTable, element);\n",
              "          const docLink = document.createElement('div');\n",
              "          docLink.innerHTML = docLinkHtml;\n",
              "          element.appendChild(docLink);\n",
              "        }\n",
              "      </script>\n",
              "    </div>\n",
              "  </div>\n",
              "  "
            ]
          },
          "metadata": {},
          "execution_count": 53
        }
      ]
    },
    {
      "cell_type": "code",
      "source": [
        "# Show the class imbalance between injury categories\n",
        "classification_data.pivot_table(index='Page', aggfunc='size')"
      ],
      "metadata": {
        "colab": {
          "base_uri": "https://localhost:8080/"
        },
        "id": "CCkKhQq1awMt",
        "outputId": "6208d4ef-795b-4618-9ec7-f52c879e5176"
      },
      "execution_count": null,
      "outputs": [
        {
          "output_type": "execute_result",
          "data": {
            "text/plain": [
              "Page\n",
              "1     2\n",
              "2    18\n",
              "3    12\n",
              "4     5\n",
              "5    42\n",
              "6     2\n",
              "dtype: int64"
            ]
          },
          "metadata": {},
          "execution_count": 54
        }
      ]
    },
    {
      "cell_type": "code",
      "source": [
        "# Split dataset into training set and test set. Stratified sampling will force the same class balance on the train and test dataset as the original data.\n",
        "train, test = train_test_split(classification_data, test_size=0.30, random_state=1, stratify=classification_data.Page)"
      ],
      "metadata": {
        "id": "EUlewtNQbGlO"
      },
      "execution_count": null,
      "outputs": []
    },
    {
      "cell_type": "code",
      "source": [
        "# Create Decision Tree classifer object\n",
        "clf = DecisionTreeClassifier()\n",
        "\n",
        "# Train Decision Tree Classifer\n",
        "clf = clf.fit(train[['Weight', 'height', 'Gender', 'Age', 'Experience', 'Symptom area']], train['Page'])\n",
        "\n",
        "# Predict the response for test dataset\n",
        "y_pred = clf.predict(test[['Weight', 'height', 'Gender', 'Age', 'Experience', 'Symptom area']])"
      ],
      "metadata": {
        "id": "B_WbyQZbbMEh"
      },
      "execution_count": null,
      "outputs": []
    },
    {
      "cell_type": "code",
      "source": [
        "print(classification_report(test['Page'], y_pred, zero_division=0))"
      ],
      "metadata": {
        "colab": {
          "base_uri": "https://localhost:8080/"
        },
        "id": "hkp_R_DUcUNF",
        "outputId": "e3d10099-e15b-456d-a6d2-2b5ea2ac3ab0"
      },
      "execution_count": null,
      "outputs": [
        {
          "output_type": "stream",
          "name": "stdout",
          "text": [
            "              precision    recall  f1-score   support\n",
            "\n",
            "           1       0.00      0.00      0.00         1\n",
            "           2       0.14      0.20      0.17         5\n",
            "           3       0.50      0.25      0.33         4\n",
            "           4       0.00      0.00      0.00         1\n",
            "           5       0.50      0.38      0.43        13\n",
            "           6       0.00      0.00      0.00         1\n",
            "\n",
            "    accuracy                           0.28        25\n",
            "   macro avg       0.19      0.14      0.16        25\n",
            "weighted avg       0.37      0.28      0.31        25\n",
            "\n"
          ]
        }
      ]
    },
    {
      "cell_type": "markdown",
      "source": [
        "#### Classification with SMOTE"
      ],
      "metadata": {
        "id": "WesfrmPtceUQ"
      }
    },
    {
      "cell_type": "code",
      "source": [
        "k_neighbors = [1, 4, 5]\n",
        "sampling_strategy = [{1: 42, 6:42}, {4: 42}, 'auto']\n",
        "\n",
        "new_classification_data = classification_data.copy()\n",
        "for i in range(3):\n",
        "  classification_data_resampled = SMOTE(k_neighbors=k_neighbors[i], sampling_strategy=sampling_strategy[i]).fit_resample(new_classification_data[['Weight', 'height', 'Gender', 'Age', 'Experience', 'Symptom area']], new_classification_data['Page'])\n",
        "  new_classification_data = classification_data_resampled[0]\n",
        "  new_classification_data['Page'] = classification_data_resampled[1].to_numpy()"
      ],
      "metadata": {
        "id": "ROK7gH1zclD_"
      },
      "execution_count": null,
      "outputs": []
    },
    {
      "cell_type": "code",
      "source": [
        "# Check if there are any identical combinations between the two classifications\n",
        "unique_samples = np.unique(new_classification_data.to_numpy(), axis=0).shape[0]\n",
        "identical_samples = 0\n",
        "for new_sample in np.unique(new_classification_data.to_numpy(), axis=0):\n",
        "  for original_sample in np.unique(classification_data.to_numpy(), axis=0):\n",
        "    if (new_sample == original_sample).all():\n",
        "      identical_samples += 1\n",
        "      break\n",
        "      \n",
        "print(f'Unique samples in new classification data: {unique_samples}. Identical samples: {identical_samples}')"
      ],
      "metadata": {
        "colab": {
          "base_uri": "https://localhost:8080/"
        },
        "id": "4yy7l6iddyby",
        "outputId": "3f324f9b-1841-4cd3-c08f-dae1352dedbd"
      },
      "execution_count": null,
      "outputs": [
        {
          "output_type": "stream",
          "name": "stdout",
          "text": [
            "Unique samples in new classification data: 250. Identical samples: 81\n"
          ]
        }
      ]
    },
    {
      "cell_type": "code",
      "source": [
        "train = new_classification_data\n",
        "test = classification_data"
      ],
      "metadata": {
        "id": "iKIh2KCQfeHP"
      },
      "execution_count": null,
      "outputs": []
    },
    {
      "cell_type": "code",
      "source": [
        "# Create Decision Tree classifer object\n",
        "clf = DecisionTreeClassifier()\n",
        "\n",
        "# Train Decision Tree Classifer\n",
        "clf = clf.fit(train[['Weight', 'height', 'Gender', 'Age', 'Experience', 'Symptom area']], train['Page'])\n",
        "\n",
        "# Predict the response for test dataset\n",
        "y_pred = clf.predict(test[['Weight', 'height', 'Gender', 'Age', 'Experience', 'Symptom area']])"
      ],
      "metadata": {
        "id": "cvu53hi7fkxN"
      },
      "execution_count": null,
      "outputs": []
    },
    {
      "cell_type": "code",
      "source": [
        "print(classification_report(test['Page'], y_pred, zero_division=0))"
      ],
      "metadata": {
        "colab": {
          "base_uri": "https://localhost:8080/"
        },
        "id": "uw7xLc3nfvIF",
        "outputId": "70706722-e61e-4848-f0bc-d76c7424dd50"
      },
      "execution_count": null,
      "outputs": [
        {
          "output_type": "stream",
          "name": "stdout",
          "text": [
            "              precision    recall  f1-score   support\n",
            "\n",
            "           1       1.00      1.00      1.00         2\n",
            "           2       1.00      0.94      0.97        18\n",
            "           3       0.92      1.00      0.96        12\n",
            "           4       1.00      1.00      1.00         5\n",
            "           5       1.00      1.00      1.00        42\n",
            "           6       1.00      1.00      1.00         2\n",
            "\n",
            "    accuracy                           0.99        81\n",
            "   macro avg       0.99      0.99      0.99        81\n",
            "weighted avg       0.99      0.99      0.99        81\n",
            "\n"
          ]
        }
      ]
    },
    {
      "cell_type": "code",
      "source": [
        "train, test = train_test_split(new_classification_data, test_size=0.30, random_state=1, stratify=new_classification_data.Page)"
      ],
      "metadata": {
        "id": "u2_3gEOAh5yA"
      },
      "execution_count": null,
      "outputs": []
    },
    {
      "cell_type": "code",
      "source": [
        "# Create Decision Tree classifer object\n",
        "clf = DecisionTreeClassifier()\n",
        "\n",
        "# Train Decision Tree Classifer\n",
        "clf = clf.fit(train[['Weight', 'height', 'Gender', 'Age', 'Experience', 'Symptom area']], train['Page'])\n",
        "\n",
        "# Predict the response for test dataset\n",
        "y_pred = clf.predict(test[['Weight', 'height', 'Gender', 'Age', 'Experience', 'Symptom area']])"
      ],
      "metadata": {
        "id": "8iCxe7kNiBIh"
      },
      "execution_count": null,
      "outputs": []
    },
    {
      "cell_type": "code",
      "source": [
        "print(classification_report(test['Page'], y_pred, zero_division=0))"
      ],
      "metadata": {
        "colab": {
          "base_uri": "https://localhost:8080/"
        },
        "id": "AKhumFQCiH11",
        "outputId": "bee848fb-683e-42da-a05e-5ec8710b89a2"
      },
      "execution_count": null,
      "outputs": [
        {
          "output_type": "stream",
          "name": "stdout",
          "text": [
            "              precision    recall  f1-score   support\n",
            "\n",
            "           1       1.00      1.00      1.00        13\n",
            "           2       0.22      0.33      0.27        12\n",
            "           3       0.67      0.50      0.57        12\n",
            "           4       1.00      0.62      0.76        13\n",
            "           5       0.43      0.46      0.44        13\n",
            "           6       0.93      1.00      0.96        13\n",
            "\n",
            "    accuracy                           0.66        76\n",
            "   macro avg       0.71      0.65      0.67        76\n",
            "weighted avg       0.71      0.66      0.67        76\n",
            "\n"
          ]
        }
      ]
    },
    {
      "cell_type": "markdown",
      "source": [
        "### Decision Tree Classifier 4\n",
        "Decision tree classifier for 7 features of the dataset.  \n",
        "\n",
        "- PAIN\n",
        "- IRRITABILITY(WHEN)\n",
        "- IRRITABILITY(DURATION)\n",
        "- IRRITABILITY(INTENSITY)\n",
        "- SEVERITY(RUNNING)\n",
        "- SEVERITY(LIFE)\n",
        "- SEVERITY(MOBILITY)\n",
        "\n",
        "We test the classifier for a list of splitting percentage values."
      ],
      "metadata": {
        "id": "bPbRvtPtWGLz"
      }
    },
    {
      "cell_type": "code",
      "source": [
        "classification_data = sport_data[['Pain intensity', \n",
        "                                  'Irritability(WHEN)', \n",
        "                                  'Irritability(DURATION)', \n",
        "                                  'Irritability(INTENSITY)', \n",
        "                                  'Severity(RUNNING)', \n",
        "                                  'Severity(LIFE)', \n",
        "                                  'Severity(MOBILITY)',\n",
        "                                  'Page']]"
      ],
      "metadata": {
        "id": "Sa_l7tVPWrOK"
      },
      "execution_count": 74,
      "outputs": []
    },
    {
      "cell_type": "code",
      "source": [
        "classification_data_resampled = sport_data_classification_A[['Pain intensity', \n",
        "                                  'Irritability(WHEN)', \n",
        "                                  'Irritability(DURATION)', \n",
        "                                  'Irritability(INTENSITY)', \n",
        "                                  'Severity(RUNNING)', \n",
        "                                  'Severity(LIFE)', \n",
        "                                  'Severity(MOBILITY)',\n",
        "                                  'Page']]"
      ],
      "metadata": {
        "id": "DtemXd1-BHMV"
      },
      "execution_count": 75,
      "outputs": []
    },
    {
      "cell_type": "code",
      "source": [
        "model_score = {}\n",
        "for perc_value in list(np.arange(0.1, 0.55, 0.05)):\n",
        "  train, test = train_test_split(classification_data, test_size=perc_value, random_state=1, stratify=classification_data.Page)\n",
        "\n",
        "  # Create Decision Tree classifer object\n",
        "  clf = DecisionTreeClassifier()\n",
        "\n",
        "  # Train Decision Tree Classifer\n",
        "  clf = clf.fit(train[['Pain intensity', 'Irritability(WHEN)', 'Irritability(DURATION)', \n",
        "                       'Irritability(INTENSITY)', 'Severity(RUNNING)', 'Severity(LIFE)', \n",
        "                       'Severity(MOBILITY)']], train['Page'])\n",
        "\n",
        "  # Predict the response for test dataset\n",
        "  y_pred = clf.predict(test[['Pain intensity', 'Irritability(WHEN)', 'Irritability(DURATION)', \n",
        "                       'Irritability(INTENSITY)', 'Severity(RUNNING)', 'Severity(LIFE)', \n",
        "                       'Severity(MOBILITY)']])\n",
        "  \n",
        "  f_score = f1_score(test['Page'], y_pred, average='weighted')\n",
        "\n",
        "  model_score[perc_value] = [f_score, clf]\n",
        "\n",
        "  print(f'Test Size: {perc_value}, F-Score: {f_score}')"
      ],
      "metadata": {
        "id": "RSkTEO2nXg0K",
        "outputId": "7fa52c5c-e79d-4eeb-ebee-5e4f79ca9821",
        "colab": {
          "base_uri": "https://localhost:8080/"
        }
      },
      "execution_count": 83,
      "outputs": [
        {
          "output_type": "stream",
          "name": "stdout",
          "text": [
            "Test Size: 0.1, F-Score: 1.0\n",
            "Test Size: 0.15000000000000002, F-Score: 1.0\n",
            "Test Size: 0.20000000000000004, F-Score: 1.0\n",
            "Test Size: 0.25000000000000006, F-Score: 0.9327272727272728\n",
            "Test Size: 0.30000000000000004, F-Score: 0.9429708222811671\n",
            "Test Size: 0.3500000000000001, F-Score: 0.9505050505050505\n",
            "Test Size: 0.40000000000000013, F-Score: 0.9562798092209858\n",
            "Test Size: 0.45000000000000007, F-Score: 0.9608472400513479\n",
            "Test Size: 0.5000000000000001, F-Score: 0.9773802424965216\n"
          ]
        }
      ]
    },
    {
      "cell_type": "code",
      "source": [
        "model_score = {}\n",
        "for perc_value in list(np.arange(0.1, 0.55, 0.05)):\n",
        "  train, test = train_test_split(classification_data_resampled, test_size=perc_value, random_state=1, stratify=classification_data_resampled.Page)\n",
        "\n",
        "  # Create Decision Tree classifer object\n",
        "  clf = DecisionTreeClassifier()\n",
        "\n",
        "  # Train Decision Tree Classifer\n",
        "  clf = clf.fit(train[['Pain intensity', 'Irritability(WHEN)', 'Irritability(DURATION)', \n",
        "                       'Irritability(INTENSITY)', 'Severity(RUNNING)', 'Severity(LIFE)', \n",
        "                       'Severity(MOBILITY)']], train['Page'])\n",
        "\n",
        "  # Predict the response for test dataset\n",
        "  y_pred = clf.predict(test[['Pain intensity', 'Irritability(WHEN)', 'Irritability(DURATION)', \n",
        "                       'Irritability(INTENSITY)', 'Severity(RUNNING)', 'Severity(LIFE)', \n",
        "                       'Severity(MOBILITY)']])\n",
        "  \n",
        "  f_score = f1_score(test['Page'], y_pred, average='weighted')\n",
        "\n",
        "  model_score[perc_value] = [f_score, clf]\n",
        "\n",
        "  print(f'Test Size: {perc_value}, F-Score: {f_score}')"
      ],
      "metadata": {
        "id": "Rv1DFpBXCgrN",
        "outputId": "84189404-f561-4282-cf1c-f6a5b80559aa",
        "colab": {
          "base_uri": "https://localhost:8080/"
        }
      },
      "execution_count": 85,
      "outputs": [
        {
          "output_type": "stream",
          "name": "stdout",
          "text": [
            "Test Size: 0.1, F-Score: 0.9111111111111111\n",
            "Test Size: 0.15000000000000002, F-Score: 0.932967032967033\n",
            "Test Size: 0.20000000000000004, F-Score: 0.9487444100447197\n",
            "Test Size: 0.25000000000000006, F-Score: 0.8741883116883117\n",
            "Test Size: 0.30000000000000004, F-Score: 0.8918650793650793\n",
            "Test Size: 0.3500000000000001, F-Score: 0.9074915824915825\n",
            "Test Size: 0.40000000000000013, F-Score: 0.9213587109484943\n",
            "Test Size: 0.45000000000000007, F-Score: 0.9286650970861497\n",
            "Test Size: 0.5000000000000001, F-Score: 0.8966597232554679\n"
          ]
        }
      ]
    },
    {
      "cell_type": "markdown",
      "source": [
        "#### Classification with SMOTE"
      ],
      "metadata": {
        "id": "35gcqVkrC-RO"
      }
    },
    {
      "cell_type": "code",
      "source": [
        "new_classification_data = classification_data_resampled.copy()\n",
        "for i in range(3):\n",
        "  classification_data_SMOTE = SMOTE().fit_resample(new_classification_data[['Pain intensity', 'Irritability(WHEN)', 'Irritability(DURATION)', \n",
        "                       'Irritability(INTENSITY)', 'Severity(RUNNING)', 'Severity(LIFE)', \n",
        "                       'Severity(MOBILITY)']], new_classification_data['Page'])\n",
        "  new_classification_data = classification_data_SMOTE[0]\n",
        "  new_classification_data['Page'] = classification_data_SMOTE[1].to_numpy()"
      ],
      "metadata": {
        "id": "yVX-KOqdDGhT"
      },
      "execution_count": 86,
      "outputs": []
    },
    {
      "cell_type": "code",
      "source": [
        "# Check for misclassified samples\n",
        "for sample_row in range(new_classification_data.shape[0]):\n",
        "  factor_list = create_main_factor_list(sample_row, 0)\n",
        "  page = classify_sample(new_classification_data.iloc[sample_row])\n",
        "  if new_classification_data.iloc[sample_row]['Page'] != page:\n",
        "    print(f'Misclassified Sample: {sample_row}')"
      ],
      "metadata": {
        "id": "uslusHTFDuVC"
      },
      "execution_count": null,
      "outputs": []
    },
    {
      "cell_type": "markdown",
      "source": [
        "## Random Forests"
      ],
      "metadata": {
        "id": "uHf-BPinXHab"
      }
    },
    {
      "cell_type": "markdown",
      "source": [
        "### Random Forest Classifier 1\n",
        "\n",
        "Random forest classifier for five features of the dataset.  \n",
        "\n",
        "- Age\n",
        "- Symptom Area\n",
        "- PAIN\n",
        "- IRRITABILITY\n",
        "- SEVERITY\n",
        "\n",
        "We test the classifier for a predefined splitting percentage value."
      ],
      "metadata": {
        "id": "8kj2dhYOnPFB"
      }
    },
    {
      "cell_type": "code",
      "source": [
        "classification_data = sport_data_classification[['Age', 'Symptom area', 'PAIN', 'IRRITABILITY', 'SEVERITY', 'Page']]"
      ],
      "metadata": {
        "id": "4WUDBiIvnnLG"
      },
      "execution_count": null,
      "outputs": []
    },
    {
      "cell_type": "code",
      "source": [
        "# Define age group boundaries\n",
        "bins = []\n",
        "\n",
        "for age_group in age_groups:\n",
        "  bins.append(age_group[0])\n",
        "\n",
        "bins.append(age_groups[-1][1])"
      ],
      "metadata": {
        "id": "0OwudRdqshZ4"
      },
      "execution_count": null,
      "outputs": []
    },
    {
      "cell_type": "code",
      "source": [
        "classification_data['Age'] = pd.cut(classification_data['Age'], bins, include_lowest=True, labels=list(range(0,8)))"
      ],
      "metadata": {
        "id": "Cyef6IdHsirl",
        "outputId": "7138dbaa-8a53-4028-bc7e-e7507e9b9c59",
        "colab": {
          "base_uri": "https://localhost:8080/"
        }
      },
      "execution_count": null,
      "outputs": [
        {
          "output_type": "stream",
          "name": "stderr",
          "text": [
            "<ipython-input-102-e5b26e5b1dc2>:1: SettingWithCopyWarning: \n",
            "A value is trying to be set on a copy of a slice from a DataFrame.\n",
            "Try using .loc[row_indexer,col_indexer] = value instead\n",
            "\n",
            "See the caveats in the documentation: https://pandas.pydata.org/pandas-docs/stable/user_guide/indexing.html#returning-a-view-versus-a-copy\n",
            "  classification_data['Age'] = pd.cut(classification_data['Age'], bins, include_lowest=True, labels=list(range(0,8)))\n"
          ]
        }
      ]
    },
    {
      "cell_type": "code",
      "source": [
        "# Split the data into training and test sets\n",
        "train, test = train_test_split(classification_data, test_size=0.3, random_state=1, stratify=classification_data.Page)"
      ],
      "metadata": {
        "id": "aBMjkBwGoyQF"
      },
      "execution_count": null,
      "outputs": []
    },
    {
      "cell_type": "code",
      "source": [
        "rf = RandomForestClassifier()\n",
        "rf.fit(train[['Age', 'Symptom area', 'PAIN', 'IRRITABILITY', 'SEVERITY']], train['Page'])\n",
        "y_pred = rf.predict(test[['Age', 'Symptom area', 'PAIN', 'IRRITABILITY', 'SEVERITY']])"
      ],
      "metadata": {
        "id": "xi_Fm3F3pE_I"
      },
      "execution_count": null,
      "outputs": []
    },
    {
      "cell_type": "code",
      "source": [
        "print(classification_report(test['Page'], y_pred, zero_division=0))"
      ],
      "metadata": {
        "id": "jB-NaYMspUvB",
        "outputId": "6aec5020-f331-4a06-90a5-5828d9b66642",
        "colab": {
          "base_uri": "https://localhost:8080/"
        }
      },
      "execution_count": null,
      "outputs": [
        {
          "output_type": "stream",
          "name": "stdout",
          "text": [
            "              precision    recall  f1-score   support\n",
            "\n",
            "           1       0.00      0.00      0.00         1\n",
            "           2       0.83      1.00      0.91         5\n",
            "           3       0.80      1.00      0.89         4\n",
            "           4       1.00      1.00      1.00         1\n",
            "           5       0.93      0.93      0.93        14\n",
            "           6       0.00      0.00      0.00         1\n",
            "\n",
            "    accuracy                           0.88        26\n",
            "   macro avg       0.59      0.65      0.62        26\n",
            "weighted avg       0.82      0.88      0.85        26\n",
            "\n"
          ]
        }
      ]
    },
    {
      "cell_type": "code",
      "source": [
        "for i in range(3):\n",
        "  tree = rf.estimators_[i]\n",
        "  dot_data = export_graphviz(tree,\n",
        "                               feature_names=['Age', 'Symptom area', 'PAIN', 'IRRITABILITY', 'SEVERITY'],  \n",
        "                               filled=True,  \n",
        "                               impurity=False, \n",
        "                               proportion=True)\n",
        "  graph = graphviz.Source(dot_data)\n",
        "  display(graph)"
      ],
      "metadata": {
        "id": "ngD1V925qAtq",
        "outputId": "5462ff73-241c-472a-fb8b-c387708e37d6",
        "colab": {
          "base_uri": "https://localhost:8080/",
          "height": 1000
        }
      },
      "execution_count": null,
      "outputs": [
        {
          "output_type": "display_data",
          "data": {
            "image/svg+xml": "<?xml version=\"1.0\" encoding=\"UTF-8\" standalone=\"no\"?>\n<!DOCTYPE svg PUBLIC \"-//W3C//DTD SVG 1.1//EN\"\n \"http://www.w3.org/Graphics/SVG/1.1/DTD/svg11.dtd\">\n<!-- Generated by graphviz version 2.43.0 (0)\n -->\n<!-- Title: Tree Pages: 1 -->\n<svg width=\"2130pt\" height=\"580pt\"\n viewBox=\"0.00 0.00 2130.00 580.00\" xmlns=\"http://www.w3.org/2000/svg\" xmlns:xlink=\"http://www.w3.org/1999/xlink\">\n<g id=\"graph0\" class=\"graph\" transform=\"scale(1 1) rotate(0) translate(4 576)\">\n<title>Tree</title>\n<polygon fill=\"white\" stroke=\"transparent\" points=\"-4,4 -4,-576 2126,-576 2126,4 -4,4\"/>\n<!-- 0 -->\n<g id=\"node1\" class=\"node\">\n<title>0</title>\n<polygon fill=\"#cbadf4\" stroke=\"black\" points=\"1431.5,-572 1126.5,-572 1126.5,-519 1431.5,-519 1431.5,-572\"/>\n<text text-anchor=\"middle\" x=\"1279\" y=\"-556.8\" font-family=\"Helvetica,sans-Serif\" font-size=\"14.00\">SEVERITY &lt;= 1.5</text>\n<text text-anchor=\"middle\" x=\"1279\" y=\"-541.8\" font-family=\"Helvetica,sans-Serif\" font-size=\"14.00\">samples = 100.0%</text>\n<text text-anchor=\"middle\" x=\"1279\" y=\"-526.8\" font-family=\"Helvetica,sans-Serif\" font-size=\"14.00\">value = [0.017, 0.207, 0.19, 0.034, 0.534, 0.017]</text>\n</g>\n<!-- 1 -->\n<g id=\"node2\" class=\"node\">\n<title>1</title>\n<polygon fill=\"#fafef5\" stroke=\"black\" points=\"1293,-483 981,-483 981,-430 1293,-430 1293,-483\"/>\n<text text-anchor=\"middle\" x=\"1137\" y=\"-467.8\" font-family=\"Helvetica,sans-Serif\" font-size=\"14.00\">Age &lt;= 4.5</text>\n<text text-anchor=\"middle\" x=\"1137\" y=\"-452.8\" font-family=\"Helvetica,sans-Serif\" font-size=\"14.00\">samples = 51.4%</text>\n<text text-anchor=\"middle\" x=\"1137\" y=\"-437.8\" font-family=\"Helvetica,sans-Serif\" font-size=\"14.00\">value = [0.032, 0.387, 0.355, 0.065, 0.129, 0.032]</text>\n</g>\n<!-- 0&#45;&gt;1 -->\n<g id=\"edge1\" class=\"edge\">\n<title>0&#45;&gt;1</title>\n<path fill=\"none\" stroke=\"black\" d=\"M1237.16,-518.87C1221.7,-509.39 1204.01,-498.55 1187.83,-488.64\"/>\n<polygon fill=\"black\" stroke=\"black\" points=\"1189.38,-485.49 1179.03,-483.25 1185.73,-491.46 1189.38,-485.49\"/>\n<text text-anchor=\"middle\" x=\"1184.87\" y=\"-503.86\" font-family=\"Helvetica,sans-Serif\" font-size=\"14.00\">True</text>\n</g>\n<!-- 24 -->\n<g id=\"node25\" class=\"node\">\n<title>24</title>\n<polygon fill=\"#8139e5\" stroke=\"black\" points=\"1533,-475.5 1311,-475.5 1311,-437.5 1533,-437.5 1533,-475.5\"/>\n<text text-anchor=\"middle\" x=\"1422\" y=\"-460.3\" font-family=\"Helvetica,sans-Serif\" font-size=\"14.00\">samples = 48.6%</text>\n<text text-anchor=\"middle\" x=\"1422\" y=\"-445.3\" font-family=\"Helvetica,sans-Serif\" font-size=\"14.00\">value = [0.0, 0.0, 0.0, 0.0, 1.0, 0.0]</text>\n</g>\n<!-- 0&#45;&gt;24 -->\n<g id=\"edge24\" class=\"edge\">\n<title>0&#45;&gt;24</title>\n<path fill=\"none\" stroke=\"black\" d=\"M1321.13,-518.87C1340.99,-506.78 1364.51,-492.47 1383.84,-480.71\"/>\n<polygon fill=\"black\" stroke=\"black\" points=\"1385.68,-483.69 1392.4,-475.51 1382.04,-477.71 1385.68,-483.69\"/>\n<text text-anchor=\"middle\" x=\"1386.49\" y=\"-496.1\" font-family=\"Helvetica,sans-Serif\" font-size=\"14.00\">False</text>\n</g>\n<!-- 2 -->\n<g id=\"node3\" class=\"node\">\n<title>2</title>\n<polygon fill=\"#d5f4aa\" stroke=\"black\" points=\"1060,-394 748,-394 748,-341 1060,-341 1060,-394\"/>\n<text text-anchor=\"middle\" x=\"904\" y=\"-378.8\" font-family=\"Helvetica,sans-Serif\" font-size=\"14.00\">PAIN &lt;= 0.5</text>\n<text text-anchor=\"middle\" x=\"904\" y=\"-363.8\" font-family=\"Helvetica,sans-Serif\" font-size=\"14.00\">samples = 29.7%</text>\n<text text-anchor=\"middle\" x=\"904\" y=\"-348.8\" font-family=\"Helvetica,sans-Serif\" font-size=\"14.00\">value = [0.059, 0.529, 0.059, 0.118, 0.176, 0.059]</text>\n</g>\n<!-- 1&#45;&gt;2 -->\n<g id=\"edge2\" class=\"edge\">\n<title>1&#45;&gt;2</title>\n<path fill=\"none\" stroke=\"black\" d=\"M1068.67,-429.98C1041.4,-419.8 1009.86,-408.03 981.73,-397.52\"/>\n<polygon fill=\"black\" stroke=\"black\" points=\"982.92,-394.23 972.33,-394.01 980.48,-400.79 982.92,-394.23\"/>\n</g>\n<!-- 17 -->\n<g id=\"node18\" class=\"node\">\n<title>17</title>\n<polygon fill=\"#81eeaf\" stroke=\"black\" points=\"1529.5,-394 1262.5,-394 1262.5,-341 1529.5,-341 1529.5,-394\"/>\n<text text-anchor=\"middle\" x=\"1396\" y=\"-378.8\" font-family=\"Helvetica,sans-Serif\" font-size=\"14.00\">Age &lt;= 5.5</text>\n<text text-anchor=\"middle\" x=\"1396\" y=\"-363.8\" font-family=\"Helvetica,sans-Serif\" font-size=\"14.00\">samples = 21.6%</text>\n<text text-anchor=\"middle\" x=\"1396\" y=\"-348.8\" font-family=\"Helvetica,sans-Serif\" font-size=\"14.00\">value = [0.0, 0.214, 0.714, 0.0, 0.071, 0.0]</text>\n</g>\n<!-- 1&#45;&gt;17 -->\n<g id=\"edge17\" class=\"edge\">\n<title>1&#45;&gt;17</title>\n<path fill=\"none\" stroke=\"black\" d=\"M1212.96,-429.98C1243.53,-419.72 1278.93,-407.82 1310.41,-397.25\"/>\n<polygon fill=\"black\" stroke=\"black\" points=\"1311.68,-400.52 1320.04,-394.01 1309.45,-393.88 1311.68,-400.52\"/>\n</g>\n<!-- 3 -->\n<g id=\"node4\" class=\"node\">\n<title>3</title>\n<polygon fill=\"#a8e84f\" stroke=\"black\" points=\"666,-305 444,-305 444,-252 666,-252 666,-305\"/>\n<text text-anchor=\"middle\" x=\"555\" y=\"-289.8\" font-family=\"Helvetica,sans-Serif\" font-size=\"14.00\">Symptom area &lt;= 3.0</text>\n<text text-anchor=\"middle\" x=\"555\" y=\"-274.8\" font-family=\"Helvetica,sans-Serif\" font-size=\"14.00\">samples = 16.2%</text>\n<text text-anchor=\"middle\" x=\"555\" y=\"-259.8\" font-family=\"Helvetica,sans-Serif\" font-size=\"14.00\">value = [0.1, 0.9, 0.0, 0.0, 0.0, 0.0]</text>\n</g>\n<!-- 2&#45;&gt;3 -->\n<g id=\"edge3\" class=\"edge\">\n<title>2&#45;&gt;3</title>\n<path fill=\"none\" stroke=\"black\" d=\"M801.65,-340.98C759.48,-330.47 710.48,-318.26 667.32,-307.5\"/>\n<polygon fill=\"black\" stroke=\"black\" points=\"667.9,-304.04 657.35,-305.01 666.21,-310.83 667.9,-304.04\"/>\n</g>\n<!-- 10 -->\n<g id=\"node11\" class=\"node\">\n<title>10</title>\n<polygon fill=\"#e6d7fa\" stroke=\"black\" points=\"1045,-305 763,-305 763,-252 1045,-252 1045,-305\"/>\n<text text-anchor=\"middle\" x=\"904\" y=\"-289.8\" font-family=\"Helvetica,sans-Serif\" font-size=\"14.00\">Symptom area &lt;= 3.5</text>\n<text text-anchor=\"middle\" x=\"904\" y=\"-274.8\" font-family=\"Helvetica,sans-Serif\" font-size=\"14.00\">samples = 13.5%</text>\n<text text-anchor=\"middle\" x=\"904\" y=\"-259.8\" font-family=\"Helvetica,sans-Serif\" font-size=\"14.00\">value = [0.0, 0.0, 0.143, 0.286, 0.429, 0.143]</text>\n</g>\n<!-- 2&#45;&gt;10 -->\n<g id=\"edge10\" class=\"edge\">\n<title>2&#45;&gt;10</title>\n<path fill=\"none\" stroke=\"black\" d=\"M904,-340.87C904,-332.89 904,-323.93 904,-315.38\"/>\n<polygon fill=\"black\" stroke=\"black\" points=\"907.5,-315.25 904,-305.25 900.5,-315.25 907.5,-315.25\"/>\n</g>\n<!-- 4 -->\n<g id=\"node5\" class=\"node\">\n<title>4</title>\n<polygon fill=\"#ade95a\" stroke=\"black\" points=\"426,-216 174,-216 174,-163 426,-163 426,-216\"/>\n<text text-anchor=\"middle\" x=\"300\" y=\"-200.8\" font-family=\"Helvetica,sans-Serif\" font-size=\"14.00\">Symptom area &lt;= 1.5</text>\n<text text-anchor=\"middle\" x=\"300\" y=\"-185.8\" font-family=\"Helvetica,sans-Serif\" font-size=\"14.00\">samples = 13.5%</text>\n<text text-anchor=\"middle\" x=\"300\" y=\"-170.8\" font-family=\"Helvetica,sans-Serif\" font-size=\"14.00\">value = [0.143, 0.857, 0.0, 0.0, 0.0, 0.0]</text>\n</g>\n<!-- 3&#45;&gt;4 -->\n<g id=\"edge4\" class=\"edge\">\n<title>3&#45;&gt;4</title>\n<path fill=\"none\" stroke=\"black\" d=\"M480.21,-251.98C450.12,-241.72 415.26,-229.82 384.27,-219.25\"/>\n<polygon fill=\"black\" stroke=\"black\" points=\"385.38,-215.93 374.78,-216.01 383.12,-222.56 385.38,-215.93\"/>\n</g>\n<!-- 9 -->\n<g id=\"node10\" class=\"node\">\n<title>9</title>\n<polygon fill=\"#9de539\" stroke=\"black\" points=\"666,-208.5 444,-208.5 444,-170.5 666,-170.5 666,-208.5\"/>\n<text text-anchor=\"middle\" x=\"555\" y=\"-193.3\" font-family=\"Helvetica,sans-Serif\" font-size=\"14.00\">samples = 2.7%</text>\n<text text-anchor=\"middle\" x=\"555\" y=\"-178.3\" font-family=\"Helvetica,sans-Serif\" font-size=\"14.00\">value = [0.0, 1.0, 0.0, 0.0, 0.0, 0.0]</text>\n</g>\n<!-- 3&#45;&gt;9 -->\n<g id=\"edge9\" class=\"edge\">\n<title>3&#45;&gt;9</title>\n<path fill=\"none\" stroke=\"black\" d=\"M555,-251.87C555,-241.42 555,-229.3 555,-218.61\"/>\n<polygon fill=\"black\" stroke=\"black\" points=\"558.5,-218.51 555,-208.51 551.5,-218.51 558.5,-218.51\"/>\n</g>\n<!-- 5 -->\n<g id=\"node6\" class=\"node\">\n<title>5</title>\n<polygon fill=\"#9de539\" stroke=\"black\" points=\"222,-119.5 0,-119.5 0,-81.5 222,-81.5 222,-119.5\"/>\n<text text-anchor=\"middle\" x=\"111\" y=\"-104.3\" font-family=\"Helvetica,sans-Serif\" font-size=\"14.00\">samples = 2.7%</text>\n<text text-anchor=\"middle\" x=\"111\" y=\"-89.3\" font-family=\"Helvetica,sans-Serif\" font-size=\"14.00\">value = [0.0, 1.0, 0.0, 0.0, 0.0, 0.0]</text>\n</g>\n<!-- 4&#45;&gt;5 -->\n<g id=\"edge5\" class=\"edge\">\n<title>4&#45;&gt;5</title>\n<path fill=\"none\" stroke=\"black\" d=\"M244.57,-162.98C217.6,-150.57 185.48,-135.78 159.5,-123.82\"/>\n<polygon fill=\"black\" stroke=\"black\" points=\"160.77,-120.56 150.22,-119.55 157.84,-126.92 160.77,-120.56\"/>\n</g>\n<!-- 6 -->\n<g id=\"node7\" class=\"node\">\n<title>6</title>\n<polygon fill=\"#b1ea61\" stroke=\"black\" points=\"492,-127 240,-127 240,-74 492,-74 492,-127\"/>\n<text text-anchor=\"middle\" x=\"366\" y=\"-111.8\" font-family=\"Helvetica,sans-Serif\" font-size=\"14.00\">IRRITABILITY &lt;= 0.5</text>\n<text text-anchor=\"middle\" x=\"366\" y=\"-96.8\" font-family=\"Helvetica,sans-Serif\" font-size=\"14.00\">samples = 10.8%</text>\n<text text-anchor=\"middle\" x=\"366\" y=\"-81.8\" font-family=\"Helvetica,sans-Serif\" font-size=\"14.00\">value = [0.167, 0.833, 0.0, 0.0, 0.0, 0.0]</text>\n</g>\n<!-- 4&#45;&gt;6 -->\n<g id=\"edge6\" class=\"edge\">\n<title>4&#45;&gt;6</title>\n<path fill=\"none\" stroke=\"black\" d=\"M319.45,-162.87C325.97,-154.27 333.34,-144.55 340.27,-135.42\"/>\n<polygon fill=\"black\" stroke=\"black\" points=\"343.21,-137.33 346.47,-127.25 337.63,-133.1 343.21,-137.33\"/>\n</g>\n<!-- 7 -->\n<g id=\"node8\" class=\"node\">\n<title>7</title>\n<polygon fill=\"#e58139\" stroke=\"black\" points=\"419,-38 197,-38 197,0 419,0 419,-38\"/>\n<text text-anchor=\"middle\" x=\"308\" y=\"-22.8\" font-family=\"Helvetica,sans-Serif\" font-size=\"14.00\">samples = 2.7%</text>\n<text text-anchor=\"middle\" x=\"308\" y=\"-7.8\" font-family=\"Helvetica,sans-Serif\" font-size=\"14.00\">value = [1.0, 0.0, 0.0, 0.0, 0.0, 0.0]</text>\n</g>\n<!-- 6&#45;&gt;7 -->\n<g id=\"edge7\" class=\"edge\">\n<title>6&#45;&gt;7</title>\n<path fill=\"none\" stroke=\"black\" d=\"M347.33,-73.91C340.9,-65.1 333.7,-55.23 327.23,-46.36\"/>\n<polygon fill=\"black\" stroke=\"black\" points=\"330.03,-44.25 321.31,-38.24 324.37,-48.38 330.03,-44.25\"/>\n</g>\n<!-- 8 -->\n<g id=\"node9\" class=\"node\">\n<title>8</title>\n<polygon fill=\"#9de539\" stroke=\"black\" points=\"659,-38 437,-38 437,0 659,0 659,-38\"/>\n<text text-anchor=\"middle\" x=\"548\" y=\"-22.8\" font-family=\"Helvetica,sans-Serif\" font-size=\"14.00\">samples = 8.1%</text>\n<text text-anchor=\"middle\" x=\"548\" y=\"-7.8\" font-family=\"Helvetica,sans-Serif\" font-size=\"14.00\">value = [0.0, 1.0, 0.0, 0.0, 0.0, 0.0]</text>\n</g>\n<!-- 6&#45;&gt;8 -->\n<g id=\"edge8\" class=\"edge\">\n<title>6&#45;&gt;8</title>\n<path fill=\"none\" stroke=\"black\" d=\"M424.59,-73.91C447.96,-63.7 474.6,-52.06 497.14,-42.22\"/>\n<polygon fill=\"black\" stroke=\"black\" points=\"498.77,-45.33 506.53,-38.12 495.96,-38.91 498.77,-45.33\"/>\n</g>\n<!-- 11 -->\n<g id=\"node12\" class=\"node\">\n<title>11</title>\n<polygon fill=\"#bddef6\" stroke=\"black\" points=\"921.5,-216 684.5,-216 684.5,-163 921.5,-163 921.5,-216\"/>\n<text text-anchor=\"middle\" x=\"803\" y=\"-200.8\" font-family=\"Helvetica,sans-Serif\" font-size=\"14.00\">Age &lt;= 1.5</text>\n<text text-anchor=\"middle\" x=\"803\" y=\"-185.8\" font-family=\"Helvetica,sans-Serif\" font-size=\"14.00\">samples = 10.8%</text>\n<text text-anchor=\"middle\" x=\"803\" y=\"-170.8\" font-family=\"Helvetica,sans-Serif\" font-size=\"14.00\">value = [0.0, 0.0, 0.25, 0.5, 0.0, 0.25]</text>\n</g>\n<!-- 10&#45;&gt;11 -->\n<g id=\"edge11\" class=\"edge\">\n<title>10&#45;&gt;11</title>\n<path fill=\"none\" stroke=\"black\" d=\"M874.24,-251.87C863.75,-242.83 851.82,-232.55 840.76,-223.03\"/>\n<polygon fill=\"black\" stroke=\"black\" points=\"842.75,-220.12 832.89,-216.25 838.19,-225.43 842.75,-220.12\"/>\n</g>\n<!-- 16 -->\n<g id=\"node17\" class=\"node\">\n<title>16</title>\n<polygon fill=\"#8139e5\" stroke=\"black\" points=\"1162,-208.5 940,-208.5 940,-170.5 1162,-170.5 1162,-208.5\"/>\n<text text-anchor=\"middle\" x=\"1051\" y=\"-193.3\" font-family=\"Helvetica,sans-Serif\" font-size=\"14.00\">samples = 2.7%</text>\n<text text-anchor=\"middle\" x=\"1051\" y=\"-178.3\" font-family=\"Helvetica,sans-Serif\" font-size=\"14.00\">value = [0.0, 0.0, 0.0, 0.0, 1.0, 0.0]</text>\n</g>\n<!-- 10&#45;&gt;16 -->\n<g id=\"edge16\" class=\"edge\">\n<title>10&#45;&gt;16</title>\n<path fill=\"none\" stroke=\"black\" d=\"M947.31,-251.87C967.73,-239.78 991.91,-225.47 1011.78,-213.71\"/>\n<polygon fill=\"black\" stroke=\"black\" points=\"1013.75,-216.61 1020.57,-208.51 1010.19,-210.59 1013.75,-216.61\"/>\n</g>\n<!-- 12 -->\n<g id=\"node13\" class=\"node\">\n<title>12</title>\n<polygon fill=\"#399de5\" stroke=\"black\" points=\"848,-119.5 626,-119.5 626,-81.5 848,-81.5 848,-119.5\"/>\n<text text-anchor=\"middle\" x=\"737\" y=\"-104.3\" font-family=\"Helvetica,sans-Serif\" font-size=\"14.00\">samples = 5.4%</text>\n<text text-anchor=\"middle\" x=\"737\" y=\"-89.3\" font-family=\"Helvetica,sans-Serif\" font-size=\"14.00\">value = [0.0, 0.0, 0.0, 1.0, 0.0, 0.0]</text>\n</g>\n<!-- 11&#45;&gt;12 -->\n<g id=\"edge12\" class=\"edge\">\n<title>11&#45;&gt;12</title>\n<path fill=\"none\" stroke=\"black\" d=\"M783.55,-162.87C775.13,-151.76 765.28,-138.78 756.82,-127.62\"/>\n<polygon fill=\"black\" stroke=\"black\" points=\"759.49,-125.36 750.66,-119.51 753.92,-129.59 759.49,-125.36\"/>\n</g>\n<!-- 13 -->\n<g id=\"node14\" class=\"node\">\n<title>13</title>\n<polygon fill=\"#ffffff\" stroke=\"black\" points=\"1088,-127 866,-127 866,-74 1088,-74 1088,-127\"/>\n<text text-anchor=\"middle\" x=\"977\" y=\"-111.8\" font-family=\"Helvetica,sans-Serif\" font-size=\"14.00\">PAIN &lt;= 2.0</text>\n<text text-anchor=\"middle\" x=\"977\" y=\"-96.8\" font-family=\"Helvetica,sans-Serif\" font-size=\"14.00\">samples = 5.4%</text>\n<text text-anchor=\"middle\" x=\"977\" y=\"-81.8\" font-family=\"Helvetica,sans-Serif\" font-size=\"14.00\">value = [0.0, 0.0, 0.5, 0.0, 0.0, 0.5]</text>\n</g>\n<!-- 11&#45;&gt;13 -->\n<g id=\"edge13\" class=\"edge\">\n<title>11&#45;&gt;13</title>\n<path fill=\"none\" stroke=\"black\" d=\"M854.26,-162.87C873.82,-153.09 896.3,-141.85 916.63,-131.68\"/>\n<polygon fill=\"black\" stroke=\"black\" points=\"918.42,-134.7 925.8,-127.1 915.29,-128.44 918.42,-134.7\"/>\n</g>\n<!-- 14 -->\n<g id=\"node15\" class=\"node\">\n<title>14</title>\n<polygon fill=\"#39e581\" stroke=\"black\" points=\"906,-38 684,-38 684,0 906,0 906,-38\"/>\n<text text-anchor=\"middle\" x=\"795\" y=\"-22.8\" font-family=\"Helvetica,sans-Serif\" font-size=\"14.00\">samples = 2.7%</text>\n<text text-anchor=\"middle\" x=\"795\" y=\"-7.8\" font-family=\"Helvetica,sans-Serif\" font-size=\"14.00\">value = [0.0, 0.0, 1.0, 0.0, 0.0, 0.0]</text>\n</g>\n<!-- 13&#45;&gt;14 -->\n<g id=\"edge14\" class=\"edge\">\n<title>13&#45;&gt;14</title>\n<path fill=\"none\" stroke=\"black\" d=\"M918.41,-73.91C895.04,-63.7 868.4,-52.06 845.86,-42.22\"/>\n<polygon fill=\"black\" stroke=\"black\" points=\"847.04,-38.91 836.47,-38.12 844.23,-45.33 847.04,-38.91\"/>\n</g>\n<!-- 15 -->\n<g id=\"node16\" class=\"node\">\n<title>15</title>\n<polygon fill=\"#e5399d\" stroke=\"black\" points=\"1146,-38 924,-38 924,0 1146,0 1146,-38\"/>\n<text text-anchor=\"middle\" x=\"1035\" y=\"-22.8\" font-family=\"Helvetica,sans-Serif\" font-size=\"14.00\">samples = 2.7%</text>\n<text text-anchor=\"middle\" x=\"1035\" y=\"-7.8\" font-family=\"Helvetica,sans-Serif\" font-size=\"14.00\">value = [0.0, 0.0, 0.0, 0.0, 0.0, 1.0]</text>\n</g>\n<!-- 13&#45;&gt;15 -->\n<g id=\"edge15\" class=\"edge\">\n<title>13&#45;&gt;15</title>\n<path fill=\"none\" stroke=\"black\" d=\"M995.67,-73.91C1002.1,-65.1 1009.3,-55.23 1015.77,-46.36\"/>\n<polygon fill=\"black\" stroke=\"black\" points=\"1018.63,-48.38 1021.69,-38.24 1012.97,-44.25 1018.63,-48.38\"/>\n</g>\n<!-- 18 -->\n<g id=\"node19\" class=\"node\">\n<title>18</title>\n<polygon fill=\"#4de88e\" stroke=\"black\" points=\"1522,-305 1270,-305 1270,-252 1522,-252 1522,-305\"/>\n<text text-anchor=\"middle\" x=\"1396\" y=\"-289.8\" font-family=\"Helvetica,sans-Serif\" font-size=\"14.00\">PAIN &lt;= 0.5</text>\n<text text-anchor=\"middle\" x=\"1396\" y=\"-274.8\" font-family=\"Helvetica,sans-Serif\" font-size=\"14.00\">samples = 13.5%</text>\n<text text-anchor=\"middle\" x=\"1396\" y=\"-259.8\" font-family=\"Helvetica,sans-Serif\" font-size=\"14.00\">value = [0.0, 0.091, 0.909, 0.0, 0.0, 0.0]</text>\n</g>\n<!-- 17&#45;&gt;18 -->\n<g id=\"edge18\" class=\"edge\">\n<title>17&#45;&gt;18</title>\n<path fill=\"none\" stroke=\"black\" d=\"M1396,-340.87C1396,-332.89 1396,-323.93 1396,-315.38\"/>\n<polygon fill=\"black\" stroke=\"black\" points=\"1399.5,-315.25 1396,-305.25 1392.5,-315.25 1399.5,-315.25\"/>\n</g>\n<!-- 21 -->\n<g id=\"node22\" class=\"node\">\n<title>21</title>\n<polygon fill=\"#cef29c\" stroke=\"black\" points=\"1897,-305 1645,-305 1645,-252 1897,-252 1897,-305\"/>\n<text text-anchor=\"middle\" x=\"1771\" y=\"-289.8\" font-family=\"Helvetica,sans-Serif\" font-size=\"14.00\">PAIN &lt;= 1.0</text>\n<text text-anchor=\"middle\" x=\"1771\" y=\"-274.8\" font-family=\"Helvetica,sans-Serif\" font-size=\"14.00\">samples = 8.1%</text>\n<text text-anchor=\"middle\" x=\"1771\" y=\"-259.8\" font-family=\"Helvetica,sans-Serif\" font-size=\"14.00\">value = [0.0, 0.667, 0.0, 0.0, 0.333, 0.0]</text>\n</g>\n<!-- 17&#45;&gt;21 -->\n<g id=\"edge21\" class=\"edge\">\n<title>17&#45;&gt;21</title>\n<path fill=\"none\" stroke=\"black\" d=\"M1505.98,-340.98C1551.58,-330.41 1604.6,-318.1 1651.19,-307.3\"/>\n<polygon fill=\"black\" stroke=\"black\" points=\"1652.07,-310.68 1661.02,-305.01 1650.49,-303.87 1652.07,-310.68\"/>\n</g>\n<!-- 19 -->\n<g id=\"node20\" class=\"node\">\n<title>19</title>\n<polygon fill=\"#9de539\" stroke=\"black\" points=\"1402,-208.5 1180,-208.5 1180,-170.5 1402,-170.5 1402,-208.5\"/>\n<text text-anchor=\"middle\" x=\"1291\" y=\"-193.3\" font-family=\"Helvetica,sans-Serif\" font-size=\"14.00\">samples = 2.7%</text>\n<text text-anchor=\"middle\" x=\"1291\" y=\"-178.3\" font-family=\"Helvetica,sans-Serif\" font-size=\"14.00\">value = [0.0, 1.0, 0.0, 0.0, 0.0, 0.0]</text>\n</g>\n<!-- 18&#45;&gt;19 -->\n<g id=\"edge19\" class=\"edge\">\n<title>18&#45;&gt;19</title>\n<path fill=\"none\" stroke=\"black\" d=\"M1365.06,-251.87C1351.01,-240.22 1334.45,-226.5 1320.56,-214.99\"/>\n<polygon fill=\"black\" stroke=\"black\" points=\"1322.67,-212.19 1312.73,-208.51 1318.2,-217.58 1322.67,-212.19\"/>\n</g>\n<!-- 20 -->\n<g id=\"node21\" class=\"node\">\n<title>20</title>\n<polygon fill=\"#39e581\" stroke=\"black\" points=\"1642,-208.5 1420,-208.5 1420,-170.5 1642,-170.5 1642,-208.5\"/>\n<text text-anchor=\"middle\" x=\"1531\" y=\"-193.3\" font-family=\"Helvetica,sans-Serif\" font-size=\"14.00\">samples = 10.8%</text>\n<text text-anchor=\"middle\" x=\"1531\" y=\"-178.3\" font-family=\"Helvetica,sans-Serif\" font-size=\"14.00\">value = [0.0, 0.0, 1.0, 0.0, 0.0, 0.0]</text>\n</g>\n<!-- 18&#45;&gt;20 -->\n<g id=\"edge20\" class=\"edge\">\n<title>18&#45;&gt;20</title>\n<path fill=\"none\" stroke=\"black\" d=\"M1435.77,-251.87C1454.36,-239.89 1476.33,-225.73 1494.48,-214.03\"/>\n<polygon fill=\"black\" stroke=\"black\" points=\"1496.55,-216.87 1503.06,-208.51 1492.76,-210.98 1496.55,-216.87\"/>\n</g>\n<!-- 22 -->\n<g id=\"node23\" class=\"node\">\n<title>22</title>\n<polygon fill=\"#9de539\" stroke=\"black\" points=\"1882,-208.5 1660,-208.5 1660,-170.5 1882,-170.5 1882,-208.5\"/>\n<text text-anchor=\"middle\" x=\"1771\" y=\"-193.3\" font-family=\"Helvetica,sans-Serif\" font-size=\"14.00\">samples = 5.4%</text>\n<text text-anchor=\"middle\" x=\"1771\" y=\"-178.3\" font-family=\"Helvetica,sans-Serif\" font-size=\"14.00\">value = [0.0, 1.0, 0.0, 0.0, 0.0, 0.0]</text>\n</g>\n<!-- 21&#45;&gt;22 -->\n<g id=\"edge22\" class=\"edge\">\n<title>21&#45;&gt;22</title>\n<path fill=\"none\" stroke=\"black\" d=\"M1771,-251.87C1771,-241.42 1771,-229.3 1771,-218.61\"/>\n<polygon fill=\"black\" stroke=\"black\" points=\"1774.5,-218.51 1771,-208.51 1767.5,-218.51 1774.5,-218.51\"/>\n</g>\n<!-- 23 -->\n<g id=\"node24\" class=\"node\">\n<title>23</title>\n<polygon fill=\"#8139e5\" stroke=\"black\" points=\"2122,-208.5 1900,-208.5 1900,-170.5 2122,-170.5 2122,-208.5\"/>\n<text text-anchor=\"middle\" x=\"2011\" y=\"-193.3\" font-family=\"Helvetica,sans-Serif\" font-size=\"14.00\">samples = 2.7%</text>\n<text text-anchor=\"middle\" x=\"2011\" y=\"-178.3\" font-family=\"Helvetica,sans-Serif\" font-size=\"14.00\">value = [0.0, 0.0, 0.0, 0.0, 1.0, 0.0]</text>\n</g>\n<!-- 21&#45;&gt;23 -->\n<g id=\"edge23\" class=\"edge\">\n<title>21&#45;&gt;23</title>\n<path fill=\"none\" stroke=\"black\" d=\"M1841.39,-251.98C1876.38,-239.3 1918.21,-224.14 1951.58,-212.04\"/>\n<polygon fill=\"black\" stroke=\"black\" points=\"1952.98,-215.25 1961.19,-208.55 1950.6,-208.67 1952.98,-215.25\"/>\n</g>\n</g>\n</svg>\n",
            "text/plain": [
              "<graphviz.sources.Source at 0x7fd69e6899f0>"
            ]
          },
          "metadata": {}
        },
        {
          "output_type": "display_data",
          "data": {
            "image/svg+xml": "<?xml version=\"1.0\" encoding=\"UTF-8\" standalone=\"no\"?>\n<!DOCTYPE svg PUBLIC \"-//W3C//DTD SVG 1.1//EN\"\n \"http://www.w3.org/Graphics/SVG/1.1/DTD/svg11.dtd\">\n<!-- Generated by graphviz version 2.43.0 (0)\n -->\n<!-- Title: Tree Pages: 1 -->\n<svg width=\"2091pt\" height=\"669pt\"\n viewBox=\"0.00 0.00 2091.00 669.00\" xmlns=\"http://www.w3.org/2000/svg\" xmlns:xlink=\"http://www.w3.org/1999/xlink\">\n<g id=\"graph0\" class=\"graph\" transform=\"scale(1 1) rotate(0) translate(4 665)\">\n<title>Tree</title>\n<polygon fill=\"white\" stroke=\"transparent\" points=\"-4,4 -4,-665 2087,-665 2087,4 -4,4\"/>\n<!-- 0 -->\n<g id=\"node1\" class=\"node\">\n<title>0</title>\n<polygon fill=\"#c4a2f3\" stroke=\"black\" points=\"1078.5,-661 773.5,-661 773.5,-608 1078.5,-608 1078.5,-661\"/>\n<text text-anchor=\"middle\" x=\"926\" y=\"-645.8\" font-family=\"Helvetica,sans-Serif\" font-size=\"14.00\">Age &lt;= 4.5</text>\n<text text-anchor=\"middle\" x=\"926\" y=\"-630.8\" font-family=\"Helvetica,sans-Serif\" font-size=\"14.00\">samples = 100.0%</text>\n<text text-anchor=\"middle\" x=\"926\" y=\"-615.8\" font-family=\"Helvetica,sans-Serif\" font-size=\"14.00\">value = [0.017, 0.19, 0.155, 0.052, 0.569, 0.017]</text>\n</g>\n<!-- 1 -->\n<g id=\"node2\" class=\"node\">\n<title>1</title>\n<polygon fill=\"#ae80ee\" stroke=\"black\" points=\"928,-572 616,-572 616,-519 928,-519 928,-572\"/>\n<text text-anchor=\"middle\" x=\"772\" y=\"-556.8\" font-family=\"Helvetica,sans-Serif\" font-size=\"14.00\">Age &lt;= 0.5</text>\n<text text-anchor=\"middle\" x=\"772\" y=\"-541.8\" font-family=\"Helvetica,sans-Serif\" font-size=\"14.00\">samples = 69.4%</text>\n<text text-anchor=\"middle\" x=\"772\" y=\"-526.8\" font-family=\"Helvetica,sans-Serif\" font-size=\"14.00\">value = [0.024, 0.122, 0.073, 0.073, 0.683, 0.024]</text>\n</g>\n<!-- 0&#45;&gt;1 -->\n<g id=\"edge1\" class=\"edge\">\n<title>0&#45;&gt;1</title>\n<path fill=\"none\" stroke=\"black\" d=\"M880.63,-607.87C863.63,-598.26 844.14,-587.25 826.41,-577.24\"/>\n<polygon fill=\"black\" stroke=\"black\" points=\"827.74,-573.97 817.31,-572.1 824.3,-580.07 827.74,-573.97\"/>\n<text text-anchor=\"middle\" x=\"824.01\" y=\"-592.49\" font-family=\"Helvetica,sans-Serif\" font-size=\"14.00\">True</text>\n</g>\n<!-- 16 -->\n<g id=\"node17\" class=\"node\">\n<title>16</title>\n<polygon fill=\"#ffffff\" stroke=\"black\" points=\"1291.5,-572 1024.5,-572 1024.5,-519 1291.5,-519 1291.5,-572\"/>\n<text text-anchor=\"middle\" x=\"1158\" y=\"-556.8\" font-family=\"Helvetica,sans-Serif\" font-size=\"14.00\">PAIN &lt;= 0.5</text>\n<text text-anchor=\"middle\" x=\"1158\" y=\"-541.8\" font-family=\"Helvetica,sans-Serif\" font-size=\"14.00\">samples = 30.6%</text>\n<text text-anchor=\"middle\" x=\"1158\" y=\"-526.8\" font-family=\"Helvetica,sans-Serif\" font-size=\"14.00\">value = [0.0, 0.353, 0.353, 0.0, 0.294, 0.0]</text>\n</g>\n<!-- 0&#45;&gt;16 -->\n<g id=\"edge16\" class=\"edge\">\n<title>0&#45;&gt;16</title>\n<path fill=\"none\" stroke=\"black\" d=\"M994.04,-607.98C1021.07,-597.85 1052.32,-586.13 1080.24,-575.66\"/>\n<polygon fill=\"black\" stroke=\"black\" points=\"1081.83,-578.8 1089.96,-572.01 1079.37,-572.25 1081.83,-578.8\"/>\n<text text-anchor=\"middle\" x=\"1079.62\" y=\"-591.07\" font-family=\"Helvetica,sans-Serif\" font-size=\"14.00\">False</text>\n</g>\n<!-- 2 -->\n<g id=\"node3\" class=\"node\">\n<title>2</title>\n<polygon fill=\"#8139e5\" stroke=\"black\" points=\"598,-475.5 376,-475.5 376,-437.5 598,-437.5 598,-475.5\"/>\n<text text-anchor=\"middle\" x=\"487\" y=\"-460.3\" font-family=\"Helvetica,sans-Serif\" font-size=\"14.00\">samples = 5.6%</text>\n<text text-anchor=\"middle\" x=\"487\" y=\"-445.3\" font-family=\"Helvetica,sans-Serif\" font-size=\"14.00\">value = [0.0, 0.0, 0.0, 0.0, 1.0, 0.0]</text>\n</g>\n<!-- 1&#45;&gt;2 -->\n<g id=\"edge2\" class=\"edge\">\n<title>1&#45;&gt;2</title>\n<path fill=\"none\" stroke=\"black\" d=\"M688.42,-518.98C646.23,-506.11 595.69,-490.68 555.79,-478.5\"/>\n<polygon fill=\"black\" stroke=\"black\" points=\"556.73,-475.13 546.15,-475.55 554.69,-481.82 556.73,-475.13\"/>\n</g>\n<!-- 3 -->\n<g id=\"node4\" class=\"node\">\n<title>3</title>\n<polygon fill=\"#b88ff0\" stroke=\"black\" points=\"928,-483 616,-483 616,-430 928,-430 928,-483\"/>\n<text text-anchor=\"middle\" x=\"772\" y=\"-467.8\" font-family=\"Helvetica,sans-Serif\" font-size=\"14.00\">SEVERITY &lt;= 1.5</text>\n<text text-anchor=\"middle\" x=\"772\" y=\"-452.8\" font-family=\"Helvetica,sans-Serif\" font-size=\"14.00\">samples = 63.9%</text>\n<text text-anchor=\"middle\" x=\"772\" y=\"-437.8\" font-family=\"Helvetica,sans-Serif\" font-size=\"14.00\">value = [0.029, 0.143, 0.086, 0.086, 0.629, 0.029]</text>\n</g>\n<!-- 1&#45;&gt;3 -->\n<g id=\"edge3\" class=\"edge\">\n<title>1&#45;&gt;3</title>\n<path fill=\"none\" stroke=\"black\" d=\"M772,-518.87C772,-510.89 772,-501.93 772,-493.38\"/>\n<polygon fill=\"black\" stroke=\"black\" points=\"775.5,-493.25 772,-483.25 768.5,-493.25 775.5,-493.25\"/>\n</g>\n<!-- 4 -->\n<g id=\"node5\" class=\"node\">\n<title>4</title>\n<polygon fill=\"#edfadb\" stroke=\"black\" points=\"643,-394 331,-394 331,-341 643,-341 643,-394\"/>\n<text text-anchor=\"middle\" x=\"487\" y=\"-378.8\" font-family=\"Helvetica,sans-Serif\" font-size=\"14.00\">PAIN &lt;= 0.5</text>\n<text text-anchor=\"middle\" x=\"487\" y=\"-363.8\" font-family=\"Helvetica,sans-Serif\" font-size=\"14.00\">samples = 27.8%</text>\n<text text-anchor=\"middle\" x=\"487\" y=\"-348.8\" font-family=\"Helvetica,sans-Serif\" font-size=\"14.00\">value = [0.071, 0.357, 0.214, 0.214, 0.071, 0.071]</text>\n</g>\n<!-- 3&#45;&gt;4 -->\n<g id=\"edge4\" class=\"edge\">\n<title>3&#45;&gt;4</title>\n<path fill=\"none\" stroke=\"black\" d=\"M688.42,-429.98C654.49,-419.63 615.15,-407.62 580.29,-396.98\"/>\n<polygon fill=\"black\" stroke=\"black\" points=\"581.17,-393.59 570.58,-394.01 579.12,-400.28 581.17,-393.59\"/>\n</g>\n<!-- 15 -->\n<g id=\"node16\" class=\"node\">\n<title>15</title>\n<polygon fill=\"#8139e5\" stroke=\"black\" points=\"883,-386.5 661,-386.5 661,-348.5 883,-348.5 883,-386.5\"/>\n<text text-anchor=\"middle\" x=\"772\" y=\"-371.3\" font-family=\"Helvetica,sans-Serif\" font-size=\"14.00\">samples = 36.1%</text>\n<text text-anchor=\"middle\" x=\"772\" y=\"-356.3\" font-family=\"Helvetica,sans-Serif\" font-size=\"14.00\">value = [0.0, 0.0, 0.0, 0.0, 1.0, 0.0]</text>\n</g>\n<!-- 3&#45;&gt;15 -->\n<g id=\"edge15\" class=\"edge\">\n<title>3&#45;&gt;15</title>\n<path fill=\"none\" stroke=\"black\" d=\"M772,-429.87C772,-419.42 772,-407.3 772,-396.61\"/>\n<polygon fill=\"black\" stroke=\"black\" points=\"775.5,-396.51 772,-386.51 768.5,-396.51 775.5,-396.51\"/>\n</g>\n<!-- 5 -->\n<g id=\"node6\" class=\"node\">\n<title>5</title>\n<polygon fill=\"#b1ea61\" stroke=\"black\" points=\"471,-305 219,-305 219,-252 471,-252 471,-305\"/>\n<text text-anchor=\"middle\" x=\"345\" y=\"-289.8\" font-family=\"Helvetica,sans-Serif\" font-size=\"14.00\">IRRITABILITY &lt;= 0.5</text>\n<text text-anchor=\"middle\" x=\"345\" y=\"-274.8\" font-family=\"Helvetica,sans-Serif\" font-size=\"14.00\">samples = 16.7%</text>\n<text text-anchor=\"middle\" x=\"345\" y=\"-259.8\" font-family=\"Helvetica,sans-Serif\" font-size=\"14.00\">value = [0.167, 0.833, 0.0, 0.0, 0.0, 0.0]</text>\n</g>\n<!-- 4&#45;&gt;5 -->\n<g id=\"edge5\" class=\"edge\">\n<title>4&#45;&gt;5</title>\n<path fill=\"none\" stroke=\"black\" d=\"M445.16,-340.87C429.7,-331.39 412.01,-320.55 395.83,-310.64\"/>\n<polygon fill=\"black\" stroke=\"black\" points=\"397.38,-307.49 387.03,-305.25 393.73,-313.46 397.38,-307.49\"/>\n</g>\n<!-- 8 -->\n<g id=\"node9\" class=\"node\">\n<title>8</title>\n<polygon fill=\"#ffffff\" stroke=\"black\" points=\"771,-305 489,-305 489,-252 771,-252 771,-305\"/>\n<text text-anchor=\"middle\" x=\"630\" y=\"-289.8\" font-family=\"Helvetica,sans-Serif\" font-size=\"14.00\">PAIN &lt;= 2.0</text>\n<text text-anchor=\"middle\" x=\"630\" y=\"-274.8\" font-family=\"Helvetica,sans-Serif\" font-size=\"14.00\">samples = 11.1%</text>\n<text text-anchor=\"middle\" x=\"630\" y=\"-259.8\" font-family=\"Helvetica,sans-Serif\" font-size=\"14.00\">value = [0.0, 0.0, 0.375, 0.375, 0.125, 0.125]</text>\n</g>\n<!-- 4&#45;&gt;8 -->\n<g id=\"edge8\" class=\"edge\">\n<title>4&#45;&gt;8</title>\n<path fill=\"none\" stroke=\"black\" d=\"M529.13,-340.87C544.7,-331.39 562.52,-320.55 578.81,-310.64\"/>\n<polygon fill=\"black\" stroke=\"black\" points=\"580.95,-313.44 587.68,-305.25 577.31,-307.46 580.95,-313.44\"/>\n</g>\n<!-- 6 -->\n<g id=\"node7\" class=\"node\">\n<title>6</title>\n<polygon fill=\"#e58139\" stroke=\"black\" points=\"222,-208.5 0,-208.5 0,-170.5 222,-170.5 222,-208.5\"/>\n<text text-anchor=\"middle\" x=\"111\" y=\"-193.3\" font-family=\"Helvetica,sans-Serif\" font-size=\"14.00\">samples = 2.8%</text>\n<text text-anchor=\"middle\" x=\"111\" y=\"-178.3\" font-family=\"Helvetica,sans-Serif\" font-size=\"14.00\">value = [1.0, 0.0, 0.0, 0.0, 0.0, 0.0]</text>\n</g>\n<!-- 5&#45;&gt;6 -->\n<g id=\"edge6\" class=\"edge\">\n<title>5&#45;&gt;6</title>\n<path fill=\"none\" stroke=\"black\" d=\"M276.37,-251.98C242.25,-239.3 201.47,-224.14 168.94,-212.04\"/>\n<polygon fill=\"black\" stroke=\"black\" points=\"170.15,-208.76 159.56,-208.55 167.71,-215.32 170.15,-208.76\"/>\n</g>\n<!-- 7 -->\n<g id=\"node8\" class=\"node\">\n<title>7</title>\n<polygon fill=\"#9de539\" stroke=\"black\" points=\"462,-208.5 240,-208.5 240,-170.5 462,-170.5 462,-208.5\"/>\n<text text-anchor=\"middle\" x=\"351\" y=\"-193.3\" font-family=\"Helvetica,sans-Serif\" font-size=\"14.00\">samples = 13.9%</text>\n<text text-anchor=\"middle\" x=\"351\" y=\"-178.3\" font-family=\"Helvetica,sans-Serif\" font-size=\"14.00\">value = [0.0, 1.0, 0.0, 0.0, 0.0, 0.0]</text>\n</g>\n<!-- 5&#45;&gt;7 -->\n<g id=\"edge7\" class=\"edge\">\n<title>5&#45;&gt;7</title>\n<path fill=\"none\" stroke=\"black\" d=\"M346.77,-251.87C347.49,-241.42 348.32,-229.3 349.06,-218.61\"/>\n<polygon fill=\"black\" stroke=\"black\" points=\"352.56,-218.72 349.76,-208.51 345.58,-218.24 352.56,-218.72\"/>\n</g>\n<!-- 9 -->\n<g id=\"node10\" class=\"node\">\n<title>9</title>\n<polygon fill=\"#ffffff\" stroke=\"black\" points=\"758.5,-216 491.5,-216 491.5,-163 758.5,-163 758.5,-216\"/>\n<text text-anchor=\"middle\" x=\"625\" y=\"-200.8\" font-family=\"Helvetica,sans-Serif\" font-size=\"14.00\">IRRITABILITY &lt;= 1.5</text>\n<text text-anchor=\"middle\" x=\"625\" y=\"-185.8\" font-family=\"Helvetica,sans-Serif\" font-size=\"14.00\">samples = 8.3%</text>\n<text text-anchor=\"middle\" x=\"625\" y=\"-170.8\" font-family=\"Helvetica,sans-Serif\" font-size=\"14.00\">value = [0.0, 0.0, 0.429, 0.429, 0.143, 0.0]</text>\n</g>\n<!-- 8&#45;&gt;9 -->\n<g id=\"edge9\" class=\"edge\">\n<title>8&#45;&gt;9</title>\n<path fill=\"none\" stroke=\"black\" d=\"M628.53,-251.87C628.07,-243.89 627.55,-234.93 627.06,-226.38\"/>\n<polygon fill=\"black\" stroke=\"black\" points=\"630.55,-226.03 626.48,-216.25 623.56,-226.43 630.55,-226.03\"/>\n</g>\n<!-- 14 -->\n<g id=\"node15\" class=\"node\">\n<title>14</title>\n<polygon fill=\"#e5399d\" stroke=\"black\" points=\"999,-208.5 777,-208.5 777,-170.5 999,-170.5 999,-208.5\"/>\n<text text-anchor=\"middle\" x=\"888\" y=\"-193.3\" font-family=\"Helvetica,sans-Serif\" font-size=\"14.00\">samples = 2.8%</text>\n<text text-anchor=\"middle\" x=\"888\" y=\"-178.3\" font-family=\"Helvetica,sans-Serif\" font-size=\"14.00\">value = [0.0, 0.0, 0.0, 0.0, 0.0, 1.0]</text>\n</g>\n<!-- 8&#45;&gt;14 -->\n<g id=\"edge14\" class=\"edge\">\n<title>8&#45;&gt;14</title>\n<path fill=\"none\" stroke=\"black\" d=\"M705.67,-251.98C743.45,-239.24 788.64,-224.01 824.58,-211.89\"/>\n<polygon fill=\"black\" stroke=\"black\" points=\"826.1,-215.07 834.46,-208.55 823.86,-208.43 826.1,-215.07\"/>\n</g>\n<!-- 10 -->\n<g id=\"node11\" class=\"node\">\n<title>10</title>\n<polygon fill=\"#ffffff\" stroke=\"black\" points=\"616,-127 394,-127 394,-74 616,-74 616,-127\"/>\n<text text-anchor=\"middle\" x=\"505\" y=\"-111.8\" font-family=\"Helvetica,sans-Serif\" font-size=\"14.00\">SEVERITY &lt;= 0.5</text>\n<text text-anchor=\"middle\" x=\"505\" y=\"-96.8\" font-family=\"Helvetica,sans-Serif\" font-size=\"14.00\">samples = 5.6%</text>\n<text text-anchor=\"middle\" x=\"505\" y=\"-81.8\" font-family=\"Helvetica,sans-Serif\" font-size=\"14.00\">value = [0.0, 0.0, 0.5, 0.5, 0.0, 0.0]</text>\n</g>\n<!-- 9&#45;&gt;10 -->\n<g id=\"edge10\" class=\"edge\">\n<title>9&#45;&gt;10</title>\n<path fill=\"none\" stroke=\"black\" d=\"M589.65,-162.87C576.82,-153.57 562.18,-142.95 548.72,-133.2\"/>\n<polygon fill=\"black\" stroke=\"black\" points=\"550.67,-130.29 540.52,-127.25 546.56,-135.95 550.67,-130.29\"/>\n</g>\n<!-- 13 -->\n<g id=\"node14\" class=\"node\">\n<title>13</title>\n<polygon fill=\"#8139e5\" stroke=\"black\" points=\"856,-119.5 634,-119.5 634,-81.5 856,-81.5 856,-119.5\"/>\n<text text-anchor=\"middle\" x=\"745\" y=\"-104.3\" font-family=\"Helvetica,sans-Serif\" font-size=\"14.00\">samples = 2.8%</text>\n<text text-anchor=\"middle\" x=\"745\" y=\"-89.3\" font-family=\"Helvetica,sans-Serif\" font-size=\"14.00\">value = [0.0, 0.0, 0.0, 0.0, 1.0, 0.0]</text>\n</g>\n<!-- 9&#45;&gt;13 -->\n<g id=\"edge13\" class=\"edge\">\n<title>9&#45;&gt;13</title>\n<path fill=\"none\" stroke=\"black\" d=\"M660.35,-162.87C676.57,-151.11 695.69,-137.25 711.66,-125.67\"/>\n<polygon fill=\"black\" stroke=\"black\" points=\"714.12,-128.21 720.16,-119.51 710.01,-122.54 714.12,-128.21\"/>\n</g>\n<!-- 11 -->\n<g id=\"node12\" class=\"node\">\n<title>11</title>\n<polygon fill=\"#39e581\" stroke=\"black\" points=\"496,-38 274,-38 274,0 496,0 496,-38\"/>\n<text text-anchor=\"middle\" x=\"385\" y=\"-22.8\" font-family=\"Helvetica,sans-Serif\" font-size=\"14.00\">samples = 2.8%</text>\n<text text-anchor=\"middle\" x=\"385\" y=\"-7.8\" font-family=\"Helvetica,sans-Serif\" font-size=\"14.00\">value = [0.0, 0.0, 1.0, 0.0, 0.0, 0.0]</text>\n</g>\n<!-- 10&#45;&gt;11 -->\n<g id=\"edge11\" class=\"edge\">\n<title>10&#45;&gt;11</title>\n<path fill=\"none\" stroke=\"black\" d=\"M466.37,-73.91C451.85,-64.29 435.4,-53.39 421.11,-43.92\"/>\n<polygon fill=\"black\" stroke=\"black\" points=\"422.8,-40.84 412.53,-38.24 418.93,-46.68 422.8,-40.84\"/>\n</g>\n<!-- 12 -->\n<g id=\"node13\" class=\"node\">\n<title>12</title>\n<polygon fill=\"#399de5\" stroke=\"black\" points=\"736,-38 514,-38 514,0 736,0 736,-38\"/>\n<text text-anchor=\"middle\" x=\"625\" y=\"-22.8\" font-family=\"Helvetica,sans-Serif\" font-size=\"14.00\">samples = 2.8%</text>\n<text text-anchor=\"middle\" x=\"625\" y=\"-7.8\" font-family=\"Helvetica,sans-Serif\" font-size=\"14.00\">value = [0.0, 0.0, 0.0, 1.0, 0.0, 0.0]</text>\n</g>\n<!-- 10&#45;&gt;12 -->\n<g id=\"edge12\" class=\"edge\">\n<title>10&#45;&gt;12</title>\n<path fill=\"none\" stroke=\"black\" d=\"M543.63,-73.91C558.15,-64.29 574.6,-53.39 588.89,-43.92\"/>\n<polygon fill=\"black\" stroke=\"black\" points=\"591.07,-46.68 597.47,-38.24 587.2,-40.84 591.07,-46.68\"/>\n</g>\n<!-- 17 -->\n<g id=\"node18\" class=\"node\">\n<title>17</title>\n<polygon fill=\"#ade95a\" stroke=\"black\" points=\"1284,-483 1032,-483 1032,-430 1284,-430 1284,-483\"/>\n<text text-anchor=\"middle\" x=\"1158\" y=\"-467.8\" font-family=\"Helvetica,sans-Serif\" font-size=\"14.00\">Age &lt;= 6.5</text>\n<text text-anchor=\"middle\" x=\"1158\" y=\"-452.8\" font-family=\"Helvetica,sans-Serif\" font-size=\"14.00\">samples = 11.1%</text>\n<text text-anchor=\"middle\" x=\"1158\" y=\"-437.8\" font-family=\"Helvetica,sans-Serif\" font-size=\"14.00\">value = [0.0, 0.857, 0.0, 0.0, 0.143, 0.0]</text>\n</g>\n<!-- 16&#45;&gt;17 -->\n<g id=\"edge17\" class=\"edge\">\n<title>16&#45;&gt;17</title>\n<path fill=\"none\" stroke=\"black\" d=\"M1158,-518.87C1158,-510.89 1158,-501.93 1158,-493.38\"/>\n<polygon fill=\"black\" stroke=\"black\" points=\"1161.5,-493.25 1158,-483.25 1154.5,-493.25 1161.5,-493.25\"/>\n</g>\n<!-- 20 -->\n<g id=\"node21\" class=\"node\">\n<title>20</title>\n<polygon fill=\"#bdf6d5\" stroke=\"black\" points=\"1603,-483 1381,-483 1381,-430 1603,-430 1603,-483\"/>\n<text text-anchor=\"middle\" x=\"1492\" y=\"-467.8\" font-family=\"Helvetica,sans-Serif\" font-size=\"14.00\">Symptom area &lt;= 1.5</text>\n<text text-anchor=\"middle\" x=\"1492\" y=\"-452.8\" font-family=\"Helvetica,sans-Serif\" font-size=\"14.00\">samples = 19.4%</text>\n<text text-anchor=\"middle\" x=\"1492\" y=\"-437.8\" font-family=\"Helvetica,sans-Serif\" font-size=\"14.00\">value = [0.0, 0.0, 0.6, 0.0, 0.4, 0.0]</text>\n</g>\n<!-- 16&#45;&gt;20 -->\n<g id=\"edge20\" class=\"edge\">\n<title>16&#45;&gt;20</title>\n<path fill=\"none\" stroke=\"black\" d=\"M1255.95,-518.98C1296.23,-508.49 1343,-496.31 1384.24,-485.57\"/>\n<polygon fill=\"black\" stroke=\"black\" points=\"1385.25,-488.92 1394.05,-483.01 1383.49,-482.15 1385.25,-488.92\"/>\n</g>\n<!-- 18 -->\n<g id=\"node19\" class=\"node\">\n<title>18</title>\n<polygon fill=\"#9de539\" stroke=\"black\" points=\"1123,-386.5 901,-386.5 901,-348.5 1123,-348.5 1123,-386.5\"/>\n<text text-anchor=\"middle\" x=\"1012\" y=\"-371.3\" font-family=\"Helvetica,sans-Serif\" font-size=\"14.00\">samples = 8.3%</text>\n<text text-anchor=\"middle\" x=\"1012\" y=\"-356.3\" font-family=\"Helvetica,sans-Serif\" font-size=\"14.00\">value = [0.0, 1.0, 0.0, 0.0, 0.0, 0.0]</text>\n</g>\n<!-- 17&#45;&gt;18 -->\n<g id=\"edge18\" class=\"edge\">\n<title>17&#45;&gt;18</title>\n<path fill=\"none\" stroke=\"black\" d=\"M1114.98,-429.87C1094.71,-417.78 1070.69,-403.47 1050.96,-391.71\"/>\n<polygon fill=\"black\" stroke=\"black\" points=\"1052.6,-388.62 1042.22,-386.51 1049.02,-394.63 1052.6,-388.62\"/>\n</g>\n<!-- 19 -->\n<g id=\"node20\" class=\"node\">\n<title>19</title>\n<polygon fill=\"#8139e5\" stroke=\"black\" points=\"1363,-386.5 1141,-386.5 1141,-348.5 1363,-348.5 1363,-386.5\"/>\n<text text-anchor=\"middle\" x=\"1252\" y=\"-371.3\" font-family=\"Helvetica,sans-Serif\" font-size=\"14.00\">samples = 2.8%</text>\n<text text-anchor=\"middle\" x=\"1252\" y=\"-356.3\" font-family=\"Helvetica,sans-Serif\" font-size=\"14.00\">value = [0.0, 0.0, 0.0, 0.0, 1.0, 0.0]</text>\n</g>\n<!-- 17&#45;&gt;19 -->\n<g id=\"edge19\" class=\"edge\">\n<title>17&#45;&gt;19</title>\n<path fill=\"none\" stroke=\"black\" d=\"M1185.69,-429.87C1198.16,-418.33 1212.82,-404.76 1225.19,-393.32\"/>\n<polygon fill=\"black\" stroke=\"black\" points=\"1227.58,-395.87 1232.54,-386.51 1222.83,-390.73 1227.58,-395.87\"/>\n</g>\n<!-- 21 -->\n<g id=\"node22\" class=\"node\">\n<title>21</title>\n<polygon fill=\"#6aeca0\" stroke=\"black\" points=\"1603,-394 1381,-394 1381,-341 1603,-341 1603,-394\"/>\n<text text-anchor=\"middle\" x=\"1492\" y=\"-378.8\" font-family=\"Helvetica,sans-Serif\" font-size=\"14.00\">Age &lt;= 5.5</text>\n<text text-anchor=\"middle\" x=\"1492\" y=\"-363.8\" font-family=\"Helvetica,sans-Serif\" font-size=\"14.00\">samples = 8.3%</text>\n<text text-anchor=\"middle\" x=\"1492\" y=\"-348.8\" font-family=\"Helvetica,sans-Serif\" font-size=\"14.00\">value = [0.0, 0.0, 0.8, 0.0, 0.2, 0.0]</text>\n</g>\n<!-- 20&#45;&gt;21 -->\n<g id=\"edge21\" class=\"edge\">\n<title>20&#45;&gt;21</title>\n<path fill=\"none\" stroke=\"black\" d=\"M1492,-429.87C1492,-421.89 1492,-412.93 1492,-404.38\"/>\n<polygon fill=\"black\" stroke=\"black\" points=\"1495.5,-404.25 1492,-394.25 1488.5,-404.25 1495.5,-404.25\"/>\n</g>\n<!-- 24 -->\n<g id=\"node25\" class=\"node\">\n<title>24</title>\n<polygon fill=\"#d5bdf6\" stroke=\"black\" points=\"1843,-394 1621,-394 1621,-341 1843,-341 1843,-394\"/>\n<text text-anchor=\"middle\" x=\"1732\" y=\"-378.8\" font-family=\"Helvetica,sans-Serif\" font-size=\"14.00\">SEVERITY &lt;= 1.0</text>\n<text text-anchor=\"middle\" x=\"1732\" y=\"-363.8\" font-family=\"Helvetica,sans-Serif\" font-size=\"14.00\">samples = 11.1%</text>\n<text text-anchor=\"middle\" x=\"1732\" y=\"-348.8\" font-family=\"Helvetica,sans-Serif\" font-size=\"14.00\">value = [0.0, 0.0, 0.4, 0.0, 0.6, 0.0]</text>\n</g>\n<!-- 20&#45;&gt;24 -->\n<g id=\"edge24\" class=\"edge\">\n<title>20&#45;&gt;24</title>\n<path fill=\"none\" stroke=\"black\" d=\"M1562.39,-429.98C1590.47,-419.8 1622.96,-408.03 1651.93,-397.52\"/>\n<polygon fill=\"black\" stroke=\"black\" points=\"1653.41,-400.71 1661.61,-394.01 1651.02,-394.13 1653.41,-400.71\"/>\n</g>\n<!-- 22 -->\n<g id=\"node23\" class=\"node\">\n<title>22</title>\n<polygon fill=\"#39e581\" stroke=\"black\" points=\"1363,-297.5 1141,-297.5 1141,-259.5 1363,-259.5 1363,-297.5\"/>\n<text text-anchor=\"middle\" x=\"1252\" y=\"-282.3\" font-family=\"Helvetica,sans-Serif\" font-size=\"14.00\">samples = 5.6%</text>\n<text text-anchor=\"middle\" x=\"1252\" y=\"-267.3\" font-family=\"Helvetica,sans-Serif\" font-size=\"14.00\">value = [0.0, 0.0, 1.0, 0.0, 0.0, 0.0]</text>\n</g>\n<!-- 21&#45;&gt;22 -->\n<g id=\"edge22\" class=\"edge\">\n<title>21&#45;&gt;22</title>\n<path fill=\"none\" stroke=\"black\" d=\"M1421.61,-340.98C1386.62,-328.3 1344.79,-313.14 1311.42,-301.04\"/>\n<polygon fill=\"black\" stroke=\"black\" points=\"1312.4,-297.67 1301.81,-297.55 1310.02,-304.25 1312.4,-297.67\"/>\n</g>\n<!-- 23 -->\n<g id=\"node24\" class=\"node\">\n<title>23</title>\n<polygon fill=\"#8139e5\" stroke=\"black\" points=\"1603,-297.5 1381,-297.5 1381,-259.5 1603,-259.5 1603,-297.5\"/>\n<text text-anchor=\"middle\" x=\"1492\" y=\"-282.3\" font-family=\"Helvetica,sans-Serif\" font-size=\"14.00\">samples = 2.8%</text>\n<text text-anchor=\"middle\" x=\"1492\" y=\"-267.3\" font-family=\"Helvetica,sans-Serif\" font-size=\"14.00\">value = [0.0, 0.0, 0.0, 0.0, 1.0, 0.0]</text>\n</g>\n<!-- 21&#45;&gt;23 -->\n<g id=\"edge23\" class=\"edge\">\n<title>21&#45;&gt;23</title>\n<path fill=\"none\" stroke=\"black\" d=\"M1492,-340.87C1492,-330.42 1492,-318.3 1492,-307.61\"/>\n<polygon fill=\"black\" stroke=\"black\" points=\"1495.5,-307.51 1492,-297.51 1488.5,-307.51 1495.5,-307.51\"/>\n</g>\n<!-- 25 -->\n<g id=\"node26\" class=\"node\">\n<title>25</title>\n<polygon fill=\"#39e581\" stroke=\"black\" points=\"1843,-297.5 1621,-297.5 1621,-259.5 1843,-259.5 1843,-297.5\"/>\n<text text-anchor=\"middle\" x=\"1732\" y=\"-282.3\" font-family=\"Helvetica,sans-Serif\" font-size=\"14.00\">samples = 5.6%</text>\n<text text-anchor=\"middle\" x=\"1732\" y=\"-267.3\" font-family=\"Helvetica,sans-Serif\" font-size=\"14.00\">value = [0.0, 0.0, 1.0, 0.0, 0.0, 0.0]</text>\n</g>\n<!-- 24&#45;&gt;25 -->\n<g id=\"edge25\" class=\"edge\">\n<title>24&#45;&gt;25</title>\n<path fill=\"none\" stroke=\"black\" d=\"M1732,-340.87C1732,-330.42 1732,-318.3 1732,-307.61\"/>\n<polygon fill=\"black\" stroke=\"black\" points=\"1735.5,-307.51 1732,-297.51 1728.5,-307.51 1735.5,-307.51\"/>\n</g>\n<!-- 26 -->\n<g id=\"node27\" class=\"node\">\n<title>26</title>\n<polygon fill=\"#8139e5\" stroke=\"black\" points=\"2083,-297.5 1861,-297.5 1861,-259.5 2083,-259.5 2083,-297.5\"/>\n<text text-anchor=\"middle\" x=\"1972\" y=\"-282.3\" font-family=\"Helvetica,sans-Serif\" font-size=\"14.00\">samples = 5.6%</text>\n<text text-anchor=\"middle\" x=\"1972\" y=\"-267.3\" font-family=\"Helvetica,sans-Serif\" font-size=\"14.00\">value = [0.0, 0.0, 0.0, 0.0, 1.0, 0.0]</text>\n</g>\n<!-- 24&#45;&gt;26 -->\n<g id=\"edge26\" class=\"edge\">\n<title>24&#45;&gt;26</title>\n<path fill=\"none\" stroke=\"black\" d=\"M1802.39,-340.98C1837.38,-328.3 1879.21,-313.14 1912.58,-301.04\"/>\n<polygon fill=\"black\" stroke=\"black\" points=\"1913.98,-304.25 1922.19,-297.55 1911.6,-297.67 1913.98,-304.25\"/>\n</g>\n</g>\n</svg>\n",
            "text/plain": [
              "<graphviz.sources.Source at 0x7fd69e6888e0>"
            ]
          },
          "metadata": {}
        },
        {
          "output_type": "display_data",
          "data": {
            "image/svg+xml": "<?xml version=\"1.0\" encoding=\"UTF-8\" standalone=\"no\"?>\n<!DOCTYPE svg PUBLIC \"-//W3C//DTD SVG 1.1//EN\"\n \"http://www.w3.org/Graphics/SVG/1.1/DTD/svg11.dtd\">\n<!-- Generated by graphviz version 2.43.0 (0)\n -->\n<!-- Title: Tree Pages: 1 -->\n<svg width=\"2905pt\" height=\"758pt\"\n viewBox=\"0.00 0.00 2905.00 758.00\" xmlns=\"http://www.w3.org/2000/svg\" xmlns:xlink=\"http://www.w3.org/1999/xlink\">\n<g id=\"graph0\" class=\"graph\" transform=\"scale(1 1) rotate(0) translate(4 754)\">\n<title>Tree</title>\n<polygon fill=\"white\" stroke=\"transparent\" points=\"-4,4 -4,-754 2901,-754 2901,4 -4,4\"/>\n<!-- 0 -->\n<g id=\"node1\" class=\"node\">\n<title>0</title>\n<polygon fill=\"#caabf4\" stroke=\"black\" points=\"1070,-750 758,-750 758,-697 1070,-697 1070,-750\"/>\n<text text-anchor=\"middle\" x=\"914\" y=\"-734.8\" font-family=\"Helvetica,sans-Serif\" font-size=\"14.00\">Symptom area &lt;= 1.5</text>\n<text text-anchor=\"middle\" x=\"914\" y=\"-719.8\" font-family=\"Helvetica,sans-Serif\" font-size=\"14.00\">samples = 100.0%</text>\n<text text-anchor=\"middle\" x=\"914\" y=\"-704.8\" font-family=\"Helvetica,sans-Serif\" font-size=\"14.00\">value = [0.034, 0.224, 0.086, 0.069, 0.552, 0.034]</text>\n</g>\n<!-- 1 -->\n<g id=\"node2\" class=\"node\">\n<title>1</title>\n<polygon fill=\"#d6f4ac\" stroke=\"black\" points=\"739,-661 457,-661 457,-608 739,-608 739,-661\"/>\n<text text-anchor=\"middle\" x=\"598\" y=\"-645.8\" font-family=\"Helvetica,sans-Serif\" font-size=\"14.00\">PAIN &lt;= 0.5</text>\n<text text-anchor=\"middle\" x=\"598\" y=\"-630.8\" font-family=\"Helvetica,sans-Serif\" font-size=\"14.00\">samples = 20.5%</text>\n<text text-anchor=\"middle\" x=\"598\" y=\"-615.8\" font-family=\"Helvetica,sans-Serif\" font-size=\"14.00\">value = [0.0, 0.5, 0.143, 0.143, 0.071, 0.143]</text>\n</g>\n<!-- 0&#45;&gt;1 -->\n<g id=\"edge1\" class=\"edge\">\n<title>0&#45;&gt;1</title>\n<path fill=\"none\" stroke=\"black\" d=\"M821.32,-696.98C783.38,-686.54 739.34,-674.41 700.44,-663.7\"/>\n<polygon fill=\"black\" stroke=\"black\" points=\"701.24,-660.29 690.67,-661.01 699.39,-667.04 701.24,-660.29\"/>\n<text text-anchor=\"middle\" x=\"703.02\" y=\"-679.05\" font-family=\"Helvetica,sans-Serif\" font-size=\"14.00\">True</text>\n</g>\n<!-- 10 -->\n<g id=\"node11\" class=\"node\">\n<title>10</title>\n<polygon fill=\"#ac7dee\" stroke=\"black\" points=\"1545.5,-661 1248.5,-661 1248.5,-608 1545.5,-608 1545.5,-661\"/>\n<text text-anchor=\"middle\" x=\"1397\" y=\"-645.8\" font-family=\"Helvetica,sans-Serif\" font-size=\"14.00\">Age &lt;= 4.5</text>\n<text text-anchor=\"middle\" x=\"1397\" y=\"-630.8\" font-family=\"Helvetica,sans-Serif\" font-size=\"14.00\">samples = 79.5%</text>\n<text text-anchor=\"middle\" x=\"1397\" y=\"-615.8\" font-family=\"Helvetica,sans-Serif\" font-size=\"14.00\">value = [0.045, 0.136, 0.068, 0.045, 0.705, 0.0]</text>\n</g>\n<!-- 0&#45;&gt;10 -->\n<g id=\"edge10\" class=\"edge\">\n<title>0&#45;&gt;10</title>\n<path fill=\"none\" stroke=\"black\" d=\"M1055.65,-696.98C1115.24,-686.25 1184.68,-673.74 1245.31,-662.82\"/>\n<polygon fill=\"black\" stroke=\"black\" points=\"1246.13,-666.23 1255.35,-661.01 1244.89,-659.34 1246.13,-666.23\"/>\n<text text-anchor=\"middle\" x=\"1241.09\" y=\"-677.85\" font-family=\"Helvetica,sans-Serif\" font-size=\"14.00\">False</text>\n</g>\n<!-- 2 -->\n<g id=\"node3\" class=\"node\">\n<title>2</title>\n<polygon fill=\"#9de539\" stroke=\"black\" points=\"439,-564.5 217,-564.5 217,-526.5 439,-526.5 439,-564.5\"/>\n<text text-anchor=\"middle\" x=\"328\" y=\"-549.3\" font-family=\"Helvetica,sans-Serif\" font-size=\"14.00\">samples = 10.3%</text>\n<text text-anchor=\"middle\" x=\"328\" y=\"-534.3\" font-family=\"Helvetica,sans-Serif\" font-size=\"14.00\">value = [0.0, 1.0, 0.0, 0.0, 0.0, 0.0]</text>\n</g>\n<!-- 1&#45;&gt;2 -->\n<g id=\"edge2\" class=\"edge\">\n<title>1&#45;&gt;2</title>\n<path fill=\"none\" stroke=\"black\" d=\"M518.82,-607.98C479.11,-595.19 431.58,-579.87 393.89,-567.73\"/>\n<polygon fill=\"black\" stroke=\"black\" points=\"394.62,-564.29 384.03,-564.55 392.48,-570.95 394.62,-564.29\"/>\n</g>\n<!-- 3 -->\n<g id=\"node4\" class=\"node\">\n<title>3</title>\n<polygon fill=\"#ffffff\" stroke=\"black\" points=\"739,-572 457,-572 457,-519 739,-519 739,-572\"/>\n<text text-anchor=\"middle\" x=\"598\" y=\"-556.8\" font-family=\"Helvetica,sans-Serif\" font-size=\"14.00\">Age &lt;= 1.0</text>\n<text text-anchor=\"middle\" x=\"598\" y=\"-541.8\" font-family=\"Helvetica,sans-Serif\" font-size=\"14.00\">samples = 10.3%</text>\n<text text-anchor=\"middle\" x=\"598\" y=\"-526.8\" font-family=\"Helvetica,sans-Serif\" font-size=\"14.00\">value = [0.0, 0.0, 0.286, 0.286, 0.143, 0.286]</text>\n</g>\n<!-- 1&#45;&gt;3 -->\n<g id=\"edge3\" class=\"edge\">\n<title>1&#45;&gt;3</title>\n<path fill=\"none\" stroke=\"black\" d=\"M598,-607.87C598,-599.89 598,-590.93 598,-582.38\"/>\n<polygon fill=\"black\" stroke=\"black\" points=\"601.5,-582.25 598,-572.25 594.5,-582.25 601.5,-582.25\"/>\n</g>\n<!-- 4 -->\n<g id=\"node5\" class=\"node\">\n<title>4</title>\n<polygon fill=\"#399de5\" stroke=\"black\" points=\"469,-475.5 247,-475.5 247,-437.5 469,-437.5 469,-475.5\"/>\n<text text-anchor=\"middle\" x=\"358\" y=\"-460.3\" font-family=\"Helvetica,sans-Serif\" font-size=\"14.00\">samples = 2.6%</text>\n<text text-anchor=\"middle\" x=\"358\" y=\"-445.3\" font-family=\"Helvetica,sans-Serif\" font-size=\"14.00\">value = [0.0, 0.0, 0.0, 1.0, 0.0, 0.0]</text>\n</g>\n<!-- 3&#45;&gt;4 -->\n<g id=\"edge4\" class=\"edge\">\n<title>3&#45;&gt;4</title>\n<path fill=\"none\" stroke=\"black\" d=\"M527.61,-518.98C492.62,-506.3 450.79,-491.14 417.42,-479.04\"/>\n<polygon fill=\"black\" stroke=\"black\" points=\"418.4,-475.67 407.81,-475.55 416.02,-482.25 418.4,-475.67\"/>\n</g>\n<!-- 5 -->\n<g id=\"node6\" class=\"node\">\n<title>5</title>\n<polygon fill=\"#ffffff\" stroke=\"black\" points=\"709,-483 487,-483 487,-430 709,-430 709,-483\"/>\n<text text-anchor=\"middle\" x=\"598\" y=\"-467.8\" font-family=\"Helvetica,sans-Serif\" font-size=\"14.00\">SEVERITY &lt;= 0.5</text>\n<text text-anchor=\"middle\" x=\"598\" y=\"-452.8\" font-family=\"Helvetica,sans-Serif\" font-size=\"14.00\">samples = 7.7%</text>\n<text text-anchor=\"middle\" x=\"598\" y=\"-437.8\" font-family=\"Helvetica,sans-Serif\" font-size=\"14.00\">value = [0.0, 0.0, 0.4, 0.0, 0.2, 0.4]</text>\n</g>\n<!-- 3&#45;&gt;5 -->\n<g id=\"edge5\" class=\"edge\">\n<title>3&#45;&gt;5</title>\n<path fill=\"none\" stroke=\"black\" d=\"M598,-518.87C598,-510.89 598,-501.93 598,-493.38\"/>\n<polygon fill=\"black\" stroke=\"black\" points=\"601.5,-493.25 598,-483.25 594.5,-493.25 601.5,-493.25\"/>\n</g>\n<!-- 6 -->\n<g id=\"node7\" class=\"node\">\n<title>6</title>\n<polygon fill=\"#9cf2c0\" stroke=\"black\" points=\"469,-394 217,-394 217,-341 469,-341 469,-394\"/>\n<text text-anchor=\"middle\" x=\"343\" y=\"-378.8\" font-family=\"Helvetica,sans-Serif\" font-size=\"14.00\">PAIN &lt;= 1.5</text>\n<text text-anchor=\"middle\" x=\"343\" y=\"-363.8\" font-family=\"Helvetica,sans-Serif\" font-size=\"14.00\">samples = 5.1%</text>\n<text text-anchor=\"middle\" x=\"343\" y=\"-348.8\" font-family=\"Helvetica,sans-Serif\" font-size=\"14.00\">value = [0.0, 0.0, 0.667, 0.0, 0.333, 0.0]</text>\n</g>\n<!-- 5&#45;&gt;6 -->\n<g id=\"edge6\" class=\"edge\">\n<title>5&#45;&gt;6</title>\n<path fill=\"none\" stroke=\"black\" d=\"M523.21,-429.98C493.12,-419.72 458.26,-407.82 427.27,-397.25\"/>\n<polygon fill=\"black\" stroke=\"black\" points=\"428.38,-393.93 417.78,-394.01 426.12,-400.56 428.38,-393.93\"/>\n</g>\n<!-- 9 -->\n<g id=\"node10\" class=\"node\">\n<title>9</title>\n<polygon fill=\"#e5399d\" stroke=\"black\" points=\"709,-386.5 487,-386.5 487,-348.5 709,-348.5 709,-386.5\"/>\n<text text-anchor=\"middle\" x=\"598\" y=\"-371.3\" font-family=\"Helvetica,sans-Serif\" font-size=\"14.00\">samples = 2.6%</text>\n<text text-anchor=\"middle\" x=\"598\" y=\"-356.3\" font-family=\"Helvetica,sans-Serif\" font-size=\"14.00\">value = [0.0, 0.0, 0.0, 0.0, 0.0, 1.0]</text>\n</g>\n<!-- 5&#45;&gt;9 -->\n<g id=\"edge9\" class=\"edge\">\n<title>5&#45;&gt;9</title>\n<path fill=\"none\" stroke=\"black\" d=\"M598,-429.87C598,-419.42 598,-407.3 598,-396.61\"/>\n<polygon fill=\"black\" stroke=\"black\" points=\"601.5,-396.51 598,-386.51 594.5,-396.51 601.5,-396.51\"/>\n</g>\n<!-- 7 -->\n<g id=\"node8\" class=\"node\">\n<title>7</title>\n<polygon fill=\"#39e581\" stroke=\"black\" points=\"222,-297.5 0,-297.5 0,-259.5 222,-259.5 222,-297.5\"/>\n<text text-anchor=\"middle\" x=\"111\" y=\"-282.3\" font-family=\"Helvetica,sans-Serif\" font-size=\"14.00\">samples = 2.6%</text>\n<text text-anchor=\"middle\" x=\"111\" y=\"-267.3\" font-family=\"Helvetica,sans-Serif\" font-size=\"14.00\">value = [0.0, 0.0, 1.0, 0.0, 0.0, 0.0]</text>\n</g>\n<!-- 6&#45;&gt;7 -->\n<g id=\"edge7\" class=\"edge\">\n<title>6&#45;&gt;7</title>\n<path fill=\"none\" stroke=\"black\" d=\"M274.96,-340.98C241.27,-328.35 201.04,-313.27 168.86,-301.2\"/>\n<polygon fill=\"black\" stroke=\"black\" points=\"169.74,-297.79 159.15,-297.55 167.28,-304.34 169.74,-297.79\"/>\n</g>\n<!-- 8 -->\n<g id=\"node9\" class=\"node\">\n<title>8</title>\n<polygon fill=\"#8139e5\" stroke=\"black\" points=\"462,-297.5 240,-297.5 240,-259.5 462,-259.5 462,-297.5\"/>\n<text text-anchor=\"middle\" x=\"351\" y=\"-282.3\" font-family=\"Helvetica,sans-Serif\" font-size=\"14.00\">samples = 2.6%</text>\n<text text-anchor=\"middle\" x=\"351\" y=\"-267.3\" font-family=\"Helvetica,sans-Serif\" font-size=\"14.00\">value = [0.0, 0.0, 0.0, 0.0, 1.0, 0.0]</text>\n</g>\n<!-- 6&#45;&gt;8 -->\n<g id=\"edge8\" class=\"edge\">\n<title>6&#45;&gt;8</title>\n<path fill=\"none\" stroke=\"black\" d=\"M345.36,-340.87C346.32,-330.42 347.43,-318.3 348.42,-307.61\"/>\n<polygon fill=\"black\" stroke=\"black\" points=\"351.91,-307.79 349.34,-297.51 344.94,-307.14 351.91,-307.79\"/>\n</g>\n<!-- 11 -->\n<g id=\"node12\" class=\"node\">\n<title>11</title>\n<polygon fill=\"#a774ed\" stroke=\"black\" points=\"1545.5,-572 1248.5,-572 1248.5,-519 1545.5,-519 1545.5,-572\"/>\n<text text-anchor=\"middle\" x=\"1397\" y=\"-556.8\" font-family=\"Helvetica,sans-Serif\" font-size=\"14.00\">PAIN &lt;= 0.5</text>\n<text text-anchor=\"middle\" x=\"1397\" y=\"-541.8\" font-family=\"Helvetica,sans-Serif\" font-size=\"14.00\">samples = 61.5%</text>\n<text text-anchor=\"middle\" x=\"1397\" y=\"-526.8\" font-family=\"Helvetica,sans-Serif\" font-size=\"14.00\">value = [0.059, 0.118, 0.029, 0.059, 0.735, 0.0]</text>\n</g>\n<!-- 10&#45;&gt;11 -->\n<g id=\"edge11\" class=\"edge\">\n<title>10&#45;&gt;11</title>\n<path fill=\"none\" stroke=\"black\" d=\"M1397,-607.87C1397,-599.89 1397,-590.93 1397,-582.38\"/>\n<polygon fill=\"black\" stroke=\"black\" points=\"1400.5,-582.25 1397,-572.25 1393.5,-582.25 1400.5,-582.25\"/>\n</g>\n<!-- 36 -->\n<g id=\"node37\" class=\"node\">\n<title>36</title>\n<polygon fill=\"#c09cf2\" stroke=\"black\" points=\"2289,-572 2067,-572 2067,-519 2289,-519 2289,-572\"/>\n<text text-anchor=\"middle\" x=\"2178\" y=\"-556.8\" font-family=\"Helvetica,sans-Serif\" font-size=\"14.00\">PAIN &lt;= 0.5</text>\n<text text-anchor=\"middle\" x=\"2178\" y=\"-541.8\" font-family=\"Helvetica,sans-Serif\" font-size=\"14.00\">samples = 17.9%</text>\n<text text-anchor=\"middle\" x=\"2178\" y=\"-526.8\" font-family=\"Helvetica,sans-Serif\" font-size=\"14.00\">value = [0.0, 0.2, 0.2, 0.0, 0.6, 0.0]</text>\n</g>\n<!-- 10&#45;&gt;36 -->\n<g id=\"edge36\" class=\"edge\">\n<title>10&#45;&gt;36</title>\n<path fill=\"none\" stroke=\"black\" d=\"M1545.74,-616.93C1693.94,-600.42 1918.75,-575.38 2056.55,-560.03\"/>\n<polygon fill=\"black\" stroke=\"black\" points=\"2057.18,-563.48 2066.73,-558.89 2056.41,-556.52 2057.18,-563.48\"/>\n</g>\n<!-- 12 -->\n<g id=\"node13\" class=\"node\">\n<title>12</title>\n<polygon fill=\"#b083ef\" stroke=\"black\" points=\"1342,-483 1120,-483 1120,-430 1342,-430 1342,-483\"/>\n<text text-anchor=\"middle\" x=\"1231\" y=\"-467.8\" font-family=\"Helvetica,sans-Serif\" font-size=\"14.00\">IRRITABILITY &lt;= 0.5</text>\n<text text-anchor=\"middle\" x=\"1231\" y=\"-452.8\" font-family=\"Helvetica,sans-Serif\" font-size=\"14.00\">samples = 33.3%</text>\n<text text-anchor=\"middle\" x=\"1231\" y=\"-437.8\" font-family=\"Helvetica,sans-Serif\" font-size=\"14.00\">value = [0.1, 0.2, 0.0, 0.0, 0.7, 0.0]</text>\n</g>\n<!-- 11&#45;&gt;12 -->\n<g id=\"edge12\" class=\"edge\">\n<title>11&#45;&gt;12</title>\n<path fill=\"none\" stroke=\"black\" d=\"M1348.09,-518.87C1329.52,-509.13 1308.18,-497.95 1288.86,-487.82\"/>\n<polygon fill=\"black\" stroke=\"black\" points=\"1290.33,-484.64 1279.84,-483.1 1287.08,-490.84 1290.33,-484.64\"/>\n</g>\n<!-- 27 -->\n<g id=\"node28\" class=\"node\">\n<title>27</title>\n<polygon fill=\"#a06bec\" stroke=\"black\" points=\"1696.5,-483 1429.5,-483 1429.5,-430 1696.5,-430 1696.5,-483\"/>\n<text text-anchor=\"middle\" x=\"1563\" y=\"-467.8\" font-family=\"Helvetica,sans-Serif\" font-size=\"14.00\">Symptom area &lt;= 2.5</text>\n<text text-anchor=\"middle\" x=\"1563\" y=\"-452.8\" font-family=\"Helvetica,sans-Serif\" font-size=\"14.00\">samples = 28.2%</text>\n<text text-anchor=\"middle\" x=\"1563\" y=\"-437.8\" font-family=\"Helvetica,sans-Serif\" font-size=\"14.00\">value = [0.0, 0.0, 0.071, 0.143, 0.786, 0.0]</text>\n</g>\n<!-- 11&#45;&gt;27 -->\n<g id=\"edge27\" class=\"edge\">\n<title>11&#45;&gt;27</title>\n<path fill=\"none\" stroke=\"black\" d=\"M1445.91,-518.87C1464.48,-509.13 1485.82,-497.95 1505.14,-487.82\"/>\n<polygon fill=\"black\" stroke=\"black\" points=\"1506.92,-490.84 1514.16,-483.1 1503.67,-484.64 1506.92,-490.84\"/>\n</g>\n<!-- 13 -->\n<g id=\"node14\" class=\"node\">\n<title>13</title>\n<polygon fill=\"#f2c09c\" stroke=\"black\" points=\"979,-394 727,-394 727,-341 979,-341 979,-394\"/>\n<text text-anchor=\"middle\" x=\"853\" y=\"-378.8\" font-family=\"Helvetica,sans-Serif\" font-size=\"14.00\">SEVERITY &lt;= 1.0</text>\n<text text-anchor=\"middle\" x=\"853\" y=\"-363.8\" font-family=\"Helvetica,sans-Serif\" font-size=\"14.00\">samples = 5.1%</text>\n<text text-anchor=\"middle\" x=\"853\" y=\"-348.8\" font-family=\"Helvetica,sans-Serif\" font-size=\"14.00\">value = [0.667, 0.0, 0.0, 0.0, 0.333, 0.0]</text>\n</g>\n<!-- 12&#45;&gt;13 -->\n<g id=\"edge13\" class=\"edge\">\n<title>12&#45;&gt;13</title>\n<path fill=\"none\" stroke=\"black\" d=\"M1120.14,-429.98C1074.18,-419.41 1020.73,-407.1 973.77,-396.3\"/>\n<polygon fill=\"black\" stroke=\"black\" points=\"974.39,-392.85 963.86,-394.01 972.82,-399.67 974.39,-392.85\"/>\n</g>\n<!-- 16 -->\n<g id=\"node17\" class=\"node\">\n<title>16</title>\n<polygon fill=\"#a876ed\" stroke=\"black\" points=\"1357,-394 1105,-394 1105,-341 1357,-341 1357,-394\"/>\n<text text-anchor=\"middle\" x=\"1231\" y=\"-378.8\" font-family=\"Helvetica,sans-Serif\" font-size=\"14.00\">Age &lt;= 3.5</text>\n<text text-anchor=\"middle\" x=\"1231\" y=\"-363.8\" font-family=\"Helvetica,sans-Serif\" font-size=\"14.00\">samples = 28.2%</text>\n<text text-anchor=\"middle\" x=\"1231\" y=\"-348.8\" font-family=\"Helvetica,sans-Serif\" font-size=\"14.00\">value = [0.0, 0.235, 0.0, 0.0, 0.765, 0.0]</text>\n</g>\n<!-- 12&#45;&gt;16 -->\n<g id=\"edge16\" class=\"edge\">\n<title>12&#45;&gt;16</title>\n<path fill=\"none\" stroke=\"black\" d=\"M1231,-429.87C1231,-421.89 1231,-412.93 1231,-404.38\"/>\n<polygon fill=\"black\" stroke=\"black\" points=\"1234.5,-404.25 1231,-394.25 1227.5,-404.25 1234.5,-404.25\"/>\n</g>\n<!-- 14 -->\n<g id=\"node15\" class=\"node\">\n<title>14</title>\n<polygon fill=\"#e58139\" stroke=\"black\" points=\"717,-297.5 495,-297.5 495,-259.5 717,-259.5 717,-297.5\"/>\n<text text-anchor=\"middle\" x=\"606\" y=\"-282.3\" font-family=\"Helvetica,sans-Serif\" font-size=\"14.00\">samples = 2.6%</text>\n<text text-anchor=\"middle\" x=\"606\" y=\"-267.3\" font-family=\"Helvetica,sans-Serif\" font-size=\"14.00\">value = [1.0, 0.0, 0.0, 0.0, 0.0, 0.0]</text>\n</g>\n<!-- 13&#45;&gt;14 -->\n<g id=\"edge14\" class=\"edge\">\n<title>13&#45;&gt;14</title>\n<path fill=\"none\" stroke=\"black\" d=\"M780.56,-340.98C744.39,-328.24 701.12,-313.01 666.72,-300.89\"/>\n<polygon fill=\"black\" stroke=\"black\" points=\"667.85,-297.58 657.26,-297.55 665.53,-304.18 667.85,-297.58\"/>\n</g>\n<!-- 15 -->\n<g id=\"node16\" class=\"node\">\n<title>15</title>\n<polygon fill=\"#8139e5\" stroke=\"black\" points=\"957,-297.5 735,-297.5 735,-259.5 957,-259.5 957,-297.5\"/>\n<text text-anchor=\"middle\" x=\"846\" y=\"-282.3\" font-family=\"Helvetica,sans-Serif\" font-size=\"14.00\">samples = 2.6%</text>\n<text text-anchor=\"middle\" x=\"846\" y=\"-267.3\" font-family=\"Helvetica,sans-Serif\" font-size=\"14.00\">value = [0.0, 0.0, 0.0, 0.0, 1.0, 0.0]</text>\n</g>\n<!-- 13&#45;&gt;15 -->\n<g id=\"edge15\" class=\"edge\">\n<title>13&#45;&gt;15</title>\n<path fill=\"none\" stroke=\"black\" d=\"M850.94,-340.87C850.1,-330.42 849.12,-318.3 848.26,-307.61\"/>\n<polygon fill=\"black\" stroke=\"black\" points=\"851.74,-307.19 847.45,-297.51 844.76,-307.76 851.74,-307.19\"/>\n</g>\n<!-- 17 -->\n<g id=\"node18\" class=\"node\">\n<title>17</title>\n<polygon fill=\"#c9aaf4\" stroke=\"black\" points=\"1227,-305 975,-305 975,-252 1227,-252 1227,-305\"/>\n<text text-anchor=\"middle\" x=\"1101\" y=\"-289.8\" font-family=\"Helvetica,sans-Serif\" font-size=\"14.00\">Symptom area &lt;= 3.5</text>\n<text text-anchor=\"middle\" x=\"1101\" y=\"-274.8\" font-family=\"Helvetica,sans-Serif\" font-size=\"14.00\">samples = 20.5%</text>\n<text text-anchor=\"middle\" x=\"1101\" y=\"-259.8\" font-family=\"Helvetica,sans-Serif\" font-size=\"14.00\">value = [0.0, 0.364, 0.0, 0.0, 0.636, 0.0]</text>\n</g>\n<!-- 16&#45;&gt;17 -->\n<g id=\"edge17\" class=\"edge\">\n<title>16&#45;&gt;17</title>\n<path fill=\"none\" stroke=\"black\" d=\"M1192.7,-340.87C1178.67,-331.48 1162.64,-320.75 1147.95,-310.92\"/>\n<polygon fill=\"black\" stroke=\"black\" points=\"1149.73,-307.9 1139.48,-305.25 1145.84,-313.72 1149.73,-307.9\"/>\n</g>\n<!-- 26 -->\n<g id=\"node27\" class=\"node\">\n<title>26</title>\n<polygon fill=\"#8139e5\" stroke=\"black\" points=\"1467,-297.5 1245,-297.5 1245,-259.5 1467,-259.5 1467,-297.5\"/>\n<text text-anchor=\"middle\" x=\"1356\" y=\"-282.3\" font-family=\"Helvetica,sans-Serif\" font-size=\"14.00\">samples = 7.7%</text>\n<text text-anchor=\"middle\" x=\"1356\" y=\"-267.3\" font-family=\"Helvetica,sans-Serif\" font-size=\"14.00\">value = [0.0, 0.0, 0.0, 0.0, 1.0, 0.0]</text>\n</g>\n<!-- 16&#45;&gt;26 -->\n<g id=\"edge26\" class=\"edge\">\n<title>16&#45;&gt;26</title>\n<path fill=\"none\" stroke=\"black\" d=\"M1267.83,-340.87C1284.88,-329 1305.01,-314.99 1321.73,-303.35\"/>\n<polygon fill=\"black\" stroke=\"black\" points=\"1323.92,-306.09 1330.13,-297.51 1319.92,-300.35 1323.92,-306.09\"/>\n</g>\n<!-- 18 -->\n<g id=\"node19\" class=\"node\">\n<title>18</title>\n<polygon fill=\"#a572ec\" stroke=\"black\" points=\"987,-216 735,-216 735,-163 987,-163 987,-216\"/>\n<text text-anchor=\"middle\" x=\"861\" y=\"-200.8\" font-family=\"Helvetica,sans-Serif\" font-size=\"14.00\">Age &lt;= 0.5</text>\n<text text-anchor=\"middle\" x=\"861\" y=\"-185.8\" font-family=\"Helvetica,sans-Serif\" font-size=\"14.00\">samples = 17.9%</text>\n<text text-anchor=\"middle\" x=\"861\" y=\"-170.8\" font-family=\"Helvetica,sans-Serif\" font-size=\"14.00\">value = [0.0, 0.222, 0.0, 0.0, 0.778, 0.0]</text>\n</g>\n<!-- 17&#45;&gt;18 -->\n<g id=\"edge18\" class=\"edge\">\n<title>17&#45;&gt;18</title>\n<path fill=\"none\" stroke=\"black\" d=\"M1030.61,-251.98C1002.53,-241.8 970.04,-230.03 941.07,-219.52\"/>\n<polygon fill=\"black\" stroke=\"black\" points=\"941.98,-216.13 931.39,-216.01 939.59,-222.71 941.98,-216.13\"/>\n</g>\n<!-- 25 -->\n<g id=\"node26\" class=\"node\">\n<title>25</title>\n<polygon fill=\"#9de539\" stroke=\"black\" points=\"1227,-208.5 1005,-208.5 1005,-170.5 1227,-170.5 1227,-208.5\"/>\n<text text-anchor=\"middle\" x=\"1116\" y=\"-193.3\" font-family=\"Helvetica,sans-Serif\" font-size=\"14.00\">samples = 2.6%</text>\n<text text-anchor=\"middle\" x=\"1116\" y=\"-178.3\" font-family=\"Helvetica,sans-Serif\" font-size=\"14.00\">value = [0.0, 1.0, 0.0, 0.0, 0.0, 0.0]</text>\n</g>\n<!-- 17&#45;&gt;25 -->\n<g id=\"edge25\" class=\"edge\">\n<title>17&#45;&gt;25</title>\n<path fill=\"none\" stroke=\"black\" d=\"M1105.42,-251.87C1107.22,-241.42 1109.31,-229.3 1111.15,-218.61\"/>\n<polygon fill=\"black\" stroke=\"black\" points=\"1114.65,-218.96 1112.9,-208.51 1107.75,-217.77 1114.65,-218.96\"/>\n</g>\n<!-- 19 -->\n<g id=\"node20\" class=\"node\">\n<title>19</title>\n<polygon fill=\"#c09cf2\" stroke=\"black\" points=\"987,-127 735,-127 735,-74 987,-74 987,-127\"/>\n<text text-anchor=\"middle\" x=\"861\" y=\"-111.8\" font-family=\"Helvetica,sans-Serif\" font-size=\"14.00\">Symptom area &lt;= 2.5</text>\n<text text-anchor=\"middle\" x=\"861\" y=\"-96.8\" font-family=\"Helvetica,sans-Serif\" font-size=\"14.00\">samples = 7.7%</text>\n<text text-anchor=\"middle\" x=\"861\" y=\"-81.8\" font-family=\"Helvetica,sans-Serif\" font-size=\"14.00\">value = [0.0, 0.333, 0.0, 0.0, 0.667, 0.0]</text>\n</g>\n<!-- 18&#45;&gt;19 -->\n<g id=\"edge19\" class=\"edge\">\n<title>18&#45;&gt;19</title>\n<path fill=\"none\" stroke=\"black\" d=\"M861,-162.87C861,-154.89 861,-145.93 861,-137.38\"/>\n<polygon fill=\"black\" stroke=\"black\" points=\"864.5,-137.25 861,-127.25 857.5,-137.25 864.5,-137.25\"/>\n</g>\n<!-- 22 -->\n<g id=\"node23\" class=\"node\">\n<title>22</title>\n<polygon fill=\"#9a61ea\" stroke=\"black\" points=\"1257,-127 1005,-127 1005,-74 1257,-74 1257,-127\"/>\n<text text-anchor=\"middle\" x=\"1131\" y=\"-111.8\" font-family=\"Helvetica,sans-Serif\" font-size=\"14.00\">SEVERITY &lt;= 1.0</text>\n<text text-anchor=\"middle\" x=\"1131\" y=\"-96.8\" font-family=\"Helvetica,sans-Serif\" font-size=\"14.00\">samples = 10.3%</text>\n<text text-anchor=\"middle\" x=\"1131\" y=\"-81.8\" font-family=\"Helvetica,sans-Serif\" font-size=\"14.00\">value = [0.0, 0.167, 0.0, 0.0, 0.833, 0.0]</text>\n</g>\n<!-- 18&#45;&gt;22 -->\n<g id=\"edge22\" class=\"edge\">\n<title>18&#45;&gt;22</title>\n<path fill=\"none\" stroke=\"black\" d=\"M940.18,-162.98C972.19,-152.67 1009.28,-140.72 1042.2,-130.11\"/>\n<polygon fill=\"black\" stroke=\"black\" points=\"1043.37,-133.41 1051.82,-127.01 1041.23,-126.75 1043.37,-133.41\"/>\n</g>\n<!-- 20 -->\n<g id=\"node21\" class=\"node\">\n<title>20</title>\n<polygon fill=\"#8139e5\" stroke=\"black\" points=\"740,-38 518,-38 518,0 740,0 740,-38\"/>\n<text text-anchor=\"middle\" x=\"629\" y=\"-22.8\" font-family=\"Helvetica,sans-Serif\" font-size=\"14.00\">samples = 5.1%</text>\n<text text-anchor=\"middle\" x=\"629\" y=\"-7.8\" font-family=\"Helvetica,sans-Serif\" font-size=\"14.00\">value = [0.0, 0.0, 0.0, 0.0, 1.0, 0.0]</text>\n</g>\n<!-- 19&#45;&gt;20 -->\n<g id=\"edge20\" class=\"edge\">\n<title>19&#45;&gt;20</title>\n<path fill=\"none\" stroke=\"black\" d=\"M786.32,-73.91C755.73,-63.43 720.74,-51.44 691.53,-41.43\"/>\n<polygon fill=\"black\" stroke=\"black\" points=\"692.46,-38.05 681.86,-38.12 690.19,-44.67 692.46,-38.05\"/>\n</g>\n<!-- 21 -->\n<g id=\"node22\" class=\"node\">\n<title>21</title>\n<polygon fill=\"#9de539\" stroke=\"black\" points=\"980,-38 758,-38 758,0 980,0 980,-38\"/>\n<text text-anchor=\"middle\" x=\"869\" y=\"-22.8\" font-family=\"Helvetica,sans-Serif\" font-size=\"14.00\">samples = 2.6%</text>\n<text text-anchor=\"middle\" x=\"869\" y=\"-7.8\" font-family=\"Helvetica,sans-Serif\" font-size=\"14.00\">value = [0.0, 1.0, 0.0, 0.0, 0.0, 0.0]</text>\n</g>\n<!-- 19&#45;&gt;21 -->\n<g id=\"edge21\" class=\"edge\">\n<title>19&#45;&gt;21</title>\n<path fill=\"none\" stroke=\"black\" d=\"M863.58,-73.91C864.4,-65.74 865.31,-56.65 866.15,-48.3\"/>\n<polygon fill=\"black\" stroke=\"black\" points=\"869.65,-48.54 867.16,-38.24 862.68,-47.84 869.65,-48.54\"/>\n</g>\n<!-- 23 -->\n<g id=\"node24\" class=\"node\">\n<title>23</title>\n<polygon fill=\"#9de539\" stroke=\"black\" points=\"1235,-38 1013,-38 1013,0 1235,0 1235,-38\"/>\n<text text-anchor=\"middle\" x=\"1124\" y=\"-22.8\" font-family=\"Helvetica,sans-Serif\" font-size=\"14.00\">samples = 2.6%</text>\n<text text-anchor=\"middle\" x=\"1124\" y=\"-7.8\" font-family=\"Helvetica,sans-Serif\" font-size=\"14.00\">value = [0.0, 1.0, 0.0, 0.0, 0.0, 0.0]</text>\n</g>\n<!-- 22&#45;&gt;23 -->\n<g id=\"edge23\" class=\"edge\">\n<title>22&#45;&gt;23</title>\n<path fill=\"none\" stroke=\"black\" d=\"M1128.75,-73.91C1128.03,-65.74 1127.23,-56.65 1126.49,-48.3\"/>\n<polygon fill=\"black\" stroke=\"black\" points=\"1129.97,-47.89 1125.61,-38.24 1123,-48.51 1129.97,-47.89\"/>\n</g>\n<!-- 24 -->\n<g id=\"node25\" class=\"node\">\n<title>24</title>\n<polygon fill=\"#8139e5\" stroke=\"black\" points=\"1475,-38 1253,-38 1253,0 1475,0 1475,-38\"/>\n<text text-anchor=\"middle\" x=\"1364\" y=\"-22.8\" font-family=\"Helvetica,sans-Serif\" font-size=\"14.00\">samples = 7.7%</text>\n<text text-anchor=\"middle\" x=\"1364\" y=\"-7.8\" font-family=\"Helvetica,sans-Serif\" font-size=\"14.00\">value = [0.0, 0.0, 0.0, 0.0, 1.0, 0.0]</text>\n</g>\n<!-- 22&#45;&gt;24 -->\n<g id=\"edge24\" class=\"edge\">\n<title>22&#45;&gt;24</title>\n<path fill=\"none\" stroke=\"black\" d=\"M1206.01,-73.91C1236.72,-63.43 1271.87,-51.44 1301.2,-41.43\"/>\n<polygon fill=\"black\" stroke=\"black\" points=\"1302.57,-44.66 1310.91,-38.12 1300.31,-38.03 1302.57,-44.66\"/>\n</g>\n<!-- 28 -->\n<g id=\"node29\" class=\"node\">\n<title>28</title>\n<polygon fill=\"#ab7bee\" stroke=\"black\" points=\"1696.5,-394 1429.5,-394 1429.5,-341 1696.5,-341 1696.5,-394\"/>\n<text text-anchor=\"middle\" x=\"1563\" y=\"-378.8\" font-family=\"Helvetica,sans-Serif\" font-size=\"14.00\">SEVERITY &lt;= 1.5</text>\n<text text-anchor=\"middle\" x=\"1563\" y=\"-363.8\" font-family=\"Helvetica,sans-Serif\" font-size=\"14.00\">samples = 23.1%</text>\n<text text-anchor=\"middle\" x=\"1563\" y=\"-348.8\" font-family=\"Helvetica,sans-Serif\" font-size=\"14.00\">value = [0.0, 0.0, 0.091, 0.182, 0.727, 0.0]</text>\n</g>\n<!-- 27&#45;&gt;28 -->\n<g id=\"edge28\" class=\"edge\">\n<title>27&#45;&gt;28</title>\n<path fill=\"none\" stroke=\"black\" d=\"M1563,-429.87C1563,-421.89 1563,-412.93 1563,-404.38\"/>\n<polygon fill=\"black\" stroke=\"black\" points=\"1566.5,-404.25 1563,-394.25 1559.5,-404.25 1566.5,-404.25\"/>\n</g>\n<!-- 35 -->\n<g id=\"node36\" class=\"node\">\n<title>35</title>\n<polygon fill=\"#8139e5\" stroke=\"black\" points=\"1937,-386.5 1715,-386.5 1715,-348.5 1937,-348.5 1937,-386.5\"/>\n<text text-anchor=\"middle\" x=\"1826\" y=\"-371.3\" font-family=\"Helvetica,sans-Serif\" font-size=\"14.00\">samples = 5.1%</text>\n<text text-anchor=\"middle\" x=\"1826\" y=\"-356.3\" font-family=\"Helvetica,sans-Serif\" font-size=\"14.00\">value = [0.0, 0.0, 0.0, 0.0, 1.0, 0.0]</text>\n</g>\n<!-- 27&#45;&gt;35 -->\n<g id=\"edge35\" class=\"edge\">\n<title>27&#45;&gt;35</title>\n<path fill=\"none\" stroke=\"black\" d=\"M1640.13,-429.98C1678.81,-417.19 1725.11,-401.87 1761.82,-389.73\"/>\n<polygon fill=\"black\" stroke=\"black\" points=\"1763.03,-393.02 1771.42,-386.55 1760.83,-386.37 1763.03,-393.02\"/>\n</g>\n<!-- 29 -->\n<g id=\"node30\" class=\"node\">\n<title>29</title>\n<polygon fill=\"#9ccef2\" stroke=\"black\" points=\"1737,-305 1485,-305 1485,-252 1737,-252 1737,-305\"/>\n<text text-anchor=\"middle\" x=\"1611\" y=\"-289.8\" font-family=\"Helvetica,sans-Serif\" font-size=\"14.00\">Age &lt;= 1.5</text>\n<text text-anchor=\"middle\" x=\"1611\" y=\"-274.8\" font-family=\"Helvetica,sans-Serif\" font-size=\"14.00\">samples = 7.7%</text>\n<text text-anchor=\"middle\" x=\"1611\" y=\"-259.8\" font-family=\"Helvetica,sans-Serif\" font-size=\"14.00\">value = [0.0, 0.0, 0.333, 0.667, 0.0, 0.0]</text>\n</g>\n<!-- 28&#45;&gt;29 -->\n<g id=\"edge29\" class=\"edge\">\n<title>28&#45;&gt;29</title>\n<path fill=\"none\" stroke=\"black\" d=\"M1577.14,-340.87C1581.74,-332.53 1586.92,-323.14 1591.82,-314.26\"/>\n<polygon fill=\"black\" stroke=\"black\" points=\"1595.03,-315.7 1596.79,-305.25 1588.9,-312.31 1595.03,-315.7\"/>\n</g>\n<!-- 34 -->\n<g id=\"node35\" class=\"node\">\n<title>34</title>\n<polygon fill=\"#8139e5\" stroke=\"black\" points=\"1977,-297.5 1755,-297.5 1755,-259.5 1977,-259.5 1977,-297.5\"/>\n<text text-anchor=\"middle\" x=\"1866\" y=\"-282.3\" font-family=\"Helvetica,sans-Serif\" font-size=\"14.00\">samples = 15.4%</text>\n<text text-anchor=\"middle\" x=\"1866\" y=\"-267.3\" font-family=\"Helvetica,sans-Serif\" font-size=\"14.00\">value = [0.0, 0.0, 0.0, 0.0, 1.0, 0.0]</text>\n</g>\n<!-- 28&#45;&gt;34 -->\n<g id=\"edge34\" class=\"edge\">\n<title>28&#45;&gt;34</title>\n<path fill=\"none\" stroke=\"black\" d=\"M1651.86,-340.98C1696.9,-328.05 1750.9,-312.55 1793.41,-300.34\"/>\n<polygon fill=\"black\" stroke=\"black\" points=\"1794.47,-303.68 1803.12,-297.55 1792.54,-296.95 1794.47,-303.68\"/>\n</g>\n<!-- 30 -->\n<g id=\"node31\" class=\"node\">\n<title>30</title>\n<polygon fill=\"#399de5\" stroke=\"black\" points=\"1549,-208.5 1327,-208.5 1327,-170.5 1549,-170.5 1549,-208.5\"/>\n<text text-anchor=\"middle\" x=\"1438\" y=\"-193.3\" font-family=\"Helvetica,sans-Serif\" font-size=\"14.00\">samples = 2.6%</text>\n<text text-anchor=\"middle\" x=\"1438\" y=\"-178.3\" font-family=\"Helvetica,sans-Serif\" font-size=\"14.00\">value = [0.0, 0.0, 0.0, 1.0, 0.0, 0.0]</text>\n</g>\n<!-- 29&#45;&gt;30 -->\n<g id=\"edge30\" class=\"edge\">\n<title>29&#45;&gt;30</title>\n<path fill=\"none\" stroke=\"black\" d=\"M1560.03,-251.87C1535.57,-239.57 1506.52,-224.96 1482.9,-213.08\"/>\n<polygon fill=\"black\" stroke=\"black\" points=\"1484.31,-209.87 1473.81,-208.51 1481.17,-216.13 1484.31,-209.87\"/>\n</g>\n<!-- 31 -->\n<g id=\"node32\" class=\"node\">\n<title>31</title>\n<polygon fill=\"#ffffff\" stroke=\"black\" points=\"1789,-216 1567,-216 1567,-163 1789,-163 1789,-216\"/>\n<text text-anchor=\"middle\" x=\"1678\" y=\"-200.8\" font-family=\"Helvetica,sans-Serif\" font-size=\"14.00\">Age &lt;= 3.0</text>\n<text text-anchor=\"middle\" x=\"1678\" y=\"-185.8\" font-family=\"Helvetica,sans-Serif\" font-size=\"14.00\">samples = 5.1%</text>\n<text text-anchor=\"middle\" x=\"1678\" y=\"-170.8\" font-family=\"Helvetica,sans-Serif\" font-size=\"14.00\">value = [0.0, 0.0, 0.5, 0.5, 0.0, 0.0]</text>\n</g>\n<!-- 29&#45;&gt;31 -->\n<g id=\"edge31\" class=\"edge\">\n<title>29&#45;&gt;31</title>\n<path fill=\"none\" stroke=\"black\" d=\"M1630.74,-251.87C1637.36,-243.27 1644.85,-233.55 1651.88,-224.42\"/>\n<polygon fill=\"black\" stroke=\"black\" points=\"1654.84,-226.31 1658.17,-216.25 1649.3,-222.04 1654.84,-226.31\"/>\n</g>\n<!-- 32 -->\n<g id=\"node33\" class=\"node\">\n<title>32</title>\n<polygon fill=\"#39e581\" stroke=\"black\" points=\"1617,-119.5 1395,-119.5 1395,-81.5 1617,-81.5 1617,-119.5\"/>\n<text text-anchor=\"middle\" x=\"1506\" y=\"-104.3\" font-family=\"Helvetica,sans-Serif\" font-size=\"14.00\">samples = 2.6%</text>\n<text text-anchor=\"middle\" x=\"1506\" y=\"-89.3\" font-family=\"Helvetica,sans-Serif\" font-size=\"14.00\">value = [0.0, 0.0, 1.0, 0.0, 0.0, 0.0]</text>\n</g>\n<!-- 31&#45;&gt;32 -->\n<g id=\"edge32\" class=\"edge\">\n<title>31&#45;&gt;32</title>\n<path fill=\"none\" stroke=\"black\" d=\"M1627.32,-162.87C1603,-150.57 1574.12,-135.96 1550.64,-124.08\"/>\n<polygon fill=\"black\" stroke=\"black\" points=\"1552.1,-120.9 1541.6,-119.51 1548.94,-127.14 1552.1,-120.9\"/>\n</g>\n<!-- 33 -->\n<g id=\"node34\" class=\"node\">\n<title>33</title>\n<polygon fill=\"#399de5\" stroke=\"black\" points=\"1857,-119.5 1635,-119.5 1635,-81.5 1857,-81.5 1857,-119.5\"/>\n<text text-anchor=\"middle\" x=\"1746\" y=\"-104.3\" font-family=\"Helvetica,sans-Serif\" font-size=\"14.00\">samples = 2.6%</text>\n<text text-anchor=\"middle\" x=\"1746\" y=\"-89.3\" font-family=\"Helvetica,sans-Serif\" font-size=\"14.00\">value = [0.0, 0.0, 0.0, 1.0, 0.0, 0.0]</text>\n</g>\n<!-- 31&#45;&gt;33 -->\n<g id=\"edge33\" class=\"edge\">\n<title>31&#45;&gt;33</title>\n<path fill=\"none\" stroke=\"black\" d=\"M1698.03,-162.87C1706.71,-151.76 1716.86,-138.78 1725.58,-127.62\"/>\n<polygon fill=\"black\" stroke=\"black\" points=\"1728.53,-129.54 1731.93,-119.51 1723.01,-125.23 1728.53,-129.54\"/>\n</g>\n<!-- 37 -->\n<g id=\"node38\" class=\"node\">\n<title>37</title>\n<polygon fill=\"#ffffff\" stroke=\"black\" points=\"2289,-483 2067,-483 2067,-430 2289,-430 2289,-483\"/>\n<text text-anchor=\"middle\" x=\"2178\" y=\"-467.8\" font-family=\"Helvetica,sans-Serif\" font-size=\"14.00\">SEVERITY &lt;= 1.0</text>\n<text text-anchor=\"middle\" x=\"2178\" y=\"-452.8\" font-family=\"Helvetica,sans-Serif\" font-size=\"14.00\">samples = 7.7%</text>\n<text text-anchor=\"middle\" x=\"2178\" y=\"-437.8\" font-family=\"Helvetica,sans-Serif\" font-size=\"14.00\">value = [0.0, 0.5, 0.0, 0.0, 0.5, 0.0]</text>\n</g>\n<!-- 36&#45;&gt;37 -->\n<g id=\"edge37\" class=\"edge\">\n<title>36&#45;&gt;37</title>\n<path fill=\"none\" stroke=\"black\" d=\"M2178,-518.87C2178,-510.89 2178,-501.93 2178,-493.38\"/>\n<polygon fill=\"black\" stroke=\"black\" points=\"2181.5,-493.25 2178,-483.25 2174.5,-493.25 2181.5,-493.25\"/>\n</g>\n<!-- 40 -->\n<g id=\"node41\" class=\"node\">\n<title>40</title>\n<polygon fill=\"#c09cf2\" stroke=\"black\" points=\"2672,-483 2420,-483 2420,-430 2672,-430 2672,-483\"/>\n<text text-anchor=\"middle\" x=\"2546\" y=\"-467.8\" font-family=\"Helvetica,sans-Serif\" font-size=\"14.00\">SEVERITY &lt;= 1.0</text>\n<text text-anchor=\"middle\" x=\"2546\" y=\"-452.8\" font-family=\"Helvetica,sans-Serif\" font-size=\"14.00\">samples = 10.3%</text>\n<text text-anchor=\"middle\" x=\"2546\" y=\"-437.8\" font-family=\"Helvetica,sans-Serif\" font-size=\"14.00\">value = [0.0, 0.0, 0.333, 0.0, 0.667, 0.0]</text>\n</g>\n<!-- 36&#45;&gt;40 -->\n<g id=\"edge40\" class=\"edge\">\n<title>36&#45;&gt;40</title>\n<path fill=\"none\" stroke=\"black\" d=\"M2285.93,-518.98C2330.58,-508.43 2382.49,-496.16 2428.13,-485.36\"/>\n<polygon fill=\"black\" stroke=\"black\" points=\"2429.15,-488.72 2438.08,-483.01 2427.54,-481.91 2429.15,-488.72\"/>\n</g>\n<!-- 38 -->\n<g id=\"node39\" class=\"node\">\n<title>38</title>\n<polygon fill=\"#9de539\" stroke=\"black\" points=\"2177,-386.5 1955,-386.5 1955,-348.5 2177,-348.5 2177,-386.5\"/>\n<text text-anchor=\"middle\" x=\"2066\" y=\"-371.3\" font-family=\"Helvetica,sans-Serif\" font-size=\"14.00\">samples = 5.1%</text>\n<text text-anchor=\"middle\" x=\"2066\" y=\"-356.3\" font-family=\"Helvetica,sans-Serif\" font-size=\"14.00\">value = [0.0, 1.0, 0.0, 0.0, 0.0, 0.0]</text>\n</g>\n<!-- 37&#45;&gt;38 -->\n<g id=\"edge38\" class=\"edge\">\n<title>37&#45;&gt;38</title>\n<path fill=\"none\" stroke=\"black\" d=\"M2145,-429.87C2129.87,-418.11 2112.02,-404.25 2097.12,-392.67\"/>\n<polygon fill=\"black\" stroke=\"black\" points=\"2099.23,-389.88 2089.18,-386.51 2094.93,-395.41 2099.23,-389.88\"/>\n</g>\n<!-- 39 -->\n<g id=\"node40\" class=\"node\">\n<title>39</title>\n<polygon fill=\"#8139e5\" stroke=\"black\" points=\"2417,-386.5 2195,-386.5 2195,-348.5 2417,-348.5 2417,-386.5\"/>\n<text text-anchor=\"middle\" x=\"2306\" y=\"-371.3\" font-family=\"Helvetica,sans-Serif\" font-size=\"14.00\">samples = 2.6%</text>\n<text text-anchor=\"middle\" x=\"2306\" y=\"-356.3\" font-family=\"Helvetica,sans-Serif\" font-size=\"14.00\">value = [0.0, 0.0, 0.0, 0.0, 1.0, 0.0]</text>\n</g>\n<!-- 37&#45;&gt;39 -->\n<g id=\"edge39\" class=\"edge\">\n<title>37&#45;&gt;39</title>\n<path fill=\"none\" stroke=\"black\" d=\"M2215.71,-429.87C2233.17,-418 2253.79,-403.99 2270.91,-392.35\"/>\n<polygon fill=\"black\" stroke=\"black\" points=\"2273.2,-395.02 2279.51,-386.51 2269.27,-389.23 2273.2,-395.02\"/>\n</g>\n<!-- 41 -->\n<g id=\"node42\" class=\"node\">\n<title>41</title>\n<polygon fill=\"#39e581\" stroke=\"black\" points=\"2657,-386.5 2435,-386.5 2435,-348.5 2657,-348.5 2657,-386.5\"/>\n<text text-anchor=\"middle\" x=\"2546\" y=\"-371.3\" font-family=\"Helvetica,sans-Serif\" font-size=\"14.00\">samples = 5.1%</text>\n<text text-anchor=\"middle\" x=\"2546\" y=\"-356.3\" font-family=\"Helvetica,sans-Serif\" font-size=\"14.00\">value = [0.0, 0.0, 1.0, 0.0, 0.0, 0.0]</text>\n</g>\n<!-- 40&#45;&gt;41 -->\n<g id=\"edge41\" class=\"edge\">\n<title>40&#45;&gt;41</title>\n<path fill=\"none\" stroke=\"black\" d=\"M2546,-429.87C2546,-419.42 2546,-407.3 2546,-396.61\"/>\n<polygon fill=\"black\" stroke=\"black\" points=\"2549.5,-396.51 2546,-386.51 2542.5,-396.51 2549.5,-396.51\"/>\n</g>\n<!-- 42 -->\n<g id=\"node43\" class=\"node\">\n<title>42</title>\n<polygon fill=\"#8139e5\" stroke=\"black\" points=\"2897,-386.5 2675,-386.5 2675,-348.5 2897,-348.5 2897,-386.5\"/>\n<text text-anchor=\"middle\" x=\"2786\" y=\"-371.3\" font-family=\"Helvetica,sans-Serif\" font-size=\"14.00\">samples = 5.1%</text>\n<text text-anchor=\"middle\" x=\"2786\" y=\"-356.3\" font-family=\"Helvetica,sans-Serif\" font-size=\"14.00\">value = [0.0, 0.0, 0.0, 0.0, 1.0, 0.0]</text>\n</g>\n<!-- 40&#45;&gt;42 -->\n<g id=\"edge42\" class=\"edge\">\n<title>40&#45;&gt;42</title>\n<path fill=\"none\" stroke=\"black\" d=\"M2616.39,-429.98C2651.38,-417.3 2693.21,-402.14 2726.58,-390.04\"/>\n<polygon fill=\"black\" stroke=\"black\" points=\"2727.98,-393.25 2736.19,-386.55 2725.6,-386.67 2727.98,-393.25\"/>\n</g>\n</g>\n</svg>\n",
            "text/plain": [
              "<graphviz.sources.Source at 0x7fd69e6899f0>"
            ]
          },
          "metadata": {}
        }
      ]
    },
    {
      "cell_type": "markdown",
      "source": [
        "### Random Forest Classifier 2\n",
        "\n",
        "Random forest classifier with hyperparameter tuning for five features of the dataset.  \n",
        "\n",
        "- Age\n",
        "- Symptom Area\n",
        "- PAIN\n",
        "- IRRITABILITY\n",
        "- SEVERITY\n",
        "\n",
        "We test the classifier for a predefined splitting percentage value."
      ],
      "metadata": {
        "id": "S_OgRKCb2zdG"
      }
    },
    {
      "cell_type": "code",
      "source": [
        "classification_data = sport_data_classification[['Age', 'Symptom area', 'PAIN', 'IRRITABILITY', 'SEVERITY', 'Page']]"
      ],
      "metadata": {
        "id": "J4VkiX5B3tdC"
      },
      "execution_count": null,
      "outputs": []
    },
    {
      "cell_type": "code",
      "source": [
        "# Define age group boundaries\n",
        "bins = []\n",
        "#bins = pd.IntervalIndex.from_tuples([(age_group[0], age_group[1]) for age_group in age_groups])\n",
        "\n",
        "for age_group in age_groups:\n",
        "  bins.append(age_group[0])\n",
        "\n",
        "bins.append(age_groups[-1][1])"
      ],
      "metadata": {
        "id": "owDDpIMj3x_E"
      },
      "execution_count": null,
      "outputs": []
    },
    {
      "cell_type": "code",
      "source": [
        "classification_data['Age'] = pd.cut(classification_data['Age'], bins, include_lowest=True,labels=list(range(0,8)))"
      ],
      "metadata": {
        "id": "zeXv_dBA32by",
        "outputId": "d7c91979-50be-4981-b0e3-dcb95057bfd2",
        "colab": {
          "base_uri": "https://localhost:8080/"
        }
      },
      "execution_count": null,
      "outputs": [
        {
          "output_type": "stream",
          "name": "stderr",
          "text": [
            "<ipython-input-29-ce2644d7bde4>:1: SettingWithCopyWarning: \n",
            "A value is trying to be set on a copy of a slice from a DataFrame.\n",
            "Try using .loc[row_indexer,col_indexer] = value instead\n",
            "\n",
            "See the caveats in the documentation: https://pandas.pydata.org/pandas-docs/stable/user_guide/indexing.html#returning-a-view-versus-a-copy\n",
            "  classification_data['Age'] = pd.cut(classification_data['Age'], bins, include_lowest=True,labels=list(range(0,8)))\n"
          ]
        }
      ]
    },
    {
      "cell_type": "code",
      "source": [
        "# Split the data into training and test sets\n",
        "train, test = train_test_split(classification_data, test_size=0.3, random_state=1, stratify=classification_data.Page)"
      ],
      "metadata": {
        "id": "SEihCC364bXt"
      },
      "execution_count": null,
      "outputs": []
    },
    {
      "cell_type": "code",
      "source": [
        "param_dist = {'n_estimators': randint(50,500),\n",
        "              'max_depth': randint(1,20)}\n",
        "\n",
        "# Create a random forest classifier\n",
        "rf = RandomForestClassifier()\n",
        "\n",
        "# Use random search to find the best hyperparameters\n",
        "rand_search = RandomizedSearchCV(rf, \n",
        "                                 param_distributions = param_dist, \n",
        "                                 n_iter=5, \n",
        "                                 cv=5)\n",
        "\n",
        "# Fit the random search object to the data\n",
        "rand_search.fit(train[['Age', 'Symptom area', 'PAIN', 'IRRITABILITY', 'SEVERITY']], train['Page'])"
      ],
      "metadata": {
        "id": "IscQl8pu3Ior",
        "outputId": "1a739b10-f1eb-442b-9944-07da2ca03211",
        "colab": {
          "base_uri": "https://localhost:8080/",
          "height": 174
        }
      },
      "execution_count": null,
      "outputs": [
        {
          "output_type": "stream",
          "name": "stderr",
          "text": [
            "/usr/local/lib/python3.10/dist-packages/sklearn/model_selection/_split.py:700: UserWarning: The least populated class in y has only 1 members, which is less than n_splits=5.\n",
            "  warnings.warn(\n"
          ]
        },
        {
          "output_type": "execute_result",
          "data": {
            "text/plain": [
              "RandomizedSearchCV(cv=5, estimator=RandomForestClassifier(), n_iter=5,\n",
              "                   param_distributions={'max_depth': <scipy.stats._distn_infrastructure.rv_discrete_frozen object at 0x7f6a0c39e140>,\n",
              "                                        'n_estimators': <scipy.stats._distn_infrastructure.rv_discrete_frozen object at 0x7f6a0a19f1c0>})"
            ],
            "text/html": [
              "<style>#sk-container-id-1 {color: black;background-color: white;}#sk-container-id-1 pre{padding: 0;}#sk-container-id-1 div.sk-toggleable {background-color: white;}#sk-container-id-1 label.sk-toggleable__label {cursor: pointer;display: block;width: 100%;margin-bottom: 0;padding: 0.3em;box-sizing: border-box;text-align: center;}#sk-container-id-1 label.sk-toggleable__label-arrow:before {content: \"▸\";float: left;margin-right: 0.25em;color: #696969;}#sk-container-id-1 label.sk-toggleable__label-arrow:hover:before {color: black;}#sk-container-id-1 div.sk-estimator:hover label.sk-toggleable__label-arrow:before {color: black;}#sk-container-id-1 div.sk-toggleable__content {max-height: 0;max-width: 0;overflow: hidden;text-align: left;background-color: #f0f8ff;}#sk-container-id-1 div.sk-toggleable__content pre {margin: 0.2em;color: black;border-radius: 0.25em;background-color: #f0f8ff;}#sk-container-id-1 input.sk-toggleable__control:checked~div.sk-toggleable__content {max-height: 200px;max-width: 100%;overflow: auto;}#sk-container-id-1 input.sk-toggleable__control:checked~label.sk-toggleable__label-arrow:before {content: \"▾\";}#sk-container-id-1 div.sk-estimator input.sk-toggleable__control:checked~label.sk-toggleable__label {background-color: #d4ebff;}#sk-container-id-1 div.sk-label input.sk-toggleable__control:checked~label.sk-toggleable__label {background-color: #d4ebff;}#sk-container-id-1 input.sk-hidden--visually {border: 0;clip: rect(1px 1px 1px 1px);clip: rect(1px, 1px, 1px, 1px);height: 1px;margin: -1px;overflow: hidden;padding: 0;position: absolute;width: 1px;}#sk-container-id-1 div.sk-estimator {font-family: monospace;background-color: #f0f8ff;border: 1px dotted black;border-radius: 0.25em;box-sizing: border-box;margin-bottom: 0.5em;}#sk-container-id-1 div.sk-estimator:hover {background-color: #d4ebff;}#sk-container-id-1 div.sk-parallel-item::after {content: \"\";width: 100%;border-bottom: 1px solid gray;flex-grow: 1;}#sk-container-id-1 div.sk-label:hover label.sk-toggleable__label {background-color: #d4ebff;}#sk-container-id-1 div.sk-serial::before {content: \"\";position: absolute;border-left: 1px solid gray;box-sizing: border-box;top: 0;bottom: 0;left: 50%;z-index: 0;}#sk-container-id-1 div.sk-serial {display: flex;flex-direction: column;align-items: center;background-color: white;padding-right: 0.2em;padding-left: 0.2em;position: relative;}#sk-container-id-1 div.sk-item {position: relative;z-index: 1;}#sk-container-id-1 div.sk-parallel {display: flex;align-items: stretch;justify-content: center;background-color: white;position: relative;}#sk-container-id-1 div.sk-item::before, #sk-container-id-1 div.sk-parallel-item::before {content: \"\";position: absolute;border-left: 1px solid gray;box-sizing: border-box;top: 0;bottom: 0;left: 50%;z-index: -1;}#sk-container-id-1 div.sk-parallel-item {display: flex;flex-direction: column;z-index: 1;position: relative;background-color: white;}#sk-container-id-1 div.sk-parallel-item:first-child::after {align-self: flex-end;width: 50%;}#sk-container-id-1 div.sk-parallel-item:last-child::after {align-self: flex-start;width: 50%;}#sk-container-id-1 div.sk-parallel-item:only-child::after {width: 0;}#sk-container-id-1 div.sk-dashed-wrapped {border: 1px dashed gray;margin: 0 0.4em 0.5em 0.4em;box-sizing: border-box;padding-bottom: 0.4em;background-color: white;}#sk-container-id-1 div.sk-label label {font-family: monospace;font-weight: bold;display: inline-block;line-height: 1.2em;}#sk-container-id-1 div.sk-label-container {text-align: center;}#sk-container-id-1 div.sk-container {/* jupyter's `normalize.less` sets `[hidden] { display: none; }` but bootstrap.min.css set `[hidden] { display: none !important; }` so we also need the `!important` here to be able to override the default hidden behavior on the sphinx rendered scikit-learn.org. See: https://github.com/scikit-learn/scikit-learn/issues/21755 */display: inline-block !important;position: relative;}#sk-container-id-1 div.sk-text-repr-fallback {display: none;}</style><div id=\"sk-container-id-1\" class=\"sk-top-container\"><div class=\"sk-text-repr-fallback\"><pre>RandomizedSearchCV(cv=5, estimator=RandomForestClassifier(), n_iter=5,\n",
              "                   param_distributions={&#x27;max_depth&#x27;: &lt;scipy.stats._distn_infrastructure.rv_discrete_frozen object at 0x7f6a0c39e140&gt;,\n",
              "                                        &#x27;n_estimators&#x27;: &lt;scipy.stats._distn_infrastructure.rv_discrete_frozen object at 0x7f6a0a19f1c0&gt;})</pre><b>In a Jupyter environment, please rerun this cell to show the HTML representation or trust the notebook. <br />On GitHub, the HTML representation is unable to render, please try loading this page with nbviewer.org.</b></div><div class=\"sk-container\" hidden><div class=\"sk-item sk-dashed-wrapped\"><div class=\"sk-label-container\"><div class=\"sk-label sk-toggleable\"><input class=\"sk-toggleable__control sk-hidden--visually\" id=\"sk-estimator-id-1\" type=\"checkbox\" ><label for=\"sk-estimator-id-1\" class=\"sk-toggleable__label sk-toggleable__label-arrow\">RandomizedSearchCV</label><div class=\"sk-toggleable__content\"><pre>RandomizedSearchCV(cv=5, estimator=RandomForestClassifier(), n_iter=5,\n",
              "                   param_distributions={&#x27;max_depth&#x27;: &lt;scipy.stats._distn_infrastructure.rv_discrete_frozen object at 0x7f6a0c39e140&gt;,\n",
              "                                        &#x27;n_estimators&#x27;: &lt;scipy.stats._distn_infrastructure.rv_discrete_frozen object at 0x7f6a0a19f1c0&gt;})</pre></div></div></div><div class=\"sk-parallel\"><div class=\"sk-parallel-item\"><div class=\"sk-item\"><div class=\"sk-label-container\"><div class=\"sk-label sk-toggleable\"><input class=\"sk-toggleable__control sk-hidden--visually\" id=\"sk-estimator-id-2\" type=\"checkbox\" ><label for=\"sk-estimator-id-2\" class=\"sk-toggleable__label sk-toggleable__label-arrow\">estimator: RandomForestClassifier</label><div class=\"sk-toggleable__content\"><pre>RandomForestClassifier()</pre></div></div></div><div class=\"sk-serial\"><div class=\"sk-item\"><div class=\"sk-estimator sk-toggleable\"><input class=\"sk-toggleable__control sk-hidden--visually\" id=\"sk-estimator-id-3\" type=\"checkbox\" ><label for=\"sk-estimator-id-3\" class=\"sk-toggleable__label sk-toggleable__label-arrow\">RandomForestClassifier</label><div class=\"sk-toggleable__content\"><pre>RandomForestClassifier()</pre></div></div></div></div></div></div></div></div></div></div>"
            ]
          },
          "metadata": {},
          "execution_count": 31
        }
      ]
    },
    {
      "cell_type": "code",
      "source": [
        "# Create a variable for the best model\n",
        "best_rf = rand_search.best_estimator_\n",
        "\n",
        "# Print the best hyperparameters\n",
        "print('Best hyperparameters:',  rand_search.best_params_)"
      ],
      "metadata": {
        "id": "ovK3i8o93l3i",
        "outputId": "54e32813-4b4d-456e-ecc7-8182f11e66b1",
        "colab": {
          "base_uri": "https://localhost:8080/"
        }
      },
      "execution_count": null,
      "outputs": [
        {
          "output_type": "stream",
          "name": "stdout",
          "text": [
            "Best hyperparameters: {'max_depth': 11, 'n_estimators': 108}\n"
          ]
        }
      ]
    },
    {
      "cell_type": "code",
      "source": [
        "rf_classifier = RandomForestClassifier(n_estimators=108, max_depth=11)\n",
        "rf_classifier.fit(train[['Age', 'Symptom area', 'PAIN', 'IRRITABILITY', 'SEVERITY']], train['Page'])\n",
        "y_pred = rf_classifier.predict(test[['Age', 'Symptom area', 'PAIN', 'IRRITABILITY', 'SEVERITY']])"
      ],
      "metadata": {
        "id": "_T3o8Ooy4EKk"
      },
      "execution_count": null,
      "outputs": []
    },
    {
      "cell_type": "code",
      "source": [
        "print(classification_report(test['Page'], y_pred, zero_division=0))"
      ],
      "metadata": {
        "id": "dFfsla7c4L9G",
        "outputId": "f569cf1f-4d38-49ae-c2ef-872669aac0d2",
        "colab": {
          "base_uri": "https://localhost:8080/"
        }
      },
      "execution_count": null,
      "outputs": [
        {
          "output_type": "stream",
          "name": "stdout",
          "text": [
            "              precision    recall  f1-score   support\n",
            "\n",
            "           1       0.00      0.00      0.00         1\n",
            "           2       0.83      1.00      0.91         5\n",
            "           3       0.80      1.00      0.89         4\n",
            "           4       1.00      1.00      1.00         1\n",
            "           5       0.93      0.93      0.93        14\n",
            "           6       0.00      0.00      0.00         1\n",
            "\n",
            "    accuracy                           0.88        26\n",
            "   macro avg       0.59      0.65      0.62        26\n",
            "weighted avg       0.82      0.88      0.85        26\n",
            "\n"
          ]
        }
      ]
    },
    {
      "cell_type": "code",
      "source": [
        "for i in range(3):\n",
        "  tree = rf_classifier.estimators_[i]\n",
        "  dot_data = export_graphviz(tree,\n",
        "                               feature_names=train[['Age', 'Symptom area', 'PAIN', 'IRRITABILITY', 'SEVERITY']].columns,  \n",
        "                               filled=True,  \n",
        "                               impurity=False, \n",
        "                               proportion=True)\n",
        "  graph = graphviz.Source(dot_data)\n",
        "  display(graph)"
      ],
      "metadata": {
        "id": "qR7iXWG1386h",
        "colab": {
          "base_uri": "https://localhost:8080/",
          "height": 1000
        },
        "outputId": "dffd7c4f-a161-41f9-fcb1-86909fc37010"
      },
      "execution_count": null,
      "outputs": [
        {
          "output_type": "display_data",
          "data": {
            "image/svg+xml": "<?xml version=\"1.0\" encoding=\"UTF-8\" standalone=\"no\"?>\n<!DOCTYPE svg PUBLIC \"-//W3C//DTD SVG 1.1//EN\"\n \"http://www.w3.org/Graphics/SVG/1.1/DTD/svg11.dtd\">\n<!-- Generated by graphviz version 2.43.0 (0)\n -->\n<!-- Title: Tree Pages: 1 -->\n<svg width=\"1419pt\" height=\"491pt\"\n viewBox=\"0.00 0.00 1419.00 491.00\" xmlns=\"http://www.w3.org/2000/svg\" xmlns:xlink=\"http://www.w3.org/1999/xlink\">\n<g id=\"graph0\" class=\"graph\" transform=\"scale(1 1) rotate(0) translate(4 487)\">\n<title>Tree</title>\n<polygon fill=\"white\" stroke=\"transparent\" points=\"-4,4 -4,-487 1415,-487 1415,4 -4,4\"/>\n<!-- 0 -->\n<g id=\"node1\" class=\"node\">\n<title>0</title>\n<polygon fill=\"#d1b7f6\" stroke=\"black\" points=\"1073,-483 791,-483 791,-430 1073,-430 1073,-483\"/>\n<text text-anchor=\"middle\" x=\"932\" y=\"-467.8\" font-family=\"Helvetica,sans-Serif\" font-size=\"14.00\">Age &lt;= 5.5</text>\n<text text-anchor=\"middle\" x=\"932\" y=\"-452.8\" font-family=\"Helvetica,sans-Serif\" font-size=\"14.00\">samples = 100.0%</text>\n<text text-anchor=\"middle\" x=\"932\" y=\"-437.8\" font-family=\"Helvetica,sans-Serif\" font-size=\"14.00\">value = [0.0, 0.241, 0.103, 0.138, 0.517, 0.0]</text>\n</g>\n<!-- 1 -->\n<g id=\"node2\" class=\"node\">\n<title>1</title>\n<polygon fill=\"#e0cef8\" stroke=\"black\" points=\"923,-394 671,-394 671,-341 923,-341 923,-394\"/>\n<text text-anchor=\"middle\" x=\"797\" y=\"-378.8\" font-family=\"Helvetica,sans-Serif\" font-size=\"14.00\">SEVERITY &lt;= 1.5</text>\n<text text-anchor=\"middle\" x=\"797\" y=\"-363.8\" font-family=\"Helvetica,sans-Serif\" font-size=\"14.00\">samples = 85.3%</text>\n<text text-anchor=\"middle\" x=\"797\" y=\"-348.8\" font-family=\"Helvetica,sans-Serif\" font-size=\"14.00\">value = [0.0, 0.28, 0.12, 0.14, 0.46, 0.0]</text>\n</g>\n<!-- 0&#45;&gt;1 -->\n<g id=\"edge1\" class=\"edge\">\n<title>0&#45;&gt;1</title>\n<path fill=\"none\" stroke=\"black\" d=\"M892.23,-429.87C877.66,-420.48 861.01,-409.75 845.75,-399.92\"/>\n<polygon fill=\"black\" stroke=\"black\" points=\"847.26,-396.72 836.96,-394.25 843.47,-402.61 847.26,-396.72\"/>\n<text text-anchor=\"middle\" x=\"842.24\" y=\"-414.99\" font-family=\"Helvetica,sans-Serif\" font-size=\"14.00\">True</text>\n</g>\n<!-- 10 -->\n<g id=\"node11\" class=\"node\">\n<title>10</title>\n<polygon fill=\"#9355e9\" stroke=\"black\" points=\"1193,-394 941,-394 941,-341 1193,-341 1193,-394\"/>\n<text text-anchor=\"middle\" x=\"1067\" y=\"-378.8\" font-family=\"Helvetica,sans-Serif\" font-size=\"14.00\">Age &lt;= 6.5</text>\n<text text-anchor=\"middle\" x=\"1067\" y=\"-363.8\" font-family=\"Helvetica,sans-Serif\" font-size=\"14.00\">samples = 14.7%</text>\n<text text-anchor=\"middle\" x=\"1067\" y=\"-348.8\" font-family=\"Helvetica,sans-Serif\" font-size=\"14.00\">value = [0.0, 0.0, 0.0, 0.125, 0.875, 0.0]</text>\n</g>\n<!-- 0&#45;&gt;10 -->\n<g id=\"edge10\" class=\"edge\">\n<title>0&#45;&gt;10</title>\n<path fill=\"none\" stroke=\"black\" d=\"M971.77,-429.87C986.34,-420.48 1002.99,-409.75 1018.25,-399.92\"/>\n<polygon fill=\"black\" stroke=\"black\" points=\"1020.53,-402.61 1027.04,-394.25 1016.74,-396.72 1020.53,-402.61\"/>\n<text text-anchor=\"middle\" x=\"1021.76\" y=\"-414.99\" font-family=\"Helvetica,sans-Serif\" font-size=\"14.00\">False</text>\n</g>\n<!-- 2 -->\n<g id=\"node3\" class=\"node\">\n<title>2</title>\n<polygon fill=\"#ddf6ba\" stroke=\"black\" points=\"675.5,-305 408.5,-305 408.5,-252 675.5,-252 675.5,-305\"/>\n<text text-anchor=\"middle\" x=\"542\" y=\"-289.8\" font-family=\"Helvetica,sans-Serif\" font-size=\"14.00\">SEVERITY &lt;= 0.5</text>\n<text text-anchor=\"middle\" x=\"542\" y=\"-274.8\" font-family=\"Helvetica,sans-Serif\" font-size=\"14.00\">samples = 47.1%</text>\n<text text-anchor=\"middle\" x=\"542\" y=\"-259.8\" font-family=\"Helvetica,sans-Serif\" font-size=\"14.00\">value = [0.0, 0.519, 0.222, 0.259, 0.0, 0.0]</text>\n</g>\n<!-- 1&#45;&gt;2 -->\n<g id=\"edge2\" class=\"edge\">\n<title>1&#45;&gt;2</title>\n<path fill=\"none\" stroke=\"black\" d=\"M722.21,-340.98C692.12,-330.72 657.26,-318.82 626.27,-308.25\"/>\n<polygon fill=\"black\" stroke=\"black\" points=\"627.38,-304.93 616.78,-305.01 625.12,-311.56 627.38,-304.93\"/>\n</g>\n<!-- 9 -->\n<g id=\"node10\" class=\"node\">\n<title>9</title>\n<polygon fill=\"#8139e5\" stroke=\"black\" points=\"916,-297.5 694,-297.5 694,-259.5 916,-259.5 916,-297.5\"/>\n<text text-anchor=\"middle\" x=\"805\" y=\"-282.3\" font-family=\"Helvetica,sans-Serif\" font-size=\"14.00\">samples = 38.2%</text>\n<text text-anchor=\"middle\" x=\"805\" y=\"-267.3\" font-family=\"Helvetica,sans-Serif\" font-size=\"14.00\">value = [0.0, 0.0, 0.0, 0.0, 1.0, 0.0]</text>\n</g>\n<!-- 1&#45;&gt;9 -->\n<g id=\"edge9\" class=\"edge\">\n<title>1&#45;&gt;9</title>\n<path fill=\"none\" stroke=\"black\" d=\"M799.36,-340.87C800.32,-330.42 801.43,-318.3 802.42,-307.61\"/>\n<polygon fill=\"black\" stroke=\"black\" points=\"805.91,-307.79 803.34,-297.51 798.94,-307.14 805.91,-307.79\"/>\n</g>\n<!-- 3 -->\n<g id=\"node4\" class=\"node\">\n<title>3</title>\n<polygon fill=\"#c7f08e\" stroke=\"black\" points=\"533,-216 311,-216 311,-163 533,-163 533,-216\"/>\n<text text-anchor=\"middle\" x=\"422\" y=\"-200.8\" font-family=\"Helvetica,sans-Serif\" font-size=\"14.00\">Symptom area &lt;= 3.5</text>\n<text text-anchor=\"middle\" x=\"422\" y=\"-185.8\" font-family=\"Helvetica,sans-Serif\" font-size=\"14.00\">samples = 38.2%</text>\n<text text-anchor=\"middle\" x=\"422\" y=\"-170.8\" font-family=\"Helvetica,sans-Serif\" font-size=\"14.00\">value = [0.0, 0.7, 0.3, 0.0, 0.0, 0.0]</text>\n</g>\n<!-- 2&#45;&gt;3 -->\n<g id=\"edge3\" class=\"edge\">\n<title>2&#45;&gt;3</title>\n<path fill=\"none\" stroke=\"black\" d=\"M506.65,-251.87C493.82,-242.57 479.18,-231.95 465.72,-222.2\"/>\n<polygon fill=\"black\" stroke=\"black\" points=\"467.67,-219.29 457.52,-216.25 463.56,-224.95 467.67,-219.29\"/>\n</g>\n<!-- 8 -->\n<g id=\"node9\" class=\"node\">\n<title>8</title>\n<polygon fill=\"#399de5\" stroke=\"black\" points=\"773,-208.5 551,-208.5 551,-170.5 773,-170.5 773,-208.5\"/>\n<text text-anchor=\"middle\" x=\"662\" y=\"-193.3\" font-family=\"Helvetica,sans-Serif\" font-size=\"14.00\">samples = 8.8%</text>\n<text text-anchor=\"middle\" x=\"662\" y=\"-178.3\" font-family=\"Helvetica,sans-Serif\" font-size=\"14.00\">value = [0.0, 0.0, 0.0, 1.0, 0.0, 0.0]</text>\n</g>\n<!-- 2&#45;&gt;8 -->\n<g id=\"edge8\" class=\"edge\">\n<title>2&#45;&gt;8</title>\n<path fill=\"none\" stroke=\"black\" d=\"M577.35,-251.87C593.57,-240.11 612.69,-226.25 628.66,-214.67\"/>\n<polygon fill=\"black\" stroke=\"black\" points=\"631.12,-217.21 637.16,-208.51 627.01,-211.54 631.12,-217.21\"/>\n</g>\n<!-- 4 -->\n<g id=\"node5\" class=\"node\">\n<title>4</title>\n<polygon fill=\"#cef29c\" stroke=\"black\" points=\"357,-127 105,-127 105,-74 357,-74 357,-127\"/>\n<text text-anchor=\"middle\" x=\"231\" y=\"-111.8\" font-family=\"Helvetica,sans-Serif\" font-size=\"14.00\">PAIN &lt;= 0.5</text>\n<text text-anchor=\"middle\" x=\"231\" y=\"-96.8\" font-family=\"Helvetica,sans-Serif\" font-size=\"14.00\">samples = 35.3%</text>\n<text text-anchor=\"middle\" x=\"231\" y=\"-81.8\" font-family=\"Helvetica,sans-Serif\" font-size=\"14.00\">value = [0.0, 0.667, 0.333, 0.0, 0.0, 0.0]</text>\n</g>\n<!-- 3&#45;&gt;4 -->\n<g id=\"edge4\" class=\"edge\">\n<title>3&#45;&gt;4</title>\n<path fill=\"none\" stroke=\"black\" d=\"M365.98,-162.98C344.12,-153.03 318.9,-141.54 296.23,-131.21\"/>\n<polygon fill=\"black\" stroke=\"black\" points=\"297.57,-127.97 287.01,-127.01 294.66,-134.34 297.57,-127.97\"/>\n</g>\n<!-- 7 -->\n<g id=\"node8\" class=\"node\">\n<title>7</title>\n<polygon fill=\"#9de539\" stroke=\"black\" points=\"597,-119.5 375,-119.5 375,-81.5 597,-81.5 597,-119.5\"/>\n<text text-anchor=\"middle\" x=\"486\" y=\"-104.3\" font-family=\"Helvetica,sans-Serif\" font-size=\"14.00\">samples = 2.9%</text>\n<text text-anchor=\"middle\" x=\"486\" y=\"-89.3\" font-family=\"Helvetica,sans-Serif\" font-size=\"14.00\">value = [0.0, 1.0, 0.0, 0.0, 0.0, 0.0]</text>\n</g>\n<!-- 3&#45;&gt;7 -->\n<g id=\"edge7\" class=\"edge\">\n<title>3&#45;&gt;7</title>\n<path fill=\"none\" stroke=\"black\" d=\"M440.86,-162.87C449.02,-151.76 458.58,-138.78 466.78,-127.62\"/>\n<polygon fill=\"black\" stroke=\"black\" points=\"469.65,-129.64 472.75,-119.51 464.01,-125.49 469.65,-129.64\"/>\n</g>\n<!-- 5 -->\n<g id=\"node6\" class=\"node\">\n<title>5</title>\n<polygon fill=\"#9de539\" stroke=\"black\" points=\"222,-38 0,-38 0,0 222,0 222,-38\"/>\n<text text-anchor=\"middle\" x=\"111\" y=\"-22.8\" font-family=\"Helvetica,sans-Serif\" font-size=\"14.00\">samples = 20.6%</text>\n<text text-anchor=\"middle\" x=\"111\" y=\"-7.8\" font-family=\"Helvetica,sans-Serif\" font-size=\"14.00\">value = [0.0, 1.0, 0.0, 0.0, 0.0, 0.0]</text>\n</g>\n<!-- 4&#45;&gt;5 -->\n<g id=\"edge5\" class=\"edge\">\n<title>4&#45;&gt;5</title>\n<path fill=\"none\" stroke=\"black\" d=\"M192.37,-73.91C177.85,-64.29 161.4,-53.39 147.11,-43.92\"/>\n<polygon fill=\"black\" stroke=\"black\" points=\"148.8,-40.84 138.53,-38.24 144.93,-46.68 148.8,-40.84\"/>\n</g>\n<!-- 6 -->\n<g id=\"node7\" class=\"node\">\n<title>6</title>\n<polygon fill=\"#39e581\" stroke=\"black\" points=\"462,-38 240,-38 240,0 462,0 462,-38\"/>\n<text text-anchor=\"middle\" x=\"351\" y=\"-22.8\" font-family=\"Helvetica,sans-Serif\" font-size=\"14.00\">samples = 14.7%</text>\n<text text-anchor=\"middle\" x=\"351\" y=\"-7.8\" font-family=\"Helvetica,sans-Serif\" font-size=\"14.00\">value = [0.0, 0.0, 1.0, 0.0, 0.0, 0.0]</text>\n</g>\n<!-- 4&#45;&gt;6 -->\n<g id=\"edge6\" class=\"edge\">\n<title>4&#45;&gt;6</title>\n<path fill=\"none\" stroke=\"black\" d=\"M269.63,-73.91C284.15,-64.29 300.6,-53.39 314.89,-43.92\"/>\n<polygon fill=\"black\" stroke=\"black\" points=\"317.07,-46.68 323.47,-38.24 313.2,-40.84 317.07,-46.68\"/>\n</g>\n<!-- 11 -->\n<g id=\"node12\" class=\"node\">\n<title>11</title>\n<polygon fill=\"#a06aec\" stroke=\"black\" points=\"1171,-305 949,-305 949,-252 1171,-252 1171,-305\"/>\n<text text-anchor=\"middle\" x=\"1060\" y=\"-289.8\" font-family=\"Helvetica,sans-Serif\" font-size=\"14.00\">Symptom area &lt;= 1.5</text>\n<text text-anchor=\"middle\" x=\"1060\" y=\"-274.8\" font-family=\"Helvetica,sans-Serif\" font-size=\"14.00\">samples = 11.8%</text>\n<text text-anchor=\"middle\" x=\"1060\" y=\"-259.8\" font-family=\"Helvetica,sans-Serif\" font-size=\"14.00\">value = [0.0, 0.0, 0.0, 0.2, 0.8, 0.0]</text>\n</g>\n<!-- 10&#45;&gt;11 -->\n<g id=\"edge11\" class=\"edge\">\n<title>10&#45;&gt;11</title>\n<path fill=\"none\" stroke=\"black\" d=\"M1064.94,-340.87C1064.3,-332.89 1063.57,-323.93 1062.89,-315.38\"/>\n<polygon fill=\"black\" stroke=\"black\" points=\"1066.36,-314.94 1062.07,-305.25 1059.39,-315.5 1066.36,-314.94\"/>\n</g>\n<!-- 18 -->\n<g id=\"node19\" class=\"node\">\n<title>18</title>\n<polygon fill=\"#8139e5\" stroke=\"black\" points=\"1411,-297.5 1189,-297.5 1189,-259.5 1411,-259.5 1411,-297.5\"/>\n<text text-anchor=\"middle\" x=\"1300\" y=\"-282.3\" font-family=\"Helvetica,sans-Serif\" font-size=\"14.00\">samples = 2.9%</text>\n<text text-anchor=\"middle\" x=\"1300\" y=\"-267.3\" font-family=\"Helvetica,sans-Serif\" font-size=\"14.00\">value = [0.0, 0.0, 0.0, 0.0, 1.0, 0.0]</text>\n</g>\n<!-- 10&#45;&gt;18 -->\n<g id=\"edge18\" class=\"edge\">\n<title>10&#45;&gt;18</title>\n<path fill=\"none\" stroke=\"black\" d=\"M1135.33,-340.98C1169.16,-328.35 1209.57,-313.27 1241.89,-301.2\"/>\n<polygon fill=\"black\" stroke=\"black\" points=\"1243.5,-304.33 1251.65,-297.55 1241.05,-297.77 1243.5,-304.33\"/>\n</g>\n<!-- 12 -->\n<g id=\"node13\" class=\"node\">\n<title>12</title>\n<polygon fill=\"#c09cf2\" stroke=\"black\" points=\"1043,-216 791,-216 791,-163 1043,-163 1043,-216\"/>\n<text text-anchor=\"middle\" x=\"917\" y=\"-200.8\" font-family=\"Helvetica,sans-Serif\" font-size=\"14.00\">SEVERITY &lt;= 0.5</text>\n<text text-anchor=\"middle\" x=\"917\" y=\"-185.8\" font-family=\"Helvetica,sans-Serif\" font-size=\"14.00\">samples = 8.8%</text>\n<text text-anchor=\"middle\" x=\"917\" y=\"-170.8\" font-family=\"Helvetica,sans-Serif\" font-size=\"14.00\">value = [0.0, 0.0, 0.0, 0.333, 0.667, 0.0]</text>\n</g>\n<!-- 11&#45;&gt;12 -->\n<g id=\"edge12\" class=\"edge\">\n<title>11&#45;&gt;12</title>\n<path fill=\"none\" stroke=\"black\" d=\"M1017.87,-251.87C1002.3,-242.39 984.48,-231.55 968.19,-221.64\"/>\n<polygon fill=\"black\" stroke=\"black\" points=\"969.69,-218.46 959.32,-216.25 966.05,-224.44 969.69,-218.46\"/>\n</g>\n<!-- 17 -->\n<g id=\"node18\" class=\"node\">\n<title>17</title>\n<polygon fill=\"#8139e5\" stroke=\"black\" points=\"1283,-208.5 1061,-208.5 1061,-170.5 1283,-170.5 1283,-208.5\"/>\n<text text-anchor=\"middle\" x=\"1172\" y=\"-193.3\" font-family=\"Helvetica,sans-Serif\" font-size=\"14.00\">samples = 2.9%</text>\n<text text-anchor=\"middle\" x=\"1172\" y=\"-178.3\" font-family=\"Helvetica,sans-Serif\" font-size=\"14.00\">value = [0.0, 0.0, 0.0, 0.0, 1.0, 0.0]</text>\n</g>\n<!-- 11&#45;&gt;17 -->\n<g id=\"edge17\" class=\"edge\">\n<title>11&#45;&gt;17</title>\n<path fill=\"none\" stroke=\"black\" d=\"M1093,-251.87C1108.13,-240.11 1125.98,-226.25 1140.88,-214.67\"/>\n<polygon fill=\"black\" stroke=\"black\" points=\"1143.07,-217.41 1148.82,-208.51 1138.77,-211.88 1143.07,-217.41\"/>\n</g>\n<!-- 13 -->\n<g id=\"node14\" class=\"node\">\n<title>13</title>\n<polygon fill=\"#8139e5\" stroke=\"black\" points=\"964,-119.5 742,-119.5 742,-81.5 964,-81.5 964,-119.5\"/>\n<text text-anchor=\"middle\" x=\"853\" y=\"-104.3\" font-family=\"Helvetica,sans-Serif\" font-size=\"14.00\">samples = 2.9%</text>\n<text text-anchor=\"middle\" x=\"853\" y=\"-89.3\" font-family=\"Helvetica,sans-Serif\" font-size=\"14.00\">value = [0.0, 0.0, 0.0, 0.0, 1.0, 0.0]</text>\n</g>\n<!-- 12&#45;&gt;13 -->\n<g id=\"edge13\" class=\"edge\">\n<title>12&#45;&gt;13</title>\n<path fill=\"none\" stroke=\"black\" d=\"M898.14,-162.87C889.98,-151.76 880.42,-138.78 872.22,-127.62\"/>\n<polygon fill=\"black\" stroke=\"black\" points=\"874.99,-125.49 866.25,-119.51 869.35,-129.64 874.99,-125.49\"/>\n</g>\n<!-- 14 -->\n<g id=\"node15\" class=\"node\">\n<title>14</title>\n<polygon fill=\"#ffffff\" stroke=\"black\" points=\"1204,-127 982,-127 982,-74 1204,-74 1204,-127\"/>\n<text text-anchor=\"middle\" x=\"1093\" y=\"-111.8\" font-family=\"Helvetica,sans-Serif\" font-size=\"14.00\">SEVERITY &lt;= 1.5</text>\n<text text-anchor=\"middle\" x=\"1093\" y=\"-96.8\" font-family=\"Helvetica,sans-Serif\" font-size=\"14.00\">samples = 5.9%</text>\n<text text-anchor=\"middle\" x=\"1093\" y=\"-81.8\" font-family=\"Helvetica,sans-Serif\" font-size=\"14.00\">value = [0.0, 0.0, 0.0, 0.5, 0.5, 0.0]</text>\n</g>\n<!-- 12&#45;&gt;14 -->\n<g id=\"edge14\" class=\"edge\">\n<title>12&#45;&gt;14</title>\n<path fill=\"none\" stroke=\"black\" d=\"M968.85,-162.87C988.73,-153.04 1011.58,-141.75 1032.21,-131.55\"/>\n<polygon fill=\"black\" stroke=\"black\" points=\"1033.8,-134.67 1041.21,-127.1 1030.7,-128.39 1033.8,-134.67\"/>\n</g>\n<!-- 15 -->\n<g id=\"node16\" class=\"node\">\n<title>15</title>\n<polygon fill=\"#399de5\" stroke=\"black\" points=\"1084,-38 862,-38 862,0 1084,0 1084,-38\"/>\n<text text-anchor=\"middle\" x=\"973\" y=\"-22.8\" font-family=\"Helvetica,sans-Serif\" font-size=\"14.00\">samples = 2.9%</text>\n<text text-anchor=\"middle\" x=\"973\" y=\"-7.8\" font-family=\"Helvetica,sans-Serif\" font-size=\"14.00\">value = [0.0, 0.0, 0.0, 1.0, 0.0, 0.0]</text>\n</g>\n<!-- 14&#45;&gt;15 -->\n<g id=\"edge15\" class=\"edge\">\n<title>14&#45;&gt;15</title>\n<path fill=\"none\" stroke=\"black\" d=\"M1054.37,-73.91C1039.85,-64.29 1023.4,-53.39 1009.11,-43.92\"/>\n<polygon fill=\"black\" stroke=\"black\" points=\"1010.8,-40.84 1000.53,-38.24 1006.93,-46.68 1010.8,-40.84\"/>\n</g>\n<!-- 16 -->\n<g id=\"node17\" class=\"node\">\n<title>16</title>\n<polygon fill=\"#8139e5\" stroke=\"black\" points=\"1324,-38 1102,-38 1102,0 1324,0 1324,-38\"/>\n<text text-anchor=\"middle\" x=\"1213\" y=\"-22.8\" font-family=\"Helvetica,sans-Serif\" font-size=\"14.00\">samples = 2.9%</text>\n<text text-anchor=\"middle\" x=\"1213\" y=\"-7.8\" font-family=\"Helvetica,sans-Serif\" font-size=\"14.00\">value = [0.0, 0.0, 0.0, 0.0, 1.0, 0.0]</text>\n</g>\n<!-- 14&#45;&gt;16 -->\n<g id=\"edge16\" class=\"edge\">\n<title>14&#45;&gt;16</title>\n<path fill=\"none\" stroke=\"black\" d=\"M1131.63,-73.91C1146.15,-64.29 1162.6,-53.39 1176.89,-43.92\"/>\n<polygon fill=\"black\" stroke=\"black\" points=\"1179.07,-46.68 1185.47,-38.24 1175.2,-40.84 1179.07,-46.68\"/>\n</g>\n</g>\n</svg>\n",
            "text/plain": [
              "<graphviz.sources.Source at 0x7f6a0a029990>"
            ]
          },
          "metadata": {}
        },
        {
          "output_type": "display_data",
          "data": {
            "image/svg+xml": "<?xml version=\"1.0\" encoding=\"UTF-8\" standalone=\"no\"?>\n<!DOCTYPE svg PUBLIC \"-//W3C//DTD SVG 1.1//EN\"\n \"http://www.w3.org/Graphics/SVG/1.1/DTD/svg11.dtd\">\n<!-- Generated by graphviz version 2.43.0 (0)\n -->\n<!-- Title: Tree Pages: 1 -->\n<svg width=\"987pt\" height=\"491pt\"\n viewBox=\"0.00 0.00 987.00 491.00\" xmlns=\"http://www.w3.org/2000/svg\" xmlns:xlink=\"http://www.w3.org/1999/xlink\">\n<g id=\"graph0\" class=\"graph\" transform=\"scale(1 1) rotate(0) translate(4 487)\">\n<title>Tree</title>\n<polygon fill=\"white\" stroke=\"transparent\" points=\"-4,4 -4,-487 983,-487 983,4 -4,4\"/>\n<!-- 0 -->\n<g id=\"node1\" class=\"node\">\n<title>0</title>\n<polygon fill=\"#bd98f1\" stroke=\"black\" points=\"623,-483 341,-483 341,-430 623,-430 623,-483\"/>\n<text text-anchor=\"middle\" x=\"482\" y=\"-467.8\" font-family=\"Helvetica,sans-Serif\" font-size=\"14.00\">PAIN &lt;= 0.5</text>\n<text text-anchor=\"middle\" x=\"482\" y=\"-452.8\" font-family=\"Helvetica,sans-Serif\" font-size=\"14.00\">samples = 100.0%</text>\n<text text-anchor=\"middle\" x=\"482\" y=\"-437.8\" font-family=\"Helvetica,sans-Serif\" font-size=\"14.00\">value = [0.0, 0.172, 0.121, 0.103, 0.603, 0.0]</text>\n</g>\n<!-- 1 -->\n<g id=\"node2\" class=\"node\">\n<title>1</title>\n<polygon fill=\"#cbadf4\" stroke=\"black\" points=\"465.5,-394 228.5,-394 228.5,-341 465.5,-341 465.5,-394\"/>\n<text text-anchor=\"middle\" x=\"347\" y=\"-378.8\" font-family=\"Helvetica,sans-Serif\" font-size=\"14.00\">SEVERITY &lt;= 1.0</text>\n<text text-anchor=\"middle\" x=\"347\" y=\"-363.8\" font-family=\"Helvetica,sans-Serif\" font-size=\"14.00\">samples = 44.1%</text>\n<text text-anchor=\"middle\" x=\"347\" y=\"-348.8\" font-family=\"Helvetica,sans-Serif\" font-size=\"14.00\">value = [0.0, 0.37, 0.0, 0.0, 0.63, 0.0]</text>\n</g>\n<!-- 0&#45;&gt;1 -->\n<g id=\"edge1\" class=\"edge\">\n<title>0&#45;&gt;1</title>\n<path fill=\"none\" stroke=\"black\" d=\"M442.23,-429.87C427.66,-420.48 411.01,-409.75 395.75,-399.92\"/>\n<polygon fill=\"black\" stroke=\"black\" points=\"397.26,-396.72 386.96,-394.25 393.47,-402.61 397.26,-396.72\"/>\n<text text-anchor=\"middle\" x=\"392.24\" y=\"-414.99\" font-family=\"Helvetica,sans-Serif\" font-size=\"14.00\">True</text>\n</g>\n<!-- 4 -->\n<g id=\"node5\" class=\"node\">\n<title>4</title>\n<polygon fill=\"#c5a4f3\" stroke=\"black\" points=\"750.5,-394 483.5,-394 483.5,-341 750.5,-341 750.5,-394\"/>\n<text text-anchor=\"middle\" x=\"617\" y=\"-378.8\" font-family=\"Helvetica,sans-Serif\" font-size=\"14.00\">SEVERITY &lt;= 1.5</text>\n<text text-anchor=\"middle\" x=\"617\" y=\"-363.8\" font-family=\"Helvetica,sans-Serif\" font-size=\"14.00\">samples = 55.9%</text>\n<text text-anchor=\"middle\" x=\"617\" y=\"-348.8\" font-family=\"Helvetica,sans-Serif\" font-size=\"14.00\">value = [0.0, 0.0, 0.226, 0.194, 0.581, 0.0]</text>\n</g>\n<!-- 0&#45;&gt;4 -->\n<g id=\"edge4\" class=\"edge\">\n<title>0&#45;&gt;4</title>\n<path fill=\"none\" stroke=\"black\" d=\"M521.77,-429.87C536.34,-420.48 552.99,-409.75 568.25,-399.92\"/>\n<polygon fill=\"black\" stroke=\"black\" points=\"570.53,-402.61 577.04,-394.25 566.74,-396.72 570.53,-402.61\"/>\n<text text-anchor=\"middle\" x=\"571.76\" y=\"-414.99\" font-family=\"Helvetica,sans-Serif\" font-size=\"14.00\">False</text>\n</g>\n<!-- 2 -->\n<g id=\"node3\" class=\"node\">\n<title>2</title>\n<polygon fill=\"#9de539\" stroke=\"black\" points=\"222,-297.5 0,-297.5 0,-259.5 222,-259.5 222,-297.5\"/>\n<text text-anchor=\"middle\" x=\"111\" y=\"-282.3\" font-family=\"Helvetica,sans-Serif\" font-size=\"14.00\">samples = 14.7%</text>\n<text text-anchor=\"middle\" x=\"111\" y=\"-267.3\" font-family=\"Helvetica,sans-Serif\" font-size=\"14.00\">value = [0.0, 1.0, 0.0, 0.0, 0.0, 0.0]</text>\n</g>\n<!-- 1&#45;&gt;2 -->\n<g id=\"edge2\" class=\"edge\">\n<title>1&#45;&gt;2</title>\n<path fill=\"none\" stroke=\"black\" d=\"M277.79,-340.98C243.37,-328.3 202.24,-313.14 169.43,-301.04\"/>\n<polygon fill=\"black\" stroke=\"black\" points=\"170.57,-297.73 159.98,-297.55 168.15,-304.3 170.57,-297.73\"/>\n</g>\n<!-- 3 -->\n<g id=\"node4\" class=\"node\">\n<title>3</title>\n<polygon fill=\"#8139e5\" stroke=\"black\" points=\"462,-297.5 240,-297.5 240,-259.5 462,-259.5 462,-297.5\"/>\n<text text-anchor=\"middle\" x=\"351\" y=\"-282.3\" font-family=\"Helvetica,sans-Serif\" font-size=\"14.00\">samples = 29.4%</text>\n<text text-anchor=\"middle\" x=\"351\" y=\"-267.3\" font-family=\"Helvetica,sans-Serif\" font-size=\"14.00\">value = [0.0, 0.0, 0.0, 0.0, 1.0, 0.0]</text>\n</g>\n<!-- 1&#45;&gt;3 -->\n<g id=\"edge3\" class=\"edge\">\n<title>1&#45;&gt;3</title>\n<path fill=\"none\" stroke=\"black\" d=\"M348.18,-340.87C348.66,-330.42 349.22,-318.3 349.71,-307.61\"/>\n<polygon fill=\"black\" stroke=\"black\" points=\"353.21,-307.66 350.17,-297.51 346.22,-307.34 353.21,-307.66\"/>\n</g>\n<!-- 5 -->\n<g id=\"node6\" class=\"node\">\n<title>5</title>\n<polygon fill=\"#e9fcf1\" stroke=\"black\" points=\"739,-305 487,-305 487,-252 739,-252 739,-305\"/>\n<text text-anchor=\"middle\" x=\"613\" y=\"-289.8\" font-family=\"Helvetica,sans-Serif\" font-size=\"14.00\">SEVERITY &lt;= 0.5</text>\n<text text-anchor=\"middle\" x=\"613\" y=\"-274.8\" font-family=\"Helvetica,sans-Serif\" font-size=\"14.00\">samples = 29.4%</text>\n<text text-anchor=\"middle\" x=\"613\" y=\"-259.8\" font-family=\"Helvetica,sans-Serif\" font-size=\"14.00\">value = [0.0, 0.0, 0.467, 0.4, 0.133, 0.0]</text>\n</g>\n<!-- 4&#45;&gt;5 -->\n<g id=\"edge5\" class=\"edge\">\n<title>4&#45;&gt;5</title>\n<path fill=\"none\" stroke=\"black\" d=\"M615.82,-340.87C615.45,-332.89 615.04,-323.93 614.65,-315.38\"/>\n<polygon fill=\"black\" stroke=\"black\" points=\"618.14,-315.08 614.18,-305.25 611.15,-315.4 618.14,-315.08\"/>\n</g>\n<!-- 12 -->\n<g id=\"node13\" class=\"node\">\n<title>12</title>\n<polygon fill=\"#8139e5\" stroke=\"black\" points=\"979,-297.5 757,-297.5 757,-259.5 979,-259.5 979,-297.5\"/>\n<text text-anchor=\"middle\" x=\"868\" y=\"-282.3\" font-family=\"Helvetica,sans-Serif\" font-size=\"14.00\">samples = 26.5%</text>\n<text text-anchor=\"middle\" x=\"868\" y=\"-267.3\" font-family=\"Helvetica,sans-Serif\" font-size=\"14.00\">value = [0.0, 0.0, 0.0, 0.0, 1.0, 0.0]</text>\n</g>\n<!-- 4&#45;&gt;12 -->\n<g id=\"edge12\" class=\"edge\">\n<title>4&#45;&gt;12</title>\n<path fill=\"none\" stroke=\"black\" d=\"M690.61,-340.98C727.37,-328.24 771.34,-313.01 806.3,-300.89\"/>\n<polygon fill=\"black\" stroke=\"black\" points=\"807.61,-304.14 815.91,-297.55 805.32,-297.52 807.61,-304.14\"/>\n</g>\n<!-- 6 -->\n<g id=\"node7\" class=\"node\">\n<title>6</title>\n<polygon fill=\"#72eca5\" stroke=\"black\" points=\"611,-216 359,-216 359,-163 611,-163 611,-216\"/>\n<text text-anchor=\"middle\" x=\"485\" y=\"-200.8\" font-family=\"Helvetica,sans-Serif\" font-size=\"14.00\">PAIN &lt;= 1.5</text>\n<text text-anchor=\"middle\" x=\"485\" y=\"-185.8\" font-family=\"Helvetica,sans-Serif\" font-size=\"14.00\">samples = 17.6%</text>\n<text text-anchor=\"middle\" x=\"485\" y=\"-170.8\" font-family=\"Helvetica,sans-Serif\" font-size=\"14.00\">value = [0.0, 0.0, 0.778, 0.0, 0.222, 0.0]</text>\n</g>\n<!-- 5&#45;&gt;6 -->\n<g id=\"edge6\" class=\"edge\">\n<title>5&#45;&gt;6</title>\n<path fill=\"none\" stroke=\"black\" d=\"M575.29,-251.87C561.48,-242.48 545.69,-231.75 531.23,-221.92\"/>\n<polygon fill=\"black\" stroke=\"black\" points=\"533.12,-218.98 522.88,-216.25 529.19,-224.77 533.12,-218.98\"/>\n</g>\n<!-- 11 -->\n<g id=\"node12\" class=\"node\">\n<title>11</title>\n<polygon fill=\"#399de5\" stroke=\"black\" points=\"851,-208.5 629,-208.5 629,-170.5 851,-170.5 851,-208.5\"/>\n<text text-anchor=\"middle\" x=\"740\" y=\"-193.3\" font-family=\"Helvetica,sans-Serif\" font-size=\"14.00\">samples = 11.8%</text>\n<text text-anchor=\"middle\" x=\"740\" y=\"-178.3\" font-family=\"Helvetica,sans-Serif\" font-size=\"14.00\">value = [0.0, 0.0, 0.0, 1.0, 0.0, 0.0]</text>\n</g>\n<!-- 5&#45;&gt;11 -->\n<g id=\"edge11\" class=\"edge\">\n<title>5&#45;&gt;11</title>\n<path fill=\"none\" stroke=\"black\" d=\"M650.42,-251.87C667.74,-240 688.19,-225.99 705.18,-214.35\"/>\n<polygon fill=\"black\" stroke=\"black\" points=\"707.44,-217.05 713.71,-208.51 703.49,-211.27 707.44,-217.05\"/>\n</g>\n<!-- 7 -->\n<g id=\"node8\" class=\"node\">\n<title>7</title>\n<polygon fill=\"#55e993\" stroke=\"black\" points=\"484,-127 232,-127 232,-74 484,-74 484,-127\"/>\n<text text-anchor=\"middle\" x=\"358\" y=\"-111.8\" font-family=\"Helvetica,sans-Serif\" font-size=\"14.00\">IRRITABILITY &lt;= 1.5</text>\n<text text-anchor=\"middle\" x=\"358\" y=\"-96.8\" font-family=\"Helvetica,sans-Serif\" font-size=\"14.00\">samples = 14.7%</text>\n<text text-anchor=\"middle\" x=\"358\" y=\"-81.8\" font-family=\"Helvetica,sans-Serif\" font-size=\"14.00\">value = [0.0, 0.0, 0.875, 0.0, 0.125, 0.0]</text>\n</g>\n<!-- 6&#45;&gt;7 -->\n<g id=\"edge7\" class=\"edge\">\n<title>6&#45;&gt;7</title>\n<path fill=\"none\" stroke=\"black\" d=\"M447.58,-162.87C433.88,-153.48 418.22,-142.75 403.87,-132.92\"/>\n<polygon fill=\"black\" stroke=\"black\" points=\"405.82,-130.01 395.59,-127.25 401.86,-135.79 405.82,-130.01\"/>\n</g>\n<!-- 10 -->\n<g id=\"node11\" class=\"node\">\n<title>10</title>\n<polygon fill=\"#8139e5\" stroke=\"black\" points=\"724,-119.5 502,-119.5 502,-81.5 724,-81.5 724,-119.5\"/>\n<text text-anchor=\"middle\" x=\"613\" y=\"-104.3\" font-family=\"Helvetica,sans-Serif\" font-size=\"14.00\">samples = 2.9%</text>\n<text text-anchor=\"middle\" x=\"613\" y=\"-89.3\" font-family=\"Helvetica,sans-Serif\" font-size=\"14.00\">value = [0.0, 0.0, 0.0, 0.0, 1.0, 0.0]</text>\n</g>\n<!-- 6&#45;&gt;10 -->\n<g id=\"edge10\" class=\"edge\">\n<title>6&#45;&gt;10</title>\n<path fill=\"none\" stroke=\"black\" d=\"M522.71,-162.87C540.17,-151 560.79,-136.99 577.91,-125.35\"/>\n<polygon fill=\"black\" stroke=\"black\" points=\"580.2,-128.02 586.51,-119.51 576.27,-122.23 580.2,-128.02\"/>\n</g>\n<!-- 8 -->\n<g id=\"node9\" class=\"node\">\n<title>8</title>\n<polygon fill=\"#39e581\" stroke=\"black\" points=\"349,-38 127,-38 127,0 349,0 349,-38\"/>\n<text text-anchor=\"middle\" x=\"238\" y=\"-22.8\" font-family=\"Helvetica,sans-Serif\" font-size=\"14.00\">samples = 11.8%</text>\n<text text-anchor=\"middle\" x=\"238\" y=\"-7.8\" font-family=\"Helvetica,sans-Serif\" font-size=\"14.00\">value = [0.0, 0.0, 1.0, 0.0, 0.0, 0.0]</text>\n</g>\n<!-- 7&#45;&gt;8 -->\n<g id=\"edge8\" class=\"edge\">\n<title>7&#45;&gt;8</title>\n<path fill=\"none\" stroke=\"black\" d=\"M319.37,-73.91C304.85,-64.29 288.4,-53.39 274.11,-43.92\"/>\n<polygon fill=\"black\" stroke=\"black\" points=\"275.8,-40.84 265.53,-38.24 271.93,-46.68 275.8,-40.84\"/>\n</g>\n<!-- 9 -->\n<g id=\"node10\" class=\"node\">\n<title>9</title>\n<polygon fill=\"#8139e5\" stroke=\"black\" points=\"589,-38 367,-38 367,0 589,0 589,-38\"/>\n<text text-anchor=\"middle\" x=\"478\" y=\"-22.8\" font-family=\"Helvetica,sans-Serif\" font-size=\"14.00\">samples = 2.9%</text>\n<text text-anchor=\"middle\" x=\"478\" y=\"-7.8\" font-family=\"Helvetica,sans-Serif\" font-size=\"14.00\">value = [0.0, 0.0, 0.0, 0.0, 1.0, 0.0]</text>\n</g>\n<!-- 7&#45;&gt;9 -->\n<g id=\"edge9\" class=\"edge\">\n<title>7&#45;&gt;9</title>\n<path fill=\"none\" stroke=\"black\" d=\"M396.63,-73.91C411.15,-64.29 427.6,-53.39 441.89,-43.92\"/>\n<polygon fill=\"black\" stroke=\"black\" points=\"444.07,-46.68 450.47,-38.24 440.2,-40.84 444.07,-46.68\"/>\n</g>\n</g>\n</svg>\n",
            "text/plain": [
              "<graphviz.sources.Source at 0x7f6a0a02b130>"
            ]
          },
          "metadata": {}
        },
        {
          "output_type": "display_data",
          "data": {
            "image/svg+xml": "<?xml version=\"1.0\" encoding=\"UTF-8\" standalone=\"no\"?>\n<!DOCTYPE svg PUBLIC \"-//W3C//DTD SVG 1.1//EN\"\n \"http://www.w3.org/Graphics/SVG/1.1/DTD/svg11.dtd\">\n<!-- Generated by graphviz version 2.43.0 (0)\n -->\n<!-- Title: Tree Pages: 1 -->\n<svg width=\"2620pt\" height=\"669pt\"\n viewBox=\"0.00 0.00 2620.00 669.00\" xmlns=\"http://www.w3.org/2000/svg\" xmlns:xlink=\"http://www.w3.org/1999/xlink\">\n<g id=\"graph0\" class=\"graph\" transform=\"scale(1 1) rotate(0) translate(4 665)\">\n<title>Tree</title>\n<polygon fill=\"white\" stroke=\"transparent\" points=\"-4,4 -4,-665 2616,-665 2616,4 -4,4\"/>\n<!-- 0 -->\n<g id=\"node1\" class=\"node\">\n<title>0</title>\n<polygon fill=\"#ddcaf8\" stroke=\"black\" points=\"1214.5,-661 917.5,-661 917.5,-608 1214.5,-608 1214.5,-661\"/>\n<text text-anchor=\"middle\" x=\"1066\" y=\"-645.8\" font-family=\"Helvetica,sans-Serif\" font-size=\"14.00\">Age &lt;= 2.5</text>\n<text text-anchor=\"middle\" x=\"1066\" y=\"-630.8\" font-family=\"Helvetica,sans-Serif\" font-size=\"14.00\">samples = 100.0%</text>\n<text text-anchor=\"middle\" x=\"1066\" y=\"-615.8\" font-family=\"Helvetica,sans-Serif\" font-size=\"14.00\">value = [0.0, 0.293, 0.086, 0.086, 0.483, 0.052]</text>\n</g>\n<!-- 1 -->\n<g id=\"node2\" class=\"node\">\n<title>1</title>\n<polygon fill=\"#e8f9d1\" stroke=\"black\" points=\"982.5,-572 685.5,-572 685.5,-519 982.5,-519 982.5,-572\"/>\n<text text-anchor=\"middle\" x=\"834\" y=\"-556.8\" font-family=\"Helvetica,sans-Serif\" font-size=\"14.00\">PAIN &lt;= 0.5</text>\n<text text-anchor=\"middle\" x=\"834\" y=\"-541.8\" font-family=\"Helvetica,sans-Serif\" font-size=\"14.00\">samples = 25.6%</text>\n<text text-anchor=\"middle\" x=\"834\" y=\"-526.8\" font-family=\"Helvetica,sans-Serif\" font-size=\"14.00\">value = [0.0, 0.375, 0.062, 0.188, 0.188, 0.188]</text>\n</g>\n<!-- 0&#45;&gt;1 -->\n<g id=\"edge1\" class=\"edge\">\n<title>0&#45;&gt;1</title>\n<path fill=\"none\" stroke=\"black\" d=\"M997.96,-607.98C970.93,-597.85 939.68,-586.13 911.76,-575.66\"/>\n<polygon fill=\"black\" stroke=\"black\" points=\"912.63,-572.25 902.04,-572.01 910.17,-578.8 912.63,-572.25\"/>\n<text text-anchor=\"middle\" x=\"912.38\" y=\"-591.07\" font-family=\"Helvetica,sans-Serif\" font-size=\"14.00\">True</text>\n</g>\n<!-- 16 -->\n<g id=\"node17\" class=\"node\">\n<title>16</title>\n<polygon fill=\"#c6a6f3\" stroke=\"black\" points=\"1474,-572 1192,-572 1192,-519 1474,-519 1474,-572\"/>\n<text text-anchor=\"middle\" x=\"1333\" y=\"-556.8\" font-family=\"Helvetica,sans-Serif\" font-size=\"14.00\">PAIN &lt;= 0.5</text>\n<text text-anchor=\"middle\" x=\"1333\" y=\"-541.8\" font-family=\"Helvetica,sans-Serif\" font-size=\"14.00\">samples = 74.4%</text>\n<text text-anchor=\"middle\" x=\"1333\" y=\"-526.8\" font-family=\"Helvetica,sans-Serif\" font-size=\"14.00\">value = [0.0, 0.262, 0.095, 0.048, 0.595, 0.0]</text>\n</g>\n<!-- 0&#45;&gt;16 -->\n<g id=\"edge16\" class=\"edge\">\n<title>0&#45;&gt;16</title>\n<path fill=\"none\" stroke=\"black\" d=\"M1144.3,-607.98C1175.96,-597.67 1212.63,-585.72 1245.19,-575.11\"/>\n<polygon fill=\"black\" stroke=\"black\" points=\"1246.27,-578.44 1254.7,-572.01 1244.1,-571.78 1246.27,-578.44\"/>\n<text text-anchor=\"middle\" x=\"1243.37\" y=\"-590.6\" font-family=\"Helvetica,sans-Serif\" font-size=\"14.00\">False</text>\n</g>\n<!-- 2 -->\n<g id=\"node3\" class=\"node\">\n<title>2</title>\n<polygon fill=\"#ade95a\" stroke=\"black\" points=\"597,-483 345,-483 345,-430 597,-430 597,-483\"/>\n<text text-anchor=\"middle\" x=\"471\" y=\"-467.8\" font-family=\"Helvetica,sans-Serif\" font-size=\"14.00\">Symptom area &lt;= 2.5</text>\n<text text-anchor=\"middle\" x=\"471\" y=\"-452.8\" font-family=\"Helvetica,sans-Serif\" font-size=\"14.00\">samples = 12.8%</text>\n<text text-anchor=\"middle\" x=\"471\" y=\"-437.8\" font-family=\"Helvetica,sans-Serif\" font-size=\"14.00\">value = [0.0, 0.857, 0.0, 0.0, 0.143, 0.0]</text>\n</g>\n<!-- 1&#45;&gt;2 -->\n<g id=\"edge2\" class=\"edge\">\n<title>1&#45;&gt;2</title>\n<path fill=\"none\" stroke=\"black\" d=\"M727.54,-518.98C683.49,-508.43 632.29,-496.16 587.26,-485.36\"/>\n<polygon fill=\"black\" stroke=\"black\" points=\"588,-481.94 577.46,-483.01 586.37,-488.75 588,-481.94\"/>\n</g>\n<!-- 7 -->\n<g id=\"node8\" class=\"node\">\n<title>7</title>\n<polygon fill=\"#ffffff\" stroke=\"black\" points=\"975,-483 693,-483 693,-430 975,-430 975,-483\"/>\n<text text-anchor=\"middle\" x=\"834\" y=\"-467.8\" font-family=\"Helvetica,sans-Serif\" font-size=\"14.00\">PAIN &lt;= 2.0</text>\n<text text-anchor=\"middle\" x=\"834\" y=\"-452.8\" font-family=\"Helvetica,sans-Serif\" font-size=\"14.00\">samples = 12.8%</text>\n<text text-anchor=\"middle\" x=\"834\" y=\"-437.8\" font-family=\"Helvetica,sans-Serif\" font-size=\"14.00\">value = [0.0, 0.0, 0.111, 0.333, 0.222, 0.333]</text>\n</g>\n<!-- 1&#45;&gt;7 -->\n<g id=\"edge7\" class=\"edge\">\n<title>1&#45;&gt;7</title>\n<path fill=\"none\" stroke=\"black\" d=\"M834,-518.87C834,-510.89 834,-501.93 834,-493.38\"/>\n<polygon fill=\"black\" stroke=\"black\" points=\"837.5,-493.25 834,-483.25 830.5,-493.25 837.5,-493.25\"/>\n</g>\n<!-- 3 -->\n<g id=\"node4\" class=\"node\">\n<title>3</title>\n<polygon fill=\"#beee7b\" stroke=\"black\" points=\"341.5,-394 104.5,-394 104.5,-341 341.5,-341 341.5,-394\"/>\n<text text-anchor=\"middle\" x=\"223\" y=\"-378.8\" font-family=\"Helvetica,sans-Serif\" font-size=\"14.00\">Age &lt;= 0.5</text>\n<text text-anchor=\"middle\" x=\"223\" y=\"-363.8\" font-family=\"Helvetica,sans-Serif\" font-size=\"14.00\">samples = 7.7%</text>\n<text text-anchor=\"middle\" x=\"223\" y=\"-348.8\" font-family=\"Helvetica,sans-Serif\" font-size=\"14.00\">value = [0.0, 0.75, 0.0, 0.0, 0.25, 0.0]</text>\n</g>\n<!-- 2&#45;&gt;3 -->\n<g id=\"edge3\" class=\"edge\">\n<title>2&#45;&gt;3</title>\n<path fill=\"none\" stroke=\"black\" d=\"M398.27,-429.98C369.12,-419.76 335.39,-407.93 305.35,-397.39\"/>\n<polygon fill=\"black\" stroke=\"black\" points=\"306.33,-394.02 295.73,-394.01 304.01,-400.63 306.33,-394.02\"/>\n</g>\n<!-- 6 -->\n<g id=\"node7\" class=\"node\">\n<title>6</title>\n<polygon fill=\"#9de539\" stroke=\"black\" points=\"582,-386.5 360,-386.5 360,-348.5 582,-348.5 582,-386.5\"/>\n<text text-anchor=\"middle\" x=\"471\" y=\"-371.3\" font-family=\"Helvetica,sans-Serif\" font-size=\"14.00\">samples = 5.1%</text>\n<text text-anchor=\"middle\" x=\"471\" y=\"-356.3\" font-family=\"Helvetica,sans-Serif\" font-size=\"14.00\">value = [0.0, 1.0, 0.0, 0.0, 0.0, 0.0]</text>\n</g>\n<!-- 2&#45;&gt;6 -->\n<g id=\"edge6\" class=\"edge\">\n<title>2&#45;&gt;6</title>\n<path fill=\"none\" stroke=\"black\" d=\"M471,-429.87C471,-419.42 471,-407.3 471,-396.61\"/>\n<polygon fill=\"black\" stroke=\"black\" points=\"474.5,-396.51 471,-386.51 467.5,-396.51 474.5,-396.51\"/>\n</g>\n<!-- 4 -->\n<g id=\"node5\" class=\"node\">\n<title>4</title>\n<polygon fill=\"#8139e5\" stroke=\"black\" points=\"222,-297.5 0,-297.5 0,-259.5 222,-259.5 222,-297.5\"/>\n<text text-anchor=\"middle\" x=\"111\" y=\"-282.3\" font-family=\"Helvetica,sans-Serif\" font-size=\"14.00\">samples = 2.6%</text>\n<text text-anchor=\"middle\" x=\"111\" y=\"-267.3\" font-family=\"Helvetica,sans-Serif\" font-size=\"14.00\">value = [0.0, 0.0, 0.0, 0.0, 1.0, 0.0]</text>\n</g>\n<!-- 3&#45;&gt;4 -->\n<g id=\"edge4\" class=\"edge\">\n<title>3&#45;&gt;4</title>\n<path fill=\"none\" stroke=\"black\" d=\"M190,-340.87C174.87,-329.11 157.02,-315.25 142.12,-303.67\"/>\n<polygon fill=\"black\" stroke=\"black\" points=\"144.23,-300.88 134.18,-297.51 139.93,-306.41 144.23,-300.88\"/>\n</g>\n<!-- 5 -->\n<g id=\"node6\" class=\"node\">\n<title>5</title>\n<polygon fill=\"#9de539\" stroke=\"black\" points=\"462,-297.5 240,-297.5 240,-259.5 462,-259.5 462,-297.5\"/>\n<text text-anchor=\"middle\" x=\"351\" y=\"-282.3\" font-family=\"Helvetica,sans-Serif\" font-size=\"14.00\">samples = 5.1%</text>\n<text text-anchor=\"middle\" x=\"351\" y=\"-267.3\" font-family=\"Helvetica,sans-Serif\" font-size=\"14.00\">value = [0.0, 1.0, 0.0, 0.0, 0.0, 0.0]</text>\n</g>\n<!-- 3&#45;&gt;5 -->\n<g id=\"edge5\" class=\"edge\">\n<title>3&#45;&gt;5</title>\n<path fill=\"none\" stroke=\"black\" d=\"M260.71,-340.87C278.17,-329 298.79,-314.99 315.91,-303.35\"/>\n<polygon fill=\"black\" stroke=\"black\" points=\"318.2,-306.02 324.51,-297.51 314.27,-300.23 318.2,-306.02\"/>\n</g>\n<!-- 8 -->\n<g id=\"node9\" class=\"node\">\n<title>8</title>\n<polygon fill=\"#cee6f8\" stroke=\"black\" points=\"852,-394 600,-394 600,-341 852,-341 852,-394\"/>\n<text text-anchor=\"middle\" x=\"726\" y=\"-378.8\" font-family=\"Helvetica,sans-Serif\" font-size=\"14.00\">Symptom area &lt;= 1.5</text>\n<text text-anchor=\"middle\" x=\"726\" y=\"-363.8\" font-family=\"Helvetica,sans-Serif\" font-size=\"14.00\">samples = 10.3%</text>\n<text text-anchor=\"middle\" x=\"726\" y=\"-348.8\" font-family=\"Helvetica,sans-Serif\" font-size=\"14.00\">value = [0.0, 0.0, 0.167, 0.5, 0.333, 0.0]</text>\n</g>\n<!-- 7&#45;&gt;8 -->\n<g id=\"edge8\" class=\"edge\">\n<title>7&#45;&gt;8</title>\n<path fill=\"none\" stroke=\"black\" d=\"M802.18,-429.87C790.86,-420.75 777.96,-410.35 766.03,-400.75\"/>\n<polygon fill=\"black\" stroke=\"black\" points=\"767.95,-397.8 757.97,-394.25 763.56,-403.25 767.95,-397.8\"/>\n</g>\n<!-- 15 -->\n<g id=\"node16\" class=\"node\">\n<title>15</title>\n<polygon fill=\"#e5399d\" stroke=\"black\" points=\"1092,-386.5 870,-386.5 870,-348.5 1092,-348.5 1092,-386.5\"/>\n<text text-anchor=\"middle\" x=\"981\" y=\"-371.3\" font-family=\"Helvetica,sans-Serif\" font-size=\"14.00\">samples = 2.6%</text>\n<text text-anchor=\"middle\" x=\"981\" y=\"-356.3\" font-family=\"Helvetica,sans-Serif\" font-size=\"14.00\">value = [0.0, 0.0, 0.0, 0.0, 0.0, 1.0]</text>\n</g>\n<!-- 7&#45;&gt;15 -->\n<g id=\"edge15\" class=\"edge\">\n<title>7&#45;&gt;15</title>\n<path fill=\"none\" stroke=\"black\" d=\"M877.31,-429.87C897.73,-417.78 921.91,-403.47 941.78,-391.71\"/>\n<polygon fill=\"black\" stroke=\"black\" points=\"943.75,-394.61 950.57,-386.51 940.19,-388.59 943.75,-394.61\"/>\n</g>\n<!-- 9 -->\n<g id=\"node10\" class=\"node\">\n<title>9</title>\n<polygon fill=\"#399de5\" stroke=\"black\" points=\"769,-297.5 547,-297.5 547,-259.5 769,-259.5 769,-297.5\"/>\n<text text-anchor=\"middle\" x=\"658\" y=\"-282.3\" font-family=\"Helvetica,sans-Serif\" font-size=\"14.00\">samples = 2.6%</text>\n<text text-anchor=\"middle\" x=\"658\" y=\"-267.3\" font-family=\"Helvetica,sans-Serif\" font-size=\"14.00\">value = [0.0, 0.0, 0.0, 1.0, 0.0, 0.0]</text>\n</g>\n<!-- 8&#45;&gt;9 -->\n<g id=\"edge9\" class=\"edge\">\n<title>8&#45;&gt;9</title>\n<path fill=\"none\" stroke=\"black\" d=\"M705.97,-340.87C697.29,-329.76 687.14,-316.78 678.42,-305.62\"/>\n<polygon fill=\"black\" stroke=\"black\" points=\"680.99,-303.23 672.07,-297.51 675.47,-307.54 680.99,-303.23\"/>\n</g>\n<!-- 10 -->\n<g id=\"node11\" class=\"node\">\n<title>10</title>\n<polygon fill=\"#d5bdf6\" stroke=\"black\" points=\"1024.5,-305 787.5,-305 787.5,-252 1024.5,-252 1024.5,-305\"/>\n<text text-anchor=\"middle\" x=\"906\" y=\"-289.8\" font-family=\"Helvetica,sans-Serif\" font-size=\"14.00\">SEVERITY &lt;= 1.5</text>\n<text text-anchor=\"middle\" x=\"906\" y=\"-274.8\" font-family=\"Helvetica,sans-Serif\" font-size=\"14.00\">samples = 7.7%</text>\n<text text-anchor=\"middle\" x=\"906\" y=\"-259.8\" font-family=\"Helvetica,sans-Serif\" font-size=\"14.00\">value = [0.0, 0.0, 0.25, 0.25, 0.5, 0.0]</text>\n</g>\n<!-- 8&#45;&gt;10 -->\n<g id=\"edge10\" class=\"edge\">\n<title>8&#45;&gt;10</title>\n<path fill=\"none\" stroke=\"black\" d=\"M779.03,-340.87C799.36,-331.04 822.73,-319.75 843.83,-309.55\"/>\n<polygon fill=\"black\" stroke=\"black\" points=\"845.56,-312.6 853.04,-305.1 842.51,-306.3 845.56,-312.6\"/>\n</g>\n<!-- 11 -->\n<g id=\"node12\" class=\"node\">\n<title>11</title>\n<polygon fill=\"#ffffff\" stroke=\"black\" points=\"826,-216 604,-216 604,-163 826,-163 826,-216\"/>\n<text text-anchor=\"middle\" x=\"715\" y=\"-200.8\" font-family=\"Helvetica,sans-Serif\" font-size=\"14.00\">Age &lt;= 1.5</text>\n<text text-anchor=\"middle\" x=\"715\" y=\"-185.8\" font-family=\"Helvetica,sans-Serif\" font-size=\"14.00\">samples = 5.1%</text>\n<text text-anchor=\"middle\" x=\"715\" y=\"-170.8\" font-family=\"Helvetica,sans-Serif\" font-size=\"14.00\">value = [0.0, 0.0, 0.5, 0.5, 0.0, 0.0]</text>\n</g>\n<!-- 10&#45;&gt;11 -->\n<g id=\"edge11\" class=\"edge\">\n<title>10&#45;&gt;11</title>\n<path fill=\"none\" stroke=\"black\" d=\"M849.98,-251.98C828.12,-242.03 802.9,-230.54 780.23,-220.21\"/>\n<polygon fill=\"black\" stroke=\"black\" points=\"781.57,-216.97 771.01,-216.01 778.66,-223.34 781.57,-216.97\"/>\n</g>\n<!-- 14 -->\n<g id=\"node15\" class=\"node\">\n<title>14</title>\n<polygon fill=\"#8139e5\" stroke=\"black\" points=\"1066,-208.5 844,-208.5 844,-170.5 1066,-170.5 1066,-208.5\"/>\n<text text-anchor=\"middle\" x=\"955\" y=\"-193.3\" font-family=\"Helvetica,sans-Serif\" font-size=\"14.00\">samples = 2.6%</text>\n<text text-anchor=\"middle\" x=\"955\" y=\"-178.3\" font-family=\"Helvetica,sans-Serif\" font-size=\"14.00\">value = [0.0, 0.0, 0.0, 0.0, 1.0, 0.0]</text>\n</g>\n<!-- 10&#45;&gt;14 -->\n<g id=\"edge14\" class=\"edge\">\n<title>10&#45;&gt;14</title>\n<path fill=\"none\" stroke=\"black\" d=\"M920.44,-251.87C926.57,-240.98 933.72,-228.29 939.92,-217.28\"/>\n<polygon fill=\"black\" stroke=\"black\" points=\"943,-218.94 944.86,-208.51 936.9,-215.5 943,-218.94\"/>\n</g>\n<!-- 12 -->\n<g id=\"node13\" class=\"node\">\n<title>12</title>\n<polygon fill=\"#399de5\" stroke=\"black\" points=\"706,-119.5 484,-119.5 484,-81.5 706,-81.5 706,-119.5\"/>\n<text text-anchor=\"middle\" x=\"595\" y=\"-104.3\" font-family=\"Helvetica,sans-Serif\" font-size=\"14.00\">samples = 2.6%</text>\n<text text-anchor=\"middle\" x=\"595\" y=\"-89.3\" font-family=\"Helvetica,sans-Serif\" font-size=\"14.00\">value = [0.0, 0.0, 0.0, 1.0, 0.0, 0.0]</text>\n</g>\n<!-- 11&#45;&gt;12 -->\n<g id=\"edge12\" class=\"edge\">\n<title>11&#45;&gt;12</title>\n<path fill=\"none\" stroke=\"black\" d=\"M679.65,-162.87C663.43,-151.11 644.31,-137.25 628.34,-125.67\"/>\n<polygon fill=\"black\" stroke=\"black\" points=\"629.99,-122.54 619.84,-119.51 625.88,-128.21 629.99,-122.54\"/>\n</g>\n<!-- 13 -->\n<g id=\"node14\" class=\"node\">\n<title>13</title>\n<polygon fill=\"#39e581\" stroke=\"black\" points=\"946,-119.5 724,-119.5 724,-81.5 946,-81.5 946,-119.5\"/>\n<text text-anchor=\"middle\" x=\"835\" y=\"-104.3\" font-family=\"Helvetica,sans-Serif\" font-size=\"14.00\">samples = 2.6%</text>\n<text text-anchor=\"middle\" x=\"835\" y=\"-89.3\" font-family=\"Helvetica,sans-Serif\" font-size=\"14.00\">value = [0.0, 0.0, 1.0, 0.0, 0.0, 0.0]</text>\n</g>\n<!-- 11&#45;&gt;13 -->\n<g id=\"edge13\" class=\"edge\">\n<title>11&#45;&gt;13</title>\n<path fill=\"none\" stroke=\"black\" d=\"M750.35,-162.87C766.57,-151.11 785.69,-137.25 801.66,-125.67\"/>\n<polygon fill=\"black\" stroke=\"black\" points=\"804.12,-128.21 810.16,-119.51 800.01,-122.54 804.12,-128.21\"/>\n</g>\n<!-- 17 -->\n<g id=\"node18\" class=\"node\">\n<title>17</title>\n<polygon fill=\"#caf193\" stroke=\"black\" points=\"1459,-483 1207,-483 1207,-430 1459,-430 1459,-483\"/>\n<text text-anchor=\"middle\" x=\"1333\" y=\"-467.8\" font-family=\"Helvetica,sans-Serif\" font-size=\"14.00\">SEVERITY &lt;= 1.0</text>\n<text text-anchor=\"middle\" x=\"1333\" y=\"-452.8\" font-family=\"Helvetica,sans-Serif\" font-size=\"14.00\">samples = 28.2%</text>\n<text text-anchor=\"middle\" x=\"1333\" y=\"-437.8\" font-family=\"Helvetica,sans-Serif\" font-size=\"14.00\">value = [0.0, 0.688, 0.0, 0.0, 0.312, 0.0]</text>\n</g>\n<!-- 16&#45;&gt;17 -->\n<g id=\"edge17\" class=\"edge\">\n<title>16&#45;&gt;17</title>\n<path fill=\"none\" stroke=\"black\" d=\"M1333,-518.87C1333,-510.89 1333,-501.93 1333,-493.38\"/>\n<polygon fill=\"black\" stroke=\"black\" points=\"1336.5,-493.25 1333,-483.25 1329.5,-493.25 1336.5,-493.25\"/>\n</g>\n<!-- 20 -->\n<g id=\"node21\" class=\"node\">\n<title>20</title>\n<polygon fill=\"#a36fec\" stroke=\"black\" points=\"1857.5,-483 1590.5,-483 1590.5,-430 1857.5,-430 1857.5,-483\"/>\n<text text-anchor=\"middle\" x=\"1724\" y=\"-467.8\" font-family=\"Helvetica,sans-Serif\" font-size=\"14.00\">Symptom area &lt;= 1.5</text>\n<text text-anchor=\"middle\" x=\"1724\" y=\"-452.8\" font-family=\"Helvetica,sans-Serif\" font-size=\"14.00\">samples = 46.2%</text>\n<text text-anchor=\"middle\" x=\"1724\" y=\"-437.8\" font-family=\"Helvetica,sans-Serif\" font-size=\"14.00\">value = [0.0, 0.0, 0.154, 0.077, 0.769, 0.0]</text>\n</g>\n<!-- 16&#45;&gt;20 -->\n<g id=\"edge20\" class=\"edge\">\n<title>16&#45;&gt;20</title>\n<path fill=\"none\" stroke=\"black\" d=\"M1447.67,-518.98C1495.31,-508.38 1550.73,-496.05 1599.38,-485.23\"/>\n<polygon fill=\"black\" stroke=\"black\" points=\"1600.33,-488.6 1609.33,-483.01 1598.81,-481.77 1600.33,-488.6\"/>\n</g>\n<!-- 18 -->\n<g id=\"node19\" class=\"node\">\n<title>18</title>\n<polygon fill=\"#9de539\" stroke=\"black\" points=\"1332,-386.5 1110,-386.5 1110,-348.5 1332,-348.5 1332,-386.5\"/>\n<text text-anchor=\"middle\" x=\"1221\" y=\"-371.3\" font-family=\"Helvetica,sans-Serif\" font-size=\"14.00\">samples = 17.9%</text>\n<text text-anchor=\"middle\" x=\"1221\" y=\"-356.3\" font-family=\"Helvetica,sans-Serif\" font-size=\"14.00\">value = [0.0, 1.0, 0.0, 0.0, 0.0, 0.0]</text>\n</g>\n<!-- 17&#45;&gt;18 -->\n<g id=\"edge18\" class=\"edge\">\n<title>17&#45;&gt;18</title>\n<path fill=\"none\" stroke=\"black\" d=\"M1300,-429.87C1284.87,-418.11 1267.02,-404.25 1252.12,-392.67\"/>\n<polygon fill=\"black\" stroke=\"black\" points=\"1254.23,-389.88 1244.18,-386.51 1249.93,-395.41 1254.23,-389.88\"/>\n</g>\n<!-- 19 -->\n<g id=\"node20\" class=\"node\">\n<title>19</title>\n<polygon fill=\"#8139e5\" stroke=\"black\" points=\"1572,-386.5 1350,-386.5 1350,-348.5 1572,-348.5 1572,-386.5\"/>\n<text text-anchor=\"middle\" x=\"1461\" y=\"-371.3\" font-family=\"Helvetica,sans-Serif\" font-size=\"14.00\">samples = 10.3%</text>\n<text text-anchor=\"middle\" x=\"1461\" y=\"-356.3\" font-family=\"Helvetica,sans-Serif\" font-size=\"14.00\">value = [0.0, 0.0, 0.0, 0.0, 1.0, 0.0]</text>\n</g>\n<!-- 17&#45;&gt;19 -->\n<g id=\"edge19\" class=\"edge\">\n<title>17&#45;&gt;19</title>\n<path fill=\"none\" stroke=\"black\" d=\"M1370.71,-429.87C1388.17,-418 1408.79,-403.99 1425.91,-392.35\"/>\n<polygon fill=\"black\" stroke=\"black\" points=\"1428.2,-395.02 1434.51,-386.51 1424.27,-389.23 1428.2,-395.02\"/>\n</g>\n<!-- 21 -->\n<g id=\"node22\" class=\"node\">\n<title>21</title>\n<polygon fill=\"#c9aaf4\" stroke=\"black\" points=\"1857.5,-394 1590.5,-394 1590.5,-341 1857.5,-341 1857.5,-394\"/>\n<text text-anchor=\"middle\" x=\"1724\" y=\"-378.8\" font-family=\"Helvetica,sans-Serif\" font-size=\"14.00\">SEVERITY &lt;= 0.5</text>\n<text text-anchor=\"middle\" x=\"1724\" y=\"-363.8\" font-family=\"Helvetica,sans-Serif\" font-size=\"14.00\">samples = 15.4%</text>\n<text text-anchor=\"middle\" x=\"1724\" y=\"-348.8\" font-family=\"Helvetica,sans-Serif\" font-size=\"14.00\">value = [0.0, 0.0, 0.222, 0.222, 0.556, 0.0]</text>\n</g>\n<!-- 20&#45;&gt;21 -->\n<g id=\"edge21\" class=\"edge\">\n<title>20&#45;&gt;21</title>\n<path fill=\"none\" stroke=\"black\" d=\"M1724,-429.87C1724,-421.89 1724,-412.93 1724,-404.38\"/>\n<polygon fill=\"black\" stroke=\"black\" points=\"1727.5,-404.25 1724,-394.25 1720.5,-404.25 1727.5,-404.25\"/>\n</g>\n<!-- 30 -->\n<g id=\"node31\" class=\"node\">\n<title>30</title>\n<polygon fill=\"#9253e8\" stroke=\"black\" points=\"2128,-394 1876,-394 1876,-341 2128,-341 2128,-394\"/>\n<text text-anchor=\"middle\" x=\"2002\" y=\"-378.8\" font-family=\"Helvetica,sans-Serif\" font-size=\"14.00\">Age &lt;= 4.5</text>\n<text text-anchor=\"middle\" x=\"2002\" y=\"-363.8\" font-family=\"Helvetica,sans-Serif\" font-size=\"14.00\">samples = 30.8%</text>\n<text text-anchor=\"middle\" x=\"2002\" y=\"-348.8\" font-family=\"Helvetica,sans-Serif\" font-size=\"14.00\">value = [0.0, 0.0, 0.118, 0.0, 0.882, 0.0]</text>\n</g>\n<!-- 20&#45;&gt;30 -->\n<g id=\"edge30\" class=\"edge\">\n<title>20&#45;&gt;30</title>\n<path fill=\"none\" stroke=\"black\" d=\"M1805.53,-429.98C1838.49,-419.67 1876.67,-407.72 1910.57,-397.11\"/>\n<polygon fill=\"black\" stroke=\"black\" points=\"1911.97,-400.34 1920.47,-394.01 1909.88,-393.66 1911.97,-400.34\"/>\n</g>\n<!-- 22 -->\n<g id=\"node23\" class=\"node\">\n<title>22</title>\n<polygon fill=\"#d5bdf6\" stroke=\"black\" points=\"1601,-305 1379,-305 1379,-252 1601,-252 1601,-305\"/>\n<text text-anchor=\"middle\" x=\"1490\" y=\"-289.8\" font-family=\"Helvetica,sans-Serif\" font-size=\"14.00\">Age &lt;= 5.5</text>\n<text text-anchor=\"middle\" x=\"1490\" y=\"-274.8\" font-family=\"Helvetica,sans-Serif\" font-size=\"14.00\">samples = 7.7%</text>\n<text text-anchor=\"middle\" x=\"1490\" y=\"-259.8\" font-family=\"Helvetica,sans-Serif\" font-size=\"14.00\">value = [0.0, 0.0, 0.4, 0.0, 0.6, 0.0]</text>\n</g>\n<!-- 21&#45;&gt;22 -->\n<g id=\"edge22\" class=\"edge\">\n<title>21&#45;&gt;22</title>\n<path fill=\"none\" stroke=\"black\" d=\"M1655.37,-340.98C1627.99,-330.8 1596.32,-319.03 1568.06,-308.52\"/>\n<polygon fill=\"black\" stroke=\"black\" points=\"1569.22,-305.22 1558.63,-305.01 1566.78,-311.78 1569.22,-305.22\"/>\n</g>\n<!-- 25 -->\n<g id=\"node26\" class=\"node\">\n<title>25</title>\n<polygon fill=\"#ffffff\" stroke=\"black\" points=\"1841,-305 1619,-305 1619,-252 1841,-252 1841,-305\"/>\n<text text-anchor=\"middle\" x=\"1730\" y=\"-289.8\" font-family=\"Helvetica,sans-Serif\" font-size=\"14.00\">Age &lt;= 5.0</text>\n<text text-anchor=\"middle\" x=\"1730\" y=\"-274.8\" font-family=\"Helvetica,sans-Serif\" font-size=\"14.00\">samples = 7.7%</text>\n<text text-anchor=\"middle\" x=\"1730\" y=\"-259.8\" font-family=\"Helvetica,sans-Serif\" font-size=\"14.00\">value = [0.0, 0.0, 0.0, 0.5, 0.5, 0.0]</text>\n</g>\n<!-- 21&#45;&gt;25 -->\n<g id=\"edge25\" class=\"edge\">\n<title>21&#45;&gt;25</title>\n<path fill=\"none\" stroke=\"black\" d=\"M1725.77,-340.87C1726.32,-332.89 1726.94,-323.93 1727.53,-315.38\"/>\n<polygon fill=\"black\" stroke=\"black\" points=\"1731.03,-315.47 1728.22,-305.25 1724.04,-314.99 1731.03,-315.47\"/>\n</g>\n<!-- 23 -->\n<g id=\"node24\" class=\"node\">\n<title>23</title>\n<polygon fill=\"#39e581\" stroke=\"black\" points=\"1361,-208.5 1139,-208.5 1139,-170.5 1361,-170.5 1361,-208.5\"/>\n<text text-anchor=\"middle\" x=\"1250\" y=\"-193.3\" font-family=\"Helvetica,sans-Serif\" font-size=\"14.00\">samples = 5.1%</text>\n<text text-anchor=\"middle\" x=\"1250\" y=\"-178.3\" font-family=\"Helvetica,sans-Serif\" font-size=\"14.00\">value = [0.0, 0.0, 1.0, 0.0, 0.0, 0.0]</text>\n</g>\n<!-- 22&#45;&gt;23 -->\n<g id=\"edge23\" class=\"edge\">\n<title>22&#45;&gt;23</title>\n<path fill=\"none\" stroke=\"black\" d=\"M1419.61,-251.98C1384.62,-239.3 1342.79,-224.14 1309.42,-212.04\"/>\n<polygon fill=\"black\" stroke=\"black\" points=\"1310.4,-208.67 1299.81,-208.55 1308.02,-215.25 1310.4,-208.67\"/>\n</g>\n<!-- 24 -->\n<g id=\"node25\" class=\"node\">\n<title>24</title>\n<polygon fill=\"#8139e5\" stroke=\"black\" points=\"1601,-208.5 1379,-208.5 1379,-170.5 1601,-170.5 1601,-208.5\"/>\n<text text-anchor=\"middle\" x=\"1490\" y=\"-193.3\" font-family=\"Helvetica,sans-Serif\" font-size=\"14.00\">samples = 2.6%</text>\n<text text-anchor=\"middle\" x=\"1490\" y=\"-178.3\" font-family=\"Helvetica,sans-Serif\" font-size=\"14.00\">value = [0.0, 0.0, 0.0, 0.0, 1.0, 0.0]</text>\n</g>\n<!-- 22&#45;&gt;24 -->\n<g id=\"edge24\" class=\"edge\">\n<title>22&#45;&gt;24</title>\n<path fill=\"none\" stroke=\"black\" d=\"M1490,-251.87C1490,-241.42 1490,-229.3 1490,-218.61\"/>\n<polygon fill=\"black\" stroke=\"black\" points=\"1493.5,-218.51 1490,-208.51 1486.5,-218.51 1493.5,-218.51\"/>\n</g>\n<!-- 26 -->\n<g id=\"node27\" class=\"node\">\n<title>26</title>\n<polygon fill=\"#8139e5\" stroke=\"black\" points=\"1841,-208.5 1619,-208.5 1619,-170.5 1841,-170.5 1841,-208.5\"/>\n<text text-anchor=\"middle\" x=\"1730\" y=\"-193.3\" font-family=\"Helvetica,sans-Serif\" font-size=\"14.00\">samples = 2.6%</text>\n<text text-anchor=\"middle\" x=\"1730\" y=\"-178.3\" font-family=\"Helvetica,sans-Serif\" font-size=\"14.00\">value = [0.0, 0.0, 0.0, 0.0, 1.0, 0.0]</text>\n</g>\n<!-- 25&#45;&gt;26 -->\n<g id=\"edge26\" class=\"edge\">\n<title>25&#45;&gt;26</title>\n<path fill=\"none\" stroke=\"black\" d=\"M1730,-251.87C1730,-241.42 1730,-229.3 1730,-218.61\"/>\n<polygon fill=\"black\" stroke=\"black\" points=\"1733.5,-218.51 1730,-208.51 1726.5,-218.51 1733.5,-218.51\"/>\n</g>\n<!-- 27 -->\n<g id=\"node28\" class=\"node\">\n<title>27</title>\n<polygon fill=\"#9ccef2\" stroke=\"black\" points=\"2111,-216 1859,-216 1859,-163 2111,-163 2111,-216\"/>\n<text text-anchor=\"middle\" x=\"1985\" y=\"-200.8\" font-family=\"Helvetica,sans-Serif\" font-size=\"14.00\">SEVERITY &lt;= 1.5</text>\n<text text-anchor=\"middle\" x=\"1985\" y=\"-185.8\" font-family=\"Helvetica,sans-Serif\" font-size=\"14.00\">samples = 5.1%</text>\n<text text-anchor=\"middle\" x=\"1985\" y=\"-170.8\" font-family=\"Helvetica,sans-Serif\" font-size=\"14.00\">value = [0.0, 0.0, 0.0, 0.667, 0.333, 0.0]</text>\n</g>\n<!-- 25&#45;&gt;27 -->\n<g id=\"edge27\" class=\"edge\">\n<title>25&#45;&gt;27</title>\n<path fill=\"none\" stroke=\"black\" d=\"M1804.79,-251.98C1834.88,-241.72 1869.74,-229.82 1900.73,-219.25\"/>\n<polygon fill=\"black\" stroke=\"black\" points=\"1901.88,-222.56 1910.22,-216.01 1899.62,-215.93 1901.88,-222.56\"/>\n</g>\n<!-- 28 -->\n<g id=\"node29\" class=\"node\">\n<title>28</title>\n<polygon fill=\"#399de5\" stroke=\"black\" points=\"1858,-119.5 1636,-119.5 1636,-81.5 1858,-81.5 1858,-119.5\"/>\n<text text-anchor=\"middle\" x=\"1747\" y=\"-104.3\" font-family=\"Helvetica,sans-Serif\" font-size=\"14.00\">samples = 2.6%</text>\n<text text-anchor=\"middle\" x=\"1747\" y=\"-89.3\" font-family=\"Helvetica,sans-Serif\" font-size=\"14.00\">value = [0.0, 0.0, 0.0, 1.0, 0.0, 0.0]</text>\n</g>\n<!-- 27&#45;&gt;28 -->\n<g id=\"edge28\" class=\"edge\">\n<title>27&#45;&gt;28</title>\n<path fill=\"none\" stroke=\"black\" d=\"M1915.2,-162.98C1880.5,-150.3 1839.01,-135.14 1805.93,-123.04\"/>\n<polygon fill=\"black\" stroke=\"black\" points=\"1806.99,-119.7 1796.39,-119.55 1804.58,-126.28 1806.99,-119.7\"/>\n</g>\n<!-- 29 -->\n<g id=\"node30\" class=\"node\">\n<title>29</title>\n<polygon fill=\"#8139e5\" stroke=\"black\" points=\"2098,-119.5 1876,-119.5 1876,-81.5 2098,-81.5 2098,-119.5\"/>\n<text text-anchor=\"middle\" x=\"1987\" y=\"-104.3\" font-family=\"Helvetica,sans-Serif\" font-size=\"14.00\">samples = 2.6%</text>\n<text text-anchor=\"middle\" x=\"1987\" y=\"-89.3\" font-family=\"Helvetica,sans-Serif\" font-size=\"14.00\">value = [0.0, 0.0, 0.0, 0.0, 1.0, 0.0]</text>\n</g>\n<!-- 27&#45;&gt;29 -->\n<g id=\"edge29\" class=\"edge\">\n<title>27&#45;&gt;29</title>\n<path fill=\"none\" stroke=\"black\" d=\"M1985.59,-162.87C1985.83,-152.42 1986.11,-140.3 1986.35,-129.61\"/>\n<polygon fill=\"black\" stroke=\"black\" points=\"1989.86,-129.58 1986.59,-119.51 1982.86,-129.42 1989.86,-129.58\"/>\n</g>\n<!-- 31 -->\n<g id=\"node32\" class=\"node\">\n<title>31</title>\n<polygon fill=\"#8139e5\" stroke=\"black\" points=\"2110,-297.5 1888,-297.5 1888,-259.5 2110,-259.5 2110,-297.5\"/>\n<text text-anchor=\"middle\" x=\"1999\" y=\"-282.3\" font-family=\"Helvetica,sans-Serif\" font-size=\"14.00\">samples = 12.8%</text>\n<text text-anchor=\"middle\" x=\"1999\" y=\"-267.3\" font-family=\"Helvetica,sans-Serif\" font-size=\"14.00\">value = [0.0, 0.0, 0.0, 0.0, 1.0, 0.0]</text>\n</g>\n<!-- 30&#45;&gt;31 -->\n<g id=\"edge31\" class=\"edge\">\n<title>30&#45;&gt;31</title>\n<path fill=\"none\" stroke=\"black\" d=\"M2001.12,-340.87C2000.76,-330.42 2000.34,-318.3 1999.97,-307.61\"/>\n<polygon fill=\"black\" stroke=\"black\" points=\"2003.46,-307.38 1999.62,-297.51 1996.47,-307.62 2003.46,-307.38\"/>\n</g>\n<!-- 32 -->\n<g id=\"node33\" class=\"node\">\n<title>32</title>\n<polygon fill=\"#a572ec\" stroke=\"black\" points=\"2380,-305 2128,-305 2128,-252 2380,-252 2380,-305\"/>\n<text text-anchor=\"middle\" x=\"2254\" y=\"-289.8\" font-family=\"Helvetica,sans-Serif\" font-size=\"14.00\">Symptom area &lt;= 2.5</text>\n<text text-anchor=\"middle\" x=\"2254\" y=\"-274.8\" font-family=\"Helvetica,sans-Serif\" font-size=\"14.00\">samples = 17.9%</text>\n<text text-anchor=\"middle\" x=\"2254\" y=\"-259.8\" font-family=\"Helvetica,sans-Serif\" font-size=\"14.00\">value = [0.0, 0.0, 0.222, 0.0, 0.778, 0.0]</text>\n</g>\n<!-- 30&#45;&gt;32 -->\n<g id=\"edge32\" class=\"edge\">\n<title>30&#45;&gt;32</title>\n<path fill=\"none\" stroke=\"black\" d=\"M2075.91,-340.98C2105.52,-330.76 2139.8,-318.93 2170.33,-308.39\"/>\n<polygon fill=\"black\" stroke=\"black\" points=\"2171.79,-311.59 2180.1,-305.01 2169.5,-304.97 2171.79,-311.59\"/>\n</g>\n<!-- 33 -->\n<g id=\"node34\" class=\"node\">\n<title>33</title>\n<polygon fill=\"#8139e5\" stroke=\"black\" points=\"2363,-208.5 2141,-208.5 2141,-170.5 2363,-170.5 2363,-208.5\"/>\n<text text-anchor=\"middle\" x=\"2252\" y=\"-193.3\" font-family=\"Helvetica,sans-Serif\" font-size=\"14.00\">samples = 7.7%</text>\n<text text-anchor=\"middle\" x=\"2252\" y=\"-178.3\" font-family=\"Helvetica,sans-Serif\" font-size=\"14.00\">value = [0.0, 0.0, 0.0, 0.0, 1.0, 0.0]</text>\n</g>\n<!-- 32&#45;&gt;33 -->\n<g id=\"edge33\" class=\"edge\">\n<title>32&#45;&gt;33</title>\n<path fill=\"none\" stroke=\"black\" d=\"M2253.41,-251.87C2253.17,-241.42 2252.89,-229.3 2252.65,-218.61\"/>\n<polygon fill=\"black\" stroke=\"black\" points=\"2256.14,-218.42 2252.41,-208.51 2249.14,-218.58 2256.14,-218.42\"/>\n</g>\n<!-- 34 -->\n<g id=\"node35\" class=\"node\">\n<title>34</title>\n<polygon fill=\"#d5bdf6\" stroke=\"black\" points=\"2603,-216 2381,-216 2381,-163 2603,-163 2603,-216\"/>\n<text text-anchor=\"middle\" x=\"2492\" y=\"-200.8\" font-family=\"Helvetica,sans-Serif\" font-size=\"14.00\">Symptom area &lt;= 4.0</text>\n<text text-anchor=\"middle\" x=\"2492\" y=\"-185.8\" font-family=\"Helvetica,sans-Serif\" font-size=\"14.00\">samples = 10.3%</text>\n<text text-anchor=\"middle\" x=\"2492\" y=\"-170.8\" font-family=\"Helvetica,sans-Serif\" font-size=\"14.00\">value = [0.0, 0.0, 0.4, 0.0, 0.6, 0.0]</text>\n</g>\n<!-- 32&#45;&gt;34 -->\n<g id=\"edge34\" class=\"edge\">\n<title>32&#45;&gt;34</title>\n<path fill=\"none\" stroke=\"black\" d=\"M2323.8,-251.98C2351.65,-241.8 2383.86,-230.03 2412.6,-219.52\"/>\n<polygon fill=\"black\" stroke=\"black\" points=\"2414.01,-222.74 2422.2,-216.01 2411.61,-216.16 2414.01,-222.74\"/>\n</g>\n<!-- 35 -->\n<g id=\"node36\" class=\"node\">\n<title>35</title>\n<polygon fill=\"#9cf2c0\" stroke=\"black\" points=\"2372,-127 2120,-127 2120,-74 2372,-74 2372,-127\"/>\n<text text-anchor=\"middle\" x=\"2246\" y=\"-111.8\" font-family=\"Helvetica,sans-Serif\" font-size=\"14.00\">SEVERITY &lt;= 1.0</text>\n<text text-anchor=\"middle\" x=\"2246\" y=\"-96.8\" font-family=\"Helvetica,sans-Serif\" font-size=\"14.00\">samples = 7.7%</text>\n<text text-anchor=\"middle\" x=\"2246\" y=\"-81.8\" font-family=\"Helvetica,sans-Serif\" font-size=\"14.00\">value = [0.0, 0.0, 0.667, 0.0, 0.333, 0.0]</text>\n</g>\n<!-- 34&#45;&gt;35 -->\n<g id=\"edge35\" class=\"edge\">\n<title>34&#45;&gt;35</title>\n<path fill=\"none\" stroke=\"black\" d=\"M2419.85,-162.98C2390.94,-152.76 2357.48,-140.93 2327.68,-130.39\"/>\n<polygon fill=\"black\" stroke=\"black\" points=\"2328.74,-127.05 2318.14,-127.01 2326.41,-133.65 2328.74,-127.05\"/>\n</g>\n<!-- 38 -->\n<g id=\"node39\" class=\"node\">\n<title>38</title>\n<polygon fill=\"#8139e5\" stroke=\"black\" points=\"2612,-119.5 2390,-119.5 2390,-81.5 2612,-81.5 2612,-119.5\"/>\n<text text-anchor=\"middle\" x=\"2501\" y=\"-104.3\" font-family=\"Helvetica,sans-Serif\" font-size=\"14.00\">samples = 2.6%</text>\n<text text-anchor=\"middle\" x=\"2501\" y=\"-89.3\" font-family=\"Helvetica,sans-Serif\" font-size=\"14.00\">value = [0.0, 0.0, 0.0, 0.0, 1.0, 0.0]</text>\n</g>\n<!-- 34&#45;&gt;38 -->\n<g id=\"edge38\" class=\"edge\">\n<title>34&#45;&gt;38</title>\n<path fill=\"none\" stroke=\"black\" d=\"M2494.65,-162.87C2495.73,-152.42 2496.99,-140.3 2498.09,-129.61\"/>\n<polygon fill=\"black\" stroke=\"black\" points=\"2501.59,-129.81 2499.14,-119.51 2494.63,-129.09 2501.59,-129.81\"/>\n</g>\n<!-- 36 -->\n<g id=\"node37\" class=\"node\">\n<title>36</title>\n<polygon fill=\"#39e581\" stroke=\"black\" points=\"2237,-38 2015,-38 2015,0 2237,0 2237,-38\"/>\n<text text-anchor=\"middle\" x=\"2126\" y=\"-22.8\" font-family=\"Helvetica,sans-Serif\" font-size=\"14.00\">samples = 5.1%</text>\n<text text-anchor=\"middle\" x=\"2126\" y=\"-7.8\" font-family=\"Helvetica,sans-Serif\" font-size=\"14.00\">value = [0.0, 0.0, 1.0, 0.0, 0.0, 0.0]</text>\n</g>\n<!-- 35&#45;&gt;36 -->\n<g id=\"edge36\" class=\"edge\">\n<title>35&#45;&gt;36</title>\n<path fill=\"none\" stroke=\"black\" d=\"M2207.37,-73.91C2192.85,-64.29 2176.4,-53.39 2162.11,-43.92\"/>\n<polygon fill=\"black\" stroke=\"black\" points=\"2163.8,-40.84 2153.53,-38.24 2159.93,-46.68 2163.8,-40.84\"/>\n</g>\n<!-- 37 -->\n<g id=\"node38\" class=\"node\">\n<title>37</title>\n<polygon fill=\"#8139e5\" stroke=\"black\" points=\"2477,-38 2255,-38 2255,0 2477,0 2477,-38\"/>\n<text text-anchor=\"middle\" x=\"2366\" y=\"-22.8\" font-family=\"Helvetica,sans-Serif\" font-size=\"14.00\">samples = 2.6%</text>\n<text text-anchor=\"middle\" x=\"2366\" y=\"-7.8\" font-family=\"Helvetica,sans-Serif\" font-size=\"14.00\">value = [0.0, 0.0, 0.0, 0.0, 1.0, 0.0]</text>\n</g>\n<!-- 35&#45;&gt;37 -->\n<g id=\"edge37\" class=\"edge\">\n<title>35&#45;&gt;37</title>\n<path fill=\"none\" stroke=\"black\" d=\"M2284.63,-73.91C2299.15,-64.29 2315.6,-53.39 2329.89,-43.92\"/>\n<polygon fill=\"black\" stroke=\"black\" points=\"2332.07,-46.68 2338.47,-38.24 2328.2,-40.84 2332.07,-46.68\"/>\n</g>\n</g>\n</svg>\n",
            "text/plain": [
              "<graphviz.sources.Source at 0x7f6a0a029930>"
            ]
          },
          "metadata": {}
        }
      ]
    }
  ]
}